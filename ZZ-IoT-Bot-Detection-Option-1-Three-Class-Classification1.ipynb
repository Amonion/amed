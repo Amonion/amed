{
 "cells": [
  {
   "cell_type": "code",
   "execution_count": 1,
   "metadata": {},
   "outputs": [],
   "source": [
    "from IPython.display import display, HTML"
   ]
  },
  {
   "cell_type": "code",
   "execution_count": 2,
   "metadata": {},
   "outputs": [
    {
     "data": {
      "text/html": [
       "\n",
       "<style>\n",
       " .messagebox{\n",
       "     border-radius: 2px;\n",
       "     padding: 1.25em 1.5em;\n",
       "     border: 1px solid;\n",
       " }\n",
       ".messagelightgreen{\n",
       "     border-color: hsl(164deg 95% 38%);\n",
       "     color: rgb(5 139 102);\n",
       "     background-color: rgb(236 255 250);\n",
       " }\n",
       " .messagelightgreen b{\n",
       "     color:rgb(139 77 5);\n",
       " }\n",
       " .messagebrown{\n",
       "     border-color: hsl(35deg 96% 62%);\n",
       "    color: rgb(143 84 4);\n",
       "    background-color: rgb(255 245 234);\n",
       " }\n",
       " .messagebrown b{\n",
       "     color: rgb(5 139 102);\n",
       " }\n",
       "</style>"
      ],
      "text/plain": [
       "<IPython.core.display.HTML object>"
      ]
     },
     "metadata": {},
     "output_type": "display_data"
    }
   ],
   "source": [
    "display(HTML(\"\"\"\n",
    "<style>\n",
    " .messagebox{\n",
    "     border-radius: 2px;\n",
    "     padding: 1.25em 1.5em;\n",
    "     border: 1px solid;\n",
    " }\n",
    ".messagelightgreen{\n",
    "     border-color: hsl(164deg 95% 38%);\n",
    "     color: rgb(5 139 102);\n",
    "     background-color: rgb(236 255 250);\n",
    " }\n",
    " .messagelightgreen b{\n",
    "     color:rgb(139 77 5);\n",
    " }\n",
    " .messagebrown{\n",
    "     border-color: hsl(35deg 96% 62%);\n",
    "    color: rgb(143 84 4);\n",
    "    background-color: rgb(255 245 234);\n",
    " }\n",
    " .messagebrown b{\n",
    "     color: rgb(5 139 102);\n",
    " }\n",
    "</style>\"\"\"))"
   ]
  },
  {
   "cell_type": "code",
   "execution_count": 3,
   "metadata": {},
   "outputs": [],
   "source": [
    "import pandas as pd"
   ]
  },
  {
   "cell_type": "code",
   "execution_count": 4,
   "metadata": {},
   "outputs": [],
   "source": [
    "pd.set_option('display.max_columns', 9999999999)"
   ]
  },
  {
   "cell_type": "code",
   "execution_count": 5,
   "metadata": {},
   "outputs": [],
   "source": [
    "import numpy as np"
   ]
  },
  {
   "cell_type": "code",
   "execution_count": 6,
   "metadata": {},
   "outputs": [],
   "source": [
    "import plotly.express as px"
   ]
  },
  {
   "cell_type": "code",
   "execution_count": 7,
   "metadata": {},
   "outputs": [],
   "source": [
    "import plotly.graph_objects as go"
   ]
  },
  {
   "cell_type": "code",
   "execution_count": 8,
   "metadata": {},
   "outputs": [],
   "source": [
    "from sklearn.preprocessing import MinMaxScaler"
   ]
  },
  {
   "cell_type": "code",
   "execution_count": 9,
   "metadata": {},
   "outputs": [],
   "source": [
    "import seaborn as sns"
   ]
  },
  {
   "cell_type": "code",
   "execution_count": 10,
   "metadata": {},
   "outputs": [],
   "source": [
    "import matplotlib.pyplot as plt"
   ]
  },
  {
   "cell_type": "code",
   "execution_count": 11,
   "metadata": {},
   "outputs": [],
   "source": [
    "import matplotlib as mpl"
   ]
  },
  {
   "cell_type": "code",
   "execution_count": 12,
   "metadata": {},
   "outputs": [],
   "source": [
    "plt.rcParams[\"patch.force_edgecolor\"] = True\n",
    "plt.style.use('fivethirtyeight')\n",
    "mpl.rc('patch', edgecolor = 'dimgray', linewidth=1)"
   ]
  },
  {
   "cell_type": "code",
   "execution_count": 13,
   "metadata": {},
   "outputs": [],
   "source": [
    "%matplotlib inline"
   ]
  },
  {
   "cell_type": "code",
   "execution_count": 13,
   "metadata": {},
   "outputs": [],
   "source": [
    "from sklearn.metrics import confusion_matrix"
   ]
  },
  {
   "cell_type": "code",
   "execution_count": 14,
   "metadata": {},
   "outputs": [],
   "source": [
    "from sklearn.metrics import silhouette_samples, silhouette_score"
   ]
  },
  {
   "cell_type": "code",
   "execution_count": 15,
   "metadata": {},
   "outputs": [],
   "source": [
    "from sklearn import preprocessing, model_selection, metrics, feature_selection"
   ]
  },
  {
   "cell_type": "code",
   "execution_count": 16,
   "metadata": {},
   "outputs": [],
   "source": [
    "from sklearn.model_selection import GridSearchCV, learning_curve"
   ]
  },
  {
   "cell_type": "code",
   "execution_count": 17,
   "metadata": {},
   "outputs": [],
   "source": [
    "from sklearn.svm import SVC"
   ]
  },
  {
   "cell_type": "code",
   "execution_count": 18,
   "metadata": {},
   "outputs": [],
   "source": [
    "from sklearn.preprocessing import StandardScaler"
   ]
  },
  {
   "cell_type": "code",
   "execution_count": 19,
   "metadata": {},
   "outputs": [],
   "source": [
    "from sklearn.model_selection import train_test_split"
   ]
  },
  {
   "cell_type": "code",
   "execution_count": 20,
   "metadata": {},
   "outputs": [],
   "source": [
    "from sklearn import neighbors, linear_model, svm, tree, ensemble"
   ]
  },
  {
   "cell_type": "code",
   "execution_count": 21,
   "metadata": {},
   "outputs": [],
   "source": [
    "from sklearn.ensemble import RandomForestClassifier, AdaBoostClassifier, GradientBoostingClassifier"
   ]
  },
  {
   "cell_type": "code",
   "execution_count": 22,
   "metadata": {},
   "outputs": [],
   "source": [
    "from sklearn.svm import SVC, LinearSVC"
   ]
  },
  {
   "cell_type": "code",
   "execution_count": 23,
   "metadata": {},
   "outputs": [],
   "source": [
    "from sklearn.linear_model import LogisticRegression, SGDClassifier, SGDOneClassSVM"
   ]
  },
  {
   "cell_type": "code",
   "execution_count": 24,
   "metadata": {},
   "outputs": [],
   "source": [
    "from sklearn.feature_selection import f_classif, SelectKBest"
   ]
  },
  {
   "cell_type": "code",
   "execution_count": 25,
   "metadata": {},
   "outputs": [],
   "source": [
    "from sklearn.model_selection import train_test_split"
   ]
  },
  {
   "cell_type": "code",
   "execution_count": 26,
   "metadata": {},
   "outputs": [],
   "source": [
    "from sklearn.metrics import accuracy_score, precision_score, recall_score, f1_score, det_curve, roc_auc_score, roc_curve"
   ]
  },
  {
   "cell_type": "code",
   "execution_count": 27,
   "metadata": {},
   "outputs": [],
   "source": [
    "from sklearn.model_selection import KFold"
   ]
  },
  {
   "cell_type": "code",
   "execution_count": 28,
   "metadata": {},
   "outputs": [],
   "source": [
    "from sklearn.model_selection import cross_val_score"
   ]
  },
  {
   "cell_type": "code",
   "execution_count": 29,
   "metadata": {},
   "outputs": [],
   "source": [
    "from sklearn.model_selection import cross_val_predict"
   ]
  },
  {
   "cell_type": "code",
   "execution_count": 30,
   "metadata": {},
   "outputs": [],
   "source": [
    "from sklearn.preprocessing import LabelEncoder, LabelBinarizer"
   ]
  },
  {
   "cell_type": "code",
   "execution_count": 31,
   "metadata": {},
   "outputs": [],
   "source": [
    "from tensorflow.keras.models import Sequential"
   ]
  },
  {
   "cell_type": "code",
   "execution_count": 32,
   "metadata": {},
   "outputs": [],
   "source": [
    "from tensorflow.keras.layers import Dense, Activation,Conv1D,LSTM,Flatten, Dropout"
   ]
  },
  {
   "cell_type": "code",
   "execution_count": 33,
   "metadata": {},
   "outputs": [],
   "source": [
    "from tensorflow.keras.callbacks import EarlyStopping"
   ]
  },
  {
   "cell_type": "code",
   "execution_count": 34,
   "metadata": {},
   "outputs": [],
   "source": [
    "from tensorflow.keras.utils import to_categorical, plot_model"
   ]
  },
  {
   "cell_type": "code",
   "execution_count": 35,
   "metadata": {},
   "outputs": [],
   "source": [
    "from tensorflow.keras.metrics import (Accuracy, AUC, BinaryCrossentropy, FalseNegatives, FalsePositives, \n",
    "                                     Hinge, Precision, PrecisionAtRecall, Recall, RecallAtPrecision, \n",
    "                                      SpecificityAtSensitivity, SquaredHinge, Sum, TrueNegatives, TruePositives)"
   ]
  },
  {
   "cell_type": "code",
   "execution_count": 36,
   "metadata": {},
   "outputs": [],
   "source": [
    "from sklearn.metrics import confusion_matrix, classification_report, accuracy_score, f1_score"
   ]
  },
  {
   "cell_type": "code",
   "execution_count": 39,
   "metadata": {},
   "outputs": [],
   "source": [
    "from mlxtend.plotting import plot_decision_regions"
   ]
  },
  {
   "cell_type": "code",
   "execution_count": 40,
   "metadata": {},
   "outputs": [],
   "source": [
    "from sklearn.preprocessing import MinMaxScaler"
   ]
  },
  {
   "cell_type": "code",
   "execution_count": 41,
   "metadata": {},
   "outputs": [],
   "source": [
    "import warnings\n",
    "warnings.filterwarnings(\"ignore\")"
   ]
  },
  {
   "cell_type": "code",
   "execution_count": 42,
   "metadata": {},
   "outputs": [],
   "source": [
    "import itertools"
   ]
  },
  {
   "cell_type": "code",
   "execution_count": 43,
   "metadata": {},
   "outputs": [],
   "source": [
    "import glob"
   ]
  },
  {
   "cell_type": "code",
   "execution_count": 44,
   "metadata": {},
   "outputs": [],
   "source": [
    "import os"
   ]
  },
  {
   "cell_type": "code",
   "execution_count": 45,
   "metadata": {},
   "outputs": [],
   "source": [
    "import time"
   ]
  },
  {
   "cell_type": "code",
   "execution_count": 46,
   "metadata": {},
   "outputs": [],
   "source": [
    "mirai_df_list = []"
   ]
  },
  {
   "cell_type": "code",
   "execution_count": 47,
   "metadata": {},
   "outputs": [],
   "source": [
    "rows=None"
   ]
  },
  {
   "cell_type": "code",
   "execution_count": 49,
   "metadata": {},
   "outputs": [],
   "source": [
    "for file in glob.glob(\"Dataset/Danmini/mirai/*.csv\"):\n",
    "    tmp_df = pd.read_csv(file, nrows=rows)\n",
    "    tmp_df[\"target\"] = \"mirai-\"+ os.path.splitext(os.path.basename(file))[0]\n",
    "    mirai_df_list.append(tmp_df)"
   ]
  },
  {
   "cell_type": "code",
   "execution_count": 50,
   "metadata": {},
   "outputs": [
    {
     "data": {
      "text/html": [
       "<div>\n",
       "<style scoped>\n",
       "    .dataframe tbody tr th:only-of-type {\n",
       "        vertical-align: middle;\n",
       "    }\n",
       "\n",
       "    .dataframe tbody tr th {\n",
       "        vertical-align: top;\n",
       "    }\n",
       "\n",
       "    .dataframe thead th {\n",
       "        text-align: right;\n",
       "    }\n",
       "</style>\n",
       "<table border=\"1\" class=\"dataframe\">\n",
       "  <thead>\n",
       "    <tr style=\"text-align: right;\">\n",
       "      <th></th>\n",
       "      <th>MI_dir_L5_weight</th>\n",
       "      <th>MI_dir_L5_mean</th>\n",
       "      <th>MI_dir_L5_variance</th>\n",
       "      <th>MI_dir_L3_weight</th>\n",
       "      <th>MI_dir_L3_mean</th>\n",
       "      <th>MI_dir_L3_variance</th>\n",
       "      <th>MI_dir_L1_weight</th>\n",
       "      <th>MI_dir_L1_mean</th>\n",
       "      <th>MI_dir_L1_variance</th>\n",
       "      <th>MI_dir_L0.1_weight</th>\n",
       "      <th>MI_dir_L0.1_mean</th>\n",
       "      <th>MI_dir_L0.1_variance</th>\n",
       "      <th>MI_dir_L0.01_weight</th>\n",
       "      <th>MI_dir_L0.01_mean</th>\n",
       "      <th>MI_dir_L0.01_variance</th>\n",
       "      <th>H_L5_weight</th>\n",
       "      <th>H_L5_mean</th>\n",
       "      <th>H_L5_variance</th>\n",
       "      <th>H_L3_weight</th>\n",
       "      <th>H_L3_mean</th>\n",
       "      <th>H_L3_variance</th>\n",
       "      <th>H_L1_weight</th>\n",
       "      <th>H_L1_mean</th>\n",
       "      <th>H_L1_variance</th>\n",
       "      <th>H_L0.1_weight</th>\n",
       "      <th>H_L0.1_mean</th>\n",
       "      <th>H_L0.1_variance</th>\n",
       "      <th>H_L0.01_weight</th>\n",
       "      <th>H_L0.01_mean</th>\n",
       "      <th>H_L0.01_variance</th>\n",
       "      <th>HH_L5_weight</th>\n",
       "      <th>HH_L5_mean</th>\n",
       "      <th>HH_L5_std</th>\n",
       "      <th>HH_L5_magnitude</th>\n",
       "      <th>HH_L5_radius</th>\n",
       "      <th>HH_L5_covariance</th>\n",
       "      <th>HH_L5_pcc</th>\n",
       "      <th>HH_L3_weight</th>\n",
       "      <th>HH_L3_mean</th>\n",
       "      <th>HH_L3_std</th>\n",
       "      <th>HH_L3_magnitude</th>\n",
       "      <th>HH_L3_radius</th>\n",
       "      <th>HH_L3_covariance</th>\n",
       "      <th>HH_L3_pcc</th>\n",
       "      <th>HH_L1_weight</th>\n",
       "      <th>HH_L1_mean</th>\n",
       "      <th>HH_L1_std</th>\n",
       "      <th>HH_L1_magnitude</th>\n",
       "      <th>HH_L1_radius</th>\n",
       "      <th>HH_L1_covariance</th>\n",
       "      <th>HH_L1_pcc</th>\n",
       "      <th>HH_L0.1_weight</th>\n",
       "      <th>HH_L0.1_mean</th>\n",
       "      <th>HH_L0.1_std</th>\n",
       "      <th>HH_L0.1_magnitude</th>\n",
       "      <th>HH_L0.1_radius</th>\n",
       "      <th>HH_L0.1_covariance</th>\n",
       "      <th>HH_L0.1_pcc</th>\n",
       "      <th>HH_L0.01_weight</th>\n",
       "      <th>HH_L0.01_mean</th>\n",
       "      <th>HH_L0.01_std</th>\n",
       "      <th>HH_L0.01_magnitude</th>\n",
       "      <th>HH_L0.01_radius</th>\n",
       "      <th>HH_L0.01_covariance</th>\n",
       "      <th>HH_L0.01_pcc</th>\n",
       "      <th>HH_jit_L5_weight</th>\n",
       "      <th>HH_jit_L5_mean</th>\n",
       "      <th>HH_jit_L5_variance</th>\n",
       "      <th>HH_jit_L3_weight</th>\n",
       "      <th>HH_jit_L3_mean</th>\n",
       "      <th>HH_jit_L3_variance</th>\n",
       "      <th>HH_jit_L1_weight</th>\n",
       "      <th>HH_jit_L1_mean</th>\n",
       "      <th>HH_jit_L1_variance</th>\n",
       "      <th>HH_jit_L0.1_weight</th>\n",
       "      <th>HH_jit_L0.1_mean</th>\n",
       "      <th>HH_jit_L0.1_variance</th>\n",
       "      <th>HH_jit_L0.01_weight</th>\n",
       "      <th>HH_jit_L0.01_mean</th>\n",
       "      <th>HH_jit_L0.01_variance</th>\n",
       "      <th>HpHp_L5_weight</th>\n",
       "      <th>HpHp_L5_mean</th>\n",
       "      <th>HpHp_L5_std</th>\n",
       "      <th>HpHp_L5_magnitude</th>\n",
       "      <th>HpHp_L5_radius</th>\n",
       "      <th>HpHp_L5_covariance</th>\n",
       "      <th>HpHp_L5_pcc</th>\n",
       "      <th>HpHp_L3_weight</th>\n",
       "      <th>HpHp_L3_mean</th>\n",
       "      <th>HpHp_L3_std</th>\n",
       "      <th>HpHp_L3_magnitude</th>\n",
       "      <th>HpHp_L3_radius</th>\n",
       "      <th>HpHp_L3_covariance</th>\n",
       "      <th>HpHp_L3_pcc</th>\n",
       "      <th>HpHp_L1_weight</th>\n",
       "      <th>HpHp_L1_mean</th>\n",
       "      <th>HpHp_L1_std</th>\n",
       "      <th>HpHp_L1_magnitude</th>\n",
       "      <th>HpHp_L1_radius</th>\n",
       "      <th>HpHp_L1_covariance</th>\n",
       "      <th>HpHp_L1_pcc</th>\n",
       "      <th>HpHp_L0.1_weight</th>\n",
       "      <th>HpHp_L0.1_mean</th>\n",
       "      <th>HpHp_L0.1_std</th>\n",
       "      <th>HpHp_L0.1_magnitude</th>\n",
       "      <th>HpHp_L0.1_radius</th>\n",
       "      <th>HpHp_L0.1_covariance</th>\n",
       "      <th>HpHp_L0.1_pcc</th>\n",
       "      <th>HpHp_L0.01_weight</th>\n",
       "      <th>HpHp_L0.01_mean</th>\n",
       "      <th>HpHp_L0.01_std</th>\n",
       "      <th>HpHp_L0.01_magnitude</th>\n",
       "      <th>HpHp_L0.01_radius</th>\n",
       "      <th>HpHp_L0.01_covariance</th>\n",
       "      <th>HpHp_L0.01_pcc</th>\n",
       "      <th>target</th>\n",
       "    </tr>\n",
       "  </thead>\n",
       "  <tbody>\n",
       "    <tr>\n",
       "      <th>0</th>\n",
       "      <td>1.000000</td>\n",
       "      <td>566.0</td>\n",
       "      <td>0.000000e+00</td>\n",
       "      <td>1.000000</td>\n",
       "      <td>566.0</td>\n",
       "      <td>0.000000e+00</td>\n",
       "      <td>1.000000</td>\n",
       "      <td>566.0</td>\n",
       "      <td>0.000000e+00</td>\n",
       "      <td>1.000000</td>\n",
       "      <td>566.0</td>\n",
       "      <td>0.000000e+00</td>\n",
       "      <td>1.000000</td>\n",
       "      <td>566.0</td>\n",
       "      <td>0.000000e+00</td>\n",
       "      <td>1.000000</td>\n",
       "      <td>566.0</td>\n",
       "      <td>0.000000e+00</td>\n",
       "      <td>1.000000</td>\n",
       "      <td>566.0</td>\n",
       "      <td>0.000000e+00</td>\n",
       "      <td>1.000000</td>\n",
       "      <td>566.0</td>\n",
       "      <td>0.000000e+00</td>\n",
       "      <td>1.000000</td>\n",
       "      <td>566.0</td>\n",
       "      <td>0.000000e+00</td>\n",
       "      <td>1.000000</td>\n",
       "      <td>566.0</td>\n",
       "      <td>0.000000e+00</td>\n",
       "      <td>1.000000</td>\n",
       "      <td>566.0</td>\n",
       "      <td>0.000000</td>\n",
       "      <td>566.0</td>\n",
       "      <td>0.000000e+00</td>\n",
       "      <td>0.0</td>\n",
       "      <td>0.0</td>\n",
       "      <td>1.000000</td>\n",
       "      <td>566.0</td>\n",
       "      <td>0.000000</td>\n",
       "      <td>566.0</td>\n",
       "      <td>0.000000e+00</td>\n",
       "      <td>0.0</td>\n",
       "      <td>0.0</td>\n",
       "      <td>1.000000</td>\n",
       "      <td>566.0</td>\n",
       "      <td>0.000000</td>\n",
       "      <td>566.0</td>\n",
       "      <td>0.000000e+00</td>\n",
       "      <td>0.0</td>\n",
       "      <td>0.0</td>\n",
       "      <td>1.000000</td>\n",
       "      <td>566.0</td>\n",
       "      <td>0.000000</td>\n",
       "      <td>566.0</td>\n",
       "      <td>0.000000e+00</td>\n",
       "      <td>0.0</td>\n",
       "      <td>0.0</td>\n",
       "      <td>1.000000</td>\n",
       "      <td>566.0</td>\n",
       "      <td>0.000000</td>\n",
       "      <td>566.0</td>\n",
       "      <td>0.000000e+00</td>\n",
       "      <td>0.0</td>\n",
       "      <td>0.0</td>\n",
       "      <td>1.000000</td>\n",
       "      <td>1.507658e+09</td>\n",
       "      <td>0.000000e+00</td>\n",
       "      <td>1.000000</td>\n",
       "      <td>1.507658e+09</td>\n",
       "      <td>0.000000e+00</td>\n",
       "      <td>1.000000</td>\n",
       "      <td>1.507658e+09</td>\n",
       "      <td>0.000000e+00</td>\n",
       "      <td>1.000000</td>\n",
       "      <td>1.507658e+09</td>\n",
       "      <td>0.000000e+00</td>\n",
       "      <td>1.000000</td>\n",
       "      <td>1.507658e+09</td>\n",
       "      <td>0.000000e+00</td>\n",
       "      <td>1.0</td>\n",
       "      <td>566.0</td>\n",
       "      <td>0.0</td>\n",
       "      <td>566.0</td>\n",
       "      <td>0.0</td>\n",
       "      <td>0.0</td>\n",
       "      <td>0.0</td>\n",
       "      <td>1.0</td>\n",
       "      <td>566.0</td>\n",
       "      <td>0.0</td>\n",
       "      <td>566.0</td>\n",
       "      <td>0.0</td>\n",
       "      <td>0.0</td>\n",
       "      <td>0.0</td>\n",
       "      <td>1.0</td>\n",
       "      <td>566.0</td>\n",
       "      <td>0.0</td>\n",
       "      <td>566.0</td>\n",
       "      <td>0.0</td>\n",
       "      <td>0.0</td>\n",
       "      <td>0.0</td>\n",
       "      <td>1.0</td>\n",
       "      <td>566.0</td>\n",
       "      <td>0.0</td>\n",
       "      <td>566.0</td>\n",
       "      <td>0.0</td>\n",
       "      <td>0.0</td>\n",
       "      <td>0.0</td>\n",
       "      <td>1.0</td>\n",
       "      <td>566.0</td>\n",
       "      <td>0.0</td>\n",
       "      <td>566.0</td>\n",
       "      <td>0.0</td>\n",
       "      <td>0.0</td>\n",
       "      <td>0.0</td>\n",
       "      <td>mirai-ack</td>\n",
       "    </tr>\n",
       "    <tr>\n",
       "      <th>1</th>\n",
       "      <td>1.996585</td>\n",
       "      <td>566.0</td>\n",
       "      <td>5.820766e-11</td>\n",
       "      <td>1.997950</td>\n",
       "      <td>566.0</td>\n",
       "      <td>5.820766e-11</td>\n",
       "      <td>1.999316</td>\n",
       "      <td>566.0</td>\n",
       "      <td>0.000000e+00</td>\n",
       "      <td>1.999932</td>\n",
       "      <td>566.0</td>\n",
       "      <td>1.746230e-10</td>\n",
       "      <td>1.999993</td>\n",
       "      <td>566.0</td>\n",
       "      <td>1.164153e-10</td>\n",
       "      <td>1.996585</td>\n",
       "      <td>566.0</td>\n",
       "      <td>5.820766e-11</td>\n",
       "      <td>1.997950</td>\n",
       "      <td>566.0</td>\n",
       "      <td>5.820766e-11</td>\n",
       "      <td>1.999316</td>\n",
       "      <td>566.0</td>\n",
       "      <td>0.000000e+00</td>\n",
       "      <td>1.999932</td>\n",
       "      <td>566.0</td>\n",
       "      <td>1.746230e-10</td>\n",
       "      <td>1.999993</td>\n",
       "      <td>566.0</td>\n",
       "      <td>1.164153e-10</td>\n",
       "      <td>1.996585</td>\n",
       "      <td>566.0</td>\n",
       "      <td>0.000008</td>\n",
       "      <td>566.0</td>\n",
       "      <td>5.820766e-11</td>\n",
       "      <td>0.0</td>\n",
       "      <td>0.0</td>\n",
       "      <td>1.997950</td>\n",
       "      <td>566.0</td>\n",
       "      <td>0.000008</td>\n",
       "      <td>566.0</td>\n",
       "      <td>5.820766e-11</td>\n",
       "      <td>0.0</td>\n",
       "      <td>0.0</td>\n",
       "      <td>1.999316</td>\n",
       "      <td>566.0</td>\n",
       "      <td>0.000000</td>\n",
       "      <td>566.0</td>\n",
       "      <td>0.000000e+00</td>\n",
       "      <td>0.0</td>\n",
       "      <td>0.0</td>\n",
       "      <td>1.999932</td>\n",
       "      <td>566.0</td>\n",
       "      <td>0.000013</td>\n",
       "      <td>566.0</td>\n",
       "      <td>1.746230e-10</td>\n",
       "      <td>0.0</td>\n",
       "      <td>0.0</td>\n",
       "      <td>1.999993</td>\n",
       "      <td>566.0</td>\n",
       "      <td>0.000011</td>\n",
       "      <td>566.0</td>\n",
       "      <td>1.164153e-10</td>\n",
       "      <td>0.0</td>\n",
       "      <td>0.0</td>\n",
       "      <td>1.996585</td>\n",
       "      <td>7.525396e+08</td>\n",
       "      <td>5.682564e+17</td>\n",
       "      <td>1.997950</td>\n",
       "      <td>7.530553e+08</td>\n",
       "      <td>5.682575e+17</td>\n",
       "      <td>1.999316</td>\n",
       "      <td>7.535711e+08</td>\n",
       "      <td>5.682580e+17</td>\n",
       "      <td>1.999932</td>\n",
       "      <td>7.538032e+08</td>\n",
       "      <td>5.682581e+17</td>\n",
       "      <td>1.999993</td>\n",
       "      <td>7.538264e+08</td>\n",
       "      <td>5.682581e+17</td>\n",
       "      <td>1.0</td>\n",
       "      <td>566.0</td>\n",
       "      <td>0.0</td>\n",
       "      <td>566.0</td>\n",
       "      <td>0.0</td>\n",
       "      <td>0.0</td>\n",
       "      <td>0.0</td>\n",
       "      <td>1.0</td>\n",
       "      <td>566.0</td>\n",
       "      <td>0.0</td>\n",
       "      <td>566.0</td>\n",
       "      <td>0.0</td>\n",
       "      <td>0.0</td>\n",
       "      <td>0.0</td>\n",
       "      <td>1.0</td>\n",
       "      <td>566.0</td>\n",
       "      <td>0.0</td>\n",
       "      <td>566.0</td>\n",
       "      <td>0.0</td>\n",
       "      <td>0.0</td>\n",
       "      <td>0.0</td>\n",
       "      <td>1.0</td>\n",
       "      <td>566.0</td>\n",
       "      <td>0.0</td>\n",
       "      <td>566.0</td>\n",
       "      <td>0.0</td>\n",
       "      <td>0.0</td>\n",
       "      <td>0.0</td>\n",
       "      <td>1.0</td>\n",
       "      <td>566.0</td>\n",
       "      <td>0.0</td>\n",
       "      <td>566.0</td>\n",
       "      <td>0.0</td>\n",
       "      <td>0.0</td>\n",
       "      <td>0.0</td>\n",
       "      <td>mirai-ack</td>\n",
       "    </tr>\n",
       "    <tr>\n",
       "      <th>2</th>\n",
       "      <td>2.958989</td>\n",
       "      <td>566.0</td>\n",
       "      <td>0.000000e+00</td>\n",
       "      <td>2.975291</td>\n",
       "      <td>566.0</td>\n",
       "      <td>5.820766e-11</td>\n",
       "      <td>2.991729</td>\n",
       "      <td>566.0</td>\n",
       "      <td>5.820766e-11</td>\n",
       "      <td>2.999171</td>\n",
       "      <td>566.0</td>\n",
       "      <td>0.000000e+00</td>\n",
       "      <td>2.999917</td>\n",
       "      <td>566.0</td>\n",
       "      <td>5.820766e-11</td>\n",
       "      <td>2.958989</td>\n",
       "      <td>566.0</td>\n",
       "      <td>0.000000e+00</td>\n",
       "      <td>2.975291</td>\n",
       "      <td>566.0</td>\n",
       "      <td>5.820766e-11</td>\n",
       "      <td>2.991729</td>\n",
       "      <td>566.0</td>\n",
       "      <td>5.820766e-11</td>\n",
       "      <td>2.999171</td>\n",
       "      <td>566.0</td>\n",
       "      <td>0.000000e+00</td>\n",
       "      <td>2.999917</td>\n",
       "      <td>566.0</td>\n",
       "      <td>5.820766e-11</td>\n",
       "      <td>2.958989</td>\n",
       "      <td>566.0</td>\n",
       "      <td>0.000000</td>\n",
       "      <td>566.0</td>\n",
       "      <td>0.000000e+00</td>\n",
       "      <td>0.0</td>\n",
       "      <td>0.0</td>\n",
       "      <td>2.975291</td>\n",
       "      <td>566.0</td>\n",
       "      <td>0.000008</td>\n",
       "      <td>566.0</td>\n",
       "      <td>5.820766e-11</td>\n",
       "      <td>0.0</td>\n",
       "      <td>0.0</td>\n",
       "      <td>2.991729</td>\n",
       "      <td>566.0</td>\n",
       "      <td>0.000008</td>\n",
       "      <td>566.0</td>\n",
       "      <td>5.820766e-11</td>\n",
       "      <td>0.0</td>\n",
       "      <td>0.0</td>\n",
       "      <td>2.999171</td>\n",
       "      <td>566.0</td>\n",
       "      <td>0.000000</td>\n",
       "      <td>566.0</td>\n",
       "      <td>0.000000e+00</td>\n",
       "      <td>0.0</td>\n",
       "      <td>0.0</td>\n",
       "      <td>2.999917</td>\n",
       "      <td>566.0</td>\n",
       "      <td>0.000008</td>\n",
       "      <td>566.0</td>\n",
       "      <td>5.820766e-11</td>\n",
       "      <td>0.0</td>\n",
       "      <td>0.0</td>\n",
       "      <td>2.958989</td>\n",
       "      <td>4.982164e+08</td>\n",
       "      <td>5.029203e+17</td>\n",
       "      <td>2.975291</td>\n",
       "      <td>4.999522e+08</td>\n",
       "      <td>5.038047e+17</td>\n",
       "      <td>2.991729</td>\n",
       "      <td>5.016863e+08</td>\n",
       "      <td>5.046822e+17</td>\n",
       "      <td>2.999171</td>\n",
       "      <td>5.024660e+08</td>\n",
       "      <td>5.050748e+17</td>\n",
       "      <td>2.999917</td>\n",
       "      <td>5.025440e+08</td>\n",
       "      <td>5.051139e+17</td>\n",
       "      <td>1.0</td>\n",
       "      <td>566.0</td>\n",
       "      <td>0.0</td>\n",
       "      <td>566.0</td>\n",
       "      <td>0.0</td>\n",
       "      <td>0.0</td>\n",
       "      <td>0.0</td>\n",
       "      <td>1.0</td>\n",
       "      <td>566.0</td>\n",
       "      <td>0.0</td>\n",
       "      <td>566.0</td>\n",
       "      <td>0.0</td>\n",
       "      <td>0.0</td>\n",
       "      <td>0.0</td>\n",
       "      <td>1.0</td>\n",
       "      <td>566.0</td>\n",
       "      <td>0.0</td>\n",
       "      <td>566.0</td>\n",
       "      <td>0.0</td>\n",
       "      <td>0.0</td>\n",
       "      <td>0.0</td>\n",
       "      <td>1.0</td>\n",
       "      <td>566.0</td>\n",
       "      <td>0.0</td>\n",
       "      <td>566.0</td>\n",
       "      <td>0.0</td>\n",
       "      <td>0.0</td>\n",
       "      <td>0.0</td>\n",
       "      <td>1.0</td>\n",
       "      <td>566.0</td>\n",
       "      <td>0.0</td>\n",
       "      <td>566.0</td>\n",
       "      <td>0.0</td>\n",
       "      <td>0.0</td>\n",
       "      <td>0.0</td>\n",
       "      <td>mirai-ack</td>\n",
       "    </tr>\n",
       "    <tr>\n",
       "      <th>3</th>\n",
       "      <td>3.958979</td>\n",
       "      <td>566.0</td>\n",
       "      <td>0.000000e+00</td>\n",
       "      <td>3.975285</td>\n",
       "      <td>566.0</td>\n",
       "      <td>0.000000e+00</td>\n",
       "      <td>3.991727</td>\n",
       "      <td>566.0</td>\n",
       "      <td>1.164153e-10</td>\n",
       "      <td>3.999171</td>\n",
       "      <td>566.0</td>\n",
       "      <td>0.000000e+00</td>\n",
       "      <td>3.999917</td>\n",
       "      <td>566.0</td>\n",
       "      <td>1.164153e-10</td>\n",
       "      <td>3.958979</td>\n",
       "      <td>566.0</td>\n",
       "      <td>0.000000e+00</td>\n",
       "      <td>3.975285</td>\n",
       "      <td>566.0</td>\n",
       "      <td>0.000000e+00</td>\n",
       "      <td>3.991727</td>\n",
       "      <td>566.0</td>\n",
       "      <td>1.164153e-10</td>\n",
       "      <td>3.999171</td>\n",
       "      <td>566.0</td>\n",
       "      <td>0.000000e+00</td>\n",
       "      <td>3.999917</td>\n",
       "      <td>566.0</td>\n",
       "      <td>1.164153e-10</td>\n",
       "      <td>3.958979</td>\n",
       "      <td>566.0</td>\n",
       "      <td>0.000000</td>\n",
       "      <td>566.0</td>\n",
       "      <td>0.000000e+00</td>\n",
       "      <td>0.0</td>\n",
       "      <td>0.0</td>\n",
       "      <td>3.975285</td>\n",
       "      <td>566.0</td>\n",
       "      <td>0.000000</td>\n",
       "      <td>566.0</td>\n",
       "      <td>0.000000e+00</td>\n",
       "      <td>0.0</td>\n",
       "      <td>0.0</td>\n",
       "      <td>3.991727</td>\n",
       "      <td>566.0</td>\n",
       "      <td>0.000011</td>\n",
       "      <td>566.0</td>\n",
       "      <td>1.164153e-10</td>\n",
       "      <td>0.0</td>\n",
       "      <td>0.0</td>\n",
       "      <td>3.999171</td>\n",
       "      <td>566.0</td>\n",
       "      <td>0.000000</td>\n",
       "      <td>566.0</td>\n",
       "      <td>0.000000e+00</td>\n",
       "      <td>0.0</td>\n",
       "      <td>0.0</td>\n",
       "      <td>3.999917</td>\n",
       "      <td>566.0</td>\n",
       "      <td>0.000011</td>\n",
       "      <td>566.0</td>\n",
       "      <td>1.164153e-10</td>\n",
       "      <td>0.0</td>\n",
       "      <td>0.0</td>\n",
       "      <td>3.958979</td>\n",
       "      <td>3.723717e+08</td>\n",
       "      <td>4.227485e+17</td>\n",
       "      <td>3.975285</td>\n",
       "      <td>3.741871e+08</td>\n",
       "      <td>4.241301e+17</td>\n",
       "      <td>3.991727</td>\n",
       "      <td>3.760048e+08</td>\n",
       "      <td>4.255070e+17</td>\n",
       "      <td>3.999171</td>\n",
       "      <td>3.768235e+08</td>\n",
       "      <td>4.261250e+17</td>\n",
       "      <td>3.999917</td>\n",
       "      <td>3.769054e+08</td>\n",
       "      <td>4.261867e+17</td>\n",
       "      <td>1.0</td>\n",
       "      <td>566.0</td>\n",
       "      <td>0.0</td>\n",
       "      <td>566.0</td>\n",
       "      <td>0.0</td>\n",
       "      <td>0.0</td>\n",
       "      <td>0.0</td>\n",
       "      <td>1.0</td>\n",
       "      <td>566.0</td>\n",
       "      <td>0.0</td>\n",
       "      <td>566.0</td>\n",
       "      <td>0.0</td>\n",
       "      <td>0.0</td>\n",
       "      <td>0.0</td>\n",
       "      <td>1.0</td>\n",
       "      <td>566.0</td>\n",
       "      <td>0.0</td>\n",
       "      <td>566.0</td>\n",
       "      <td>0.0</td>\n",
       "      <td>0.0</td>\n",
       "      <td>0.0</td>\n",
       "      <td>1.0</td>\n",
       "      <td>566.0</td>\n",
       "      <td>0.0</td>\n",
       "      <td>566.0</td>\n",
       "      <td>0.0</td>\n",
       "      <td>0.0</td>\n",
       "      <td>0.0</td>\n",
       "      <td>1.0</td>\n",
       "      <td>566.0</td>\n",
       "      <td>0.0</td>\n",
       "      <td>566.0</td>\n",
       "      <td>0.0</td>\n",
       "      <td>0.0</td>\n",
       "      <td>0.0</td>\n",
       "      <td>mirai-ack</td>\n",
       "    </tr>\n",
       "    <tr>\n",
       "      <th>4</th>\n",
       "      <td>4.914189</td>\n",
       "      <td>566.0</td>\n",
       "      <td>1.164153e-10</td>\n",
       "      <td>4.948239</td>\n",
       "      <td>566.0</td>\n",
       "      <td>5.820766e-11</td>\n",
       "      <td>4.982654</td>\n",
       "      <td>566.0</td>\n",
       "      <td>5.820766e-11</td>\n",
       "      <td>4.998261</td>\n",
       "      <td>566.0</td>\n",
       "      <td>0.000000e+00</td>\n",
       "      <td>4.999826</td>\n",
       "      <td>566.0</td>\n",
       "      <td>1.164153e-10</td>\n",
       "      <td>4.914189</td>\n",
       "      <td>566.0</td>\n",
       "      <td>1.164153e-10</td>\n",
       "      <td>4.948239</td>\n",
       "      <td>566.0</td>\n",
       "      <td>5.820766e-11</td>\n",
       "      <td>4.982654</td>\n",
       "      <td>566.0</td>\n",
       "      <td>5.820766e-11</td>\n",
       "      <td>4.998261</td>\n",
       "      <td>566.0</td>\n",
       "      <td>0.000000e+00</td>\n",
       "      <td>4.999826</td>\n",
       "      <td>566.0</td>\n",
       "      <td>1.164153e-10</td>\n",
       "      <td>4.914189</td>\n",
       "      <td>566.0</td>\n",
       "      <td>0.000011</td>\n",
       "      <td>566.0</td>\n",
       "      <td>1.164153e-10</td>\n",
       "      <td>0.0</td>\n",
       "      <td>0.0</td>\n",
       "      <td>4.948239</td>\n",
       "      <td>566.0</td>\n",
       "      <td>0.000008</td>\n",
       "      <td>566.0</td>\n",
       "      <td>5.820766e-11</td>\n",
       "      <td>0.0</td>\n",
       "      <td>0.0</td>\n",
       "      <td>4.982654</td>\n",
       "      <td>566.0</td>\n",
       "      <td>0.000008</td>\n",
       "      <td>566.0</td>\n",
       "      <td>5.820766e-11</td>\n",
       "      <td>0.0</td>\n",
       "      <td>0.0</td>\n",
       "      <td>4.998261</td>\n",
       "      <td>566.0</td>\n",
       "      <td>0.000000</td>\n",
       "      <td>566.0</td>\n",
       "      <td>0.000000e+00</td>\n",
       "      <td>0.0</td>\n",
       "      <td>0.0</td>\n",
       "      <td>4.999826</td>\n",
       "      <td>566.0</td>\n",
       "      <td>0.000011</td>\n",
       "      <td>566.0</td>\n",
       "      <td>1.164153e-10</td>\n",
       "      <td>0.0</td>\n",
       "      <td>0.0</td>\n",
       "      <td>4.914189</td>\n",
       "      <td>2.965969e+08</td>\n",
       "      <td>3.591969e+17</td>\n",
       "      <td>4.948239</td>\n",
       "      <td>2.985668e+08</td>\n",
       "      <td>3.609945e+17</td>\n",
       "      <td>4.982654</td>\n",
       "      <td>3.005420e+08</td>\n",
       "      <td>3.627891e+17</td>\n",
       "      <td>4.998261</td>\n",
       "      <td>3.014326e+08</td>\n",
       "      <td>3.635956e+17</td>\n",
       "      <td>4.999826</td>\n",
       "      <td>3.015217e+08</td>\n",
       "      <td>3.636762e+17</td>\n",
       "      <td>1.0</td>\n",
       "      <td>566.0</td>\n",
       "      <td>0.0</td>\n",
       "      <td>566.0</td>\n",
       "      <td>0.0</td>\n",
       "      <td>0.0</td>\n",
       "      <td>0.0</td>\n",
       "      <td>1.0</td>\n",
       "      <td>566.0</td>\n",
       "      <td>0.0</td>\n",
       "      <td>566.0</td>\n",
       "      <td>0.0</td>\n",
       "      <td>0.0</td>\n",
       "      <td>0.0</td>\n",
       "      <td>1.0</td>\n",
       "      <td>566.0</td>\n",
       "      <td>0.0</td>\n",
       "      <td>566.0</td>\n",
       "      <td>0.0</td>\n",
       "      <td>0.0</td>\n",
       "      <td>0.0</td>\n",
       "      <td>1.0</td>\n",
       "      <td>566.0</td>\n",
       "      <td>0.0</td>\n",
       "      <td>566.0</td>\n",
       "      <td>0.0</td>\n",
       "      <td>0.0</td>\n",
       "      <td>0.0</td>\n",
       "      <td>1.0</td>\n",
       "      <td>566.0</td>\n",
       "      <td>0.0</td>\n",
       "      <td>566.0</td>\n",
       "      <td>0.0</td>\n",
       "      <td>0.0</td>\n",
       "      <td>0.0</td>\n",
       "      <td>mirai-ack</td>\n",
       "    </tr>\n",
       "  </tbody>\n",
       "</table>\n",
       "</div>"
      ],
      "text/plain": [
       "   MI_dir_L5_weight  MI_dir_L5_mean  MI_dir_L5_variance  MI_dir_L3_weight  \\\n",
       "0          1.000000           566.0        0.000000e+00          1.000000   \n",
       "1          1.996585           566.0        5.820766e-11          1.997950   \n",
       "2          2.958989           566.0        0.000000e+00          2.975291   \n",
       "3          3.958979           566.0        0.000000e+00          3.975285   \n",
       "4          4.914189           566.0        1.164153e-10          4.948239   \n",
       "\n",
       "   MI_dir_L3_mean  MI_dir_L3_variance  MI_dir_L1_weight  MI_dir_L1_mean  \\\n",
       "0           566.0        0.000000e+00          1.000000           566.0   \n",
       "1           566.0        5.820766e-11          1.999316           566.0   \n",
       "2           566.0        5.820766e-11          2.991729           566.0   \n",
       "3           566.0        0.000000e+00          3.991727           566.0   \n",
       "4           566.0        5.820766e-11          4.982654           566.0   \n",
       "\n",
       "   MI_dir_L1_variance  MI_dir_L0.1_weight  MI_dir_L0.1_mean  \\\n",
       "0        0.000000e+00            1.000000             566.0   \n",
       "1        0.000000e+00            1.999932             566.0   \n",
       "2        5.820766e-11            2.999171             566.0   \n",
       "3        1.164153e-10            3.999171             566.0   \n",
       "4        5.820766e-11            4.998261             566.0   \n",
       "\n",
       "   MI_dir_L0.1_variance  MI_dir_L0.01_weight  MI_dir_L0.01_mean  \\\n",
       "0          0.000000e+00             1.000000              566.0   \n",
       "1          1.746230e-10             1.999993              566.0   \n",
       "2          0.000000e+00             2.999917              566.0   \n",
       "3          0.000000e+00             3.999917              566.0   \n",
       "4          0.000000e+00             4.999826              566.0   \n",
       "\n",
       "   MI_dir_L0.01_variance  H_L5_weight  H_L5_mean  H_L5_variance  H_L3_weight  \\\n",
       "0           0.000000e+00     1.000000      566.0   0.000000e+00     1.000000   \n",
       "1           1.164153e-10     1.996585      566.0   5.820766e-11     1.997950   \n",
       "2           5.820766e-11     2.958989      566.0   0.000000e+00     2.975291   \n",
       "3           1.164153e-10     3.958979      566.0   0.000000e+00     3.975285   \n",
       "4           1.164153e-10     4.914189      566.0   1.164153e-10     4.948239   \n",
       "\n",
       "   H_L3_mean  H_L3_variance  H_L1_weight  H_L1_mean  H_L1_variance  \\\n",
       "0      566.0   0.000000e+00     1.000000      566.0   0.000000e+00   \n",
       "1      566.0   5.820766e-11     1.999316      566.0   0.000000e+00   \n",
       "2      566.0   5.820766e-11     2.991729      566.0   5.820766e-11   \n",
       "3      566.0   0.000000e+00     3.991727      566.0   1.164153e-10   \n",
       "4      566.0   5.820766e-11     4.982654      566.0   5.820766e-11   \n",
       "\n",
       "   H_L0.1_weight  H_L0.1_mean  H_L0.1_variance  H_L0.01_weight  H_L0.01_mean  \\\n",
       "0       1.000000        566.0     0.000000e+00        1.000000         566.0   \n",
       "1       1.999932        566.0     1.746230e-10        1.999993         566.0   \n",
       "2       2.999171        566.0     0.000000e+00        2.999917         566.0   \n",
       "3       3.999171        566.0     0.000000e+00        3.999917         566.0   \n",
       "4       4.998261        566.0     0.000000e+00        4.999826         566.0   \n",
       "\n",
       "   H_L0.01_variance  HH_L5_weight  HH_L5_mean  HH_L5_std  HH_L5_magnitude  \\\n",
       "0      0.000000e+00      1.000000       566.0   0.000000            566.0   \n",
       "1      1.164153e-10      1.996585       566.0   0.000008            566.0   \n",
       "2      5.820766e-11      2.958989       566.0   0.000000            566.0   \n",
       "3      1.164153e-10      3.958979       566.0   0.000000            566.0   \n",
       "4      1.164153e-10      4.914189       566.0   0.000011            566.0   \n",
       "\n",
       "   HH_L5_radius  HH_L5_covariance  HH_L5_pcc  HH_L3_weight  HH_L3_mean  \\\n",
       "0  0.000000e+00               0.0        0.0      1.000000       566.0   \n",
       "1  5.820766e-11               0.0        0.0      1.997950       566.0   \n",
       "2  0.000000e+00               0.0        0.0      2.975291       566.0   \n",
       "3  0.000000e+00               0.0        0.0      3.975285       566.0   \n",
       "4  1.164153e-10               0.0        0.0      4.948239       566.0   \n",
       "\n",
       "   HH_L3_std  HH_L3_magnitude  HH_L3_radius  HH_L3_covariance  HH_L3_pcc  \\\n",
       "0   0.000000            566.0  0.000000e+00               0.0        0.0   \n",
       "1   0.000008            566.0  5.820766e-11               0.0        0.0   \n",
       "2   0.000008            566.0  5.820766e-11               0.0        0.0   \n",
       "3   0.000000            566.0  0.000000e+00               0.0        0.0   \n",
       "4   0.000008            566.0  5.820766e-11               0.0        0.0   \n",
       "\n",
       "   HH_L1_weight  HH_L1_mean  HH_L1_std  HH_L1_magnitude  HH_L1_radius  \\\n",
       "0      1.000000       566.0   0.000000            566.0  0.000000e+00   \n",
       "1      1.999316       566.0   0.000000            566.0  0.000000e+00   \n",
       "2      2.991729       566.0   0.000008            566.0  5.820766e-11   \n",
       "3      3.991727       566.0   0.000011            566.0  1.164153e-10   \n",
       "4      4.982654       566.0   0.000008            566.0  5.820766e-11   \n",
       "\n",
       "   HH_L1_covariance  HH_L1_pcc  HH_L0.1_weight  HH_L0.1_mean  HH_L0.1_std  \\\n",
       "0               0.0        0.0        1.000000         566.0     0.000000   \n",
       "1               0.0        0.0        1.999932         566.0     0.000013   \n",
       "2               0.0        0.0        2.999171         566.0     0.000000   \n",
       "3               0.0        0.0        3.999171         566.0     0.000000   \n",
       "4               0.0        0.0        4.998261         566.0     0.000000   \n",
       "\n",
       "   HH_L0.1_magnitude  HH_L0.1_radius  HH_L0.1_covariance  HH_L0.1_pcc  \\\n",
       "0              566.0    0.000000e+00                 0.0          0.0   \n",
       "1              566.0    1.746230e-10                 0.0          0.0   \n",
       "2              566.0    0.000000e+00                 0.0          0.0   \n",
       "3              566.0    0.000000e+00                 0.0          0.0   \n",
       "4              566.0    0.000000e+00                 0.0          0.0   \n",
       "\n",
       "   HH_L0.01_weight  HH_L0.01_mean  HH_L0.01_std  HH_L0.01_magnitude  \\\n",
       "0         1.000000          566.0      0.000000               566.0   \n",
       "1         1.999993          566.0      0.000011               566.0   \n",
       "2         2.999917          566.0      0.000008               566.0   \n",
       "3         3.999917          566.0      0.000011               566.0   \n",
       "4         4.999826          566.0      0.000011               566.0   \n",
       "\n",
       "   HH_L0.01_radius  HH_L0.01_covariance  HH_L0.01_pcc  HH_jit_L5_weight  \\\n",
       "0     0.000000e+00                  0.0           0.0          1.000000   \n",
       "1     1.164153e-10                  0.0           0.0          1.996585   \n",
       "2     5.820766e-11                  0.0           0.0          2.958989   \n",
       "3     1.164153e-10                  0.0           0.0          3.958979   \n",
       "4     1.164153e-10                  0.0           0.0          4.914189   \n",
       "\n",
       "   HH_jit_L5_mean  HH_jit_L5_variance  HH_jit_L3_weight  HH_jit_L3_mean  \\\n",
       "0    1.507658e+09        0.000000e+00          1.000000    1.507658e+09   \n",
       "1    7.525396e+08        5.682564e+17          1.997950    7.530553e+08   \n",
       "2    4.982164e+08        5.029203e+17          2.975291    4.999522e+08   \n",
       "3    3.723717e+08        4.227485e+17          3.975285    3.741871e+08   \n",
       "4    2.965969e+08        3.591969e+17          4.948239    2.985668e+08   \n",
       "\n",
       "   HH_jit_L3_variance  HH_jit_L1_weight  HH_jit_L1_mean  HH_jit_L1_variance  \\\n",
       "0        0.000000e+00          1.000000    1.507658e+09        0.000000e+00   \n",
       "1        5.682575e+17          1.999316    7.535711e+08        5.682580e+17   \n",
       "2        5.038047e+17          2.991729    5.016863e+08        5.046822e+17   \n",
       "3        4.241301e+17          3.991727    3.760048e+08        4.255070e+17   \n",
       "4        3.609945e+17          4.982654    3.005420e+08        3.627891e+17   \n",
       "\n",
       "   HH_jit_L0.1_weight  HH_jit_L0.1_mean  HH_jit_L0.1_variance  \\\n",
       "0            1.000000      1.507658e+09          0.000000e+00   \n",
       "1            1.999932      7.538032e+08          5.682581e+17   \n",
       "2            2.999171      5.024660e+08          5.050748e+17   \n",
       "3            3.999171      3.768235e+08          4.261250e+17   \n",
       "4            4.998261      3.014326e+08          3.635956e+17   \n",
       "\n",
       "   HH_jit_L0.01_weight  HH_jit_L0.01_mean  HH_jit_L0.01_variance  \\\n",
       "0             1.000000       1.507658e+09           0.000000e+00   \n",
       "1             1.999993       7.538264e+08           5.682581e+17   \n",
       "2             2.999917       5.025440e+08           5.051139e+17   \n",
       "3             3.999917       3.769054e+08           4.261867e+17   \n",
       "4             4.999826       3.015217e+08           3.636762e+17   \n",
       "\n",
       "   HpHp_L5_weight  HpHp_L5_mean  HpHp_L5_std  HpHp_L5_magnitude  \\\n",
       "0             1.0         566.0          0.0              566.0   \n",
       "1             1.0         566.0          0.0              566.0   \n",
       "2             1.0         566.0          0.0              566.0   \n",
       "3             1.0         566.0          0.0              566.0   \n",
       "4             1.0         566.0          0.0              566.0   \n",
       "\n",
       "   HpHp_L5_radius  HpHp_L5_covariance  HpHp_L5_pcc  HpHp_L3_weight  \\\n",
       "0             0.0                 0.0          0.0             1.0   \n",
       "1             0.0                 0.0          0.0             1.0   \n",
       "2             0.0                 0.0          0.0             1.0   \n",
       "3             0.0                 0.0          0.0             1.0   \n",
       "4             0.0                 0.0          0.0             1.0   \n",
       "\n",
       "   HpHp_L3_mean  HpHp_L3_std  HpHp_L3_magnitude  HpHp_L3_radius  \\\n",
       "0         566.0          0.0              566.0             0.0   \n",
       "1         566.0          0.0              566.0             0.0   \n",
       "2         566.0          0.0              566.0             0.0   \n",
       "3         566.0          0.0              566.0             0.0   \n",
       "4         566.0          0.0              566.0             0.0   \n",
       "\n",
       "   HpHp_L3_covariance  HpHp_L3_pcc  HpHp_L1_weight  HpHp_L1_mean  HpHp_L1_std  \\\n",
       "0                 0.0          0.0             1.0         566.0          0.0   \n",
       "1                 0.0          0.0             1.0         566.0          0.0   \n",
       "2                 0.0          0.0             1.0         566.0          0.0   \n",
       "3                 0.0          0.0             1.0         566.0          0.0   \n",
       "4                 0.0          0.0             1.0         566.0          0.0   \n",
       "\n",
       "   HpHp_L1_magnitude  HpHp_L1_radius  HpHp_L1_covariance  HpHp_L1_pcc  \\\n",
       "0              566.0             0.0                 0.0          0.0   \n",
       "1              566.0             0.0                 0.0          0.0   \n",
       "2              566.0             0.0                 0.0          0.0   \n",
       "3              566.0             0.0                 0.0          0.0   \n",
       "4              566.0             0.0                 0.0          0.0   \n",
       "\n",
       "   HpHp_L0.1_weight  HpHp_L0.1_mean  HpHp_L0.1_std  HpHp_L0.1_magnitude  \\\n",
       "0               1.0           566.0            0.0                566.0   \n",
       "1               1.0           566.0            0.0                566.0   \n",
       "2               1.0           566.0            0.0                566.0   \n",
       "3               1.0           566.0            0.0                566.0   \n",
       "4               1.0           566.0            0.0                566.0   \n",
       "\n",
       "   HpHp_L0.1_radius  HpHp_L0.1_covariance  HpHp_L0.1_pcc  HpHp_L0.01_weight  \\\n",
       "0               0.0                   0.0            0.0                1.0   \n",
       "1               0.0                   0.0            0.0                1.0   \n",
       "2               0.0                   0.0            0.0                1.0   \n",
       "3               0.0                   0.0            0.0                1.0   \n",
       "4               0.0                   0.0            0.0                1.0   \n",
       "\n",
       "   HpHp_L0.01_mean  HpHp_L0.01_std  HpHp_L0.01_magnitude  HpHp_L0.01_radius  \\\n",
       "0            566.0             0.0                 566.0                0.0   \n",
       "1            566.0             0.0                 566.0                0.0   \n",
       "2            566.0             0.0                 566.0                0.0   \n",
       "3            566.0             0.0                 566.0                0.0   \n",
       "4            566.0             0.0                 566.0                0.0   \n",
       "\n",
       "   HpHp_L0.01_covariance  HpHp_L0.01_pcc     target  \n",
       "0                    0.0             0.0  mirai-ack  \n",
       "1                    0.0             0.0  mirai-ack  \n",
       "2                    0.0             0.0  mirai-ack  \n",
       "3                    0.0             0.0  mirai-ack  \n",
       "4                    0.0             0.0  mirai-ack  "
      ]
     },
     "execution_count": 50,
     "metadata": {},
     "output_type": "execute_result"
    }
   ],
   "source": [
    "mirai_df_list[0].head()"
   ]
  },
  {
   "cell_type": "code",
   "execution_count": 51,
   "metadata": {},
   "outputs": [
    {
     "name": "stdout",
     "output_type": "stream",
     "text": [
      "<class 'pandas.core.frame.DataFrame'>\n",
      "RangeIndex: 102195 entries, 0 to 102194\n",
      "Columns: 116 entries, MI_dir_L5_weight to target\n",
      "dtypes: float64(115), object(1)\n",
      "memory usage: 90.4+ MB\n"
     ]
    }
   ],
   "source": [
    "mirai_df_list[0].info()"
   ]
  },
  {
   "cell_type": "code",
   "execution_count": 52,
   "metadata": {},
   "outputs": [
    {
     "data": {
      "text/plain": [
       "Index(['MI_dir_L5_weight', 'MI_dir_L5_mean', 'MI_dir_L5_variance',\n",
       "       'MI_dir_L3_weight', 'MI_dir_L3_mean', 'MI_dir_L3_variance',\n",
       "       'MI_dir_L1_weight', 'MI_dir_L1_mean', 'MI_dir_L1_variance',\n",
       "       'MI_dir_L0.1_weight',\n",
       "       ...\n",
       "       'HpHp_L0.1_covariance', 'HpHp_L0.1_pcc', 'HpHp_L0.01_weight',\n",
       "       'HpHp_L0.01_mean', 'HpHp_L0.01_std', 'HpHp_L0.01_magnitude',\n",
       "       'HpHp_L0.01_radius', 'HpHp_L0.01_covariance', 'HpHp_L0.01_pcc',\n",
       "       'target'],\n",
       "      dtype='object', length=116)"
      ]
     },
     "execution_count": 52,
     "metadata": {},
     "output_type": "execute_result"
    }
   ],
   "source": [
    "mirai_df_list[0].columns"
   ]
  },
  {
   "cell_type": "code",
   "execution_count": 53,
   "metadata": {},
   "outputs": [],
   "source": [
    "gafgyt_df_list = []"
   ]
  },
  {
   "cell_type": "code",
   "execution_count": 55,
   "metadata": {},
   "outputs": [],
   "source": [
    "for file in glob.glob(\"Dataset/Danmini/gafgyt/*.csv\"):\n",
    "    tmp_df = pd.read_csv(file, nrows=rows)\n",
    "    tmp_df[\"target\"] = \"gafgyt-\"+ os.path.splitext(os.path.basename(file))[0]\n",
    "    gafgyt_df_list.append(tmp_df)"
   ]
  },
  {
   "cell_type": "code",
   "execution_count": 56,
   "metadata": {},
   "outputs": [
    {
     "data": {
      "text/html": [
       "<div>\n",
       "<style scoped>\n",
       "    .dataframe tbody tr th:only-of-type {\n",
       "        vertical-align: middle;\n",
       "    }\n",
       "\n",
       "    .dataframe tbody tr th {\n",
       "        vertical-align: top;\n",
       "    }\n",
       "\n",
       "    .dataframe thead th {\n",
       "        text-align: right;\n",
       "    }\n",
       "</style>\n",
       "<table border=\"1\" class=\"dataframe\">\n",
       "  <thead>\n",
       "    <tr style=\"text-align: right;\">\n",
       "      <th></th>\n",
       "      <th>MI_dir_L5_weight</th>\n",
       "      <th>MI_dir_L5_mean</th>\n",
       "      <th>MI_dir_L5_variance</th>\n",
       "      <th>MI_dir_L3_weight</th>\n",
       "      <th>MI_dir_L3_mean</th>\n",
       "      <th>MI_dir_L3_variance</th>\n",
       "      <th>MI_dir_L1_weight</th>\n",
       "      <th>MI_dir_L1_mean</th>\n",
       "      <th>MI_dir_L1_variance</th>\n",
       "      <th>MI_dir_L0.1_weight</th>\n",
       "      <th>MI_dir_L0.1_mean</th>\n",
       "      <th>MI_dir_L0.1_variance</th>\n",
       "      <th>MI_dir_L0.01_weight</th>\n",
       "      <th>MI_dir_L0.01_mean</th>\n",
       "      <th>MI_dir_L0.01_variance</th>\n",
       "      <th>H_L5_weight</th>\n",
       "      <th>H_L5_mean</th>\n",
       "      <th>H_L5_variance</th>\n",
       "      <th>H_L3_weight</th>\n",
       "      <th>H_L3_mean</th>\n",
       "      <th>H_L3_variance</th>\n",
       "      <th>H_L1_weight</th>\n",
       "      <th>H_L1_mean</th>\n",
       "      <th>H_L1_variance</th>\n",
       "      <th>H_L0.1_weight</th>\n",
       "      <th>H_L0.1_mean</th>\n",
       "      <th>H_L0.1_variance</th>\n",
       "      <th>H_L0.01_weight</th>\n",
       "      <th>H_L0.01_mean</th>\n",
       "      <th>H_L0.01_variance</th>\n",
       "      <th>HH_L5_weight</th>\n",
       "      <th>HH_L5_mean</th>\n",
       "      <th>HH_L5_std</th>\n",
       "      <th>HH_L5_magnitude</th>\n",
       "      <th>HH_L5_radius</th>\n",
       "      <th>HH_L5_covariance</th>\n",
       "      <th>HH_L5_pcc</th>\n",
       "      <th>HH_L3_weight</th>\n",
       "      <th>HH_L3_mean</th>\n",
       "      <th>HH_L3_std</th>\n",
       "      <th>HH_L3_magnitude</th>\n",
       "      <th>HH_L3_radius</th>\n",
       "      <th>HH_L3_covariance</th>\n",
       "      <th>HH_L3_pcc</th>\n",
       "      <th>HH_L1_weight</th>\n",
       "      <th>HH_L1_mean</th>\n",
       "      <th>HH_L1_std</th>\n",
       "      <th>HH_L1_magnitude</th>\n",
       "      <th>HH_L1_radius</th>\n",
       "      <th>HH_L1_covariance</th>\n",
       "      <th>HH_L1_pcc</th>\n",
       "      <th>HH_L0.1_weight</th>\n",
       "      <th>HH_L0.1_mean</th>\n",
       "      <th>HH_L0.1_std</th>\n",
       "      <th>HH_L0.1_magnitude</th>\n",
       "      <th>HH_L0.1_radius</th>\n",
       "      <th>HH_L0.1_covariance</th>\n",
       "      <th>HH_L0.1_pcc</th>\n",
       "      <th>HH_L0.01_weight</th>\n",
       "      <th>HH_L0.01_mean</th>\n",
       "      <th>HH_L0.01_std</th>\n",
       "      <th>HH_L0.01_magnitude</th>\n",
       "      <th>HH_L0.01_radius</th>\n",
       "      <th>HH_L0.01_covariance</th>\n",
       "      <th>HH_L0.01_pcc</th>\n",
       "      <th>HH_jit_L5_weight</th>\n",
       "      <th>HH_jit_L5_mean</th>\n",
       "      <th>HH_jit_L5_variance</th>\n",
       "      <th>HH_jit_L3_weight</th>\n",
       "      <th>HH_jit_L3_mean</th>\n",
       "      <th>HH_jit_L3_variance</th>\n",
       "      <th>HH_jit_L1_weight</th>\n",
       "      <th>HH_jit_L1_mean</th>\n",
       "      <th>HH_jit_L1_variance</th>\n",
       "      <th>HH_jit_L0.1_weight</th>\n",
       "      <th>HH_jit_L0.1_mean</th>\n",
       "      <th>HH_jit_L0.1_variance</th>\n",
       "      <th>HH_jit_L0.01_weight</th>\n",
       "      <th>HH_jit_L0.01_mean</th>\n",
       "      <th>HH_jit_L0.01_variance</th>\n",
       "      <th>HpHp_L5_weight</th>\n",
       "      <th>HpHp_L5_mean</th>\n",
       "      <th>HpHp_L5_std</th>\n",
       "      <th>HpHp_L5_magnitude</th>\n",
       "      <th>HpHp_L5_radius</th>\n",
       "      <th>HpHp_L5_covariance</th>\n",
       "      <th>HpHp_L5_pcc</th>\n",
       "      <th>HpHp_L3_weight</th>\n",
       "      <th>HpHp_L3_mean</th>\n",
       "      <th>HpHp_L3_std</th>\n",
       "      <th>HpHp_L3_magnitude</th>\n",
       "      <th>HpHp_L3_radius</th>\n",
       "      <th>HpHp_L3_covariance</th>\n",
       "      <th>HpHp_L3_pcc</th>\n",
       "      <th>HpHp_L1_weight</th>\n",
       "      <th>HpHp_L1_mean</th>\n",
       "      <th>HpHp_L1_std</th>\n",
       "      <th>HpHp_L1_magnitude</th>\n",
       "      <th>HpHp_L1_radius</th>\n",
       "      <th>HpHp_L1_covariance</th>\n",
       "      <th>HpHp_L1_pcc</th>\n",
       "      <th>HpHp_L0.1_weight</th>\n",
       "      <th>HpHp_L0.1_mean</th>\n",
       "      <th>HpHp_L0.1_std</th>\n",
       "      <th>HpHp_L0.1_magnitude</th>\n",
       "      <th>HpHp_L0.1_radius</th>\n",
       "      <th>HpHp_L0.1_covariance</th>\n",
       "      <th>HpHp_L0.1_pcc</th>\n",
       "      <th>HpHp_L0.01_weight</th>\n",
       "      <th>HpHp_L0.01_mean</th>\n",
       "      <th>HpHp_L0.01_std</th>\n",
       "      <th>HpHp_L0.01_magnitude</th>\n",
       "      <th>HpHp_L0.01_radius</th>\n",
       "      <th>HpHp_L0.01_covariance</th>\n",
       "      <th>HpHp_L0.01_pcc</th>\n",
       "      <th>target</th>\n",
       "    </tr>\n",
       "  </thead>\n",
       "  <tbody>\n",
       "    <tr>\n",
       "      <th>0</th>\n",
       "      <td>1.000000</td>\n",
       "      <td>98.000000</td>\n",
       "      <td>0.000000e+00</td>\n",
       "      <td>1.000000</td>\n",
       "      <td>98.000000</td>\n",
       "      <td>0.000000</td>\n",
       "      <td>1.000000</td>\n",
       "      <td>98.000000</td>\n",
       "      <td>0.000000e+00</td>\n",
       "      <td>1.000000</td>\n",
       "      <td>98.000000</td>\n",
       "      <td>0.000000e+00</td>\n",
       "      <td>1.000000</td>\n",
       "      <td>98.000000</td>\n",
       "      <td>0.000000</td>\n",
       "      <td>1.000000</td>\n",
       "      <td>98.000000</td>\n",
       "      <td>0.000000e+00</td>\n",
       "      <td>1.000000</td>\n",
       "      <td>98.000000</td>\n",
       "      <td>0.000000</td>\n",
       "      <td>1.000000</td>\n",
       "      <td>98.000000</td>\n",
       "      <td>0.000000e+00</td>\n",
       "      <td>1.000000</td>\n",
       "      <td>98.000000</td>\n",
       "      <td>0.000000e+00</td>\n",
       "      <td>1.000000</td>\n",
       "      <td>98.000000</td>\n",
       "      <td>0.000000</td>\n",
       "      <td>1.000000</td>\n",
       "      <td>98.0</td>\n",
       "      <td>0.000000</td>\n",
       "      <td>98.000000</td>\n",
       "      <td>0.000000e+00</td>\n",
       "      <td>0.0</td>\n",
       "      <td>0.0</td>\n",
       "      <td>1.000000</td>\n",
       "      <td>98.0</td>\n",
       "      <td>0.0</td>\n",
       "      <td>98.000000</td>\n",
       "      <td>0.0</td>\n",
       "      <td>0.0</td>\n",
       "      <td>0.0</td>\n",
       "      <td>1.000000</td>\n",
       "      <td>98.0</td>\n",
       "      <td>0.000000</td>\n",
       "      <td>98.000000</td>\n",
       "      <td>0.000000e+00</td>\n",
       "      <td>0.0</td>\n",
       "      <td>0.0</td>\n",
       "      <td>1.00000</td>\n",
       "      <td>98.0</td>\n",
       "      <td>0.000000e+00</td>\n",
       "      <td>98.000000</td>\n",
       "      <td>0.000000e+00</td>\n",
       "      <td>0.0</td>\n",
       "      <td>0.0</td>\n",
       "      <td>1.000000</td>\n",
       "      <td>98.0</td>\n",
       "      <td>0.000000</td>\n",
       "      <td>98.000000</td>\n",
       "      <td>0.000000e+00</td>\n",
       "      <td>0.0</td>\n",
       "      <td>0.0</td>\n",
       "      <td>1.000000</td>\n",
       "      <td>1.505914e+09</td>\n",
       "      <td>0.000000e+00</td>\n",
       "      <td>1.000000</td>\n",
       "      <td>1.505914e+09</td>\n",
       "      <td>0.000000e+00</td>\n",
       "      <td>1.000000</td>\n",
       "      <td>1.505914e+09</td>\n",
       "      <td>0.000000e+00</td>\n",
       "      <td>1.00000</td>\n",
       "      <td>1.505914e+09</td>\n",
       "      <td>0.000000e+00</td>\n",
       "      <td>1.000000</td>\n",
       "      <td>1.505914e+09</td>\n",
       "      <td>0.000000e+00</td>\n",
       "      <td>1.000</td>\n",
       "      <td>98.0</td>\n",
       "      <td>0.000000</td>\n",
       "      <td>98.000000</td>\n",
       "      <td>0.000000e+00</td>\n",
       "      <td>0.0</td>\n",
       "      <td>0.0</td>\n",
       "      <td>1.00000</td>\n",
       "      <td>98.0</td>\n",
       "      <td>0.0</td>\n",
       "      <td>98.000000</td>\n",
       "      <td>0.0</td>\n",
       "      <td>0.0</td>\n",
       "      <td>0.0</td>\n",
       "      <td>1.000000</td>\n",
       "      <td>98.0</td>\n",
       "      <td>0.000000</td>\n",
       "      <td>98.000000</td>\n",
       "      <td>0.000000e+00</td>\n",
       "      <td>0.0</td>\n",
       "      <td>0.0</td>\n",
       "      <td>1.00000</td>\n",
       "      <td>98.0</td>\n",
       "      <td>0.000000</td>\n",
       "      <td>98.000000</td>\n",
       "      <td>0.000000e+00</td>\n",
       "      <td>0.0</td>\n",
       "      <td>0.0</td>\n",
       "      <td>1.000000</td>\n",
       "      <td>98.0</td>\n",
       "      <td>0.000000</td>\n",
       "      <td>98.000000</td>\n",
       "      <td>0.000000e+00</td>\n",
       "      <td>0.0</td>\n",
       "      <td>0.0</td>\n",
       "      <td>gafgyt-combo</td>\n",
       "    </tr>\n",
       "    <tr>\n",
       "      <th>1</th>\n",
       "      <td>1.029000</td>\n",
       "      <td>98.000000</td>\n",
       "      <td>1.818989e-12</td>\n",
       "      <td>1.119520</td>\n",
       "      <td>98.000000</td>\n",
       "      <td>0.000000</td>\n",
       "      <td>1.492583</td>\n",
       "      <td>98.000000</td>\n",
       "      <td>3.637979e-12</td>\n",
       "      <td>1.931640</td>\n",
       "      <td>98.000000</td>\n",
       "      <td>1.818989e-12</td>\n",
       "      <td>1.992944</td>\n",
       "      <td>98.000000</td>\n",
       "      <td>0.000000</td>\n",
       "      <td>1.029000</td>\n",
       "      <td>98.000000</td>\n",
       "      <td>1.818989e-12</td>\n",
       "      <td>1.119520</td>\n",
       "      <td>98.000000</td>\n",
       "      <td>0.000000</td>\n",
       "      <td>1.492583</td>\n",
       "      <td>98.000000</td>\n",
       "      <td>3.637979e-12</td>\n",
       "      <td>1.931640</td>\n",
       "      <td>98.000000</td>\n",
       "      <td>1.818989e-12</td>\n",
       "      <td>1.992944</td>\n",
       "      <td>98.000000</td>\n",
       "      <td>0.000000</td>\n",
       "      <td>1.029000</td>\n",
       "      <td>98.0</td>\n",
       "      <td>0.000001</td>\n",
       "      <td>138.592929</td>\n",
       "      <td>1.818989e-12</td>\n",
       "      <td>0.0</td>\n",
       "      <td>0.0</td>\n",
       "      <td>1.119520</td>\n",
       "      <td>98.0</td>\n",
       "      <td>0.0</td>\n",
       "      <td>138.592929</td>\n",
       "      <td>0.0</td>\n",
       "      <td>0.0</td>\n",
       "      <td>0.0</td>\n",
       "      <td>1.492583</td>\n",
       "      <td>98.0</td>\n",
       "      <td>0.000002</td>\n",
       "      <td>138.592929</td>\n",
       "      <td>3.637979e-12</td>\n",
       "      <td>0.0</td>\n",
       "      <td>0.0</td>\n",
       "      <td>1.93164</td>\n",
       "      <td>98.0</td>\n",
       "      <td>1.348699e-06</td>\n",
       "      <td>138.592929</td>\n",
       "      <td>1.818989e-12</td>\n",
       "      <td>0.0</td>\n",
       "      <td>0.0</td>\n",
       "      <td>1.992944</td>\n",
       "      <td>98.0</td>\n",
       "      <td>0.000001</td>\n",
       "      <td>138.592929</td>\n",
       "      <td>1.818989e-12</td>\n",
       "      <td>0.0</td>\n",
       "      <td>0.0</td>\n",
       "      <td>1.029000</td>\n",
       "      <td>4.244084e+07</td>\n",
       "      <td>6.211104e+16</td>\n",
       "      <td>1.119520</td>\n",
       "      <td>1.607711e+08</td>\n",
       "      <td>2.162601e+17</td>\n",
       "      <td>1.492583</td>\n",
       "      <td>4.969829e+08</td>\n",
       "      <td>5.014217e+17</td>\n",
       "      <td>1.93164</td>\n",
       "      <td>7.263102e+08</td>\n",
       "      <td>5.662344e+17</td>\n",
       "      <td>1.992944</td>\n",
       "      <td>7.502914e+08</td>\n",
       "      <td>5.669374e+17</td>\n",
       "      <td>1.029</td>\n",
       "      <td>98.0</td>\n",
       "      <td>0.000001</td>\n",
       "      <td>138.592929</td>\n",
       "      <td>1.818989e-12</td>\n",
       "      <td>0.0</td>\n",
       "      <td>0.0</td>\n",
       "      <td>1.11952</td>\n",
       "      <td>98.0</td>\n",
       "      <td>0.0</td>\n",
       "      <td>138.592929</td>\n",
       "      <td>0.0</td>\n",
       "      <td>0.0</td>\n",
       "      <td>0.0</td>\n",
       "      <td>1.492583</td>\n",
       "      <td>98.0</td>\n",
       "      <td>0.000002</td>\n",
       "      <td>138.592929</td>\n",
       "      <td>3.637979e-12</td>\n",
       "      <td>0.0</td>\n",
       "      <td>0.0</td>\n",
       "      <td>1.93164</td>\n",
       "      <td>98.0</td>\n",
       "      <td>0.000001</td>\n",
       "      <td>138.592929</td>\n",
       "      <td>1.818989e-12</td>\n",
       "      <td>0.0</td>\n",
       "      <td>0.0</td>\n",
       "      <td>1.992944</td>\n",
       "      <td>98.0</td>\n",
       "      <td>0.000001</td>\n",
       "      <td>138.592929</td>\n",
       "      <td>1.818989e-12</td>\n",
       "      <td>0.0</td>\n",
       "      <td>0.0</td>\n",
       "      <td>gafgyt-combo</td>\n",
       "    </tr>\n",
       "    <tr>\n",
       "      <th>2</th>\n",
       "      <td>1.504156</td>\n",
       "      <td>76.725612</td>\n",
       "      <td>2.281808e+02</td>\n",
       "      <td>1.729662</td>\n",
       "      <td>79.499272</td>\n",
       "      <td>249.746357</td>\n",
       "      <td>2.294102</td>\n",
       "      <td>84.051188</td>\n",
       "      <td>2.517926e+02</td>\n",
       "      <td>2.904273</td>\n",
       "      <td>86.981750</td>\n",
       "      <td>2.311822e+02</td>\n",
       "      <td>2.990102</td>\n",
       "      <td>87.298025</td>\n",
       "      <td>227.930928</td>\n",
       "      <td>1.504156</td>\n",
       "      <td>76.725612</td>\n",
       "      <td>2.281808e+02</td>\n",
       "      <td>1.729662</td>\n",
       "      <td>79.499272</td>\n",
       "      <td>249.746357</td>\n",
       "      <td>2.294102</td>\n",
       "      <td>84.051188</td>\n",
       "      <td>2.517926e+02</td>\n",
       "      <td>2.904273</td>\n",
       "      <td>86.981750</td>\n",
       "      <td>2.311822e+02</td>\n",
       "      <td>2.990102</td>\n",
       "      <td>87.298025</td>\n",
       "      <td>227.930928</td>\n",
       "      <td>1.000000</td>\n",
       "      <td>66.0</td>\n",
       "      <td>0.000000</td>\n",
       "      <td>114.856432</td>\n",
       "      <td>0.000000e+00</td>\n",
       "      <td>0.0</td>\n",
       "      <td>0.0</td>\n",
       "      <td>1.000000</td>\n",
       "      <td>66.0</td>\n",
       "      <td>0.0</td>\n",
       "      <td>114.856432</td>\n",
       "      <td>0.0</td>\n",
       "      <td>0.0</td>\n",
       "      <td>0.0</td>\n",
       "      <td>1.000000</td>\n",
       "      <td>66.0</td>\n",
       "      <td>0.000000</td>\n",
       "      <td>114.856432</td>\n",
       "      <td>0.000000e+00</td>\n",
       "      <td>0.0</td>\n",
       "      <td>0.0</td>\n",
       "      <td>1.00000</td>\n",
       "      <td>66.0</td>\n",
       "      <td>0.000000e+00</td>\n",
       "      <td>114.856432</td>\n",
       "      <td>0.000000e+00</td>\n",
       "      <td>0.0</td>\n",
       "      <td>0.0</td>\n",
       "      <td>1.000000</td>\n",
       "      <td>66.0</td>\n",
       "      <td>0.000000</td>\n",
       "      <td>114.856432</td>\n",
       "      <td>0.000000e+00</td>\n",
       "      <td>0.0</td>\n",
       "      <td>0.0</td>\n",
       "      <td>1.000000</td>\n",
       "      <td>1.505914e+09</td>\n",
       "      <td>0.000000e+00</td>\n",
       "      <td>1.000000</td>\n",
       "      <td>1.505914e+09</td>\n",
       "      <td>0.000000e+00</td>\n",
       "      <td>1.000000</td>\n",
       "      <td>1.505914e+09</td>\n",
       "      <td>0.000000e+00</td>\n",
       "      <td>1.00000</td>\n",
       "      <td>1.505914e+09</td>\n",
       "      <td>0.000000e+00</td>\n",
       "      <td>1.000000</td>\n",
       "      <td>1.505914e+09</td>\n",
       "      <td>0.000000e+00</td>\n",
       "      <td>1.000</td>\n",
       "      <td>66.0</td>\n",
       "      <td>0.000000</td>\n",
       "      <td>114.856432</td>\n",
       "      <td>0.000000e+00</td>\n",
       "      <td>0.0</td>\n",
       "      <td>0.0</td>\n",
       "      <td>1.00000</td>\n",
       "      <td>66.0</td>\n",
       "      <td>0.0</td>\n",
       "      <td>114.856432</td>\n",
       "      <td>0.0</td>\n",
       "      <td>0.0</td>\n",
       "      <td>0.0</td>\n",
       "      <td>1.000000</td>\n",
       "      <td>66.0</td>\n",
       "      <td>0.000000</td>\n",
       "      <td>114.856432</td>\n",
       "      <td>0.000000e+00</td>\n",
       "      <td>0.0</td>\n",
       "      <td>0.0</td>\n",
       "      <td>1.00000</td>\n",
       "      <td>66.0</td>\n",
       "      <td>0.000000</td>\n",
       "      <td>114.856432</td>\n",
       "      <td>0.000000e+00</td>\n",
       "      <td>0.0</td>\n",
       "      <td>0.0</td>\n",
       "      <td>1.000000</td>\n",
       "      <td>66.0</td>\n",
       "      <td>0.000000</td>\n",
       "      <td>114.856432</td>\n",
       "      <td>0.000000e+00</td>\n",
       "      <td>0.0</td>\n",
       "      <td>0.0</td>\n",
       "      <td>gafgyt-combo</td>\n",
       "    </tr>\n",
       "    <tr>\n",
       "      <th>3</th>\n",
       "      <td>2.460087</td>\n",
       "      <td>75.617679</td>\n",
       "      <td>1.372200e+02</td>\n",
       "      <td>2.699075</td>\n",
       "      <td>77.461807</td>\n",
       "      <td>164.269331</td>\n",
       "      <td>3.280499</td>\n",
       "      <td>80.987267</td>\n",
       "      <td>1.964467e+02</td>\n",
       "      <td>3.902546</td>\n",
       "      <td>83.655268</td>\n",
       "      <td>2.040614e+02</td>\n",
       "      <td>3.989925</td>\n",
       "      <td>83.965124</td>\n",
       "      <td>204.017078</td>\n",
       "      <td>2.460087</td>\n",
       "      <td>75.617679</td>\n",
       "      <td>1.372200e+02</td>\n",
       "      <td>2.699075</td>\n",
       "      <td>77.461807</td>\n",
       "      <td>164.269331</td>\n",
       "      <td>3.280499</td>\n",
       "      <td>80.987267</td>\n",
       "      <td>1.964467e+02</td>\n",
       "      <td>3.902546</td>\n",
       "      <td>83.655268</td>\n",
       "      <td>2.040614e+02</td>\n",
       "      <td>3.989925</td>\n",
       "      <td>83.965124</td>\n",
       "      <td>204.017078</td>\n",
       "      <td>1.000000</td>\n",
       "      <td>74.0</td>\n",
       "      <td>0.000000</td>\n",
       "      <td>74.000000</td>\n",
       "      <td>0.000000e+00</td>\n",
       "      <td>0.0</td>\n",
       "      <td>0.0</td>\n",
       "      <td>1.000000</td>\n",
       "      <td>74.0</td>\n",
       "      <td>0.0</td>\n",
       "      <td>74.000000</td>\n",
       "      <td>0.0</td>\n",
       "      <td>0.0</td>\n",
       "      <td>0.0</td>\n",
       "      <td>1.000000</td>\n",
       "      <td>74.0</td>\n",
       "      <td>0.000000</td>\n",
       "      <td>74.000000</td>\n",
       "      <td>0.000000e+00</td>\n",
       "      <td>0.0</td>\n",
       "      <td>0.0</td>\n",
       "      <td>1.00000</td>\n",
       "      <td>74.0</td>\n",
       "      <td>0.000000e+00</td>\n",
       "      <td>74.000000</td>\n",
       "      <td>0.000000e+00</td>\n",
       "      <td>0.0</td>\n",
       "      <td>0.0</td>\n",
       "      <td>1.000000</td>\n",
       "      <td>74.0</td>\n",
       "      <td>0.000000</td>\n",
       "      <td>74.000000</td>\n",
       "      <td>0.000000e+00</td>\n",
       "      <td>0.0</td>\n",
       "      <td>0.0</td>\n",
       "      <td>1.000000</td>\n",
       "      <td>1.505914e+09</td>\n",
       "      <td>0.000000e+00</td>\n",
       "      <td>1.000000</td>\n",
       "      <td>1.505914e+09</td>\n",
       "      <td>0.000000e+00</td>\n",
       "      <td>1.000000</td>\n",
       "      <td>1.505914e+09</td>\n",
       "      <td>0.000000e+00</td>\n",
       "      <td>1.00000</td>\n",
       "      <td>1.505914e+09</td>\n",
       "      <td>0.000000e+00</td>\n",
       "      <td>1.000000</td>\n",
       "      <td>1.505914e+09</td>\n",
       "      <td>0.000000e+00</td>\n",
       "      <td>1.000</td>\n",
       "      <td>74.0</td>\n",
       "      <td>0.000000</td>\n",
       "      <td>74.000000</td>\n",
       "      <td>0.000000e+00</td>\n",
       "      <td>0.0</td>\n",
       "      <td>0.0</td>\n",
       "      <td>1.00000</td>\n",
       "      <td>74.0</td>\n",
       "      <td>0.0</td>\n",
       "      <td>74.000000</td>\n",
       "      <td>0.0</td>\n",
       "      <td>0.0</td>\n",
       "      <td>0.0</td>\n",
       "      <td>1.000000</td>\n",
       "      <td>74.0</td>\n",
       "      <td>0.000000</td>\n",
       "      <td>74.000000</td>\n",
       "      <td>0.000000e+00</td>\n",
       "      <td>0.0</td>\n",
       "      <td>0.0</td>\n",
       "      <td>1.00000</td>\n",
       "      <td>74.0</td>\n",
       "      <td>0.000000</td>\n",
       "      <td>74.000000</td>\n",
       "      <td>0.000000e+00</td>\n",
       "      <td>0.0</td>\n",
       "      <td>0.0</td>\n",
       "      <td>1.000000</td>\n",
       "      <td>74.0</td>\n",
       "      <td>0.000000</td>\n",
       "      <td>74.000000</td>\n",
       "      <td>0.000000e+00</td>\n",
       "      <td>0.0</td>\n",
       "      <td>0.0</td>\n",
       "      <td>gafgyt-combo</td>\n",
       "    </tr>\n",
       "    <tr>\n",
       "      <th>4</th>\n",
       "      <td>3.460055</td>\n",
       "      <td>75.150149</td>\n",
       "      <td>9.809937e+01</td>\n",
       "      <td>3.699054</td>\n",
       "      <td>76.525944</td>\n",
       "      <td>122.224798</td>\n",
       "      <td>4.280490</td>\n",
       "      <td>79.354915</td>\n",
       "      <td>1.592943e+02</td>\n",
       "      <td>4.902545</td>\n",
       "      <td>81.685828</td>\n",
       "      <td>1.775746e+02</td>\n",
       "      <td>4.989924</td>\n",
       "      <td>81.968075</td>\n",
       "      <td>179.043909</td>\n",
       "      <td>3.460055</td>\n",
       "      <td>75.150149</td>\n",
       "      <td>9.809937e+01</td>\n",
       "      <td>3.699054</td>\n",
       "      <td>76.525944</td>\n",
       "      <td>122.224798</td>\n",
       "      <td>4.280490</td>\n",
       "      <td>79.354915</td>\n",
       "      <td>1.592943e+02</td>\n",
       "      <td>4.902545</td>\n",
       "      <td>81.685828</td>\n",
       "      <td>1.775746e+02</td>\n",
       "      <td>4.989924</td>\n",
       "      <td>81.968075</td>\n",
       "      <td>179.043909</td>\n",
       "      <td>1.999987</td>\n",
       "      <td>74.0</td>\n",
       "      <td>0.000000</td>\n",
       "      <td>74.000000</td>\n",
       "      <td>0.000000e+00</td>\n",
       "      <td>0.0</td>\n",
       "      <td>0.0</td>\n",
       "      <td>1.999992</td>\n",
       "      <td>74.0</td>\n",
       "      <td>0.0</td>\n",
       "      <td>74.000000</td>\n",
       "      <td>0.0</td>\n",
       "      <td>0.0</td>\n",
       "      <td>0.0</td>\n",
       "      <td>1.999997</td>\n",
       "      <td>74.0</td>\n",
       "      <td>0.000001</td>\n",
       "      <td>74.000000</td>\n",
       "      <td>1.818989e-12</td>\n",
       "      <td>0.0</td>\n",
       "      <td>0.0</td>\n",
       "      <td>2.00000</td>\n",
       "      <td>74.0</td>\n",
       "      <td>9.536743e-07</td>\n",
       "      <td>74.000000</td>\n",
       "      <td>9.094947e-13</td>\n",
       "      <td>0.0</td>\n",
       "      <td>0.0</td>\n",
       "      <td>2.000000</td>\n",
       "      <td>74.0</td>\n",
       "      <td>0.000001</td>\n",
       "      <td>74.000000</td>\n",
       "      <td>1.818989e-12</td>\n",
       "      <td>0.0</td>\n",
       "      <td>0.0</td>\n",
       "      <td>1.999987</td>\n",
       "      <td>7.529522e+08</td>\n",
       "      <td>5.669445e+17</td>\n",
       "      <td>1.999992</td>\n",
       "      <td>7.529542e+08</td>\n",
       "      <td>5.669445e+17</td>\n",
       "      <td>1.999997</td>\n",
       "      <td>7.529562e+08</td>\n",
       "      <td>5.669445e+17</td>\n",
       "      <td>2.00000</td>\n",
       "      <td>7.529571e+08</td>\n",
       "      <td>5.669445e+17</td>\n",
       "      <td>2.000000</td>\n",
       "      <td>7.529572e+08</td>\n",
       "      <td>5.669445e+17</td>\n",
       "      <td>1.000</td>\n",
       "      <td>74.0</td>\n",
       "      <td>0.000000</td>\n",
       "      <td>74.000000</td>\n",
       "      <td>0.000000e+00</td>\n",
       "      <td>0.0</td>\n",
       "      <td>0.0</td>\n",
       "      <td>1.00000</td>\n",
       "      <td>74.0</td>\n",
       "      <td>0.0</td>\n",
       "      <td>74.000000</td>\n",
       "      <td>0.0</td>\n",
       "      <td>0.0</td>\n",
       "      <td>0.0</td>\n",
       "      <td>1.000000</td>\n",
       "      <td>74.0</td>\n",
       "      <td>0.000000</td>\n",
       "      <td>74.000000</td>\n",
       "      <td>0.000000e+00</td>\n",
       "      <td>0.0</td>\n",
       "      <td>0.0</td>\n",
       "      <td>1.00000</td>\n",
       "      <td>74.0</td>\n",
       "      <td>0.000000</td>\n",
       "      <td>74.000000</td>\n",
       "      <td>0.000000e+00</td>\n",
       "      <td>0.0</td>\n",
       "      <td>0.0</td>\n",
       "      <td>1.000000</td>\n",
       "      <td>74.0</td>\n",
       "      <td>0.000000</td>\n",
       "      <td>74.000000</td>\n",
       "      <td>0.000000e+00</td>\n",
       "      <td>0.0</td>\n",
       "      <td>0.0</td>\n",
       "      <td>gafgyt-combo</td>\n",
       "    </tr>\n",
       "  </tbody>\n",
       "</table>\n",
       "</div>"
      ],
      "text/plain": [
       "   MI_dir_L5_weight  MI_dir_L5_mean  MI_dir_L5_variance  MI_dir_L3_weight  \\\n",
       "0          1.000000       98.000000        0.000000e+00          1.000000   \n",
       "1          1.029000       98.000000        1.818989e-12          1.119520   \n",
       "2          1.504156       76.725612        2.281808e+02          1.729662   \n",
       "3          2.460087       75.617679        1.372200e+02          2.699075   \n",
       "4          3.460055       75.150149        9.809937e+01          3.699054   \n",
       "\n",
       "   MI_dir_L3_mean  MI_dir_L3_variance  MI_dir_L1_weight  MI_dir_L1_mean  \\\n",
       "0       98.000000            0.000000          1.000000       98.000000   \n",
       "1       98.000000            0.000000          1.492583       98.000000   \n",
       "2       79.499272          249.746357          2.294102       84.051188   \n",
       "3       77.461807          164.269331          3.280499       80.987267   \n",
       "4       76.525944          122.224798          4.280490       79.354915   \n",
       "\n",
       "   MI_dir_L1_variance  MI_dir_L0.1_weight  MI_dir_L0.1_mean  \\\n",
       "0        0.000000e+00            1.000000         98.000000   \n",
       "1        3.637979e-12            1.931640         98.000000   \n",
       "2        2.517926e+02            2.904273         86.981750   \n",
       "3        1.964467e+02            3.902546         83.655268   \n",
       "4        1.592943e+02            4.902545         81.685828   \n",
       "\n",
       "   MI_dir_L0.1_variance  MI_dir_L0.01_weight  MI_dir_L0.01_mean  \\\n",
       "0          0.000000e+00             1.000000          98.000000   \n",
       "1          1.818989e-12             1.992944          98.000000   \n",
       "2          2.311822e+02             2.990102          87.298025   \n",
       "3          2.040614e+02             3.989925          83.965124   \n",
       "4          1.775746e+02             4.989924          81.968075   \n",
       "\n",
       "   MI_dir_L0.01_variance  H_L5_weight  H_L5_mean  H_L5_variance  H_L3_weight  \\\n",
       "0               0.000000     1.000000  98.000000   0.000000e+00     1.000000   \n",
       "1               0.000000     1.029000  98.000000   1.818989e-12     1.119520   \n",
       "2             227.930928     1.504156  76.725612   2.281808e+02     1.729662   \n",
       "3             204.017078     2.460087  75.617679   1.372200e+02     2.699075   \n",
       "4             179.043909     3.460055  75.150149   9.809937e+01     3.699054   \n",
       "\n",
       "   H_L3_mean  H_L3_variance  H_L1_weight  H_L1_mean  H_L1_variance  \\\n",
       "0  98.000000       0.000000     1.000000  98.000000   0.000000e+00   \n",
       "1  98.000000       0.000000     1.492583  98.000000   3.637979e-12   \n",
       "2  79.499272     249.746357     2.294102  84.051188   2.517926e+02   \n",
       "3  77.461807     164.269331     3.280499  80.987267   1.964467e+02   \n",
       "4  76.525944     122.224798     4.280490  79.354915   1.592943e+02   \n",
       "\n",
       "   H_L0.1_weight  H_L0.1_mean  H_L0.1_variance  H_L0.01_weight  H_L0.01_mean  \\\n",
       "0       1.000000    98.000000     0.000000e+00        1.000000     98.000000   \n",
       "1       1.931640    98.000000     1.818989e-12        1.992944     98.000000   \n",
       "2       2.904273    86.981750     2.311822e+02        2.990102     87.298025   \n",
       "3       3.902546    83.655268     2.040614e+02        3.989925     83.965124   \n",
       "4       4.902545    81.685828     1.775746e+02        4.989924     81.968075   \n",
       "\n",
       "   H_L0.01_variance  HH_L5_weight  HH_L5_mean  HH_L5_std  HH_L5_magnitude  \\\n",
       "0          0.000000      1.000000        98.0   0.000000        98.000000   \n",
       "1          0.000000      1.029000        98.0   0.000001       138.592929   \n",
       "2        227.930928      1.000000        66.0   0.000000       114.856432   \n",
       "3        204.017078      1.000000        74.0   0.000000        74.000000   \n",
       "4        179.043909      1.999987        74.0   0.000000        74.000000   \n",
       "\n",
       "   HH_L5_radius  HH_L5_covariance  HH_L5_pcc  HH_L3_weight  HH_L3_mean  \\\n",
       "0  0.000000e+00               0.0        0.0      1.000000        98.0   \n",
       "1  1.818989e-12               0.0        0.0      1.119520        98.0   \n",
       "2  0.000000e+00               0.0        0.0      1.000000        66.0   \n",
       "3  0.000000e+00               0.0        0.0      1.000000        74.0   \n",
       "4  0.000000e+00               0.0        0.0      1.999992        74.0   \n",
       "\n",
       "   HH_L3_std  HH_L3_magnitude  HH_L3_radius  HH_L3_covariance  HH_L3_pcc  \\\n",
       "0        0.0        98.000000           0.0               0.0        0.0   \n",
       "1        0.0       138.592929           0.0               0.0        0.0   \n",
       "2        0.0       114.856432           0.0               0.0        0.0   \n",
       "3        0.0        74.000000           0.0               0.0        0.0   \n",
       "4        0.0        74.000000           0.0               0.0        0.0   \n",
       "\n",
       "   HH_L1_weight  HH_L1_mean  HH_L1_std  HH_L1_magnitude  HH_L1_radius  \\\n",
       "0      1.000000        98.0   0.000000        98.000000  0.000000e+00   \n",
       "1      1.492583        98.0   0.000002       138.592929  3.637979e-12   \n",
       "2      1.000000        66.0   0.000000       114.856432  0.000000e+00   \n",
       "3      1.000000        74.0   0.000000        74.000000  0.000000e+00   \n",
       "4      1.999997        74.0   0.000001        74.000000  1.818989e-12   \n",
       "\n",
       "   HH_L1_covariance  HH_L1_pcc  HH_L0.1_weight  HH_L0.1_mean   HH_L0.1_std  \\\n",
       "0               0.0        0.0         1.00000          98.0  0.000000e+00   \n",
       "1               0.0        0.0         1.93164          98.0  1.348699e-06   \n",
       "2               0.0        0.0         1.00000          66.0  0.000000e+00   \n",
       "3               0.0        0.0         1.00000          74.0  0.000000e+00   \n",
       "4               0.0        0.0         2.00000          74.0  9.536743e-07   \n",
       "\n",
       "   HH_L0.1_magnitude  HH_L0.1_radius  HH_L0.1_covariance  HH_L0.1_pcc  \\\n",
       "0          98.000000    0.000000e+00                 0.0          0.0   \n",
       "1         138.592929    1.818989e-12                 0.0          0.0   \n",
       "2         114.856432    0.000000e+00                 0.0          0.0   \n",
       "3          74.000000    0.000000e+00                 0.0          0.0   \n",
       "4          74.000000    9.094947e-13                 0.0          0.0   \n",
       "\n",
       "   HH_L0.01_weight  HH_L0.01_mean  HH_L0.01_std  HH_L0.01_magnitude  \\\n",
       "0         1.000000           98.0      0.000000           98.000000   \n",
       "1         1.992944           98.0      0.000001          138.592929   \n",
       "2         1.000000           66.0      0.000000          114.856432   \n",
       "3         1.000000           74.0      0.000000           74.000000   \n",
       "4         2.000000           74.0      0.000001           74.000000   \n",
       "\n",
       "   HH_L0.01_radius  HH_L0.01_covariance  HH_L0.01_pcc  HH_jit_L5_weight  \\\n",
       "0     0.000000e+00                  0.0           0.0          1.000000   \n",
       "1     1.818989e-12                  0.0           0.0          1.029000   \n",
       "2     0.000000e+00                  0.0           0.0          1.000000   \n",
       "3     0.000000e+00                  0.0           0.0          1.000000   \n",
       "4     1.818989e-12                  0.0           0.0          1.999987   \n",
       "\n",
       "   HH_jit_L5_mean  HH_jit_L5_variance  HH_jit_L3_weight  HH_jit_L3_mean  \\\n",
       "0    1.505914e+09        0.000000e+00          1.000000    1.505914e+09   \n",
       "1    4.244084e+07        6.211104e+16          1.119520    1.607711e+08   \n",
       "2    1.505914e+09        0.000000e+00          1.000000    1.505914e+09   \n",
       "3    1.505914e+09        0.000000e+00          1.000000    1.505914e+09   \n",
       "4    7.529522e+08        5.669445e+17          1.999992    7.529542e+08   \n",
       "\n",
       "   HH_jit_L3_variance  HH_jit_L1_weight  HH_jit_L1_mean  HH_jit_L1_variance  \\\n",
       "0        0.000000e+00          1.000000    1.505914e+09        0.000000e+00   \n",
       "1        2.162601e+17          1.492583    4.969829e+08        5.014217e+17   \n",
       "2        0.000000e+00          1.000000    1.505914e+09        0.000000e+00   \n",
       "3        0.000000e+00          1.000000    1.505914e+09        0.000000e+00   \n",
       "4        5.669445e+17          1.999997    7.529562e+08        5.669445e+17   \n",
       "\n",
       "   HH_jit_L0.1_weight  HH_jit_L0.1_mean  HH_jit_L0.1_variance  \\\n",
       "0             1.00000      1.505914e+09          0.000000e+00   \n",
       "1             1.93164      7.263102e+08          5.662344e+17   \n",
       "2             1.00000      1.505914e+09          0.000000e+00   \n",
       "3             1.00000      1.505914e+09          0.000000e+00   \n",
       "4             2.00000      7.529571e+08          5.669445e+17   \n",
       "\n",
       "   HH_jit_L0.01_weight  HH_jit_L0.01_mean  HH_jit_L0.01_variance  \\\n",
       "0             1.000000       1.505914e+09           0.000000e+00   \n",
       "1             1.992944       7.502914e+08           5.669374e+17   \n",
       "2             1.000000       1.505914e+09           0.000000e+00   \n",
       "3             1.000000       1.505914e+09           0.000000e+00   \n",
       "4             2.000000       7.529572e+08           5.669445e+17   \n",
       "\n",
       "   HpHp_L5_weight  HpHp_L5_mean  HpHp_L5_std  HpHp_L5_magnitude  \\\n",
       "0           1.000          98.0     0.000000          98.000000   \n",
       "1           1.029          98.0     0.000001         138.592929   \n",
       "2           1.000          66.0     0.000000         114.856432   \n",
       "3           1.000          74.0     0.000000          74.000000   \n",
       "4           1.000          74.0     0.000000          74.000000   \n",
       "\n",
       "   HpHp_L5_radius  HpHp_L5_covariance  HpHp_L5_pcc  HpHp_L3_weight  \\\n",
       "0    0.000000e+00                 0.0          0.0         1.00000   \n",
       "1    1.818989e-12                 0.0          0.0         1.11952   \n",
       "2    0.000000e+00                 0.0          0.0         1.00000   \n",
       "3    0.000000e+00                 0.0          0.0         1.00000   \n",
       "4    0.000000e+00                 0.0          0.0         1.00000   \n",
       "\n",
       "   HpHp_L3_mean  HpHp_L3_std  HpHp_L3_magnitude  HpHp_L3_radius  \\\n",
       "0          98.0          0.0          98.000000             0.0   \n",
       "1          98.0          0.0         138.592929             0.0   \n",
       "2          66.0          0.0         114.856432             0.0   \n",
       "3          74.0          0.0          74.000000             0.0   \n",
       "4          74.0          0.0          74.000000             0.0   \n",
       "\n",
       "   HpHp_L3_covariance  HpHp_L3_pcc  HpHp_L1_weight  HpHp_L1_mean  HpHp_L1_std  \\\n",
       "0                 0.0          0.0        1.000000          98.0     0.000000   \n",
       "1                 0.0          0.0        1.492583          98.0     0.000002   \n",
       "2                 0.0          0.0        1.000000          66.0     0.000000   \n",
       "3                 0.0          0.0        1.000000          74.0     0.000000   \n",
       "4                 0.0          0.0        1.000000          74.0     0.000000   \n",
       "\n",
       "   HpHp_L1_magnitude  HpHp_L1_radius  HpHp_L1_covariance  HpHp_L1_pcc  \\\n",
       "0          98.000000    0.000000e+00                 0.0          0.0   \n",
       "1         138.592929    3.637979e-12                 0.0          0.0   \n",
       "2         114.856432    0.000000e+00                 0.0          0.0   \n",
       "3          74.000000    0.000000e+00                 0.0          0.0   \n",
       "4          74.000000    0.000000e+00                 0.0          0.0   \n",
       "\n",
       "   HpHp_L0.1_weight  HpHp_L0.1_mean  HpHp_L0.1_std  HpHp_L0.1_magnitude  \\\n",
       "0           1.00000            98.0       0.000000            98.000000   \n",
       "1           1.93164            98.0       0.000001           138.592929   \n",
       "2           1.00000            66.0       0.000000           114.856432   \n",
       "3           1.00000            74.0       0.000000            74.000000   \n",
       "4           1.00000            74.0       0.000000            74.000000   \n",
       "\n",
       "   HpHp_L0.1_radius  HpHp_L0.1_covariance  HpHp_L0.1_pcc  HpHp_L0.01_weight  \\\n",
       "0      0.000000e+00                   0.0            0.0           1.000000   \n",
       "1      1.818989e-12                   0.0            0.0           1.992944   \n",
       "2      0.000000e+00                   0.0            0.0           1.000000   \n",
       "3      0.000000e+00                   0.0            0.0           1.000000   \n",
       "4      0.000000e+00                   0.0            0.0           1.000000   \n",
       "\n",
       "   HpHp_L0.01_mean  HpHp_L0.01_std  HpHp_L0.01_magnitude  HpHp_L0.01_radius  \\\n",
       "0             98.0        0.000000             98.000000       0.000000e+00   \n",
       "1             98.0        0.000001            138.592929       1.818989e-12   \n",
       "2             66.0        0.000000            114.856432       0.000000e+00   \n",
       "3             74.0        0.000000             74.000000       0.000000e+00   \n",
       "4             74.0        0.000000             74.000000       0.000000e+00   \n",
       "\n",
       "   HpHp_L0.01_covariance  HpHp_L0.01_pcc        target  \n",
       "0                    0.0             0.0  gafgyt-combo  \n",
       "1                    0.0             0.0  gafgyt-combo  \n",
       "2                    0.0             0.0  gafgyt-combo  \n",
       "3                    0.0             0.0  gafgyt-combo  \n",
       "4                    0.0             0.0  gafgyt-combo  "
      ]
     },
     "execution_count": 56,
     "metadata": {},
     "output_type": "execute_result"
    }
   ],
   "source": [
    "gafgyt_df_list[0].head()"
   ]
  },
  {
   "cell_type": "code",
   "execution_count": 57,
   "metadata": {},
   "outputs": [],
   "source": [
    "benign_df = pd.read_csv(\"Dataset/Danmini/benign_traffic.csv\", nrows=rows)\n",
    "benign_df[\"target\"] = \"Benign\""
   ]
  },
  {
   "cell_type": "code",
   "execution_count": 58,
   "metadata": {},
   "outputs": [],
   "source": [
    "gafgyt_df_list.append(benign_df)"
   ]
  },
  {
   "cell_type": "code",
   "execution_count": 59,
   "metadata": {},
   "outputs": [],
   "source": [
    "df_list = mirai_df_list + gafgyt_df_list"
   ]
  },
  {
   "cell_type": "code",
   "execution_count": 60,
   "metadata": {},
   "outputs": [],
   "source": [
    "df = pd.concat(df_list)"
   ]
  },
  {
   "cell_type": "code",
   "execution_count": 61,
   "metadata": {},
   "outputs": [
    {
     "data": {
      "text/html": [
       "<div>\n",
       "<style scoped>\n",
       "    .dataframe tbody tr th:only-of-type {\n",
       "        vertical-align: middle;\n",
       "    }\n",
       "\n",
       "    .dataframe tbody tr th {\n",
       "        vertical-align: top;\n",
       "    }\n",
       "\n",
       "    .dataframe thead th {\n",
       "        text-align: right;\n",
       "    }\n",
       "</style>\n",
       "<table border=\"1\" class=\"dataframe\">\n",
       "  <thead>\n",
       "    <tr style=\"text-align: right;\">\n",
       "      <th></th>\n",
       "      <th>MI_dir_L5_weight</th>\n",
       "      <th>MI_dir_L5_mean</th>\n",
       "      <th>MI_dir_L5_variance</th>\n",
       "      <th>MI_dir_L3_weight</th>\n",
       "      <th>MI_dir_L3_mean</th>\n",
       "      <th>MI_dir_L3_variance</th>\n",
       "      <th>MI_dir_L1_weight</th>\n",
       "      <th>MI_dir_L1_mean</th>\n",
       "      <th>MI_dir_L1_variance</th>\n",
       "      <th>MI_dir_L0.1_weight</th>\n",
       "      <th>MI_dir_L0.1_mean</th>\n",
       "      <th>MI_dir_L0.1_variance</th>\n",
       "      <th>MI_dir_L0.01_weight</th>\n",
       "      <th>MI_dir_L0.01_mean</th>\n",
       "      <th>MI_dir_L0.01_variance</th>\n",
       "      <th>H_L5_weight</th>\n",
       "      <th>H_L5_mean</th>\n",
       "      <th>H_L5_variance</th>\n",
       "      <th>H_L3_weight</th>\n",
       "      <th>H_L3_mean</th>\n",
       "      <th>H_L3_variance</th>\n",
       "      <th>H_L1_weight</th>\n",
       "      <th>H_L1_mean</th>\n",
       "      <th>H_L1_variance</th>\n",
       "      <th>H_L0.1_weight</th>\n",
       "      <th>H_L0.1_mean</th>\n",
       "      <th>H_L0.1_variance</th>\n",
       "      <th>H_L0.01_weight</th>\n",
       "      <th>H_L0.01_mean</th>\n",
       "      <th>H_L0.01_variance</th>\n",
       "      <th>HH_L5_weight</th>\n",
       "      <th>HH_L5_mean</th>\n",
       "      <th>HH_L5_std</th>\n",
       "      <th>HH_L5_magnitude</th>\n",
       "      <th>HH_L5_radius</th>\n",
       "      <th>HH_L5_covariance</th>\n",
       "      <th>HH_L5_pcc</th>\n",
       "      <th>HH_L3_weight</th>\n",
       "      <th>HH_L3_mean</th>\n",
       "      <th>HH_L3_std</th>\n",
       "      <th>HH_L3_magnitude</th>\n",
       "      <th>HH_L3_radius</th>\n",
       "      <th>HH_L3_covariance</th>\n",
       "      <th>HH_L3_pcc</th>\n",
       "      <th>HH_L1_weight</th>\n",
       "      <th>HH_L1_mean</th>\n",
       "      <th>HH_L1_std</th>\n",
       "      <th>HH_L1_magnitude</th>\n",
       "      <th>HH_L1_radius</th>\n",
       "      <th>HH_L1_covariance</th>\n",
       "      <th>HH_L1_pcc</th>\n",
       "      <th>HH_L0.1_weight</th>\n",
       "      <th>HH_L0.1_mean</th>\n",
       "      <th>HH_L0.1_std</th>\n",
       "      <th>HH_L0.1_magnitude</th>\n",
       "      <th>HH_L0.1_radius</th>\n",
       "      <th>HH_L0.1_covariance</th>\n",
       "      <th>HH_L0.1_pcc</th>\n",
       "      <th>HH_L0.01_weight</th>\n",
       "      <th>HH_L0.01_mean</th>\n",
       "      <th>HH_L0.01_std</th>\n",
       "      <th>HH_L0.01_magnitude</th>\n",
       "      <th>HH_L0.01_radius</th>\n",
       "      <th>HH_L0.01_covariance</th>\n",
       "      <th>HH_L0.01_pcc</th>\n",
       "      <th>HH_jit_L5_weight</th>\n",
       "      <th>HH_jit_L5_mean</th>\n",
       "      <th>HH_jit_L5_variance</th>\n",
       "      <th>HH_jit_L3_weight</th>\n",
       "      <th>HH_jit_L3_mean</th>\n",
       "      <th>HH_jit_L3_variance</th>\n",
       "      <th>HH_jit_L1_weight</th>\n",
       "      <th>HH_jit_L1_mean</th>\n",
       "      <th>HH_jit_L1_variance</th>\n",
       "      <th>HH_jit_L0.1_weight</th>\n",
       "      <th>HH_jit_L0.1_mean</th>\n",
       "      <th>HH_jit_L0.1_variance</th>\n",
       "      <th>HH_jit_L0.01_weight</th>\n",
       "      <th>HH_jit_L0.01_mean</th>\n",
       "      <th>HH_jit_L0.01_variance</th>\n",
       "      <th>HpHp_L5_weight</th>\n",
       "      <th>HpHp_L5_mean</th>\n",
       "      <th>HpHp_L5_std</th>\n",
       "      <th>HpHp_L5_magnitude</th>\n",
       "      <th>HpHp_L5_radius</th>\n",
       "      <th>HpHp_L5_covariance</th>\n",
       "      <th>HpHp_L5_pcc</th>\n",
       "      <th>HpHp_L3_weight</th>\n",
       "      <th>HpHp_L3_mean</th>\n",
       "      <th>HpHp_L3_std</th>\n",
       "      <th>HpHp_L3_magnitude</th>\n",
       "      <th>HpHp_L3_radius</th>\n",
       "      <th>HpHp_L3_covariance</th>\n",
       "      <th>HpHp_L3_pcc</th>\n",
       "      <th>HpHp_L1_weight</th>\n",
       "      <th>HpHp_L1_mean</th>\n",
       "      <th>HpHp_L1_std</th>\n",
       "      <th>HpHp_L1_magnitude</th>\n",
       "      <th>HpHp_L1_radius</th>\n",
       "      <th>HpHp_L1_covariance</th>\n",
       "      <th>HpHp_L1_pcc</th>\n",
       "      <th>HpHp_L0.1_weight</th>\n",
       "      <th>HpHp_L0.1_mean</th>\n",
       "      <th>HpHp_L0.1_std</th>\n",
       "      <th>HpHp_L0.1_magnitude</th>\n",
       "      <th>HpHp_L0.1_radius</th>\n",
       "      <th>HpHp_L0.1_covariance</th>\n",
       "      <th>HpHp_L0.1_pcc</th>\n",
       "      <th>HpHp_L0.01_weight</th>\n",
       "      <th>HpHp_L0.01_mean</th>\n",
       "      <th>HpHp_L0.01_std</th>\n",
       "      <th>HpHp_L0.01_magnitude</th>\n",
       "      <th>HpHp_L0.01_radius</th>\n",
       "      <th>HpHp_L0.01_covariance</th>\n",
       "      <th>HpHp_L0.01_pcc</th>\n",
       "      <th>target</th>\n",
       "    </tr>\n",
       "  </thead>\n",
       "  <tbody>\n",
       "    <tr>\n",
       "      <th>0</th>\n",
       "      <td>1.000000</td>\n",
       "      <td>566.0</td>\n",
       "      <td>0.000000e+00</td>\n",
       "      <td>1.000000</td>\n",
       "      <td>566.0</td>\n",
       "      <td>0.000000e+00</td>\n",
       "      <td>1.000000</td>\n",
       "      <td>566.0</td>\n",
       "      <td>0.000000e+00</td>\n",
       "      <td>1.000000</td>\n",
       "      <td>566.0</td>\n",
       "      <td>0.000000e+00</td>\n",
       "      <td>1.000000</td>\n",
       "      <td>566.0</td>\n",
       "      <td>0.000000e+00</td>\n",
       "      <td>1.000000</td>\n",
       "      <td>566.0</td>\n",
       "      <td>0.000000e+00</td>\n",
       "      <td>1.000000</td>\n",
       "      <td>566.0</td>\n",
       "      <td>0.000000e+00</td>\n",
       "      <td>1.000000</td>\n",
       "      <td>566.0</td>\n",
       "      <td>0.000000e+00</td>\n",
       "      <td>1.000000</td>\n",
       "      <td>566.0</td>\n",
       "      <td>0.000000e+00</td>\n",
       "      <td>1.000000</td>\n",
       "      <td>566.0</td>\n",
       "      <td>0.000000e+00</td>\n",
       "      <td>1.000000</td>\n",
       "      <td>566.0</td>\n",
       "      <td>0.000000</td>\n",
       "      <td>566.0</td>\n",
       "      <td>0.000000e+00</td>\n",
       "      <td>0.0</td>\n",
       "      <td>0.0</td>\n",
       "      <td>1.000000</td>\n",
       "      <td>566.0</td>\n",
       "      <td>0.000000</td>\n",
       "      <td>566.0</td>\n",
       "      <td>0.000000e+00</td>\n",
       "      <td>0.0</td>\n",
       "      <td>0.0</td>\n",
       "      <td>1.000000</td>\n",
       "      <td>566.0</td>\n",
       "      <td>0.000000</td>\n",
       "      <td>566.0</td>\n",
       "      <td>0.000000e+00</td>\n",
       "      <td>0.0</td>\n",
       "      <td>0.0</td>\n",
       "      <td>1.000000</td>\n",
       "      <td>566.0</td>\n",
       "      <td>0.000000</td>\n",
       "      <td>566.0</td>\n",
       "      <td>0.000000e+00</td>\n",
       "      <td>0.0</td>\n",
       "      <td>0.0</td>\n",
       "      <td>1.000000</td>\n",
       "      <td>566.0</td>\n",
       "      <td>0.000000</td>\n",
       "      <td>566.0</td>\n",
       "      <td>0.000000e+00</td>\n",
       "      <td>0.0</td>\n",
       "      <td>0.0</td>\n",
       "      <td>1.000000</td>\n",
       "      <td>1.507658e+09</td>\n",
       "      <td>0.000000e+00</td>\n",
       "      <td>1.000000</td>\n",
       "      <td>1.507658e+09</td>\n",
       "      <td>0.000000e+00</td>\n",
       "      <td>1.000000</td>\n",
       "      <td>1.507658e+09</td>\n",
       "      <td>0.000000e+00</td>\n",
       "      <td>1.000000</td>\n",
       "      <td>1.507658e+09</td>\n",
       "      <td>0.000000e+00</td>\n",
       "      <td>1.000000</td>\n",
       "      <td>1.507658e+09</td>\n",
       "      <td>0.000000e+00</td>\n",
       "      <td>1.0</td>\n",
       "      <td>566.0</td>\n",
       "      <td>0.0</td>\n",
       "      <td>566.0</td>\n",
       "      <td>0.0</td>\n",
       "      <td>0.0</td>\n",
       "      <td>0.0</td>\n",
       "      <td>1.0</td>\n",
       "      <td>566.0</td>\n",
       "      <td>0.0</td>\n",
       "      <td>566.0</td>\n",
       "      <td>0.0</td>\n",
       "      <td>0.0</td>\n",
       "      <td>0.0</td>\n",
       "      <td>1.0</td>\n",
       "      <td>566.0</td>\n",
       "      <td>0.0</td>\n",
       "      <td>566.0</td>\n",
       "      <td>0.0</td>\n",
       "      <td>0.0</td>\n",
       "      <td>0.0</td>\n",
       "      <td>1.0</td>\n",
       "      <td>566.0</td>\n",
       "      <td>0.0</td>\n",
       "      <td>566.0</td>\n",
       "      <td>0.0</td>\n",
       "      <td>0.0</td>\n",
       "      <td>0.0</td>\n",
       "      <td>1.0</td>\n",
       "      <td>566.0</td>\n",
       "      <td>0.0</td>\n",
       "      <td>566.0</td>\n",
       "      <td>0.0</td>\n",
       "      <td>0.0</td>\n",
       "      <td>0.0</td>\n",
       "      <td>mirai-ack</td>\n",
       "    </tr>\n",
       "    <tr>\n",
       "      <th>1</th>\n",
       "      <td>1.996585</td>\n",
       "      <td>566.0</td>\n",
       "      <td>5.820766e-11</td>\n",
       "      <td>1.997950</td>\n",
       "      <td>566.0</td>\n",
       "      <td>5.820766e-11</td>\n",
       "      <td>1.999316</td>\n",
       "      <td>566.0</td>\n",
       "      <td>0.000000e+00</td>\n",
       "      <td>1.999932</td>\n",
       "      <td>566.0</td>\n",
       "      <td>1.746230e-10</td>\n",
       "      <td>1.999993</td>\n",
       "      <td>566.0</td>\n",
       "      <td>1.164153e-10</td>\n",
       "      <td>1.996585</td>\n",
       "      <td>566.0</td>\n",
       "      <td>5.820766e-11</td>\n",
       "      <td>1.997950</td>\n",
       "      <td>566.0</td>\n",
       "      <td>5.820766e-11</td>\n",
       "      <td>1.999316</td>\n",
       "      <td>566.0</td>\n",
       "      <td>0.000000e+00</td>\n",
       "      <td>1.999932</td>\n",
       "      <td>566.0</td>\n",
       "      <td>1.746230e-10</td>\n",
       "      <td>1.999993</td>\n",
       "      <td>566.0</td>\n",
       "      <td>1.164153e-10</td>\n",
       "      <td>1.996585</td>\n",
       "      <td>566.0</td>\n",
       "      <td>0.000008</td>\n",
       "      <td>566.0</td>\n",
       "      <td>5.820766e-11</td>\n",
       "      <td>0.0</td>\n",
       "      <td>0.0</td>\n",
       "      <td>1.997950</td>\n",
       "      <td>566.0</td>\n",
       "      <td>0.000008</td>\n",
       "      <td>566.0</td>\n",
       "      <td>5.820766e-11</td>\n",
       "      <td>0.0</td>\n",
       "      <td>0.0</td>\n",
       "      <td>1.999316</td>\n",
       "      <td>566.0</td>\n",
       "      <td>0.000000</td>\n",
       "      <td>566.0</td>\n",
       "      <td>0.000000e+00</td>\n",
       "      <td>0.0</td>\n",
       "      <td>0.0</td>\n",
       "      <td>1.999932</td>\n",
       "      <td>566.0</td>\n",
       "      <td>0.000013</td>\n",
       "      <td>566.0</td>\n",
       "      <td>1.746230e-10</td>\n",
       "      <td>0.0</td>\n",
       "      <td>0.0</td>\n",
       "      <td>1.999993</td>\n",
       "      <td>566.0</td>\n",
       "      <td>0.000011</td>\n",
       "      <td>566.0</td>\n",
       "      <td>1.164153e-10</td>\n",
       "      <td>0.0</td>\n",
       "      <td>0.0</td>\n",
       "      <td>1.996585</td>\n",
       "      <td>7.525396e+08</td>\n",
       "      <td>5.682564e+17</td>\n",
       "      <td>1.997950</td>\n",
       "      <td>7.530553e+08</td>\n",
       "      <td>5.682575e+17</td>\n",
       "      <td>1.999316</td>\n",
       "      <td>7.535711e+08</td>\n",
       "      <td>5.682580e+17</td>\n",
       "      <td>1.999932</td>\n",
       "      <td>7.538032e+08</td>\n",
       "      <td>5.682581e+17</td>\n",
       "      <td>1.999993</td>\n",
       "      <td>7.538264e+08</td>\n",
       "      <td>5.682581e+17</td>\n",
       "      <td>1.0</td>\n",
       "      <td>566.0</td>\n",
       "      <td>0.0</td>\n",
       "      <td>566.0</td>\n",
       "      <td>0.0</td>\n",
       "      <td>0.0</td>\n",
       "      <td>0.0</td>\n",
       "      <td>1.0</td>\n",
       "      <td>566.0</td>\n",
       "      <td>0.0</td>\n",
       "      <td>566.0</td>\n",
       "      <td>0.0</td>\n",
       "      <td>0.0</td>\n",
       "      <td>0.0</td>\n",
       "      <td>1.0</td>\n",
       "      <td>566.0</td>\n",
       "      <td>0.0</td>\n",
       "      <td>566.0</td>\n",
       "      <td>0.0</td>\n",
       "      <td>0.0</td>\n",
       "      <td>0.0</td>\n",
       "      <td>1.0</td>\n",
       "      <td>566.0</td>\n",
       "      <td>0.0</td>\n",
       "      <td>566.0</td>\n",
       "      <td>0.0</td>\n",
       "      <td>0.0</td>\n",
       "      <td>0.0</td>\n",
       "      <td>1.0</td>\n",
       "      <td>566.0</td>\n",
       "      <td>0.0</td>\n",
       "      <td>566.0</td>\n",
       "      <td>0.0</td>\n",
       "      <td>0.0</td>\n",
       "      <td>0.0</td>\n",
       "      <td>mirai-ack</td>\n",
       "    </tr>\n",
       "    <tr>\n",
       "      <th>2</th>\n",
       "      <td>2.958989</td>\n",
       "      <td>566.0</td>\n",
       "      <td>0.000000e+00</td>\n",
       "      <td>2.975291</td>\n",
       "      <td>566.0</td>\n",
       "      <td>5.820766e-11</td>\n",
       "      <td>2.991729</td>\n",
       "      <td>566.0</td>\n",
       "      <td>5.820766e-11</td>\n",
       "      <td>2.999171</td>\n",
       "      <td>566.0</td>\n",
       "      <td>0.000000e+00</td>\n",
       "      <td>2.999917</td>\n",
       "      <td>566.0</td>\n",
       "      <td>5.820766e-11</td>\n",
       "      <td>2.958989</td>\n",
       "      <td>566.0</td>\n",
       "      <td>0.000000e+00</td>\n",
       "      <td>2.975291</td>\n",
       "      <td>566.0</td>\n",
       "      <td>5.820766e-11</td>\n",
       "      <td>2.991729</td>\n",
       "      <td>566.0</td>\n",
       "      <td>5.820766e-11</td>\n",
       "      <td>2.999171</td>\n",
       "      <td>566.0</td>\n",
       "      <td>0.000000e+00</td>\n",
       "      <td>2.999917</td>\n",
       "      <td>566.0</td>\n",
       "      <td>5.820766e-11</td>\n",
       "      <td>2.958989</td>\n",
       "      <td>566.0</td>\n",
       "      <td>0.000000</td>\n",
       "      <td>566.0</td>\n",
       "      <td>0.000000e+00</td>\n",
       "      <td>0.0</td>\n",
       "      <td>0.0</td>\n",
       "      <td>2.975291</td>\n",
       "      <td>566.0</td>\n",
       "      <td>0.000008</td>\n",
       "      <td>566.0</td>\n",
       "      <td>5.820766e-11</td>\n",
       "      <td>0.0</td>\n",
       "      <td>0.0</td>\n",
       "      <td>2.991729</td>\n",
       "      <td>566.0</td>\n",
       "      <td>0.000008</td>\n",
       "      <td>566.0</td>\n",
       "      <td>5.820766e-11</td>\n",
       "      <td>0.0</td>\n",
       "      <td>0.0</td>\n",
       "      <td>2.999171</td>\n",
       "      <td>566.0</td>\n",
       "      <td>0.000000</td>\n",
       "      <td>566.0</td>\n",
       "      <td>0.000000e+00</td>\n",
       "      <td>0.0</td>\n",
       "      <td>0.0</td>\n",
       "      <td>2.999917</td>\n",
       "      <td>566.0</td>\n",
       "      <td>0.000008</td>\n",
       "      <td>566.0</td>\n",
       "      <td>5.820766e-11</td>\n",
       "      <td>0.0</td>\n",
       "      <td>0.0</td>\n",
       "      <td>2.958989</td>\n",
       "      <td>4.982164e+08</td>\n",
       "      <td>5.029203e+17</td>\n",
       "      <td>2.975291</td>\n",
       "      <td>4.999522e+08</td>\n",
       "      <td>5.038047e+17</td>\n",
       "      <td>2.991729</td>\n",
       "      <td>5.016863e+08</td>\n",
       "      <td>5.046822e+17</td>\n",
       "      <td>2.999171</td>\n",
       "      <td>5.024660e+08</td>\n",
       "      <td>5.050748e+17</td>\n",
       "      <td>2.999917</td>\n",
       "      <td>5.025440e+08</td>\n",
       "      <td>5.051139e+17</td>\n",
       "      <td>1.0</td>\n",
       "      <td>566.0</td>\n",
       "      <td>0.0</td>\n",
       "      <td>566.0</td>\n",
       "      <td>0.0</td>\n",
       "      <td>0.0</td>\n",
       "      <td>0.0</td>\n",
       "      <td>1.0</td>\n",
       "      <td>566.0</td>\n",
       "      <td>0.0</td>\n",
       "      <td>566.0</td>\n",
       "      <td>0.0</td>\n",
       "      <td>0.0</td>\n",
       "      <td>0.0</td>\n",
       "      <td>1.0</td>\n",
       "      <td>566.0</td>\n",
       "      <td>0.0</td>\n",
       "      <td>566.0</td>\n",
       "      <td>0.0</td>\n",
       "      <td>0.0</td>\n",
       "      <td>0.0</td>\n",
       "      <td>1.0</td>\n",
       "      <td>566.0</td>\n",
       "      <td>0.0</td>\n",
       "      <td>566.0</td>\n",
       "      <td>0.0</td>\n",
       "      <td>0.0</td>\n",
       "      <td>0.0</td>\n",
       "      <td>1.0</td>\n",
       "      <td>566.0</td>\n",
       "      <td>0.0</td>\n",
       "      <td>566.0</td>\n",
       "      <td>0.0</td>\n",
       "      <td>0.0</td>\n",
       "      <td>0.0</td>\n",
       "      <td>mirai-ack</td>\n",
       "    </tr>\n",
       "    <tr>\n",
       "      <th>3</th>\n",
       "      <td>3.958979</td>\n",
       "      <td>566.0</td>\n",
       "      <td>0.000000e+00</td>\n",
       "      <td>3.975285</td>\n",
       "      <td>566.0</td>\n",
       "      <td>0.000000e+00</td>\n",
       "      <td>3.991727</td>\n",
       "      <td>566.0</td>\n",
       "      <td>1.164153e-10</td>\n",
       "      <td>3.999171</td>\n",
       "      <td>566.0</td>\n",
       "      <td>0.000000e+00</td>\n",
       "      <td>3.999917</td>\n",
       "      <td>566.0</td>\n",
       "      <td>1.164153e-10</td>\n",
       "      <td>3.958979</td>\n",
       "      <td>566.0</td>\n",
       "      <td>0.000000e+00</td>\n",
       "      <td>3.975285</td>\n",
       "      <td>566.0</td>\n",
       "      <td>0.000000e+00</td>\n",
       "      <td>3.991727</td>\n",
       "      <td>566.0</td>\n",
       "      <td>1.164153e-10</td>\n",
       "      <td>3.999171</td>\n",
       "      <td>566.0</td>\n",
       "      <td>0.000000e+00</td>\n",
       "      <td>3.999917</td>\n",
       "      <td>566.0</td>\n",
       "      <td>1.164153e-10</td>\n",
       "      <td>3.958979</td>\n",
       "      <td>566.0</td>\n",
       "      <td>0.000000</td>\n",
       "      <td>566.0</td>\n",
       "      <td>0.000000e+00</td>\n",
       "      <td>0.0</td>\n",
       "      <td>0.0</td>\n",
       "      <td>3.975285</td>\n",
       "      <td>566.0</td>\n",
       "      <td>0.000000</td>\n",
       "      <td>566.0</td>\n",
       "      <td>0.000000e+00</td>\n",
       "      <td>0.0</td>\n",
       "      <td>0.0</td>\n",
       "      <td>3.991727</td>\n",
       "      <td>566.0</td>\n",
       "      <td>0.000011</td>\n",
       "      <td>566.0</td>\n",
       "      <td>1.164153e-10</td>\n",
       "      <td>0.0</td>\n",
       "      <td>0.0</td>\n",
       "      <td>3.999171</td>\n",
       "      <td>566.0</td>\n",
       "      <td>0.000000</td>\n",
       "      <td>566.0</td>\n",
       "      <td>0.000000e+00</td>\n",
       "      <td>0.0</td>\n",
       "      <td>0.0</td>\n",
       "      <td>3.999917</td>\n",
       "      <td>566.0</td>\n",
       "      <td>0.000011</td>\n",
       "      <td>566.0</td>\n",
       "      <td>1.164153e-10</td>\n",
       "      <td>0.0</td>\n",
       "      <td>0.0</td>\n",
       "      <td>3.958979</td>\n",
       "      <td>3.723717e+08</td>\n",
       "      <td>4.227485e+17</td>\n",
       "      <td>3.975285</td>\n",
       "      <td>3.741871e+08</td>\n",
       "      <td>4.241301e+17</td>\n",
       "      <td>3.991727</td>\n",
       "      <td>3.760048e+08</td>\n",
       "      <td>4.255070e+17</td>\n",
       "      <td>3.999171</td>\n",
       "      <td>3.768235e+08</td>\n",
       "      <td>4.261250e+17</td>\n",
       "      <td>3.999917</td>\n",
       "      <td>3.769054e+08</td>\n",
       "      <td>4.261867e+17</td>\n",
       "      <td>1.0</td>\n",
       "      <td>566.0</td>\n",
       "      <td>0.0</td>\n",
       "      <td>566.0</td>\n",
       "      <td>0.0</td>\n",
       "      <td>0.0</td>\n",
       "      <td>0.0</td>\n",
       "      <td>1.0</td>\n",
       "      <td>566.0</td>\n",
       "      <td>0.0</td>\n",
       "      <td>566.0</td>\n",
       "      <td>0.0</td>\n",
       "      <td>0.0</td>\n",
       "      <td>0.0</td>\n",
       "      <td>1.0</td>\n",
       "      <td>566.0</td>\n",
       "      <td>0.0</td>\n",
       "      <td>566.0</td>\n",
       "      <td>0.0</td>\n",
       "      <td>0.0</td>\n",
       "      <td>0.0</td>\n",
       "      <td>1.0</td>\n",
       "      <td>566.0</td>\n",
       "      <td>0.0</td>\n",
       "      <td>566.0</td>\n",
       "      <td>0.0</td>\n",
       "      <td>0.0</td>\n",
       "      <td>0.0</td>\n",
       "      <td>1.0</td>\n",
       "      <td>566.0</td>\n",
       "      <td>0.0</td>\n",
       "      <td>566.0</td>\n",
       "      <td>0.0</td>\n",
       "      <td>0.0</td>\n",
       "      <td>0.0</td>\n",
       "      <td>mirai-ack</td>\n",
       "    </tr>\n",
       "    <tr>\n",
       "      <th>4</th>\n",
       "      <td>4.914189</td>\n",
       "      <td>566.0</td>\n",
       "      <td>1.164153e-10</td>\n",
       "      <td>4.948239</td>\n",
       "      <td>566.0</td>\n",
       "      <td>5.820766e-11</td>\n",
       "      <td>4.982654</td>\n",
       "      <td>566.0</td>\n",
       "      <td>5.820766e-11</td>\n",
       "      <td>4.998261</td>\n",
       "      <td>566.0</td>\n",
       "      <td>0.000000e+00</td>\n",
       "      <td>4.999826</td>\n",
       "      <td>566.0</td>\n",
       "      <td>1.164153e-10</td>\n",
       "      <td>4.914189</td>\n",
       "      <td>566.0</td>\n",
       "      <td>1.164153e-10</td>\n",
       "      <td>4.948239</td>\n",
       "      <td>566.0</td>\n",
       "      <td>5.820766e-11</td>\n",
       "      <td>4.982654</td>\n",
       "      <td>566.0</td>\n",
       "      <td>5.820766e-11</td>\n",
       "      <td>4.998261</td>\n",
       "      <td>566.0</td>\n",
       "      <td>0.000000e+00</td>\n",
       "      <td>4.999826</td>\n",
       "      <td>566.0</td>\n",
       "      <td>1.164153e-10</td>\n",
       "      <td>4.914189</td>\n",
       "      <td>566.0</td>\n",
       "      <td>0.000011</td>\n",
       "      <td>566.0</td>\n",
       "      <td>1.164153e-10</td>\n",
       "      <td>0.0</td>\n",
       "      <td>0.0</td>\n",
       "      <td>4.948239</td>\n",
       "      <td>566.0</td>\n",
       "      <td>0.000008</td>\n",
       "      <td>566.0</td>\n",
       "      <td>5.820766e-11</td>\n",
       "      <td>0.0</td>\n",
       "      <td>0.0</td>\n",
       "      <td>4.982654</td>\n",
       "      <td>566.0</td>\n",
       "      <td>0.000008</td>\n",
       "      <td>566.0</td>\n",
       "      <td>5.820766e-11</td>\n",
       "      <td>0.0</td>\n",
       "      <td>0.0</td>\n",
       "      <td>4.998261</td>\n",
       "      <td>566.0</td>\n",
       "      <td>0.000000</td>\n",
       "      <td>566.0</td>\n",
       "      <td>0.000000e+00</td>\n",
       "      <td>0.0</td>\n",
       "      <td>0.0</td>\n",
       "      <td>4.999826</td>\n",
       "      <td>566.0</td>\n",
       "      <td>0.000011</td>\n",
       "      <td>566.0</td>\n",
       "      <td>1.164153e-10</td>\n",
       "      <td>0.0</td>\n",
       "      <td>0.0</td>\n",
       "      <td>4.914189</td>\n",
       "      <td>2.965969e+08</td>\n",
       "      <td>3.591969e+17</td>\n",
       "      <td>4.948239</td>\n",
       "      <td>2.985668e+08</td>\n",
       "      <td>3.609945e+17</td>\n",
       "      <td>4.982654</td>\n",
       "      <td>3.005420e+08</td>\n",
       "      <td>3.627891e+17</td>\n",
       "      <td>4.998261</td>\n",
       "      <td>3.014326e+08</td>\n",
       "      <td>3.635956e+17</td>\n",
       "      <td>4.999826</td>\n",
       "      <td>3.015217e+08</td>\n",
       "      <td>3.636762e+17</td>\n",
       "      <td>1.0</td>\n",
       "      <td>566.0</td>\n",
       "      <td>0.0</td>\n",
       "      <td>566.0</td>\n",
       "      <td>0.0</td>\n",
       "      <td>0.0</td>\n",
       "      <td>0.0</td>\n",
       "      <td>1.0</td>\n",
       "      <td>566.0</td>\n",
       "      <td>0.0</td>\n",
       "      <td>566.0</td>\n",
       "      <td>0.0</td>\n",
       "      <td>0.0</td>\n",
       "      <td>0.0</td>\n",
       "      <td>1.0</td>\n",
       "      <td>566.0</td>\n",
       "      <td>0.0</td>\n",
       "      <td>566.0</td>\n",
       "      <td>0.0</td>\n",
       "      <td>0.0</td>\n",
       "      <td>0.0</td>\n",
       "      <td>1.0</td>\n",
       "      <td>566.0</td>\n",
       "      <td>0.0</td>\n",
       "      <td>566.0</td>\n",
       "      <td>0.0</td>\n",
       "      <td>0.0</td>\n",
       "      <td>0.0</td>\n",
       "      <td>1.0</td>\n",
       "      <td>566.0</td>\n",
       "      <td>0.0</td>\n",
       "      <td>566.0</td>\n",
       "      <td>0.0</td>\n",
       "      <td>0.0</td>\n",
       "      <td>0.0</td>\n",
       "      <td>mirai-ack</td>\n",
       "    </tr>\n",
       "  </tbody>\n",
       "</table>\n",
       "</div>"
      ],
      "text/plain": [
       "   MI_dir_L5_weight  MI_dir_L5_mean  MI_dir_L5_variance  MI_dir_L3_weight  \\\n",
       "0          1.000000           566.0        0.000000e+00          1.000000   \n",
       "1          1.996585           566.0        5.820766e-11          1.997950   \n",
       "2          2.958989           566.0        0.000000e+00          2.975291   \n",
       "3          3.958979           566.0        0.000000e+00          3.975285   \n",
       "4          4.914189           566.0        1.164153e-10          4.948239   \n",
       "\n",
       "   MI_dir_L3_mean  MI_dir_L3_variance  MI_dir_L1_weight  MI_dir_L1_mean  \\\n",
       "0           566.0        0.000000e+00          1.000000           566.0   \n",
       "1           566.0        5.820766e-11          1.999316           566.0   \n",
       "2           566.0        5.820766e-11          2.991729           566.0   \n",
       "3           566.0        0.000000e+00          3.991727           566.0   \n",
       "4           566.0        5.820766e-11          4.982654           566.0   \n",
       "\n",
       "   MI_dir_L1_variance  MI_dir_L0.1_weight  MI_dir_L0.1_mean  \\\n",
       "0        0.000000e+00            1.000000             566.0   \n",
       "1        0.000000e+00            1.999932             566.0   \n",
       "2        5.820766e-11            2.999171             566.0   \n",
       "3        1.164153e-10            3.999171             566.0   \n",
       "4        5.820766e-11            4.998261             566.0   \n",
       "\n",
       "   MI_dir_L0.1_variance  MI_dir_L0.01_weight  MI_dir_L0.01_mean  \\\n",
       "0          0.000000e+00             1.000000              566.0   \n",
       "1          1.746230e-10             1.999993              566.0   \n",
       "2          0.000000e+00             2.999917              566.0   \n",
       "3          0.000000e+00             3.999917              566.0   \n",
       "4          0.000000e+00             4.999826              566.0   \n",
       "\n",
       "   MI_dir_L0.01_variance  H_L5_weight  H_L5_mean  H_L5_variance  H_L3_weight  \\\n",
       "0           0.000000e+00     1.000000      566.0   0.000000e+00     1.000000   \n",
       "1           1.164153e-10     1.996585      566.0   5.820766e-11     1.997950   \n",
       "2           5.820766e-11     2.958989      566.0   0.000000e+00     2.975291   \n",
       "3           1.164153e-10     3.958979      566.0   0.000000e+00     3.975285   \n",
       "4           1.164153e-10     4.914189      566.0   1.164153e-10     4.948239   \n",
       "\n",
       "   H_L3_mean  H_L3_variance  H_L1_weight  H_L1_mean  H_L1_variance  \\\n",
       "0      566.0   0.000000e+00     1.000000      566.0   0.000000e+00   \n",
       "1      566.0   5.820766e-11     1.999316      566.0   0.000000e+00   \n",
       "2      566.0   5.820766e-11     2.991729      566.0   5.820766e-11   \n",
       "3      566.0   0.000000e+00     3.991727      566.0   1.164153e-10   \n",
       "4      566.0   5.820766e-11     4.982654      566.0   5.820766e-11   \n",
       "\n",
       "   H_L0.1_weight  H_L0.1_mean  H_L0.1_variance  H_L0.01_weight  H_L0.01_mean  \\\n",
       "0       1.000000        566.0     0.000000e+00        1.000000         566.0   \n",
       "1       1.999932        566.0     1.746230e-10        1.999993         566.0   \n",
       "2       2.999171        566.0     0.000000e+00        2.999917         566.0   \n",
       "3       3.999171        566.0     0.000000e+00        3.999917         566.0   \n",
       "4       4.998261        566.0     0.000000e+00        4.999826         566.0   \n",
       "\n",
       "   H_L0.01_variance  HH_L5_weight  HH_L5_mean  HH_L5_std  HH_L5_magnitude  \\\n",
       "0      0.000000e+00      1.000000       566.0   0.000000            566.0   \n",
       "1      1.164153e-10      1.996585       566.0   0.000008            566.0   \n",
       "2      5.820766e-11      2.958989       566.0   0.000000            566.0   \n",
       "3      1.164153e-10      3.958979       566.0   0.000000            566.0   \n",
       "4      1.164153e-10      4.914189       566.0   0.000011            566.0   \n",
       "\n",
       "   HH_L5_radius  HH_L5_covariance  HH_L5_pcc  HH_L3_weight  HH_L3_mean  \\\n",
       "0  0.000000e+00               0.0        0.0      1.000000       566.0   \n",
       "1  5.820766e-11               0.0        0.0      1.997950       566.0   \n",
       "2  0.000000e+00               0.0        0.0      2.975291       566.0   \n",
       "3  0.000000e+00               0.0        0.0      3.975285       566.0   \n",
       "4  1.164153e-10               0.0        0.0      4.948239       566.0   \n",
       "\n",
       "   HH_L3_std  HH_L3_magnitude  HH_L3_radius  HH_L3_covariance  HH_L3_pcc  \\\n",
       "0   0.000000            566.0  0.000000e+00               0.0        0.0   \n",
       "1   0.000008            566.0  5.820766e-11               0.0        0.0   \n",
       "2   0.000008            566.0  5.820766e-11               0.0        0.0   \n",
       "3   0.000000            566.0  0.000000e+00               0.0        0.0   \n",
       "4   0.000008            566.0  5.820766e-11               0.0        0.0   \n",
       "\n",
       "   HH_L1_weight  HH_L1_mean  HH_L1_std  HH_L1_magnitude  HH_L1_radius  \\\n",
       "0      1.000000       566.0   0.000000            566.0  0.000000e+00   \n",
       "1      1.999316       566.0   0.000000            566.0  0.000000e+00   \n",
       "2      2.991729       566.0   0.000008            566.0  5.820766e-11   \n",
       "3      3.991727       566.0   0.000011            566.0  1.164153e-10   \n",
       "4      4.982654       566.0   0.000008            566.0  5.820766e-11   \n",
       "\n",
       "   HH_L1_covariance  HH_L1_pcc  HH_L0.1_weight  HH_L0.1_mean  HH_L0.1_std  \\\n",
       "0               0.0        0.0        1.000000         566.0     0.000000   \n",
       "1               0.0        0.0        1.999932         566.0     0.000013   \n",
       "2               0.0        0.0        2.999171         566.0     0.000000   \n",
       "3               0.0        0.0        3.999171         566.0     0.000000   \n",
       "4               0.0        0.0        4.998261         566.0     0.000000   \n",
       "\n",
       "   HH_L0.1_magnitude  HH_L0.1_radius  HH_L0.1_covariance  HH_L0.1_pcc  \\\n",
       "0              566.0    0.000000e+00                 0.0          0.0   \n",
       "1              566.0    1.746230e-10                 0.0          0.0   \n",
       "2              566.0    0.000000e+00                 0.0          0.0   \n",
       "3              566.0    0.000000e+00                 0.0          0.0   \n",
       "4              566.0    0.000000e+00                 0.0          0.0   \n",
       "\n",
       "   HH_L0.01_weight  HH_L0.01_mean  HH_L0.01_std  HH_L0.01_magnitude  \\\n",
       "0         1.000000          566.0      0.000000               566.0   \n",
       "1         1.999993          566.0      0.000011               566.0   \n",
       "2         2.999917          566.0      0.000008               566.0   \n",
       "3         3.999917          566.0      0.000011               566.0   \n",
       "4         4.999826          566.0      0.000011               566.0   \n",
       "\n",
       "   HH_L0.01_radius  HH_L0.01_covariance  HH_L0.01_pcc  HH_jit_L5_weight  \\\n",
       "0     0.000000e+00                  0.0           0.0          1.000000   \n",
       "1     1.164153e-10                  0.0           0.0          1.996585   \n",
       "2     5.820766e-11                  0.0           0.0          2.958989   \n",
       "3     1.164153e-10                  0.0           0.0          3.958979   \n",
       "4     1.164153e-10                  0.0           0.0          4.914189   \n",
       "\n",
       "   HH_jit_L5_mean  HH_jit_L5_variance  HH_jit_L3_weight  HH_jit_L3_mean  \\\n",
       "0    1.507658e+09        0.000000e+00          1.000000    1.507658e+09   \n",
       "1    7.525396e+08        5.682564e+17          1.997950    7.530553e+08   \n",
       "2    4.982164e+08        5.029203e+17          2.975291    4.999522e+08   \n",
       "3    3.723717e+08        4.227485e+17          3.975285    3.741871e+08   \n",
       "4    2.965969e+08        3.591969e+17          4.948239    2.985668e+08   \n",
       "\n",
       "   HH_jit_L3_variance  HH_jit_L1_weight  HH_jit_L1_mean  HH_jit_L1_variance  \\\n",
       "0        0.000000e+00          1.000000    1.507658e+09        0.000000e+00   \n",
       "1        5.682575e+17          1.999316    7.535711e+08        5.682580e+17   \n",
       "2        5.038047e+17          2.991729    5.016863e+08        5.046822e+17   \n",
       "3        4.241301e+17          3.991727    3.760048e+08        4.255070e+17   \n",
       "4        3.609945e+17          4.982654    3.005420e+08        3.627891e+17   \n",
       "\n",
       "   HH_jit_L0.1_weight  HH_jit_L0.1_mean  HH_jit_L0.1_variance  \\\n",
       "0            1.000000      1.507658e+09          0.000000e+00   \n",
       "1            1.999932      7.538032e+08          5.682581e+17   \n",
       "2            2.999171      5.024660e+08          5.050748e+17   \n",
       "3            3.999171      3.768235e+08          4.261250e+17   \n",
       "4            4.998261      3.014326e+08          3.635956e+17   \n",
       "\n",
       "   HH_jit_L0.01_weight  HH_jit_L0.01_mean  HH_jit_L0.01_variance  \\\n",
       "0             1.000000       1.507658e+09           0.000000e+00   \n",
       "1             1.999993       7.538264e+08           5.682581e+17   \n",
       "2             2.999917       5.025440e+08           5.051139e+17   \n",
       "3             3.999917       3.769054e+08           4.261867e+17   \n",
       "4             4.999826       3.015217e+08           3.636762e+17   \n",
       "\n",
       "   HpHp_L5_weight  HpHp_L5_mean  HpHp_L5_std  HpHp_L5_magnitude  \\\n",
       "0             1.0         566.0          0.0              566.0   \n",
       "1             1.0         566.0          0.0              566.0   \n",
       "2             1.0         566.0          0.0              566.0   \n",
       "3             1.0         566.0          0.0              566.0   \n",
       "4             1.0         566.0          0.0              566.0   \n",
       "\n",
       "   HpHp_L5_radius  HpHp_L5_covariance  HpHp_L5_pcc  HpHp_L3_weight  \\\n",
       "0             0.0                 0.0          0.0             1.0   \n",
       "1             0.0                 0.0          0.0             1.0   \n",
       "2             0.0                 0.0          0.0             1.0   \n",
       "3             0.0                 0.0          0.0             1.0   \n",
       "4             0.0                 0.0          0.0             1.0   \n",
       "\n",
       "   HpHp_L3_mean  HpHp_L3_std  HpHp_L3_magnitude  HpHp_L3_radius  \\\n",
       "0         566.0          0.0              566.0             0.0   \n",
       "1         566.0          0.0              566.0             0.0   \n",
       "2         566.0          0.0              566.0             0.0   \n",
       "3         566.0          0.0              566.0             0.0   \n",
       "4         566.0          0.0              566.0             0.0   \n",
       "\n",
       "   HpHp_L3_covariance  HpHp_L3_pcc  HpHp_L1_weight  HpHp_L1_mean  HpHp_L1_std  \\\n",
       "0                 0.0          0.0             1.0         566.0          0.0   \n",
       "1                 0.0          0.0             1.0         566.0          0.0   \n",
       "2                 0.0          0.0             1.0         566.0          0.0   \n",
       "3                 0.0          0.0             1.0         566.0          0.0   \n",
       "4                 0.0          0.0             1.0         566.0          0.0   \n",
       "\n",
       "   HpHp_L1_magnitude  HpHp_L1_radius  HpHp_L1_covariance  HpHp_L1_pcc  \\\n",
       "0              566.0             0.0                 0.0          0.0   \n",
       "1              566.0             0.0                 0.0          0.0   \n",
       "2              566.0             0.0                 0.0          0.0   \n",
       "3              566.0             0.0                 0.0          0.0   \n",
       "4              566.0             0.0                 0.0          0.0   \n",
       "\n",
       "   HpHp_L0.1_weight  HpHp_L0.1_mean  HpHp_L0.1_std  HpHp_L0.1_magnitude  \\\n",
       "0               1.0           566.0            0.0                566.0   \n",
       "1               1.0           566.0            0.0                566.0   \n",
       "2               1.0           566.0            0.0                566.0   \n",
       "3               1.0           566.0            0.0                566.0   \n",
       "4               1.0           566.0            0.0                566.0   \n",
       "\n",
       "   HpHp_L0.1_radius  HpHp_L0.1_covariance  HpHp_L0.1_pcc  HpHp_L0.01_weight  \\\n",
       "0               0.0                   0.0            0.0                1.0   \n",
       "1               0.0                   0.0            0.0                1.0   \n",
       "2               0.0                   0.0            0.0                1.0   \n",
       "3               0.0                   0.0            0.0                1.0   \n",
       "4               0.0                   0.0            0.0                1.0   \n",
       "\n",
       "   HpHp_L0.01_mean  HpHp_L0.01_std  HpHp_L0.01_magnitude  HpHp_L0.01_radius  \\\n",
       "0            566.0             0.0                 566.0                0.0   \n",
       "1            566.0             0.0                 566.0                0.0   \n",
       "2            566.0             0.0                 566.0                0.0   \n",
       "3            566.0             0.0                 566.0                0.0   \n",
       "4            566.0             0.0                 566.0                0.0   \n",
       "\n",
       "   HpHp_L0.01_covariance  HpHp_L0.01_pcc     target  \n",
       "0                    0.0             0.0  mirai-ack  \n",
       "1                    0.0             0.0  mirai-ack  \n",
       "2                    0.0             0.0  mirai-ack  \n",
       "3                    0.0             0.0  mirai-ack  \n",
       "4                    0.0             0.0  mirai-ack  "
      ]
     },
     "execution_count": 61,
     "metadata": {},
     "output_type": "execute_result"
    }
   ],
   "source": [
    "df.head()"
   ]
  },
  {
   "cell_type": "code",
   "execution_count": 62,
   "metadata": {},
   "outputs": [
    {
     "name": "stdout",
     "output_type": "stream",
     "text": [
      "<class 'pandas.core.frame.DataFrame'>\n",
      "Index: 1018298 entries, 0 to 49547\n",
      "Columns: 116 entries, MI_dir_L5_weight to target\n",
      "dtypes: float64(115), object(1)\n",
      "memory usage: 909.0+ MB\n"
     ]
    }
   ],
   "source": [
    "df.info()"
   ]
  },
  {
   "cell_type": "code",
   "execution_count": 63,
   "metadata": {},
   "outputs": [],
   "source": [
    "pd.set_option('display.float_format', lambda x: '%.3f' % x)"
   ]
  },
  {
   "cell_type": "code",
   "execution_count": 64,
   "metadata": {},
   "outputs": [
    {
     "data": {
      "text/html": [
       "<div>\n",
       "<style scoped>\n",
       "    .dataframe tbody tr th:only-of-type {\n",
       "        vertical-align: middle;\n",
       "    }\n",
       "\n",
       "    .dataframe tbody tr th {\n",
       "        vertical-align: top;\n",
       "    }\n",
       "\n",
       "    .dataframe thead th {\n",
       "        text-align: right;\n",
       "    }\n",
       "</style>\n",
       "<table border=\"1\" class=\"dataframe\">\n",
       "  <thead>\n",
       "    <tr style=\"text-align: right;\">\n",
       "      <th></th>\n",
       "      <th>MI_dir_L5_weight</th>\n",
       "      <th>MI_dir_L5_mean</th>\n",
       "      <th>MI_dir_L5_variance</th>\n",
       "      <th>MI_dir_L3_weight</th>\n",
       "      <th>MI_dir_L3_mean</th>\n",
       "      <th>MI_dir_L3_variance</th>\n",
       "      <th>MI_dir_L1_weight</th>\n",
       "      <th>MI_dir_L1_mean</th>\n",
       "      <th>MI_dir_L1_variance</th>\n",
       "      <th>MI_dir_L0.1_weight</th>\n",
       "      <th>MI_dir_L0.1_mean</th>\n",
       "      <th>MI_dir_L0.1_variance</th>\n",
       "      <th>MI_dir_L0.01_weight</th>\n",
       "      <th>MI_dir_L0.01_mean</th>\n",
       "      <th>MI_dir_L0.01_variance</th>\n",
       "      <th>H_L5_weight</th>\n",
       "      <th>H_L5_mean</th>\n",
       "      <th>H_L5_variance</th>\n",
       "      <th>H_L3_weight</th>\n",
       "      <th>H_L3_mean</th>\n",
       "      <th>H_L3_variance</th>\n",
       "      <th>H_L1_weight</th>\n",
       "      <th>H_L1_mean</th>\n",
       "      <th>H_L1_variance</th>\n",
       "      <th>H_L0.1_weight</th>\n",
       "      <th>H_L0.1_mean</th>\n",
       "      <th>H_L0.1_variance</th>\n",
       "      <th>H_L0.01_weight</th>\n",
       "      <th>H_L0.01_mean</th>\n",
       "      <th>H_L0.01_variance</th>\n",
       "      <th>HH_L5_weight</th>\n",
       "      <th>HH_L5_mean</th>\n",
       "      <th>HH_L5_std</th>\n",
       "      <th>HH_L5_magnitude</th>\n",
       "      <th>HH_L5_radius</th>\n",
       "      <th>HH_L5_covariance</th>\n",
       "      <th>HH_L5_pcc</th>\n",
       "      <th>HH_L3_weight</th>\n",
       "      <th>HH_L3_mean</th>\n",
       "      <th>HH_L3_std</th>\n",
       "      <th>HH_L3_magnitude</th>\n",
       "      <th>HH_L3_radius</th>\n",
       "      <th>HH_L3_covariance</th>\n",
       "      <th>HH_L3_pcc</th>\n",
       "      <th>HH_L1_weight</th>\n",
       "      <th>HH_L1_mean</th>\n",
       "      <th>HH_L1_std</th>\n",
       "      <th>HH_L1_magnitude</th>\n",
       "      <th>HH_L1_radius</th>\n",
       "      <th>HH_L1_covariance</th>\n",
       "      <th>HH_L1_pcc</th>\n",
       "      <th>HH_L0.1_weight</th>\n",
       "      <th>HH_L0.1_mean</th>\n",
       "      <th>HH_L0.1_std</th>\n",
       "      <th>HH_L0.1_magnitude</th>\n",
       "      <th>HH_L0.1_radius</th>\n",
       "      <th>HH_L0.1_covariance</th>\n",
       "      <th>HH_L0.1_pcc</th>\n",
       "      <th>HH_L0.01_weight</th>\n",
       "      <th>HH_L0.01_mean</th>\n",
       "      <th>HH_L0.01_std</th>\n",
       "      <th>HH_L0.01_magnitude</th>\n",
       "      <th>HH_L0.01_radius</th>\n",
       "      <th>HH_L0.01_covariance</th>\n",
       "      <th>HH_L0.01_pcc</th>\n",
       "      <th>HH_jit_L5_weight</th>\n",
       "      <th>HH_jit_L5_mean</th>\n",
       "      <th>HH_jit_L5_variance</th>\n",
       "      <th>HH_jit_L3_weight</th>\n",
       "      <th>HH_jit_L3_mean</th>\n",
       "      <th>HH_jit_L3_variance</th>\n",
       "      <th>HH_jit_L1_weight</th>\n",
       "      <th>HH_jit_L1_mean</th>\n",
       "      <th>HH_jit_L1_variance</th>\n",
       "      <th>HH_jit_L0.1_weight</th>\n",
       "      <th>HH_jit_L0.1_mean</th>\n",
       "      <th>HH_jit_L0.1_variance</th>\n",
       "      <th>HH_jit_L0.01_weight</th>\n",
       "      <th>HH_jit_L0.01_mean</th>\n",
       "      <th>HH_jit_L0.01_variance</th>\n",
       "      <th>HpHp_L5_weight</th>\n",
       "      <th>HpHp_L5_mean</th>\n",
       "      <th>HpHp_L5_std</th>\n",
       "      <th>HpHp_L5_magnitude</th>\n",
       "      <th>HpHp_L5_radius</th>\n",
       "      <th>HpHp_L5_covariance</th>\n",
       "      <th>HpHp_L5_pcc</th>\n",
       "      <th>HpHp_L3_weight</th>\n",
       "      <th>HpHp_L3_mean</th>\n",
       "      <th>HpHp_L3_std</th>\n",
       "      <th>HpHp_L3_magnitude</th>\n",
       "      <th>HpHp_L3_radius</th>\n",
       "      <th>HpHp_L3_covariance</th>\n",
       "      <th>HpHp_L3_pcc</th>\n",
       "      <th>HpHp_L1_weight</th>\n",
       "      <th>HpHp_L1_mean</th>\n",
       "      <th>HpHp_L1_std</th>\n",
       "      <th>HpHp_L1_magnitude</th>\n",
       "      <th>HpHp_L1_radius</th>\n",
       "      <th>HpHp_L1_covariance</th>\n",
       "      <th>HpHp_L1_pcc</th>\n",
       "      <th>HpHp_L0.1_weight</th>\n",
       "      <th>HpHp_L0.1_mean</th>\n",
       "      <th>HpHp_L0.1_std</th>\n",
       "      <th>HpHp_L0.1_magnitude</th>\n",
       "      <th>HpHp_L0.1_radius</th>\n",
       "      <th>HpHp_L0.1_covariance</th>\n",
       "      <th>HpHp_L0.1_pcc</th>\n",
       "      <th>HpHp_L0.01_weight</th>\n",
       "      <th>HpHp_L0.01_mean</th>\n",
       "      <th>HpHp_L0.01_std</th>\n",
       "      <th>HpHp_L0.01_magnitude</th>\n",
       "      <th>HpHp_L0.01_radius</th>\n",
       "      <th>HpHp_L0.01_covariance</th>\n",
       "      <th>HpHp_L0.01_pcc</th>\n",
       "    </tr>\n",
       "  </thead>\n",
       "  <tbody>\n",
       "    <tr>\n",
       "      <th>count</th>\n",
       "      <td>1018298.000</td>\n",
       "      <td>1018298.000</td>\n",
       "      <td>1018298.000</td>\n",
       "      <td>1018298.000</td>\n",
       "      <td>1018298.000</td>\n",
       "      <td>1018298.000</td>\n",
       "      <td>1018298.000</td>\n",
       "      <td>1018298.000</td>\n",
       "      <td>1018298.000</td>\n",
       "      <td>1018298.000</td>\n",
       "      <td>1018298.000</td>\n",
       "      <td>1018298.000</td>\n",
       "      <td>1018298.000</td>\n",
       "      <td>1018298.000</td>\n",
       "      <td>1018298.000</td>\n",
       "      <td>1018298.000</td>\n",
       "      <td>1018298.000</td>\n",
       "      <td>1018298.000</td>\n",
       "      <td>1018298.000</td>\n",
       "      <td>1018298.000</td>\n",
       "      <td>1018298.000</td>\n",
       "      <td>1018298.000</td>\n",
       "      <td>1018298.000</td>\n",
       "      <td>1018298.000</td>\n",
       "      <td>1018298.000</td>\n",
       "      <td>1018298.000</td>\n",
       "      <td>1018298.000</td>\n",
       "      <td>1018298.000</td>\n",
       "      <td>1018298.000</td>\n",
       "      <td>1018298.000</td>\n",
       "      <td>1018298.000</td>\n",
       "      <td>1018298.000</td>\n",
       "      <td>1018298.000</td>\n",
       "      <td>1018298.000</td>\n",
       "      <td>1018298.000</td>\n",
       "      <td>1018298.000</td>\n",
       "      <td>1018298.000</td>\n",
       "      <td>1018298.000</td>\n",
       "      <td>1018298.000</td>\n",
       "      <td>1018298.000</td>\n",
       "      <td>1018298.000</td>\n",
       "      <td>1018298.000</td>\n",
       "      <td>1018298.000</td>\n",
       "      <td>1018298.000</td>\n",
       "      <td>1018298.000</td>\n",
       "      <td>1018298.000</td>\n",
       "      <td>1018298.000</td>\n",
       "      <td>1018298.000</td>\n",
       "      <td>1018298.000</td>\n",
       "      <td>1018298.000</td>\n",
       "      <td>1018298.000</td>\n",
       "      <td>1018298.000</td>\n",
       "      <td>1018298.000</td>\n",
       "      <td>1018298.000</td>\n",
       "      <td>1018298.000</td>\n",
       "      <td>1018298.000</td>\n",
       "      <td>1018298.000</td>\n",
       "      <td>1018298.000</td>\n",
       "      <td>1018298.000</td>\n",
       "      <td>1018298.000</td>\n",
       "      <td>1018298.000</td>\n",
       "      <td>1018298.000</td>\n",
       "      <td>1018298.000</td>\n",
       "      <td>1018298.000</td>\n",
       "      <td>1018298.000</td>\n",
       "      <td>1018298.000</td>\n",
       "      <td>1018298.000</td>\n",
       "      <td>1018298.000</td>\n",
       "      <td>1018298.000</td>\n",
       "      <td>1018298.000</td>\n",
       "      <td>1018298.000</td>\n",
       "      <td>1018298.000</td>\n",
       "      <td>1018298.000</td>\n",
       "      <td>1018298.000</td>\n",
       "      <td>1018298.000</td>\n",
       "      <td>1018298.000</td>\n",
       "      <td>1018298.000</td>\n",
       "      <td>1018298.000</td>\n",
       "      <td>1018298.000</td>\n",
       "      <td>1018298.000</td>\n",
       "      <td>1018298.000</td>\n",
       "      <td>1018298.000</td>\n",
       "      <td>1018298.000</td>\n",
       "      <td>1018298.000</td>\n",
       "      <td>1018298.000</td>\n",
       "      <td>1018298.000</td>\n",
       "      <td>1018298.000</td>\n",
       "      <td>1018298.000</td>\n",
       "      <td>1018298.000</td>\n",
       "      <td>1018298.000</td>\n",
       "      <td>1018298.000</td>\n",
       "      <td>1018298.000</td>\n",
       "      <td>1018298.000</td>\n",
       "      <td>1018298.000</td>\n",
       "      <td>1018298.000</td>\n",
       "      <td>1018298.000</td>\n",
       "      <td>1018298.000</td>\n",
       "      <td>1018298.000</td>\n",
       "      <td>1018298.000</td>\n",
       "      <td>1018298.000</td>\n",
       "      <td>1018298.000</td>\n",
       "      <td>1018298.000</td>\n",
       "      <td>1018298.000</td>\n",
       "      <td>1018298.000</td>\n",
       "      <td>1018298.000</td>\n",
       "      <td>1018298.000</td>\n",
       "      <td>1018298.000</td>\n",
       "      <td>1018298.000</td>\n",
       "      <td>1018298.000</td>\n",
       "      <td>1018298.000</td>\n",
       "      <td>1018298.000</td>\n",
       "      <td>1018298.000</td>\n",
       "      <td>1018298.000</td>\n",
       "      <td>1018298.000</td>\n",
       "      <td>1018298.000</td>\n",
       "    </tr>\n",
       "    <tr>\n",
       "      <th>mean</th>\n",
       "      <td>94.797</td>\n",
       "      <td>192.719</td>\n",
       "      <td>19701.328</td>\n",
       "      <td>150.297</td>\n",
       "      <td>193.484</td>\n",
       "      <td>22001.748</td>\n",
       "      <td>432.826</td>\n",
       "      <td>194.733</td>\n",
       "      <td>23489.699</td>\n",
       "      <td>4118.614</td>\n",
       "      <td>195.431</td>\n",
       "      <td>23640.506</td>\n",
       "      <td>26313.870</td>\n",
       "      <td>195.374</td>\n",
       "      <td>23634.277</td>\n",
       "      <td>94.797</td>\n",
       "      <td>192.719</td>\n",
       "      <td>19701.328</td>\n",
       "      <td>150.297</td>\n",
       "      <td>193.484</td>\n",
       "      <td>22001.748</td>\n",
       "      <td>432.826</td>\n",
       "      <td>194.733</td>\n",
       "      <td>23489.699</td>\n",
       "      <td>4118.614</td>\n",
       "      <td>195.431</td>\n",
       "      <td>23640.507</td>\n",
       "      <td>26313.870</td>\n",
       "      <td>195.374</td>\n",
       "      <td>23634.277</td>\n",
       "      <td>44.320</td>\n",
       "      <td>195.404</td>\n",
       "      <td>0.233</td>\n",
       "      <td>199.311</td>\n",
       "      <td>14.040</td>\n",
       "      <td>0.030</td>\n",
       "      <td>0.000</td>\n",
       "      <td>72.265</td>\n",
       "      <td>195.403</td>\n",
       "      <td>0.304</td>\n",
       "      <td>199.311</td>\n",
       "      <td>14.372</td>\n",
       "      <td>0.040</td>\n",
       "      <td>0.000</td>\n",
       "      <td>211.431</td>\n",
       "      <td>195.409</td>\n",
       "      <td>0.575</td>\n",
       "      <td>199.319</td>\n",
       "      <td>17.283</td>\n",
       "      <td>0.079</td>\n",
       "      <td>0.000</td>\n",
       "      <td>1954.950</td>\n",
       "      <td>195.457</td>\n",
       "      <td>1.532</td>\n",
       "      <td>199.380</td>\n",
       "      <td>64.548</td>\n",
       "      <td>2.837</td>\n",
       "      <td>0.002</td>\n",
       "      <td>11232.042</td>\n",
       "      <td>195.415</td>\n",
       "      <td>1.734</td>\n",
       "      <td>199.334</td>\n",
       "      <td>97.286</td>\n",
       "      <td>8.879</td>\n",
       "      <td>0.004</td>\n",
       "      <td>44.320</td>\n",
       "      <td>749989910.154</td>\n",
       "      <td>53736291469916.281</td>\n",
       "      <td>72.265</td>\n",
       "      <td>750023098.506</td>\n",
       "      <td>97971748241922.391</td>\n",
       "      <td>211.431</td>\n",
       "      <td>751487909.398</td>\n",
       "      <td>2052430010701021.000</td>\n",
       "      <td>1954.950</td>\n",
       "      <td>759272953.846</td>\n",
       "      <td>8855193332385092.000</td>\n",
       "      <td>11232.042</td>\n",
       "      <td>761270343.268</td>\n",
       "      <td>9961963931961558.000</td>\n",
       "      <td>3.612</td>\n",
       "      <td>195.407</td>\n",
       "      <td>0.007</td>\n",
       "      <td>198.140</td>\n",
       "      <td>0.931</td>\n",
       "      <td>0.028</td>\n",
       "      <td>0.000</td>\n",
       "      <td>5.294</td>\n",
       "      <td>195.406</td>\n",
       "      <td>0.007</td>\n",
       "      <td>198.140</td>\n",
       "      <td>1.076</td>\n",
       "      <td>0.035</td>\n",
       "      <td>0.000</td>\n",
       "      <td>13.718</td>\n",
       "      <td>195.405</td>\n",
       "      <td>0.009</td>\n",
       "      <td>198.137</td>\n",
       "      <td>1.373</td>\n",
       "      <td>0.050</td>\n",
       "      <td>0.000</td>\n",
       "      <td>126.345</td>\n",
       "      <td>195.412</td>\n",
       "      <td>0.026</td>\n",
       "      <td>198.118</td>\n",
       "      <td>24.036</td>\n",
       "      <td>3.219</td>\n",
       "      <td>0.000</td>\n",
       "      <td>740.554</td>\n",
       "      <td>195.414</td>\n",
       "      <td>0.032</td>\n",
       "      <td>198.105</td>\n",
       "      <td>36.692</td>\n",
       "      <td>8.478</td>\n",
       "      <td>0.000</td>\n",
       "    </tr>\n",
       "    <tr>\n",
       "      <th>std</th>\n",
       "      <td>63.801</td>\n",
       "      <td>163.155</td>\n",
       "      <td>25175.578</td>\n",
       "      <td>101.088</td>\n",
       "      <td>156.504</td>\n",
       "      <td>26765.186</td>\n",
       "      <td>293.389</td>\n",
       "      <td>152.569</td>\n",
       "      <td>27882.891</td>\n",
       "      <td>2805.190</td>\n",
       "      <td>152.510</td>\n",
       "      <td>27958.240</td>\n",
       "      <td>21207.173</td>\n",
       "      <td>152.603</td>\n",
       "      <td>27955.432</td>\n",
       "      <td>63.801</td>\n",
       "      <td>163.155</td>\n",
       "      <td>25175.578</td>\n",
       "      <td>101.088</td>\n",
       "      <td>156.504</td>\n",
       "      <td>26765.186</td>\n",
       "      <td>293.389</td>\n",
       "      <td>152.569</td>\n",
       "      <td>27882.891</td>\n",
       "      <td>2805.190</td>\n",
       "      <td>152.510</td>\n",
       "      <td>27958.240</td>\n",
       "      <td>21207.173</td>\n",
       "      <td>152.603</td>\n",
       "      <td>27955.432</td>\n",
       "      <td>55.167</td>\n",
       "      <td>216.602</td>\n",
       "      <td>2.778</td>\n",
       "      <td>215.422</td>\n",
       "      <td>1611.938</td>\n",
       "      <td>9.829</td>\n",
       "      <td>0.003</td>\n",
       "      <td>90.081</td>\n",
       "      <td>216.600</td>\n",
       "      <td>2.831</td>\n",
       "      <td>215.422</td>\n",
       "      <td>1571.105</td>\n",
       "      <td>11.546</td>\n",
       "      <td>0.005</td>\n",
       "      <td>263.712</td>\n",
       "      <td>216.592</td>\n",
       "      <td>3.159</td>\n",
       "      <td>215.415</td>\n",
       "      <td>1567.348</td>\n",
       "      <td>16.263</td>\n",
       "      <td>0.012</td>\n",
       "      <td>2390.892</td>\n",
       "      <td>216.548</td>\n",
       "      <td>4.259</td>\n",
       "      <td>215.273</td>\n",
       "      <td>3608.442</td>\n",
       "      <td>355.575</td>\n",
       "      <td>0.037</td>\n",
       "      <td>14707.593</td>\n",
       "      <td>216.563</td>\n",
       "      <td>4.567</td>\n",
       "      <td>215.176</td>\n",
       "      <td>5304.775</td>\n",
       "      <td>684.817</td>\n",
       "      <td>0.042</td>\n",
       "      <td>55.167</td>\n",
       "      <td>753426563.638</td>\n",
       "      <td>4797146360148179.000</td>\n",
       "      <td>90.081</td>\n",
       "      <td>753397337.633</td>\n",
       "      <td>5177431229248409.000</td>\n",
       "      <td>263.712</td>\n",
       "      <td>752103414.460</td>\n",
       "      <td>21489852695206476.000</td>\n",
       "      <td>2390.892</td>\n",
       "      <td>747542008.522</td>\n",
       "      <td>65261459940959248.000</td>\n",
       "      <td>14707.593</td>\n",
       "      <td>746781845.512</td>\n",
       "      <td>71308149292540720.000</td>\n",
       "      <td>12.267</td>\n",
       "      <td>216.620</td>\n",
       "      <td>0.858</td>\n",
       "      <td>216.038</td>\n",
       "      <td>161.268</td>\n",
       "      <td>9.769</td>\n",
       "      <td>0.002</td>\n",
       "      <td>19.986</td>\n",
       "      <td>216.619</td>\n",
       "      <td>0.915</td>\n",
       "      <td>216.038</td>\n",
       "      <td>170.478</td>\n",
       "      <td>11.121</td>\n",
       "      <td>0.002</td>\n",
       "      <td>58.693</td>\n",
       "      <td>216.619</td>\n",
       "      <td>1.001</td>\n",
       "      <td>216.036</td>\n",
       "      <td>190.913</td>\n",
       "      <td>13.233</td>\n",
       "      <td>0.002</td>\n",
       "      <td>577.367</td>\n",
       "      <td>216.615</td>\n",
       "      <td>1.877</td>\n",
       "      <td>215.939</td>\n",
       "      <td>2098.942</td>\n",
       "      <td>329.606</td>\n",
       "      <td>0.007</td>\n",
       "      <td>3591.651</td>\n",
       "      <td>216.615</td>\n",
       "      <td>2.090</td>\n",
       "      <td>215.879</td>\n",
       "      <td>3161.461</td>\n",
       "      <td>832.343</td>\n",
       "      <td>0.013</td>\n",
       "    </tr>\n",
       "    <tr>\n",
       "      <th>min</th>\n",
       "      <td>1.000</td>\n",
       "      <td>60.000</td>\n",
       "      <td>0.000</td>\n",
       "      <td>1.000</td>\n",
       "      <td>60.000</td>\n",
       "      <td>0.000</td>\n",
       "      <td>1.000</td>\n",
       "      <td>60.000</td>\n",
       "      <td>0.000</td>\n",
       "      <td>1.000</td>\n",
       "      <td>60.000</td>\n",
       "      <td>0.000</td>\n",
       "      <td>1.000</td>\n",
       "      <td>60.000</td>\n",
       "      <td>0.000</td>\n",
       "      <td>1.000</td>\n",
       "      <td>60.000</td>\n",
       "      <td>0.000</td>\n",
       "      <td>1.000</td>\n",
       "      <td>60.000</td>\n",
       "      <td>0.000</td>\n",
       "      <td>1.000</td>\n",
       "      <td>60.000</td>\n",
       "      <td>0.000</td>\n",
       "      <td>1.000</td>\n",
       "      <td>60.000</td>\n",
       "      <td>0.000</td>\n",
       "      <td>1.000</td>\n",
       "      <td>60.000</td>\n",
       "      <td>0.000</td>\n",
       "      <td>1.000</td>\n",
       "      <td>60.000</td>\n",
       "      <td>0.000</td>\n",
       "      <td>60.000</td>\n",
       "      <td>0.000</td>\n",
       "      <td>-1763.194</td>\n",
       "      <td>-0.484</td>\n",
       "      <td>1.000</td>\n",
       "      <td>60.000</td>\n",
       "      <td>0.000</td>\n",
       "      <td>60.000</td>\n",
       "      <td>0.000</td>\n",
       "      <td>-1816.625</td>\n",
       "      <td>-0.490</td>\n",
       "      <td>1.000</td>\n",
       "      <td>60.000</td>\n",
       "      <td>0.000</td>\n",
       "      <td>60.000</td>\n",
       "      <td>0.000</td>\n",
       "      <td>-4077.541</td>\n",
       "      <td>-0.497</td>\n",
       "      <td>1.000</td>\n",
       "      <td>60.000</td>\n",
       "      <td>0.000</td>\n",
       "      <td>60.000</td>\n",
       "      <td>0.000</td>\n",
       "      <td>-84674.509</td>\n",
       "      <td>-0.676</td>\n",
       "      <td>1.000</td>\n",
       "      <td>60.000</td>\n",
       "      <td>0.000</td>\n",
       "      <td>60.000</td>\n",
       "      <td>0.000</td>\n",
       "      <td>-23828.772</td>\n",
       "      <td>-0.572</td>\n",
       "      <td>1.000</td>\n",
       "      <td>0.001</td>\n",
       "      <td>0.000</td>\n",
       "      <td>1.000</td>\n",
       "      <td>0.001</td>\n",
       "      <td>0.000</td>\n",
       "      <td>1.000</td>\n",
       "      <td>0.002</td>\n",
       "      <td>0.000</td>\n",
       "      <td>1.000</td>\n",
       "      <td>0.003</td>\n",
       "      <td>0.000</td>\n",
       "      <td>1.000</td>\n",
       "      <td>9.310</td>\n",
       "      <td>0.000</td>\n",
       "      <td>1.000</td>\n",
       "      <td>60.000</td>\n",
       "      <td>0.000</td>\n",
       "      <td>60.000</td>\n",
       "      <td>0.000</td>\n",
       "      <td>-1766.226</td>\n",
       "      <td>-0.532</td>\n",
       "      <td>1.000</td>\n",
       "      <td>60.000</td>\n",
       "      <td>0.000</td>\n",
       "      <td>60.000</td>\n",
       "      <td>0.000</td>\n",
       "      <td>-1592.623</td>\n",
       "      <td>-0.536</td>\n",
       "      <td>1.000</td>\n",
       "      <td>60.000</td>\n",
       "      <td>0.000</td>\n",
       "      <td>60.000</td>\n",
       "      <td>0.000</td>\n",
       "      <td>-1085.807</td>\n",
       "      <td>-0.540</td>\n",
       "      <td>1.000</td>\n",
       "      <td>60.000</td>\n",
       "      <td>0.000</td>\n",
       "      <td>60.000</td>\n",
       "      <td>0.000</td>\n",
       "      <td>-4338.246</td>\n",
       "      <td>-0.541</td>\n",
       "      <td>1.000</td>\n",
       "      <td>60.000</td>\n",
       "      <td>0.000</td>\n",
       "      <td>60.000</td>\n",
       "      <td>0.000</td>\n",
       "      <td>-1017.176</td>\n",
       "      <td>-0.542</td>\n",
       "    </tr>\n",
       "    <tr>\n",
       "      <th>25%</th>\n",
       "      <td>11.243</td>\n",
       "      <td>60.000</td>\n",
       "      <td>0.000</td>\n",
       "      <td>26.615</td>\n",
       "      <td>60.000</td>\n",
       "      <td>0.000</td>\n",
       "      <td>86.974</td>\n",
       "      <td>60.007</td>\n",
       "      <td>0.057</td>\n",
       "      <td>796.280</td>\n",
       "      <td>60.019</td>\n",
       "      <td>0.610</td>\n",
       "      <td>2849.159</td>\n",
       "      <td>60.020</td>\n",
       "      <td>0.699</td>\n",
       "      <td>11.243</td>\n",
       "      <td>60.000</td>\n",
       "      <td>0.000</td>\n",
       "      <td>26.615</td>\n",
       "      <td>60.000</td>\n",
       "      <td>0.000</td>\n",
       "      <td>86.974</td>\n",
       "      <td>60.007</td>\n",
       "      <td>0.057</td>\n",
       "      <td>796.280</td>\n",
       "      <td>60.019</td>\n",
       "      <td>0.610</td>\n",
       "      <td>2849.159</td>\n",
       "      <td>60.020</td>\n",
       "      <td>0.699</td>\n",
       "      <td>1.000</td>\n",
       "      <td>60.000</td>\n",
       "      <td>0.000</td>\n",
       "      <td>60.000</td>\n",
       "      <td>0.000</td>\n",
       "      <td>0.000</td>\n",
       "      <td>0.000</td>\n",
       "      <td>1.000</td>\n",
       "      <td>60.000</td>\n",
       "      <td>0.000</td>\n",
       "      <td>60.000</td>\n",
       "      <td>0.000</td>\n",
       "      <td>0.000</td>\n",
       "      <td>0.000</td>\n",
       "      <td>1.000</td>\n",
       "      <td>60.000</td>\n",
       "      <td>0.000</td>\n",
       "      <td>60.000</td>\n",
       "      <td>0.000</td>\n",
       "      <td>0.000</td>\n",
       "      <td>0.000</td>\n",
       "      <td>1.000</td>\n",
       "      <td>60.000</td>\n",
       "      <td>0.000</td>\n",
       "      <td>60.000</td>\n",
       "      <td>0.000</td>\n",
       "      <td>0.000</td>\n",
       "      <td>0.000</td>\n",
       "      <td>1.000</td>\n",
       "      <td>60.000</td>\n",
       "      <td>0.000</td>\n",
       "      <td>60.000</td>\n",
       "      <td>0.000</td>\n",
       "      <td>0.000</td>\n",
       "      <td>0.000</td>\n",
       "      <td>1.000</td>\n",
       "      <td>0.003</td>\n",
       "      <td>0.000</td>\n",
       "      <td>1.000</td>\n",
       "      <td>0.003</td>\n",
       "      <td>0.000</td>\n",
       "      <td>1.000</td>\n",
       "      <td>0.004</td>\n",
       "      <td>0.000</td>\n",
       "      <td>1.000</td>\n",
       "      <td>38.994</td>\n",
       "      <td>0.000</td>\n",
       "      <td>1.000</td>\n",
       "      <td>18758.738</td>\n",
       "      <td>0.000</td>\n",
       "      <td>1.000</td>\n",
       "      <td>60.000</td>\n",
       "      <td>0.000</td>\n",
       "      <td>60.000</td>\n",
       "      <td>0.000</td>\n",
       "      <td>0.000</td>\n",
       "      <td>0.000</td>\n",
       "      <td>1.000</td>\n",
       "      <td>60.000</td>\n",
       "      <td>0.000</td>\n",
       "      <td>60.000</td>\n",
       "      <td>0.000</td>\n",
       "      <td>0.000</td>\n",
       "      <td>0.000</td>\n",
       "      <td>1.000</td>\n",
       "      <td>60.000</td>\n",
       "      <td>0.000</td>\n",
       "      <td>60.000</td>\n",
       "      <td>0.000</td>\n",
       "      <td>0.000</td>\n",
       "      <td>0.000</td>\n",
       "      <td>1.000</td>\n",
       "      <td>60.000</td>\n",
       "      <td>0.000</td>\n",
       "      <td>60.000</td>\n",
       "      <td>0.000</td>\n",
       "      <td>0.000</td>\n",
       "      <td>0.000</td>\n",
       "      <td>1.000</td>\n",
       "      <td>60.000</td>\n",
       "      <td>0.000</td>\n",
       "      <td>60.000</td>\n",
       "      <td>0.000</td>\n",
       "      <td>0.000</td>\n",
       "      <td>0.000</td>\n",
       "    </tr>\n",
       "    <tr>\n",
       "      <th>50%</th>\n",
       "      <td>110.801</td>\n",
       "      <td>74.074</td>\n",
       "      <td>38.697</td>\n",
       "      <td>187.008</td>\n",
       "      <td>74.086</td>\n",
       "      <td>43.428</td>\n",
       "      <td>598.395</td>\n",
       "      <td>74.239</td>\n",
       "      <td>45.816</td>\n",
       "      <td>5783.836</td>\n",
       "      <td>74.825</td>\n",
       "      <td>205.816</td>\n",
       "      <td>22626.769</td>\n",
       "      <td>74.559</td>\n",
       "      <td>270.881</td>\n",
       "      <td>110.801</td>\n",
       "      <td>74.074</td>\n",
       "      <td>38.697</td>\n",
       "      <td>187.008</td>\n",
       "      <td>74.086</td>\n",
       "      <td>43.428</td>\n",
       "      <td>598.395</td>\n",
       "      <td>74.239</td>\n",
       "      <td>45.816</td>\n",
       "      <td>5783.836</td>\n",
       "      <td>74.825</td>\n",
       "      <td>205.816</td>\n",
       "      <td>22626.769</td>\n",
       "      <td>74.559</td>\n",
       "      <td>270.881</td>\n",
       "      <td>1.000</td>\n",
       "      <td>73.945</td>\n",
       "      <td>0.000</td>\n",
       "      <td>74.000</td>\n",
       "      <td>0.000</td>\n",
       "      <td>0.000</td>\n",
       "      <td>0.000</td>\n",
       "      <td>1.000</td>\n",
       "      <td>73.956</td>\n",
       "      <td>0.000</td>\n",
       "      <td>74.000</td>\n",
       "      <td>0.000</td>\n",
       "      <td>0.000</td>\n",
       "      <td>0.000</td>\n",
       "      <td>1.000</td>\n",
       "      <td>73.976</td>\n",
       "      <td>0.000</td>\n",
       "      <td>73.998</td>\n",
       "      <td>0.000</td>\n",
       "      <td>0.000</td>\n",
       "      <td>0.000</td>\n",
       "      <td>1.071</td>\n",
       "      <td>73.995</td>\n",
       "      <td>0.000</td>\n",
       "      <td>73.997</td>\n",
       "      <td>0.000</td>\n",
       "      <td>0.000</td>\n",
       "      <td>0.000</td>\n",
       "      <td>1.979</td>\n",
       "      <td>73.997</td>\n",
       "      <td>0.000</td>\n",
       "      <td>73.998</td>\n",
       "      <td>0.000</td>\n",
       "      <td>0.000</td>\n",
       "      <td>0.000</td>\n",
       "      <td>1.000</td>\n",
       "      <td>45575.949</td>\n",
       "      <td>0.000</td>\n",
       "      <td>1.000</td>\n",
       "      <td>2913289.077</td>\n",
       "      <td>0.000</td>\n",
       "      <td>1.000</td>\n",
       "      <td>166943262.642</td>\n",
       "      <td>0.000</td>\n",
       "      <td>1.071</td>\n",
       "      <td>674853273.237</td>\n",
       "      <td>0.000</td>\n",
       "      <td>1.979</td>\n",
       "      <td>745118263.571</td>\n",
       "      <td>0.001</td>\n",
       "      <td>1.000</td>\n",
       "      <td>74.000</td>\n",
       "      <td>0.000</td>\n",
       "      <td>74.000</td>\n",
       "      <td>0.000</td>\n",
       "      <td>0.000</td>\n",
       "      <td>0.000</td>\n",
       "      <td>1.000</td>\n",
       "      <td>74.000</td>\n",
       "      <td>0.000</td>\n",
       "      <td>74.000</td>\n",
       "      <td>0.000</td>\n",
       "      <td>0.000</td>\n",
       "      <td>0.000</td>\n",
       "      <td>1.000</td>\n",
       "      <td>74.000</td>\n",
       "      <td>0.000</td>\n",
       "      <td>74.000</td>\n",
       "      <td>0.000</td>\n",
       "      <td>0.000</td>\n",
       "      <td>0.000</td>\n",
       "      <td>1.000</td>\n",
       "      <td>74.000</td>\n",
       "      <td>0.000</td>\n",
       "      <td>74.000</td>\n",
       "      <td>0.000</td>\n",
       "      <td>0.000</td>\n",
       "      <td>0.000</td>\n",
       "      <td>1.000</td>\n",
       "      <td>74.000</td>\n",
       "      <td>0.000</td>\n",
       "      <td>74.000</td>\n",
       "      <td>0.000</td>\n",
       "      <td>0.000</td>\n",
       "      <td>0.000</td>\n",
       "    </tr>\n",
       "    <tr>\n",
       "      <th>75%</th>\n",
       "      <td>147.106</td>\n",
       "      <td>330.850</td>\n",
       "      <td>48673.140</td>\n",
       "      <td>231.140</td>\n",
       "      <td>347.093</td>\n",
       "      <td>53605.815</td>\n",
       "      <td>658.992</td>\n",
       "      <td>366.401</td>\n",
       "      <td>56006.823</td>\n",
       "      <td>6406.809</td>\n",
       "      <td>381.776</td>\n",
       "      <td>55493.220</td>\n",
       "      <td>45246.426</td>\n",
       "      <td>382.840</td>\n",
       "      <td>55271.494</td>\n",
       "      <td>147.106</td>\n",
       "      <td>330.850</td>\n",
       "      <td>48673.140</td>\n",
       "      <td>231.140</td>\n",
       "      <td>347.093</td>\n",
       "      <td>53605.815</td>\n",
       "      <td>658.992</td>\n",
       "      <td>366.401</td>\n",
       "      <td>56006.823</td>\n",
       "      <td>6406.809</td>\n",
       "      <td>381.776</td>\n",
       "      <td>55493.220</td>\n",
       "      <td>45246.426</td>\n",
       "      <td>382.840</td>\n",
       "      <td>55271.494</td>\n",
       "      <td>88.572</td>\n",
       "      <td>553.999</td>\n",
       "      <td>0.000</td>\n",
       "      <td>553.999</td>\n",
       "      <td>0.000</td>\n",
       "      <td>0.000</td>\n",
       "      <td>0.000</td>\n",
       "      <td>144.239</td>\n",
       "      <td>553.985</td>\n",
       "      <td>0.000</td>\n",
       "      <td>553.986</td>\n",
       "      <td>0.000</td>\n",
       "      <td>0.000</td>\n",
       "      <td>0.000</td>\n",
       "      <td>422.993</td>\n",
       "      <td>553.796</td>\n",
       "      <td>0.008</td>\n",
       "      <td>553.800</td>\n",
       "      <td>0.000</td>\n",
       "      <td>0.000</td>\n",
       "      <td>0.000</td>\n",
       "      <td>4169.510</td>\n",
       "      <td>553.883</td>\n",
       "      <td>2.213</td>\n",
       "      <td>553.883</td>\n",
       "      <td>4.908</td>\n",
       "      <td>0.000</td>\n",
       "      <td>0.000</td>\n",
       "      <td>23559.867</td>\n",
       "      <td>553.912</td>\n",
       "      <td>4.196</td>\n",
       "      <td>553.913</td>\n",
       "      <td>17.618</td>\n",
       "      <td>0.000</td>\n",
       "      <td>0.000</td>\n",
       "      <td>88.572</td>\n",
       "      <td>1507653298.142</td>\n",
       "      <td>0.000</td>\n",
       "      <td>144.239</td>\n",
       "      <td>1507653298.142</td>\n",
       "      <td>0.000</td>\n",
       "      <td>422.993</td>\n",
       "      <td>1507653298.142</td>\n",
       "      <td>0.000</td>\n",
       "      <td>4169.510</td>\n",
       "      <td>1507653298.142</td>\n",
       "      <td>12224071510.742</td>\n",
       "      <td>23559.867</td>\n",
       "      <td>1507653298.142</td>\n",
       "      <td>28747964184946.012</td>\n",
       "      <td>1.000</td>\n",
       "      <td>554.000</td>\n",
       "      <td>0.000</td>\n",
       "      <td>554.000</td>\n",
       "      <td>0.000</td>\n",
       "      <td>0.000</td>\n",
       "      <td>0.000</td>\n",
       "      <td>1.000</td>\n",
       "      <td>554.000</td>\n",
       "      <td>0.000</td>\n",
       "      <td>554.000</td>\n",
       "      <td>0.000</td>\n",
       "      <td>0.000</td>\n",
       "      <td>0.000</td>\n",
       "      <td>1.000</td>\n",
       "      <td>554.000</td>\n",
       "      <td>0.000</td>\n",
       "      <td>554.000</td>\n",
       "      <td>0.000</td>\n",
       "      <td>0.000</td>\n",
       "      <td>0.000</td>\n",
       "      <td>1.000</td>\n",
       "      <td>554.000</td>\n",
       "      <td>0.000</td>\n",
       "      <td>554.000</td>\n",
       "      <td>0.000</td>\n",
       "      <td>0.000</td>\n",
       "      <td>0.000</td>\n",
       "      <td>1.000</td>\n",
       "      <td>554.000</td>\n",
       "      <td>0.000</td>\n",
       "      <td>554.000</td>\n",
       "      <td>0.000</td>\n",
       "      <td>0.000</td>\n",
       "      <td>0.000</td>\n",
       "    </tr>\n",
       "    <tr>\n",
       "      <th>max</th>\n",
       "      <td>341.681</td>\n",
       "      <td>886.167</td>\n",
       "      <td>173888.566</td>\n",
       "      <td>470.490</td>\n",
       "      <td>846.320</td>\n",
       "      <td>173184.843</td>\n",
       "      <td>979.356</td>\n",
       "      <td>709.725</td>\n",
       "      <td>173077.043</td>\n",
       "      <td>7964.172</td>\n",
       "      <td>566.000</td>\n",
       "      <td>137649.294</td>\n",
       "      <td>62781.677</td>\n",
       "      <td>566.000</td>\n",
       "      <td>120738.383</td>\n",
       "      <td>341.681</td>\n",
       "      <td>886.167</td>\n",
       "      <td>173888.566</td>\n",
       "      <td>470.490</td>\n",
       "      <td>846.320</td>\n",
       "      <td>173184.843</td>\n",
       "      <td>979.356</td>\n",
       "      <td>709.725</td>\n",
       "      <td>173077.043</td>\n",
       "      <td>7964.172</td>\n",
       "      <td>566.000</td>\n",
       "      <td>137649.294</td>\n",
       "      <td>62781.677</td>\n",
       "      <td>566.000</td>\n",
       "      <td>120738.383</td>\n",
       "      <td>304.292</td>\n",
       "      <td>909.000</td>\n",
       "      <td>420.278</td>\n",
       "      <td>1456.027</td>\n",
       "      <td>485065.527</td>\n",
       "      <td>3591.896</td>\n",
       "      <td>0.701</td>\n",
       "      <td>407.585</td>\n",
       "      <td>909.000</td>\n",
       "      <td>422.972</td>\n",
       "      <td>1456.027</td>\n",
       "      <td>485806.578</td>\n",
       "      <td>3898.882</td>\n",
       "      <td>0.709</td>\n",
       "      <td>963.041</td>\n",
       "      <td>909.000</td>\n",
       "      <td>424.330</td>\n",
       "      <td>1455.870</td>\n",
       "      <td>484819.515</td>\n",
       "      <td>8428.814</td>\n",
       "      <td>0.811</td>\n",
       "      <td>7944.987</td>\n",
       "      <td>909.000</td>\n",
       "      <td>424.498</td>\n",
       "      <td>1381.198</td>\n",
       "      <td>484968.802</td>\n",
       "      <td>59763.076</td>\n",
       "      <td>1.192</td>\n",
       "      <td>41469.155</td>\n",
       "      <td>909.000</td>\n",
       "      <td>424.500</td>\n",
       "      <td>1278.265</td>\n",
       "      <td>483573.565</td>\n",
       "      <td>135794.307</td>\n",
       "      <td>1.528</td>\n",
       "      <td>304.292</td>\n",
       "      <td>1507659566.767</td>\n",
       "      <td>568256427931119296.000</td>\n",
       "      <td>407.585</td>\n",
       "      <td>1507659566.767</td>\n",
       "      <td>568257491917973184.000</td>\n",
       "      <td>963.041</td>\n",
       "      <td>1507659566.767</td>\n",
       "      <td>568258023912396160.000</td>\n",
       "      <td>7944.987</td>\n",
       "      <td>1507659566.767</td>\n",
       "      <td>568259130022458112.000</td>\n",
       "      <td>41469.155</td>\n",
       "      <td>1507659566.767</td>\n",
       "      <td>568259187586673664.000</td>\n",
       "      <td>157.093</td>\n",
       "      <td>909.000</td>\n",
       "      <td>204.443</td>\n",
       "      <td>1456.027</td>\n",
       "      <td>41797.026</td>\n",
       "      <td>3606.007</td>\n",
       "      <td>0.504</td>\n",
       "      <td>216.053</td>\n",
       "      <td>909.000</td>\n",
       "      <td>204.086</td>\n",
       "      <td>1456.027</td>\n",
       "      <td>41651.112</td>\n",
       "      <td>3932.666</td>\n",
       "      <td>0.584</td>\n",
       "      <td>406.990</td>\n",
       "      <td>909.000</td>\n",
       "      <td>200.182</td>\n",
       "      <td>1455.870</td>\n",
       "      <td>40072.956</td>\n",
       "      <td>4255.047</td>\n",
       "      <td>0.700</td>\n",
       "      <td>2883.973</td>\n",
       "      <td>909.000</td>\n",
       "      <td>203.994</td>\n",
       "      <td>1381.198</td>\n",
       "      <td>434050.471</td>\n",
       "      <td>60368.942</td>\n",
       "      <td>0.956</td>\n",
       "      <td>23444.560</td>\n",
       "      <td>909.000</td>\n",
       "      <td>203.672</td>\n",
       "      <td>1278.265</td>\n",
       "      <td>479368.981</td>\n",
       "      <td>136584.102</td>\n",
       "      <td>1.532</td>\n",
       "    </tr>\n",
       "  </tbody>\n",
       "</table>\n",
       "</div>"
      ],
      "text/plain": [
       "       MI_dir_L5_weight  MI_dir_L5_mean  MI_dir_L5_variance  MI_dir_L3_weight  \\\n",
       "count       1018298.000     1018298.000         1018298.000       1018298.000   \n",
       "mean             94.797         192.719           19701.328           150.297   \n",
       "std              63.801         163.155           25175.578           101.088   \n",
       "min               1.000          60.000               0.000             1.000   \n",
       "25%              11.243          60.000               0.000            26.615   \n",
       "50%             110.801          74.074              38.697           187.008   \n",
       "75%             147.106         330.850           48673.140           231.140   \n",
       "max             341.681         886.167          173888.566           470.490   \n",
       "\n",
       "       MI_dir_L3_mean  MI_dir_L3_variance  MI_dir_L1_weight  MI_dir_L1_mean  \\\n",
       "count     1018298.000         1018298.000       1018298.000     1018298.000   \n",
       "mean          193.484           22001.748           432.826         194.733   \n",
       "std           156.504           26765.186           293.389         152.569   \n",
       "min            60.000               0.000             1.000          60.000   \n",
       "25%            60.000               0.000            86.974          60.007   \n",
       "50%            74.086              43.428           598.395          74.239   \n",
       "75%           347.093           53605.815           658.992         366.401   \n",
       "max           846.320          173184.843           979.356         709.725   \n",
       "\n",
       "       MI_dir_L1_variance  MI_dir_L0.1_weight  MI_dir_L0.1_mean  \\\n",
       "count         1018298.000         1018298.000       1018298.000   \n",
       "mean            23489.699            4118.614           195.431   \n",
       "std             27882.891            2805.190           152.510   \n",
       "min                 0.000               1.000            60.000   \n",
       "25%                 0.057             796.280            60.019   \n",
       "50%                45.816            5783.836            74.825   \n",
       "75%             56006.823            6406.809           381.776   \n",
       "max            173077.043            7964.172           566.000   \n",
       "\n",
       "       MI_dir_L0.1_variance  MI_dir_L0.01_weight  MI_dir_L0.01_mean  \\\n",
       "count           1018298.000          1018298.000        1018298.000   \n",
       "mean              23640.506            26313.870            195.374   \n",
       "std               27958.240            21207.173            152.603   \n",
       "min                   0.000                1.000             60.000   \n",
       "25%                   0.610             2849.159             60.020   \n",
       "50%                 205.816            22626.769             74.559   \n",
       "75%               55493.220            45246.426            382.840   \n",
       "max              137649.294            62781.677            566.000   \n",
       "\n",
       "       MI_dir_L0.01_variance  H_L5_weight   H_L5_mean  H_L5_variance  \\\n",
       "count            1018298.000  1018298.000 1018298.000    1018298.000   \n",
       "mean               23634.277       94.797     192.719      19701.328   \n",
       "std                27955.432       63.801     163.155      25175.578   \n",
       "min                    0.000        1.000      60.000          0.000   \n",
       "25%                    0.699       11.243      60.000          0.000   \n",
       "50%                  270.881      110.801      74.074         38.697   \n",
       "75%                55271.494      147.106     330.850      48673.140   \n",
       "max               120738.383      341.681     886.167     173888.566   \n",
       "\n",
       "       H_L3_weight   H_L3_mean  H_L3_variance  H_L1_weight   H_L1_mean  \\\n",
       "count  1018298.000 1018298.000    1018298.000  1018298.000 1018298.000   \n",
       "mean       150.297     193.484      22001.748      432.826     194.733   \n",
       "std        101.088     156.504      26765.186      293.389     152.569   \n",
       "min          1.000      60.000          0.000        1.000      60.000   \n",
       "25%         26.615      60.000          0.000       86.974      60.007   \n",
       "50%        187.008      74.086         43.428      598.395      74.239   \n",
       "75%        231.140     347.093      53605.815      658.992     366.401   \n",
       "max        470.490     846.320     173184.843      979.356     709.725   \n",
       "\n",
       "       H_L1_variance  H_L0.1_weight  H_L0.1_mean  H_L0.1_variance  \\\n",
       "count    1018298.000    1018298.000  1018298.000      1018298.000   \n",
       "mean       23489.699       4118.614      195.431        23640.507   \n",
       "std        27882.891       2805.190      152.510        27958.240   \n",
       "min            0.000          1.000       60.000            0.000   \n",
       "25%            0.057        796.280       60.019            0.610   \n",
       "50%           45.816       5783.836       74.825          205.816   \n",
       "75%        56006.823       6406.809      381.776        55493.220   \n",
       "max       173077.043       7964.172      566.000       137649.294   \n",
       "\n",
       "       H_L0.01_weight  H_L0.01_mean  H_L0.01_variance  HH_L5_weight  \\\n",
       "count     1018298.000   1018298.000       1018298.000   1018298.000   \n",
       "mean        26313.870       195.374         23634.277        44.320   \n",
       "std         21207.173       152.603         27955.432        55.167   \n",
       "min             1.000        60.000             0.000         1.000   \n",
       "25%          2849.159        60.020             0.699         1.000   \n",
       "50%         22626.769        74.559           270.881         1.000   \n",
       "75%         45246.426       382.840         55271.494        88.572   \n",
       "max         62781.677       566.000        120738.383       304.292   \n",
       "\n",
       "       HH_L5_mean   HH_L5_std  HH_L5_magnitude  HH_L5_radius  \\\n",
       "count 1018298.000 1018298.000      1018298.000   1018298.000   \n",
       "mean      195.404       0.233          199.311        14.040   \n",
       "std       216.602       2.778          215.422      1611.938   \n",
       "min        60.000       0.000           60.000         0.000   \n",
       "25%        60.000       0.000           60.000         0.000   \n",
       "50%        73.945       0.000           74.000         0.000   \n",
       "75%       553.999       0.000          553.999         0.000   \n",
       "max       909.000     420.278         1456.027    485065.527   \n",
       "\n",
       "       HH_L5_covariance   HH_L5_pcc  HH_L3_weight  HH_L3_mean   HH_L3_std  \\\n",
       "count       1018298.000 1018298.000   1018298.000 1018298.000 1018298.000   \n",
       "mean              0.030       0.000        72.265     195.403       0.304   \n",
       "std               9.829       0.003        90.081     216.600       2.831   \n",
       "min           -1763.194      -0.484         1.000      60.000       0.000   \n",
       "25%               0.000       0.000         1.000      60.000       0.000   \n",
       "50%               0.000       0.000         1.000      73.956       0.000   \n",
       "75%               0.000       0.000       144.239     553.985       0.000   \n",
       "max            3591.896       0.701       407.585     909.000     422.972   \n",
       "\n",
       "       HH_L3_magnitude  HH_L3_radius  HH_L3_covariance   HH_L3_pcc  \\\n",
       "count      1018298.000   1018298.000       1018298.000 1018298.000   \n",
       "mean           199.311        14.372             0.040       0.000   \n",
       "std            215.422      1571.105            11.546       0.005   \n",
       "min             60.000         0.000         -1816.625      -0.490   \n",
       "25%             60.000         0.000             0.000       0.000   \n",
       "50%             74.000         0.000             0.000       0.000   \n",
       "75%            553.986         0.000             0.000       0.000   \n",
       "max           1456.027    485806.578          3898.882       0.709   \n",
       "\n",
       "       HH_L1_weight  HH_L1_mean   HH_L1_std  HH_L1_magnitude  HH_L1_radius  \\\n",
       "count   1018298.000 1018298.000 1018298.000      1018298.000   1018298.000   \n",
       "mean        211.431     195.409       0.575          199.319        17.283   \n",
       "std         263.712     216.592       3.159          215.415      1567.348   \n",
       "min           1.000      60.000       0.000           60.000         0.000   \n",
       "25%           1.000      60.000       0.000           60.000         0.000   \n",
       "50%           1.000      73.976       0.000           73.998         0.000   \n",
       "75%         422.993     553.796       0.008          553.800         0.000   \n",
       "max         963.041     909.000     424.330         1455.870    484819.515   \n",
       "\n",
       "       HH_L1_covariance   HH_L1_pcc  HH_L0.1_weight  HH_L0.1_mean  \\\n",
       "count       1018298.000 1018298.000     1018298.000   1018298.000   \n",
       "mean              0.079       0.000        1954.950       195.457   \n",
       "std              16.263       0.012        2390.892       216.548   \n",
       "min           -4077.541      -0.497           1.000        60.000   \n",
       "25%               0.000       0.000           1.000        60.000   \n",
       "50%               0.000       0.000           1.071        73.995   \n",
       "75%               0.000       0.000        4169.510       553.883   \n",
       "max            8428.814       0.811        7944.987       909.000   \n",
       "\n",
       "       HH_L0.1_std  HH_L0.1_magnitude  HH_L0.1_radius  HH_L0.1_covariance  \\\n",
       "count  1018298.000        1018298.000     1018298.000         1018298.000   \n",
       "mean         1.532            199.380          64.548               2.837   \n",
       "std          4.259            215.273        3608.442             355.575   \n",
       "min          0.000             60.000           0.000          -84674.509   \n",
       "25%          0.000             60.000           0.000               0.000   \n",
       "50%          0.000             73.997           0.000               0.000   \n",
       "75%          2.213            553.883           4.908               0.000   \n",
       "max        424.498           1381.198      484968.802           59763.076   \n",
       "\n",
       "       HH_L0.1_pcc  HH_L0.01_weight  HH_L0.01_mean  HH_L0.01_std  \\\n",
       "count  1018298.000      1018298.000    1018298.000   1018298.000   \n",
       "mean         0.002        11232.042        195.415         1.734   \n",
       "std          0.037        14707.593        216.563         4.567   \n",
       "min         -0.676            1.000         60.000         0.000   \n",
       "25%          0.000            1.000         60.000         0.000   \n",
       "50%          0.000            1.979         73.997         0.000   \n",
       "75%          0.000        23559.867        553.912         4.196   \n",
       "max          1.192        41469.155        909.000       424.500   \n",
       "\n",
       "       HH_L0.01_magnitude  HH_L0.01_radius  HH_L0.01_covariance  HH_L0.01_pcc  \\\n",
       "count         1018298.000      1018298.000          1018298.000   1018298.000   \n",
       "mean              199.334           97.286                8.879         0.004   \n",
       "std               215.176         5304.775              684.817         0.042   \n",
       "min                60.000            0.000           -23828.772        -0.572   \n",
       "25%                60.000            0.000                0.000         0.000   \n",
       "50%                73.998            0.000                0.000         0.000   \n",
       "75%               553.913           17.618                0.000         0.000   \n",
       "max              1278.265       483573.565           135794.307         1.528   \n",
       "\n",
       "       HH_jit_L5_weight  HH_jit_L5_mean     HH_jit_L5_variance  \\\n",
       "count       1018298.000     1018298.000            1018298.000   \n",
       "mean             44.320   749989910.154     53736291469916.281   \n",
       "std              55.167   753426563.638   4797146360148179.000   \n",
       "min               1.000           0.001                  0.000   \n",
       "25%               1.000           0.003                  0.000   \n",
       "50%               1.000       45575.949                  0.000   \n",
       "75%              88.572  1507653298.142                  0.000   \n",
       "max             304.292  1507659566.767 568256427931119296.000   \n",
       "\n",
       "       HH_jit_L3_weight  HH_jit_L3_mean     HH_jit_L3_variance  \\\n",
       "count       1018298.000     1018298.000            1018298.000   \n",
       "mean             72.265   750023098.506     97971748241922.391   \n",
       "std              90.081   753397337.633   5177431229248409.000   \n",
       "min               1.000           0.001                  0.000   \n",
       "25%               1.000           0.003                  0.000   \n",
       "50%               1.000     2913289.077                  0.000   \n",
       "75%             144.239  1507653298.142                  0.000   \n",
       "max             407.585  1507659566.767 568257491917973184.000   \n",
       "\n",
       "       HH_jit_L1_weight  HH_jit_L1_mean     HH_jit_L1_variance  \\\n",
       "count       1018298.000     1018298.000            1018298.000   \n",
       "mean            211.431   751487909.398   2052430010701021.000   \n",
       "std             263.712   752103414.460  21489852695206476.000   \n",
       "min               1.000           0.002                  0.000   \n",
       "25%               1.000           0.004                  0.000   \n",
       "50%               1.000   166943262.642                  0.000   \n",
       "75%             422.993  1507653298.142                  0.000   \n",
       "max             963.041  1507659566.767 568258023912396160.000   \n",
       "\n",
       "       HH_jit_L0.1_weight  HH_jit_L0.1_mean   HH_jit_L0.1_variance  \\\n",
       "count         1018298.000       1018298.000            1018298.000   \n",
       "mean             1954.950     759272953.846   8855193332385092.000   \n",
       "std              2390.892     747542008.522  65261459940959248.000   \n",
       "min                 1.000             0.003                  0.000   \n",
       "25%                 1.000            38.994                  0.000   \n",
       "50%                 1.071     674853273.237                  0.000   \n",
       "75%              4169.510    1507653298.142        12224071510.742   \n",
       "max              7944.987    1507659566.767 568259130022458112.000   \n",
       "\n",
       "       HH_jit_L0.01_weight  HH_jit_L0.01_mean  HH_jit_L0.01_variance  \\\n",
       "count          1018298.000        1018298.000            1018298.000   \n",
       "mean             11232.042      761270343.268   9961963931961558.000   \n",
       "std              14707.593      746781845.512  71308149292540720.000   \n",
       "min                  1.000              9.310                  0.000   \n",
       "25%                  1.000          18758.738                  0.000   \n",
       "50%                  1.979      745118263.571                  0.001   \n",
       "75%              23559.867     1507653298.142     28747964184946.012   \n",
       "max              41469.155     1507659566.767 568259187586673664.000   \n",
       "\n",
       "       HpHp_L5_weight  HpHp_L5_mean  HpHp_L5_std  HpHp_L5_magnitude  \\\n",
       "count     1018298.000   1018298.000  1018298.000        1018298.000   \n",
       "mean            3.612       195.407        0.007            198.140   \n",
       "std            12.267       216.620        0.858            216.038   \n",
       "min             1.000        60.000        0.000             60.000   \n",
       "25%             1.000        60.000        0.000             60.000   \n",
       "50%             1.000        74.000        0.000             74.000   \n",
       "75%             1.000       554.000        0.000            554.000   \n",
       "max           157.093       909.000      204.443           1456.027   \n",
       "\n",
       "       HpHp_L5_radius  HpHp_L5_covariance  HpHp_L5_pcc  HpHp_L3_weight  \\\n",
       "count     1018298.000         1018298.000  1018298.000     1018298.000   \n",
       "mean            0.931               0.028        0.000           5.294   \n",
       "std           161.268               9.769        0.002          19.986   \n",
       "min             0.000           -1766.226       -0.532           1.000   \n",
       "25%             0.000               0.000        0.000           1.000   \n",
       "50%             0.000               0.000        0.000           1.000   \n",
       "75%             0.000               0.000        0.000           1.000   \n",
       "max         41797.026            3606.007        0.504         216.053   \n",
       "\n",
       "       HpHp_L3_mean  HpHp_L3_std  HpHp_L3_magnitude  HpHp_L3_radius  \\\n",
       "count   1018298.000  1018298.000        1018298.000     1018298.000   \n",
       "mean        195.406        0.007            198.140           1.076   \n",
       "std         216.619        0.915            216.038         170.478   \n",
       "min          60.000        0.000             60.000           0.000   \n",
       "25%          60.000        0.000             60.000           0.000   \n",
       "50%          74.000        0.000             74.000           0.000   \n",
       "75%         554.000        0.000            554.000           0.000   \n",
       "max         909.000      204.086           1456.027       41651.112   \n",
       "\n",
       "       HpHp_L3_covariance  HpHp_L3_pcc  HpHp_L1_weight  HpHp_L1_mean  \\\n",
       "count         1018298.000  1018298.000     1018298.000   1018298.000   \n",
       "mean                0.035        0.000          13.718       195.405   \n",
       "std                11.121        0.002          58.693       216.619   \n",
       "min             -1592.623       -0.536           1.000        60.000   \n",
       "25%                 0.000        0.000           1.000        60.000   \n",
       "50%                 0.000        0.000           1.000        74.000   \n",
       "75%                 0.000        0.000           1.000       554.000   \n",
       "max              3932.666        0.584         406.990       909.000   \n",
       "\n",
       "       HpHp_L1_std  HpHp_L1_magnitude  HpHp_L1_radius  HpHp_L1_covariance  \\\n",
       "count  1018298.000        1018298.000     1018298.000         1018298.000   \n",
       "mean         0.009            198.137           1.373               0.050   \n",
       "std          1.001            216.036         190.913              13.233   \n",
       "min          0.000             60.000           0.000           -1085.807   \n",
       "25%          0.000             60.000           0.000               0.000   \n",
       "50%          0.000             74.000           0.000               0.000   \n",
       "75%          0.000            554.000           0.000               0.000   \n",
       "max        200.182           1455.870       40072.956            4255.047   \n",
       "\n",
       "       HpHp_L1_pcc  HpHp_L0.1_weight  HpHp_L0.1_mean  HpHp_L0.1_std  \\\n",
       "count  1018298.000       1018298.000     1018298.000    1018298.000   \n",
       "mean         0.000           126.345         195.412          0.026   \n",
       "std          0.002           577.367         216.615          1.877   \n",
       "min         -0.540             1.000          60.000          0.000   \n",
       "25%          0.000             1.000          60.000          0.000   \n",
       "50%          0.000             1.000          74.000          0.000   \n",
       "75%          0.000             1.000         554.000          0.000   \n",
       "max          0.700          2883.973         909.000        203.994   \n",
       "\n",
       "       HpHp_L0.1_magnitude  HpHp_L0.1_radius  HpHp_L0.1_covariance  \\\n",
       "count          1018298.000       1018298.000           1018298.000   \n",
       "mean               198.118            24.036                 3.219   \n",
       "std                215.939          2098.942               329.606   \n",
       "min                 60.000             0.000             -4338.246   \n",
       "25%                 60.000             0.000                 0.000   \n",
       "50%                 74.000             0.000                 0.000   \n",
       "75%                554.000             0.000                 0.000   \n",
       "max               1381.198        434050.471             60368.942   \n",
       "\n",
       "       HpHp_L0.1_pcc  HpHp_L0.01_weight  HpHp_L0.01_mean  HpHp_L0.01_std  \\\n",
       "count    1018298.000        1018298.000      1018298.000     1018298.000   \n",
       "mean           0.000            740.554          195.414           0.032   \n",
       "std            0.007           3591.651          216.615           2.090   \n",
       "min           -0.541              1.000           60.000           0.000   \n",
       "25%            0.000              1.000           60.000           0.000   \n",
       "50%            0.000              1.000           74.000           0.000   \n",
       "75%            0.000              1.000          554.000           0.000   \n",
       "max            0.956          23444.560          909.000         203.672   \n",
       "\n",
       "       HpHp_L0.01_magnitude  HpHp_L0.01_radius  HpHp_L0.01_covariance  \\\n",
       "count           1018298.000        1018298.000            1018298.000   \n",
       "mean                198.105             36.692                  8.478   \n",
       "std                 215.879           3161.461                832.343   \n",
       "min                  60.000              0.000              -1017.176   \n",
       "25%                  60.000              0.000                  0.000   \n",
       "50%                  74.000              0.000                  0.000   \n",
       "75%                 554.000              0.000                  0.000   \n",
       "max                1278.265         479368.981             136584.102   \n",
       "\n",
       "       HpHp_L0.01_pcc  \n",
       "count     1018298.000  \n",
       "mean            0.000  \n",
       "std             0.013  \n",
       "min            -0.542  \n",
       "25%             0.000  \n",
       "50%             0.000  \n",
       "75%             0.000  \n",
       "max             1.532  "
      ]
     },
     "execution_count": 64,
     "metadata": {},
     "output_type": "execute_result"
    }
   ],
   "source": [
    "df.describe()"
   ]
  },
  {
   "cell_type": "code",
   "execution_count": 65,
   "metadata": {},
   "outputs": [],
   "source": [
    "ds_shape = df.shape"
   ]
  },
  {
   "cell_type": "code",
   "execution_count": 66,
   "metadata": {},
   "outputs": [
    {
     "data": {
      "text/html": [
       "<h6 class='messagebox messagelightgreen'>No of Rows Available in Dataset <b>1018298</b></h6>"
      ],
      "text/plain": [
       "<IPython.core.display.HTML object>"
      ]
     },
     "metadata": {},
     "output_type": "display_data"
    },
    {
     "data": {
      "text/html": [
       "<h6 class='messagebox messagelightgreen'>No of Columns Available in Dataset <b>116</b></h6>"
      ],
      "text/plain": [
       "<IPython.core.display.HTML object>"
      ]
     },
     "metadata": {},
     "output_type": "display_data"
    }
   ],
   "source": [
    "display(HTML(\"<h6 class='messagebox messagelightgreen'>No of Rows Available in Dataset <b>{0}</b></h6>\".format(ds_shape[0])))\n",
    "display(HTML(\"<h6 class='messagebox messagelightgreen'>No of Columns Available in Dataset <b>{0}</b></h6>\".format(ds_shape[1])))"
   ]
  },
  {
   "cell_type": "code",
   "execution_count": 67,
   "metadata": {},
   "outputs": [],
   "source": [
    "target_counts = df[\"target\"].value_counts()"
   ]
  },
  {
   "cell_type": "code",
   "execution_count": 68,
   "metadata": {},
   "outputs": [
    {
     "data": {
      "text/plain": [
       "target\n",
       "mirai-udp         237665\n",
       "mirai-syn         122573\n",
       "mirai-scan        107685\n",
       "gafgyt-udp        105874\n",
       "mirai-ack         102195\n",
       "gafgyt-tcp         92141\n",
       "mirai-udpplain     81982\n",
       "gafgyt-combo       59718\n",
       "Benign             49548\n",
       "gafgyt-scan        29849\n",
       "gafgyt-junk        29068\n",
       "Name: count, dtype: int64"
      ]
     },
     "execution_count": 68,
     "metadata": {},
     "output_type": "execute_result"
    }
   ],
   "source": [
    "target_counts"
   ]
  },
  {
   "cell_type": "code",
   "execution_count": 69,
   "metadata": {},
   "outputs": [],
   "source": [
    "def display_bar_chart(data, xvalues, yvalues, graph_title, xtitle, ytitle, legend_position_dict=None):\n",
    "    fig = px.bar(data, x=xvalues, y=yvalues, color=xvalues, text_auto=True, color_continuous_scale = 'algae')\n",
    "    if legend_position_dict is None:\n",
    "        fig.update_layout(title=graph_title, xaxis_title=xtitle, yaxis_title=ytitle)\n",
    "    else:\n",
    "        fig.update_layout(legend=legend_position_dict, title=graph_title, xaxis_title=xtitle, yaxis_title=ytitle)\n",
    "    fig.show()"
   ]
  },
  {
   "cell_type": "code",
   "execution_count": 70,
   "metadata": {},
   "outputs": [],
   "source": [
    "def display_pie_chart(data, xvalues, yvalues, graph_title, xtitle, ytitle, legend_position_dict=None):\n",
    "    fig = px.pie(data, names=xvalues, values=yvalues, color=xvalues)\n",
    "    if legend_position_dict is None:\n",
    "        fig.update_layout(title=graph_title, xaxis_title=xtitle, yaxis_title=ytitle)\n",
    "    else:\n",
    "        fig.update_layout(legend=legend_position_dict, title=graph_title, xaxis_title=xtitle, yaxis_title=ytitle)\n",
    "    fig.show()"
   ]
  },
  {
   "cell_type": "code",
   "execution_count": 71,
   "metadata": {},
   "outputs": [
    {
     "data": {
      "text/plain": [
       "Index(['mirai-udp', 'mirai-syn', 'mirai-scan', 'gafgyt-udp', 'mirai-ack',\n",
       "       'gafgyt-tcp', 'mirai-udpplain', 'gafgyt-combo', 'Benign', 'gafgyt-scan',\n",
       "       'gafgyt-junk'],\n",
       "      dtype='object', name='target')"
      ]
     },
     "execution_count": 71,
     "metadata": {},
     "output_type": "execute_result"
    }
   ],
   "source": [
    "target_counts.index"
   ]
  },
  {
   "cell_type": "code",
   "execution_count": 72,
   "metadata": {},
   "outputs": [
    {
     "data": {
      "application/vnd.plotly.v1+json": {
       "config": {
        "plotlyServerURL": "https://plot.ly"
       },
       "data": [
        {
         "alignmentgroup": "True",
         "hovertemplate": "target=%{x}<br>y=%{y}<extra></extra>",
         "legendgroup": "mirai-udp",
         "marker": {
          "color": "#636efa",
          "pattern": {
           "shape": ""
          }
         },
         "name": "mirai-udp",
         "offsetgroup": "mirai-udp",
         "orientation": "v",
         "showlegend": true,
         "textposition": "auto",
         "texttemplate": "%{y}",
         "type": "bar",
         "x": [
          "mirai-udp"
         ],
         "xaxis": "x",
         "y": [
          237665
         ],
         "yaxis": "y"
        },
        {
         "alignmentgroup": "True",
         "hovertemplate": "target=%{x}<br>y=%{y}<extra></extra>",
         "legendgroup": "mirai-syn",
         "marker": {
          "color": "#EF553B",
          "pattern": {
           "shape": ""
          }
         },
         "name": "mirai-syn",
         "offsetgroup": "mirai-syn",
         "orientation": "v",
         "showlegend": true,
         "textposition": "auto",
         "texttemplate": "%{y}",
         "type": "bar",
         "x": [
          "mirai-syn"
         ],
         "xaxis": "x",
         "y": [
          122573
         ],
         "yaxis": "y"
        },
        {
         "alignmentgroup": "True",
         "hovertemplate": "target=%{x}<br>y=%{y}<extra></extra>",
         "legendgroup": "mirai-scan",
         "marker": {
          "color": "#00cc96",
          "pattern": {
           "shape": ""
          }
         },
         "name": "mirai-scan",
         "offsetgroup": "mirai-scan",
         "orientation": "v",
         "showlegend": true,
         "textposition": "auto",
         "texttemplate": "%{y}",
         "type": "bar",
         "x": [
          "mirai-scan"
         ],
         "xaxis": "x",
         "y": [
          107685
         ],
         "yaxis": "y"
        },
        {
         "alignmentgroup": "True",
         "hovertemplate": "target=%{x}<br>y=%{y}<extra></extra>",
         "legendgroup": "gafgyt-udp",
         "marker": {
          "color": "#ab63fa",
          "pattern": {
           "shape": ""
          }
         },
         "name": "gafgyt-udp",
         "offsetgroup": "gafgyt-udp",
         "orientation": "v",
         "showlegend": true,
         "textposition": "auto",
         "texttemplate": "%{y}",
         "type": "bar",
         "x": [
          "gafgyt-udp"
         ],
         "xaxis": "x",
         "y": [
          105874
         ],
         "yaxis": "y"
        },
        {
         "alignmentgroup": "True",
         "hovertemplate": "target=%{x}<br>y=%{y}<extra></extra>",
         "legendgroup": "mirai-ack",
         "marker": {
          "color": "#FFA15A",
          "pattern": {
           "shape": ""
          }
         },
         "name": "mirai-ack",
         "offsetgroup": "mirai-ack",
         "orientation": "v",
         "showlegend": true,
         "textposition": "auto",
         "texttemplate": "%{y}",
         "type": "bar",
         "x": [
          "mirai-ack"
         ],
         "xaxis": "x",
         "y": [
          102195
         ],
         "yaxis": "y"
        },
        {
         "alignmentgroup": "True",
         "hovertemplate": "target=%{x}<br>y=%{y}<extra></extra>",
         "legendgroup": "gafgyt-tcp",
         "marker": {
          "color": "#19d3f3",
          "pattern": {
           "shape": ""
          }
         },
         "name": "gafgyt-tcp",
         "offsetgroup": "gafgyt-tcp",
         "orientation": "v",
         "showlegend": true,
         "textposition": "auto",
         "texttemplate": "%{y}",
         "type": "bar",
         "x": [
          "gafgyt-tcp"
         ],
         "xaxis": "x",
         "y": [
          92141
         ],
         "yaxis": "y"
        },
        {
         "alignmentgroup": "True",
         "hovertemplate": "target=%{x}<br>y=%{y}<extra></extra>",
         "legendgroup": "mirai-udpplain",
         "marker": {
          "color": "#FF6692",
          "pattern": {
           "shape": ""
          }
         },
         "name": "mirai-udpplain",
         "offsetgroup": "mirai-udpplain",
         "orientation": "v",
         "showlegend": true,
         "textposition": "auto",
         "texttemplate": "%{y}",
         "type": "bar",
         "x": [
          "mirai-udpplain"
         ],
         "xaxis": "x",
         "y": [
          81982
         ],
         "yaxis": "y"
        },
        {
         "alignmentgroup": "True",
         "hovertemplate": "target=%{x}<br>y=%{y}<extra></extra>",
         "legendgroup": "gafgyt-combo",
         "marker": {
          "color": "#B6E880",
          "pattern": {
           "shape": ""
          }
         },
         "name": "gafgyt-combo",
         "offsetgroup": "gafgyt-combo",
         "orientation": "v",
         "showlegend": true,
         "textposition": "auto",
         "texttemplate": "%{y}",
         "type": "bar",
         "x": [
          "gafgyt-combo"
         ],
         "xaxis": "x",
         "y": [
          59718
         ],
         "yaxis": "y"
        },
        {
         "alignmentgroup": "True",
         "hovertemplate": "target=%{x}<br>y=%{y}<extra></extra>",
         "legendgroup": "Benign",
         "marker": {
          "color": "#FF97FF",
          "pattern": {
           "shape": ""
          }
         },
         "name": "Benign",
         "offsetgroup": "Benign",
         "orientation": "v",
         "showlegend": true,
         "textposition": "auto",
         "texttemplate": "%{y}",
         "type": "bar",
         "x": [
          "Benign"
         ],
         "xaxis": "x",
         "y": [
          49548
         ],
         "yaxis": "y"
        },
        {
         "alignmentgroup": "True",
         "hovertemplate": "target=%{x}<br>y=%{y}<extra></extra>",
         "legendgroup": "gafgyt-scan",
         "marker": {
          "color": "#FECB52",
          "pattern": {
           "shape": ""
          }
         },
         "name": "gafgyt-scan",
         "offsetgroup": "gafgyt-scan",
         "orientation": "v",
         "showlegend": true,
         "textposition": "auto",
         "texttemplate": "%{y}",
         "type": "bar",
         "x": [
          "gafgyt-scan"
         ],
         "xaxis": "x",
         "y": [
          29849
         ],
         "yaxis": "y"
        },
        {
         "alignmentgroup": "True",
         "hovertemplate": "target=%{x}<br>y=%{y}<extra></extra>",
         "legendgroup": "gafgyt-junk",
         "marker": {
          "color": "#636efa",
          "pattern": {
           "shape": ""
          }
         },
         "name": "gafgyt-junk",
         "offsetgroup": "gafgyt-junk",
         "orientation": "v",
         "showlegend": true,
         "textposition": "auto",
         "texttemplate": "%{y}",
         "type": "bar",
         "x": [
          "gafgyt-junk"
         ],
         "xaxis": "x",
         "y": [
          29068
         ],
         "yaxis": "y"
        }
       ],
       "layout": {
        "barmode": "relative",
        "legend": {
         "bgcolor": "#dcdcdc",
         "bordercolor": "#00BCD4",
         "borderwidth": 1,
         "orientation": "v",
         "title": {
          "text": "Targets"
         },
         "tracegroupgap": 0,
         "x": 0.9,
         "xanchor": "right",
         "y": 0.99,
         "yanchor": "top"
        },
        "margin": {
         "t": 60
        },
        "template": {
         "data": {
          "bar": [
           {
            "error_x": {
             "color": "#2a3f5f"
            },
            "error_y": {
             "color": "#2a3f5f"
            },
            "marker": {
             "line": {
              "color": "#E5ECF6",
              "width": 0.5
             },
             "pattern": {
              "fillmode": "overlay",
              "size": 10,
              "solidity": 0.2
             }
            },
            "type": "bar"
           }
          ],
          "barpolar": [
           {
            "marker": {
             "line": {
              "color": "#E5ECF6",
              "width": 0.5
             },
             "pattern": {
              "fillmode": "overlay",
              "size": 10,
              "solidity": 0.2
             }
            },
            "type": "barpolar"
           }
          ],
          "carpet": [
           {
            "aaxis": {
             "endlinecolor": "#2a3f5f",
             "gridcolor": "white",
             "linecolor": "white",
             "minorgridcolor": "white",
             "startlinecolor": "#2a3f5f"
            },
            "baxis": {
             "endlinecolor": "#2a3f5f",
             "gridcolor": "white",
             "linecolor": "white",
             "minorgridcolor": "white",
             "startlinecolor": "#2a3f5f"
            },
            "type": "carpet"
           }
          ],
          "choropleth": [
           {
            "colorbar": {
             "outlinewidth": 0,
             "ticks": ""
            },
            "type": "choropleth"
           }
          ],
          "contour": [
           {
            "colorbar": {
             "outlinewidth": 0,
             "ticks": ""
            },
            "colorscale": [
             [
              0,
              "#0d0887"
             ],
             [
              0.1111111111111111,
              "#46039f"
             ],
             [
              0.2222222222222222,
              "#7201a8"
             ],
             [
              0.3333333333333333,
              "#9c179e"
             ],
             [
              0.4444444444444444,
              "#bd3786"
             ],
             [
              0.5555555555555556,
              "#d8576b"
             ],
             [
              0.6666666666666666,
              "#ed7953"
             ],
             [
              0.7777777777777778,
              "#fb9f3a"
             ],
             [
              0.8888888888888888,
              "#fdca26"
             ],
             [
              1,
              "#f0f921"
             ]
            ],
            "type": "contour"
           }
          ],
          "contourcarpet": [
           {
            "colorbar": {
             "outlinewidth": 0,
             "ticks": ""
            },
            "type": "contourcarpet"
           }
          ],
          "heatmap": [
           {
            "colorbar": {
             "outlinewidth": 0,
             "ticks": ""
            },
            "colorscale": [
             [
              0,
              "#0d0887"
             ],
             [
              0.1111111111111111,
              "#46039f"
             ],
             [
              0.2222222222222222,
              "#7201a8"
             ],
             [
              0.3333333333333333,
              "#9c179e"
             ],
             [
              0.4444444444444444,
              "#bd3786"
             ],
             [
              0.5555555555555556,
              "#d8576b"
             ],
             [
              0.6666666666666666,
              "#ed7953"
             ],
             [
              0.7777777777777778,
              "#fb9f3a"
             ],
             [
              0.8888888888888888,
              "#fdca26"
             ],
             [
              1,
              "#f0f921"
             ]
            ],
            "type": "heatmap"
           }
          ],
          "heatmapgl": [
           {
            "colorbar": {
             "outlinewidth": 0,
             "ticks": ""
            },
            "colorscale": [
             [
              0,
              "#0d0887"
             ],
             [
              0.1111111111111111,
              "#46039f"
             ],
             [
              0.2222222222222222,
              "#7201a8"
             ],
             [
              0.3333333333333333,
              "#9c179e"
             ],
             [
              0.4444444444444444,
              "#bd3786"
             ],
             [
              0.5555555555555556,
              "#d8576b"
             ],
             [
              0.6666666666666666,
              "#ed7953"
             ],
             [
              0.7777777777777778,
              "#fb9f3a"
             ],
             [
              0.8888888888888888,
              "#fdca26"
             ],
             [
              1,
              "#f0f921"
             ]
            ],
            "type": "heatmapgl"
           }
          ],
          "histogram": [
           {
            "marker": {
             "pattern": {
              "fillmode": "overlay",
              "size": 10,
              "solidity": 0.2
             }
            },
            "type": "histogram"
           }
          ],
          "histogram2d": [
           {
            "colorbar": {
             "outlinewidth": 0,
             "ticks": ""
            },
            "colorscale": [
             [
              0,
              "#0d0887"
             ],
             [
              0.1111111111111111,
              "#46039f"
             ],
             [
              0.2222222222222222,
              "#7201a8"
             ],
             [
              0.3333333333333333,
              "#9c179e"
             ],
             [
              0.4444444444444444,
              "#bd3786"
             ],
             [
              0.5555555555555556,
              "#d8576b"
             ],
             [
              0.6666666666666666,
              "#ed7953"
             ],
             [
              0.7777777777777778,
              "#fb9f3a"
             ],
             [
              0.8888888888888888,
              "#fdca26"
             ],
             [
              1,
              "#f0f921"
             ]
            ],
            "type": "histogram2d"
           }
          ],
          "histogram2dcontour": [
           {
            "colorbar": {
             "outlinewidth": 0,
             "ticks": ""
            },
            "colorscale": [
             [
              0,
              "#0d0887"
             ],
             [
              0.1111111111111111,
              "#46039f"
             ],
             [
              0.2222222222222222,
              "#7201a8"
             ],
             [
              0.3333333333333333,
              "#9c179e"
             ],
             [
              0.4444444444444444,
              "#bd3786"
             ],
             [
              0.5555555555555556,
              "#d8576b"
             ],
             [
              0.6666666666666666,
              "#ed7953"
             ],
             [
              0.7777777777777778,
              "#fb9f3a"
             ],
             [
              0.8888888888888888,
              "#fdca26"
             ],
             [
              1,
              "#f0f921"
             ]
            ],
            "type": "histogram2dcontour"
           }
          ],
          "mesh3d": [
           {
            "colorbar": {
             "outlinewidth": 0,
             "ticks": ""
            },
            "type": "mesh3d"
           }
          ],
          "parcoords": [
           {
            "line": {
             "colorbar": {
              "outlinewidth": 0,
              "ticks": ""
             }
            },
            "type": "parcoords"
           }
          ],
          "pie": [
           {
            "automargin": true,
            "type": "pie"
           }
          ],
          "scatter": [
           {
            "fillpattern": {
             "fillmode": "overlay",
             "size": 10,
             "solidity": 0.2
            },
            "type": "scatter"
           }
          ],
          "scatter3d": [
           {
            "line": {
             "colorbar": {
              "outlinewidth": 0,
              "ticks": ""
             }
            },
            "marker": {
             "colorbar": {
              "outlinewidth": 0,
              "ticks": ""
             }
            },
            "type": "scatter3d"
           }
          ],
          "scattercarpet": [
           {
            "marker": {
             "colorbar": {
              "outlinewidth": 0,
              "ticks": ""
             }
            },
            "type": "scattercarpet"
           }
          ],
          "scattergeo": [
           {
            "marker": {
             "colorbar": {
              "outlinewidth": 0,
              "ticks": ""
             }
            },
            "type": "scattergeo"
           }
          ],
          "scattergl": [
           {
            "marker": {
             "colorbar": {
              "outlinewidth": 0,
              "ticks": ""
             }
            },
            "type": "scattergl"
           }
          ],
          "scattermapbox": [
           {
            "marker": {
             "colorbar": {
              "outlinewidth": 0,
              "ticks": ""
             }
            },
            "type": "scattermapbox"
           }
          ],
          "scatterpolar": [
           {
            "marker": {
             "colorbar": {
              "outlinewidth": 0,
              "ticks": ""
             }
            },
            "type": "scatterpolar"
           }
          ],
          "scatterpolargl": [
           {
            "marker": {
             "colorbar": {
              "outlinewidth": 0,
              "ticks": ""
             }
            },
            "type": "scatterpolargl"
           }
          ],
          "scatterternary": [
           {
            "marker": {
             "colorbar": {
              "outlinewidth": 0,
              "ticks": ""
             }
            },
            "type": "scatterternary"
           }
          ],
          "surface": [
           {
            "colorbar": {
             "outlinewidth": 0,
             "ticks": ""
            },
            "colorscale": [
             [
              0,
              "#0d0887"
             ],
             [
              0.1111111111111111,
              "#46039f"
             ],
             [
              0.2222222222222222,
              "#7201a8"
             ],
             [
              0.3333333333333333,
              "#9c179e"
             ],
             [
              0.4444444444444444,
              "#bd3786"
             ],
             [
              0.5555555555555556,
              "#d8576b"
             ],
             [
              0.6666666666666666,
              "#ed7953"
             ],
             [
              0.7777777777777778,
              "#fb9f3a"
             ],
             [
              0.8888888888888888,
              "#fdca26"
             ],
             [
              1,
              "#f0f921"
             ]
            ],
            "type": "surface"
           }
          ],
          "table": [
           {
            "cells": {
             "fill": {
              "color": "#EBF0F8"
             },
             "line": {
              "color": "white"
             }
            },
            "header": {
             "fill": {
              "color": "#C8D4E3"
             },
             "line": {
              "color": "white"
             }
            },
            "type": "table"
           }
          ]
         },
         "layout": {
          "annotationdefaults": {
           "arrowcolor": "#2a3f5f",
           "arrowhead": 0,
           "arrowwidth": 1
          },
          "autotypenumbers": "strict",
          "coloraxis": {
           "colorbar": {
            "outlinewidth": 0,
            "ticks": ""
           }
          },
          "colorscale": {
           "diverging": [
            [
             0,
             "#8e0152"
            ],
            [
             0.1,
             "#c51b7d"
            ],
            [
             0.2,
             "#de77ae"
            ],
            [
             0.3,
             "#f1b6da"
            ],
            [
             0.4,
             "#fde0ef"
            ],
            [
             0.5,
             "#f7f7f7"
            ],
            [
             0.6,
             "#e6f5d0"
            ],
            [
             0.7,
             "#b8e186"
            ],
            [
             0.8,
             "#7fbc41"
            ],
            [
             0.9,
             "#4d9221"
            ],
            [
             1,
             "#276419"
            ]
           ],
           "sequential": [
            [
             0,
             "#0d0887"
            ],
            [
             0.1111111111111111,
             "#46039f"
            ],
            [
             0.2222222222222222,
             "#7201a8"
            ],
            [
             0.3333333333333333,
             "#9c179e"
            ],
            [
             0.4444444444444444,
             "#bd3786"
            ],
            [
             0.5555555555555556,
             "#d8576b"
            ],
            [
             0.6666666666666666,
             "#ed7953"
            ],
            [
             0.7777777777777778,
             "#fb9f3a"
            ],
            [
             0.8888888888888888,
             "#fdca26"
            ],
            [
             1,
             "#f0f921"
            ]
           ],
           "sequentialminus": [
            [
             0,
             "#0d0887"
            ],
            [
             0.1111111111111111,
             "#46039f"
            ],
            [
             0.2222222222222222,
             "#7201a8"
            ],
            [
             0.3333333333333333,
             "#9c179e"
            ],
            [
             0.4444444444444444,
             "#bd3786"
            ],
            [
             0.5555555555555556,
             "#d8576b"
            ],
            [
             0.6666666666666666,
             "#ed7953"
            ],
            [
             0.7777777777777778,
             "#fb9f3a"
            ],
            [
             0.8888888888888888,
             "#fdca26"
            ],
            [
             1,
             "#f0f921"
            ]
           ]
          },
          "colorway": [
           "#636efa",
           "#EF553B",
           "#00cc96",
           "#ab63fa",
           "#FFA15A",
           "#19d3f3",
           "#FF6692",
           "#B6E880",
           "#FF97FF",
           "#FECB52"
          ],
          "font": {
           "color": "#2a3f5f"
          },
          "geo": {
           "bgcolor": "white",
           "lakecolor": "white",
           "landcolor": "#E5ECF6",
           "showlakes": true,
           "showland": true,
           "subunitcolor": "white"
          },
          "hoverlabel": {
           "align": "left"
          },
          "hovermode": "closest",
          "mapbox": {
           "style": "light"
          },
          "paper_bgcolor": "white",
          "plot_bgcolor": "#E5ECF6",
          "polar": {
           "angularaxis": {
            "gridcolor": "white",
            "linecolor": "white",
            "ticks": ""
           },
           "bgcolor": "#E5ECF6",
           "radialaxis": {
            "gridcolor": "white",
            "linecolor": "white",
            "ticks": ""
           }
          },
          "scene": {
           "xaxis": {
            "backgroundcolor": "#E5ECF6",
            "gridcolor": "white",
            "gridwidth": 2,
            "linecolor": "white",
            "showbackground": true,
            "ticks": "",
            "zerolinecolor": "white"
           },
           "yaxis": {
            "backgroundcolor": "#E5ECF6",
            "gridcolor": "white",
            "gridwidth": 2,
            "linecolor": "white",
            "showbackground": true,
            "ticks": "",
            "zerolinecolor": "white"
           },
           "zaxis": {
            "backgroundcolor": "#E5ECF6",
            "gridcolor": "white",
            "gridwidth": 2,
            "linecolor": "white",
            "showbackground": true,
            "ticks": "",
            "zerolinecolor": "white"
           }
          },
          "shapedefaults": {
           "line": {
            "color": "#2a3f5f"
           }
          },
          "ternary": {
           "aaxis": {
            "gridcolor": "white",
            "linecolor": "white",
            "ticks": ""
           },
           "baxis": {
            "gridcolor": "white",
            "linecolor": "white",
            "ticks": ""
           },
           "bgcolor": "#E5ECF6",
           "caxis": {
            "gridcolor": "white",
            "linecolor": "white",
            "ticks": ""
           }
          },
          "title": {
           "x": 0.05
          },
          "xaxis": {
           "automargin": true,
           "gridcolor": "white",
           "linecolor": "white",
           "ticks": "",
           "title": {
            "standoff": 15
           },
           "zerolinecolor": "white",
           "zerolinewidth": 2
          },
          "yaxis": {
           "automargin": true,
           "gridcolor": "white",
           "linecolor": "white",
           "ticks": "",
           "title": {
            "standoff": 15
           },
           "zerolinecolor": "white",
           "zerolinewidth": 2
          }
         }
        },
        "title": {
         "text": "Target wise count"
        },
        "xaxis": {
         "anchor": "y",
         "categoryarray": [
          "mirai-udp",
          "mirai-syn",
          "mirai-scan",
          "gafgyt-udp",
          "mirai-ack",
          "gafgyt-tcp",
          "mirai-udpplain",
          "gafgyt-combo",
          "Benign",
          "gafgyt-scan",
          "gafgyt-junk"
         ],
         "categoryorder": "array",
         "domain": [
          0,
          1
         ],
         "title": {
          "text": "IoT BoT Name"
         }
        },
        "yaxis": {
         "anchor": "x",
         "domain": [
          0,
          1
         ],
         "title": {
          "text": "No of Samples"
         }
        }
       }
      }
     },
     "metadata": {},
     "output_type": "display_data"
    }
   ],
   "source": [
    "legend_position_dict = dict(bgcolor=\"#dcdcdc\", borderwidth=1, bordercolor=\"#00BCD4\", orientation='v',\n",
    "                            yanchor=\"top\", y=0.99, xanchor=\"right\", x=0.9, title=\"Targets\")\n",
    "display_bar_chart(target_counts, target_counts.index, target_counts.values, \n",
    "                  \"Target wise count\", \"IoT BoT Name\", \"No of Samples\", \n",
    "                  legend_position_dict=legend_position_dict)"
   ]
  },
  {
   "cell_type": "code",
   "execution_count": 73,
   "metadata": {},
   "outputs": [
    {
     "data": {
      "text/plain": [
       "MI_dir_L5_weight     0\n",
       "HpHp_L5_radius       0\n",
       "HpHp_L5_magnitude    0\n",
       "HpHp_L5_std          0\n",
       "HpHp_L5_mean         0\n",
       "                    ..\n",
       "HH_L5_std            0\n",
       "HH_L5_mean           0\n",
       "HH_L5_weight         0\n",
       "HH_L3_covariance     0\n",
       "target               0\n",
       "Length: 116, dtype: int64"
      ]
     },
     "execution_count": 73,
     "metadata": {},
     "output_type": "execute_result"
    }
   ],
   "source": [
    "df.isnull().sum().sort_values()"
   ]
  },
  {
   "cell_type": "code",
   "execution_count": 74,
   "metadata": {},
   "outputs": [
    {
     "data": {
      "text/html": [
       "<h6 class='messagebox messagebrown'><b>No</b> Missing Values are Available in Dataset</h6>"
      ],
      "text/plain": [
       "<IPython.core.display.HTML object>"
      ]
     },
     "metadata": {},
     "output_type": "display_data"
    }
   ],
   "source": [
    "display(HTML(\"<h6 class='messagebox messagebrown'><b>No</b> Missing Values are Available in Dataset</h6>\"))"
   ]
  },
  {
   "cell_type": "code",
   "execution_count": 75,
   "metadata": {},
   "outputs": [],
   "source": [
    "duplicated_rows = df.duplicated().sum()"
   ]
  },
  {
   "cell_type": "code",
   "execution_count": 76,
   "metadata": {},
   "outputs": [
    {
     "data": {
      "text/html": [
       "<h6 class='messagebox messagebrown'>There are 21759 Duplicated Rows Available in Dataset</h6>"
      ],
      "text/plain": [
       "<IPython.core.display.HTML object>"
      ]
     },
     "metadata": {},
     "output_type": "display_data"
    }
   ],
   "source": [
    "display(HTML(\"<h6 class='messagebox messagebrown'>There are {0} Duplicated Rows Available in Dataset</h6>\".format(duplicated_rows)))"
   ]
  },
  {
   "cell_type": "code",
   "execution_count": 77,
   "metadata": {},
   "outputs": [],
   "source": [
    "df.drop_duplicates(inplace=True)"
   ]
  },
  {
   "cell_type": "code",
   "execution_count": 78,
   "metadata": {},
   "outputs": [],
   "source": [
    "duplicated_rows = df.duplicated().sum()"
   ]
  },
  {
   "cell_type": "code",
   "execution_count": 79,
   "metadata": {},
   "outputs": [
    {
     "data": {
      "text/html": [
       "<h6 class='messagebox messagebrown'>There are 0 Duplicated Rows Available in Dataset</h6>"
      ],
      "text/plain": [
       "<IPython.core.display.HTML object>"
      ]
     },
     "metadata": {},
     "output_type": "display_data"
    }
   ],
   "source": [
    "display(HTML(\"<h6 class='messagebox messagebrown'>There are {0} Duplicated Rows Available in Dataset</h6>\".format(duplicated_rows)))"
   ]
  },
  {
   "cell_type": "code",
   "execution_count": 80,
   "metadata": {},
   "outputs": [],
   "source": [
    "counts = df.nunique()"
   ]
  },
  {
   "cell_type": "code",
   "execution_count": 81,
   "metadata": {},
   "outputs": [
    {
     "data": {
      "text/plain": [
       "MI_dir_L5_weight         793873\n",
       "MI_dir_L5_mean           750781\n",
       "MI_dir_L5_variance       756118\n",
       "MI_dir_L3_weight         800322\n",
       "MI_dir_L3_mean           778371\n",
       "                          ...  \n",
       "HpHp_L0.01_magnitude        775\n",
       "HpHp_L0.01_radius          1062\n",
       "HpHp_L0.01_covariance      8145\n",
       "HpHp_L0.01_pcc             6630\n",
       "target                       11\n",
       "Length: 116, dtype: int64"
      ]
     },
     "execution_count": 81,
     "metadata": {},
     "output_type": "execute_result"
    }
   ],
   "source": [
    "counts"
   ]
  },
  {
   "cell_type": "code",
   "execution_count": 82,
   "metadata": {},
   "outputs": [],
   "source": [
    "selected_features = ['H_L0.01_mean',\n",
    " 'MI_dir_L0.01_mean',\n",
    " 'H_L0.1_mean',\n",
    " 'MI_dir_L0.1_mean',\n",
    " 'H_L0.01_variance',\n",
    " 'MI_dir_L0.01_variance',\n",
    " 'H_L0.1_variance',\n",
    " 'MI_dir_L0.1_variance',\n",
    " 'MI_dir_L1_variance',\n",
    " 'H_L1_variance',\n",
    " 'H_L1_mean',\n",
    " 'MI_dir_L1_mean',\n",
    " 'MI_dir_L1_weight',\n",
    " 'H_L1_weight',\n",
    " 'MI_dir_L0.1_weight',\n",
    " 'H_L0.1_weight',\n",
    " 'MI_dir_L3_variance',\n",
    " 'H_L3_variance',\n",
    " 'H_L3_mean',\n",
    " 'MI_dir_L3_mean',\n",
    " 'MI_dir_L3_weight',\n",
    " 'H_L3_weight',\n",
    " 'MI_dir_L5_variance',\n",
    " 'H_L5_variance',\n",
    " 'H_L5_mean',\n",
    " 'MI_dir_L5_mean',\n",
    " 'MI_dir_L5_weight',\n",
    " 'H_L5_weight', \n",
    " 'target']"
   ]
  },
  {
   "cell_type": "code",
   "execution_count": 83,
   "metadata": {},
   "outputs": [],
   "source": [
    "df = df[selected_features]"
   ]
  },
  {
   "cell_type": "code",
   "execution_count": 84,
   "metadata": {},
   "outputs": [],
   "source": [
    "binary_opt1_df = df.copy()"
   ]
  },
  {
   "cell_type": "code",
   "execution_count": 85,
   "metadata": {},
   "outputs": [
    {
     "data": {
      "text/html": [
       "<div>\n",
       "<style scoped>\n",
       "    .dataframe tbody tr th:only-of-type {\n",
       "        vertical-align: middle;\n",
       "    }\n",
       "\n",
       "    .dataframe tbody tr th {\n",
       "        vertical-align: top;\n",
       "    }\n",
       "\n",
       "    .dataframe thead th {\n",
       "        text-align: right;\n",
       "    }\n",
       "</style>\n",
       "<table border=\"1\" class=\"dataframe\">\n",
       "  <thead>\n",
       "    <tr style=\"text-align: right;\">\n",
       "      <th></th>\n",
       "      <th>H_L0.01_mean</th>\n",
       "      <th>MI_dir_L0.01_mean</th>\n",
       "      <th>H_L0.1_mean</th>\n",
       "      <th>MI_dir_L0.1_mean</th>\n",
       "      <th>H_L0.01_variance</th>\n",
       "      <th>MI_dir_L0.01_variance</th>\n",
       "      <th>H_L0.1_variance</th>\n",
       "      <th>MI_dir_L0.1_variance</th>\n",
       "      <th>MI_dir_L1_variance</th>\n",
       "      <th>H_L1_variance</th>\n",
       "      <th>H_L1_mean</th>\n",
       "      <th>MI_dir_L1_mean</th>\n",
       "      <th>MI_dir_L1_weight</th>\n",
       "      <th>H_L1_weight</th>\n",
       "      <th>MI_dir_L0.1_weight</th>\n",
       "      <th>H_L0.1_weight</th>\n",
       "      <th>MI_dir_L3_variance</th>\n",
       "      <th>H_L3_variance</th>\n",
       "      <th>H_L3_mean</th>\n",
       "      <th>MI_dir_L3_mean</th>\n",
       "      <th>MI_dir_L3_weight</th>\n",
       "      <th>H_L3_weight</th>\n",
       "      <th>MI_dir_L5_variance</th>\n",
       "      <th>H_L5_variance</th>\n",
       "      <th>H_L5_mean</th>\n",
       "      <th>MI_dir_L5_mean</th>\n",
       "      <th>MI_dir_L5_weight</th>\n",
       "      <th>H_L5_weight</th>\n",
       "      <th>target</th>\n",
       "    </tr>\n",
       "  </thead>\n",
       "  <tbody>\n",
       "    <tr>\n",
       "      <th>0</th>\n",
       "      <td>566.000</td>\n",
       "      <td>566.000</td>\n",
       "      <td>566.000</td>\n",
       "      <td>566.000</td>\n",
       "      <td>0.000</td>\n",
       "      <td>0.000</td>\n",
       "      <td>0.000</td>\n",
       "      <td>0.000</td>\n",
       "      <td>0.000</td>\n",
       "      <td>0.000</td>\n",
       "      <td>566.000</td>\n",
       "      <td>566.000</td>\n",
       "      <td>1.000</td>\n",
       "      <td>1.000</td>\n",
       "      <td>1.000</td>\n",
       "      <td>1.000</td>\n",
       "      <td>0.000</td>\n",
       "      <td>0.000</td>\n",
       "      <td>566.000</td>\n",
       "      <td>566.000</td>\n",
       "      <td>1.000</td>\n",
       "      <td>1.000</td>\n",
       "      <td>0.000</td>\n",
       "      <td>0.000</td>\n",
       "      <td>566.000</td>\n",
       "      <td>566.000</td>\n",
       "      <td>1.000</td>\n",
       "      <td>1.000</td>\n",
       "      <td>mirai-ack</td>\n",
       "    </tr>\n",
       "    <tr>\n",
       "      <th>1</th>\n",
       "      <td>566.000</td>\n",
       "      <td>566.000</td>\n",
       "      <td>566.000</td>\n",
       "      <td>566.000</td>\n",
       "      <td>0.000</td>\n",
       "      <td>0.000</td>\n",
       "      <td>0.000</td>\n",
       "      <td>0.000</td>\n",
       "      <td>0.000</td>\n",
       "      <td>0.000</td>\n",
       "      <td>566.000</td>\n",
       "      <td>566.000</td>\n",
       "      <td>1.999</td>\n",
       "      <td>1.999</td>\n",
       "      <td>2.000</td>\n",
       "      <td>2.000</td>\n",
       "      <td>0.000</td>\n",
       "      <td>0.000</td>\n",
       "      <td>566.000</td>\n",
       "      <td>566.000</td>\n",
       "      <td>1.998</td>\n",
       "      <td>1.998</td>\n",
       "      <td>0.000</td>\n",
       "      <td>0.000</td>\n",
       "      <td>566.000</td>\n",
       "      <td>566.000</td>\n",
       "      <td>1.997</td>\n",
       "      <td>1.997</td>\n",
       "      <td>mirai-ack</td>\n",
       "    </tr>\n",
       "    <tr>\n",
       "      <th>2</th>\n",
       "      <td>566.000</td>\n",
       "      <td>566.000</td>\n",
       "      <td>566.000</td>\n",
       "      <td>566.000</td>\n",
       "      <td>0.000</td>\n",
       "      <td>0.000</td>\n",
       "      <td>0.000</td>\n",
       "      <td>0.000</td>\n",
       "      <td>0.000</td>\n",
       "      <td>0.000</td>\n",
       "      <td>566.000</td>\n",
       "      <td>566.000</td>\n",
       "      <td>2.992</td>\n",
       "      <td>2.992</td>\n",
       "      <td>2.999</td>\n",
       "      <td>2.999</td>\n",
       "      <td>0.000</td>\n",
       "      <td>0.000</td>\n",
       "      <td>566.000</td>\n",
       "      <td>566.000</td>\n",
       "      <td>2.975</td>\n",
       "      <td>2.975</td>\n",
       "      <td>0.000</td>\n",
       "      <td>0.000</td>\n",
       "      <td>566.000</td>\n",
       "      <td>566.000</td>\n",
       "      <td>2.959</td>\n",
       "      <td>2.959</td>\n",
       "      <td>mirai-ack</td>\n",
       "    </tr>\n",
       "    <tr>\n",
       "      <th>3</th>\n",
       "      <td>566.000</td>\n",
       "      <td>566.000</td>\n",
       "      <td>566.000</td>\n",
       "      <td>566.000</td>\n",
       "      <td>0.000</td>\n",
       "      <td>0.000</td>\n",
       "      <td>0.000</td>\n",
       "      <td>0.000</td>\n",
       "      <td>0.000</td>\n",
       "      <td>0.000</td>\n",
       "      <td>566.000</td>\n",
       "      <td>566.000</td>\n",
       "      <td>3.992</td>\n",
       "      <td>3.992</td>\n",
       "      <td>3.999</td>\n",
       "      <td>3.999</td>\n",
       "      <td>0.000</td>\n",
       "      <td>0.000</td>\n",
       "      <td>566.000</td>\n",
       "      <td>566.000</td>\n",
       "      <td>3.975</td>\n",
       "      <td>3.975</td>\n",
       "      <td>0.000</td>\n",
       "      <td>0.000</td>\n",
       "      <td>566.000</td>\n",
       "      <td>566.000</td>\n",
       "      <td>3.959</td>\n",
       "      <td>3.959</td>\n",
       "      <td>mirai-ack</td>\n",
       "    </tr>\n",
       "    <tr>\n",
       "      <th>4</th>\n",
       "      <td>566.000</td>\n",
       "      <td>566.000</td>\n",
       "      <td>566.000</td>\n",
       "      <td>566.000</td>\n",
       "      <td>0.000</td>\n",
       "      <td>0.000</td>\n",
       "      <td>0.000</td>\n",
       "      <td>0.000</td>\n",
       "      <td>0.000</td>\n",
       "      <td>0.000</td>\n",
       "      <td>566.000</td>\n",
       "      <td>566.000</td>\n",
       "      <td>4.983</td>\n",
       "      <td>4.983</td>\n",
       "      <td>4.998</td>\n",
       "      <td>4.998</td>\n",
       "      <td>0.000</td>\n",
       "      <td>0.000</td>\n",
       "      <td>566.000</td>\n",
       "      <td>566.000</td>\n",
       "      <td>4.948</td>\n",
       "      <td>4.948</td>\n",
       "      <td>0.000</td>\n",
       "      <td>0.000</td>\n",
       "      <td>566.000</td>\n",
       "      <td>566.000</td>\n",
       "      <td>4.914</td>\n",
       "      <td>4.914</td>\n",
       "      <td>mirai-ack</td>\n",
       "    </tr>\n",
       "    <tr>\n",
       "      <th>...</th>\n",
       "      <td>...</td>\n",
       "      <td>...</td>\n",
       "      <td>...</td>\n",
       "      <td>...</td>\n",
       "      <td>...</td>\n",
       "      <td>...</td>\n",
       "      <td>...</td>\n",
       "      <td>...</td>\n",
       "      <td>...</td>\n",
       "      <td>...</td>\n",
       "      <td>...</td>\n",
       "      <td>...</td>\n",
       "      <td>...</td>\n",
       "      <td>...</td>\n",
       "      <td>...</td>\n",
       "      <td>...</td>\n",
       "      <td>...</td>\n",
       "      <td>...</td>\n",
       "      <td>...</td>\n",
       "      <td>...</td>\n",
       "      <td>...</td>\n",
       "      <td>...</td>\n",
       "      <td>...</td>\n",
       "      <td>...</td>\n",
       "      <td>...</td>\n",
       "      <td>...</td>\n",
       "      <td>...</td>\n",
       "      <td>...</td>\n",
       "      <td>...</td>\n",
       "    </tr>\n",
       "    <tr>\n",
       "      <th>46492</th>\n",
       "      <td>91.176</td>\n",
       "      <td>91.176</td>\n",
       "      <td>94.082</td>\n",
       "      <td>94.082</td>\n",
       "      <td>314.849</td>\n",
       "      <td>314.849</td>\n",
       "      <td>253.797</td>\n",
       "      <td>253.797</td>\n",
       "      <td>0.196</td>\n",
       "      <td>0.196</td>\n",
       "      <td>101.995</td>\n",
       "      <td>101.995</td>\n",
       "      <td>1.999</td>\n",
       "      <td>1.999</td>\n",
       "      <td>3.294</td>\n",
       "      <td>3.294</td>\n",
       "      <td>0.000</td>\n",
       "      <td>0.000</td>\n",
       "      <td>102.000</td>\n",
       "      <td>102.000</td>\n",
       "      <td>1.996</td>\n",
       "      <td>1.996</td>\n",
       "      <td>0.000</td>\n",
       "      <td>0.000</td>\n",
       "      <td>102.000</td>\n",
       "      <td>102.000</td>\n",
       "      <td>1.994</td>\n",
       "      <td>1.994</td>\n",
       "      <td>Benign</td>\n",
       "    </tr>\n",
       "    <tr>\n",
       "      <th>46493</th>\n",
       "      <td>91.531</td>\n",
       "      <td>91.531</td>\n",
       "      <td>95.929</td>\n",
       "      <td>95.929</td>\n",
       "      <td>308.254</td>\n",
       "      <td>308.254</td>\n",
       "      <td>205.814</td>\n",
       "      <td>205.814</td>\n",
       "      <td>0.130</td>\n",
       "      <td>0.130</td>\n",
       "      <td>101.997</td>\n",
       "      <td>101.997</td>\n",
       "      <td>2.958</td>\n",
       "      <td>2.958</td>\n",
       "      <td>4.288</td>\n",
       "      <td>4.288</td>\n",
       "      <td>0.000</td>\n",
       "      <td>0.000</td>\n",
       "      <td>102.000</td>\n",
       "      <td>102.000</td>\n",
       "      <td>2.877</td>\n",
       "      <td>2.877</td>\n",
       "      <td>0.000</td>\n",
       "      <td>0.000</td>\n",
       "      <td>102.000</td>\n",
       "      <td>102.000</td>\n",
       "      <td>2.799</td>\n",
       "      <td>2.799</td>\n",
       "      <td>Benign</td>\n",
       "    </tr>\n",
       "    <tr>\n",
       "      <th>46494</th>\n",
       "      <td>91.862</td>\n",
       "      <td>91.862</td>\n",
       "      <td>97.077</td>\n",
       "      <td>97.077</td>\n",
       "      <td>301.850</td>\n",
       "      <td>301.850</td>\n",
       "      <td>172.542</td>\n",
       "      <td>172.542</td>\n",
       "      <td>0.097</td>\n",
       "      <td>0.097</td>\n",
       "      <td>101.998</td>\n",
       "      <td>101.998</td>\n",
       "      <td>3.958</td>\n",
       "      <td>3.958</td>\n",
       "      <td>5.288</td>\n",
       "      <td>5.288</td>\n",
       "      <td>0.000</td>\n",
       "      <td>0.000</td>\n",
       "      <td>102.000</td>\n",
       "      <td>102.000</td>\n",
       "      <td>3.877</td>\n",
       "      <td>3.877</td>\n",
       "      <td>0.000</td>\n",
       "      <td>0.000</td>\n",
       "      <td>102.000</td>\n",
       "      <td>102.000</td>\n",
       "      <td>3.799</td>\n",
       "      <td>3.799</td>\n",
       "      <td>Benign</td>\n",
       "    </tr>\n",
       "    <tr>\n",
       "      <th>46495</th>\n",
       "      <td>92.174</td>\n",
       "      <td>92.174</td>\n",
       "      <td>97.860</td>\n",
       "      <td>97.860</td>\n",
       "      <td>295.639</td>\n",
       "      <td>295.639</td>\n",
       "      <td>148.342</td>\n",
       "      <td>148.342</td>\n",
       "      <td>0.077</td>\n",
       "      <td>0.077</td>\n",
       "      <td>101.998</td>\n",
       "      <td>101.998</td>\n",
       "      <td>4.958</td>\n",
       "      <td>4.958</td>\n",
       "      <td>6.288</td>\n",
       "      <td>6.288</td>\n",
       "      <td>0.000</td>\n",
       "      <td>0.000</td>\n",
       "      <td>102.000</td>\n",
       "      <td>102.000</td>\n",
       "      <td>4.877</td>\n",
       "      <td>4.877</td>\n",
       "      <td>0.000</td>\n",
       "      <td>0.000</td>\n",
       "      <td>102.000</td>\n",
       "      <td>102.000</td>\n",
       "      <td>4.799</td>\n",
       "      <td>4.799</td>\n",
       "      <td>Benign</td>\n",
       "    </tr>\n",
       "    <tr>\n",
       "      <th>46496</th>\n",
       "      <td>91.181</td>\n",
       "      <td>91.181</td>\n",
       "      <td>90.851</td>\n",
       "      <td>90.851</td>\n",
       "      <td>317.464</td>\n",
       "      <td>317.464</td>\n",
       "      <td>337.114</td>\n",
       "      <td>337.114</td>\n",
       "      <td>190.206</td>\n",
       "      <td>190.206</td>\n",
       "      <td>65.164</td>\n",
       "      <td>65.164</td>\n",
       "      <td>1.140</td>\n",
       "      <td>1.140</td>\n",
       "      <td>5.402</td>\n",
       "      <td>5.402</td>\n",
       "      <td>0.194</td>\n",
       "      <td>0.194</td>\n",
       "      <td>60.005</td>\n",
       "      <td>60.005</td>\n",
       "      <td>1.000</td>\n",
       "      <td>1.000</td>\n",
       "      <td>0.000</td>\n",
       "      <td>0.000</td>\n",
       "      <td>60.000</td>\n",
       "      <td>60.000</td>\n",
       "      <td>1.000</td>\n",
       "      <td>1.000</td>\n",
       "      <td>Benign</td>\n",
       "    </tr>\n",
       "  </tbody>\n",
       "</table>\n",
       "<p>996539 rows × 29 columns</p>\n",
       "</div>"
      ],
      "text/plain": [
       "       H_L0.01_mean  MI_dir_L0.01_mean  H_L0.1_mean  MI_dir_L0.1_mean  \\\n",
       "0           566.000            566.000      566.000           566.000   \n",
       "1           566.000            566.000      566.000           566.000   \n",
       "2           566.000            566.000      566.000           566.000   \n",
       "3           566.000            566.000      566.000           566.000   \n",
       "4           566.000            566.000      566.000           566.000   \n",
       "...             ...                ...          ...               ...   \n",
       "46492        91.176             91.176       94.082            94.082   \n",
       "46493        91.531             91.531       95.929            95.929   \n",
       "46494        91.862             91.862       97.077            97.077   \n",
       "46495        92.174             92.174       97.860            97.860   \n",
       "46496        91.181             91.181       90.851            90.851   \n",
       "\n",
       "       H_L0.01_variance  MI_dir_L0.01_variance  H_L0.1_variance  \\\n",
       "0                 0.000                  0.000            0.000   \n",
       "1                 0.000                  0.000            0.000   \n",
       "2                 0.000                  0.000            0.000   \n",
       "3                 0.000                  0.000            0.000   \n",
       "4                 0.000                  0.000            0.000   \n",
       "...                 ...                    ...              ...   \n",
       "46492           314.849                314.849          253.797   \n",
       "46493           308.254                308.254          205.814   \n",
       "46494           301.850                301.850          172.542   \n",
       "46495           295.639                295.639          148.342   \n",
       "46496           317.464                317.464          337.114   \n",
       "\n",
       "       MI_dir_L0.1_variance  MI_dir_L1_variance  H_L1_variance  H_L1_mean  \\\n",
       "0                     0.000               0.000          0.000    566.000   \n",
       "1                     0.000               0.000          0.000    566.000   \n",
       "2                     0.000               0.000          0.000    566.000   \n",
       "3                     0.000               0.000          0.000    566.000   \n",
       "4                     0.000               0.000          0.000    566.000   \n",
       "...                     ...                 ...            ...        ...   \n",
       "46492               253.797               0.196          0.196    101.995   \n",
       "46493               205.814               0.130          0.130    101.997   \n",
       "46494               172.542               0.097          0.097    101.998   \n",
       "46495               148.342               0.077          0.077    101.998   \n",
       "46496               337.114             190.206        190.206     65.164   \n",
       "\n",
       "       MI_dir_L1_mean  MI_dir_L1_weight  H_L1_weight  MI_dir_L0.1_weight  \\\n",
       "0             566.000             1.000        1.000               1.000   \n",
       "1             566.000             1.999        1.999               2.000   \n",
       "2             566.000             2.992        2.992               2.999   \n",
       "3             566.000             3.992        3.992               3.999   \n",
       "4             566.000             4.983        4.983               4.998   \n",
       "...               ...               ...          ...                 ...   \n",
       "46492         101.995             1.999        1.999               3.294   \n",
       "46493         101.997             2.958        2.958               4.288   \n",
       "46494         101.998             3.958        3.958               5.288   \n",
       "46495         101.998             4.958        4.958               6.288   \n",
       "46496          65.164             1.140        1.140               5.402   \n",
       "\n",
       "       H_L0.1_weight  MI_dir_L3_variance  H_L3_variance  H_L3_mean  \\\n",
       "0              1.000               0.000          0.000    566.000   \n",
       "1              2.000               0.000          0.000    566.000   \n",
       "2              2.999               0.000          0.000    566.000   \n",
       "3              3.999               0.000          0.000    566.000   \n",
       "4              4.998               0.000          0.000    566.000   \n",
       "...              ...                 ...            ...        ...   \n",
       "46492          3.294               0.000          0.000    102.000   \n",
       "46493          4.288               0.000          0.000    102.000   \n",
       "46494          5.288               0.000          0.000    102.000   \n",
       "46495          6.288               0.000          0.000    102.000   \n",
       "46496          5.402               0.194          0.194     60.005   \n",
       "\n",
       "       MI_dir_L3_mean  MI_dir_L3_weight  H_L3_weight  MI_dir_L5_variance  \\\n",
       "0             566.000             1.000        1.000               0.000   \n",
       "1             566.000             1.998        1.998               0.000   \n",
       "2             566.000             2.975        2.975               0.000   \n",
       "3             566.000             3.975        3.975               0.000   \n",
       "4             566.000             4.948        4.948               0.000   \n",
       "...               ...               ...          ...                 ...   \n",
       "46492         102.000             1.996        1.996               0.000   \n",
       "46493         102.000             2.877        2.877               0.000   \n",
       "46494         102.000             3.877        3.877               0.000   \n",
       "46495         102.000             4.877        4.877               0.000   \n",
       "46496          60.005             1.000        1.000               0.000   \n",
       "\n",
       "       H_L5_variance  H_L5_mean  MI_dir_L5_mean  MI_dir_L5_weight  \\\n",
       "0              0.000    566.000         566.000             1.000   \n",
       "1              0.000    566.000         566.000             1.997   \n",
       "2              0.000    566.000         566.000             2.959   \n",
       "3              0.000    566.000         566.000             3.959   \n",
       "4              0.000    566.000         566.000             4.914   \n",
       "...              ...        ...             ...               ...   \n",
       "46492          0.000    102.000         102.000             1.994   \n",
       "46493          0.000    102.000         102.000             2.799   \n",
       "46494          0.000    102.000         102.000             3.799   \n",
       "46495          0.000    102.000         102.000             4.799   \n",
       "46496          0.000     60.000          60.000             1.000   \n",
       "\n",
       "       H_L5_weight     target  \n",
       "0            1.000  mirai-ack  \n",
       "1            1.997  mirai-ack  \n",
       "2            2.959  mirai-ack  \n",
       "3            3.959  mirai-ack  \n",
       "4            4.914  mirai-ack  \n",
       "...            ...        ...  \n",
       "46492        1.994     Benign  \n",
       "46493        2.799     Benign  \n",
       "46494        3.799     Benign  \n",
       "46495        4.799     Benign  \n",
       "46496        1.000     Benign  \n",
       "\n",
       "[996539 rows x 29 columns]"
      ]
     },
     "execution_count": 85,
     "metadata": {},
     "output_type": "execute_result"
    }
   ],
   "source": [
    "binary_opt1_df"
   ]
  },
  {
   "cell_type": "code",
   "execution_count": 86,
   "metadata": {},
   "outputs": [],
   "source": [
    "binary_opt1_df[\"target\"].replace(regex=r'^mirai-[a-z]*', value='IoT-Bot-Attack', inplace=True)"
   ]
  },
  {
   "cell_type": "code",
   "execution_count": 87,
   "metadata": {},
   "outputs": [
    {
     "data": {
      "text/html": [
       "<div>\n",
       "<style scoped>\n",
       "    .dataframe tbody tr th:only-of-type {\n",
       "        vertical-align: middle;\n",
       "    }\n",
       "\n",
       "    .dataframe tbody tr th {\n",
       "        vertical-align: top;\n",
       "    }\n",
       "\n",
       "    .dataframe thead th {\n",
       "        text-align: right;\n",
       "    }\n",
       "</style>\n",
       "<table border=\"1\" class=\"dataframe\">\n",
       "  <thead>\n",
       "    <tr style=\"text-align: right;\">\n",
       "      <th></th>\n",
       "      <th>H_L0.01_mean</th>\n",
       "      <th>MI_dir_L0.01_mean</th>\n",
       "      <th>H_L0.1_mean</th>\n",
       "      <th>MI_dir_L0.1_mean</th>\n",
       "      <th>H_L0.01_variance</th>\n",
       "      <th>MI_dir_L0.01_variance</th>\n",
       "      <th>H_L0.1_variance</th>\n",
       "      <th>MI_dir_L0.1_variance</th>\n",
       "      <th>MI_dir_L1_variance</th>\n",
       "      <th>H_L1_variance</th>\n",
       "      <th>H_L1_mean</th>\n",
       "      <th>MI_dir_L1_mean</th>\n",
       "      <th>MI_dir_L1_weight</th>\n",
       "      <th>H_L1_weight</th>\n",
       "      <th>MI_dir_L0.1_weight</th>\n",
       "      <th>H_L0.1_weight</th>\n",
       "      <th>MI_dir_L3_variance</th>\n",
       "      <th>H_L3_variance</th>\n",
       "      <th>H_L3_mean</th>\n",
       "      <th>MI_dir_L3_mean</th>\n",
       "      <th>MI_dir_L3_weight</th>\n",
       "      <th>H_L3_weight</th>\n",
       "      <th>MI_dir_L5_variance</th>\n",
       "      <th>H_L5_variance</th>\n",
       "      <th>H_L5_mean</th>\n",
       "      <th>MI_dir_L5_mean</th>\n",
       "      <th>MI_dir_L5_weight</th>\n",
       "      <th>H_L5_weight</th>\n",
       "      <th>target</th>\n",
       "    </tr>\n",
       "  </thead>\n",
       "  <tbody>\n",
       "    <tr>\n",
       "      <th>0</th>\n",
       "      <td>566.000</td>\n",
       "      <td>566.000</td>\n",
       "      <td>566.000</td>\n",
       "      <td>566.000</td>\n",
       "      <td>0.000</td>\n",
       "      <td>0.000</td>\n",
       "      <td>0.000</td>\n",
       "      <td>0.000</td>\n",
       "      <td>0.000</td>\n",
       "      <td>0.000</td>\n",
       "      <td>566.000</td>\n",
       "      <td>566.000</td>\n",
       "      <td>1.000</td>\n",
       "      <td>1.000</td>\n",
       "      <td>1.000</td>\n",
       "      <td>1.000</td>\n",
       "      <td>0.000</td>\n",
       "      <td>0.000</td>\n",
       "      <td>566.000</td>\n",
       "      <td>566.000</td>\n",
       "      <td>1.000</td>\n",
       "      <td>1.000</td>\n",
       "      <td>0.000</td>\n",
       "      <td>0.000</td>\n",
       "      <td>566.000</td>\n",
       "      <td>566.000</td>\n",
       "      <td>1.000</td>\n",
       "      <td>1.000</td>\n",
       "      <td>IoT-Bot-Attack</td>\n",
       "    </tr>\n",
       "    <tr>\n",
       "      <th>1</th>\n",
       "      <td>566.000</td>\n",
       "      <td>566.000</td>\n",
       "      <td>566.000</td>\n",
       "      <td>566.000</td>\n",
       "      <td>0.000</td>\n",
       "      <td>0.000</td>\n",
       "      <td>0.000</td>\n",
       "      <td>0.000</td>\n",
       "      <td>0.000</td>\n",
       "      <td>0.000</td>\n",
       "      <td>566.000</td>\n",
       "      <td>566.000</td>\n",
       "      <td>1.999</td>\n",
       "      <td>1.999</td>\n",
       "      <td>2.000</td>\n",
       "      <td>2.000</td>\n",
       "      <td>0.000</td>\n",
       "      <td>0.000</td>\n",
       "      <td>566.000</td>\n",
       "      <td>566.000</td>\n",
       "      <td>1.998</td>\n",
       "      <td>1.998</td>\n",
       "      <td>0.000</td>\n",
       "      <td>0.000</td>\n",
       "      <td>566.000</td>\n",
       "      <td>566.000</td>\n",
       "      <td>1.997</td>\n",
       "      <td>1.997</td>\n",
       "      <td>IoT-Bot-Attack</td>\n",
       "    </tr>\n",
       "    <tr>\n",
       "      <th>2</th>\n",
       "      <td>566.000</td>\n",
       "      <td>566.000</td>\n",
       "      <td>566.000</td>\n",
       "      <td>566.000</td>\n",
       "      <td>0.000</td>\n",
       "      <td>0.000</td>\n",
       "      <td>0.000</td>\n",
       "      <td>0.000</td>\n",
       "      <td>0.000</td>\n",
       "      <td>0.000</td>\n",
       "      <td>566.000</td>\n",
       "      <td>566.000</td>\n",
       "      <td>2.992</td>\n",
       "      <td>2.992</td>\n",
       "      <td>2.999</td>\n",
       "      <td>2.999</td>\n",
       "      <td>0.000</td>\n",
       "      <td>0.000</td>\n",
       "      <td>566.000</td>\n",
       "      <td>566.000</td>\n",
       "      <td>2.975</td>\n",
       "      <td>2.975</td>\n",
       "      <td>0.000</td>\n",
       "      <td>0.000</td>\n",
       "      <td>566.000</td>\n",
       "      <td>566.000</td>\n",
       "      <td>2.959</td>\n",
       "      <td>2.959</td>\n",
       "      <td>IoT-Bot-Attack</td>\n",
       "    </tr>\n",
       "    <tr>\n",
       "      <th>3</th>\n",
       "      <td>566.000</td>\n",
       "      <td>566.000</td>\n",
       "      <td>566.000</td>\n",
       "      <td>566.000</td>\n",
       "      <td>0.000</td>\n",
       "      <td>0.000</td>\n",
       "      <td>0.000</td>\n",
       "      <td>0.000</td>\n",
       "      <td>0.000</td>\n",
       "      <td>0.000</td>\n",
       "      <td>566.000</td>\n",
       "      <td>566.000</td>\n",
       "      <td>3.992</td>\n",
       "      <td>3.992</td>\n",
       "      <td>3.999</td>\n",
       "      <td>3.999</td>\n",
       "      <td>0.000</td>\n",
       "      <td>0.000</td>\n",
       "      <td>566.000</td>\n",
       "      <td>566.000</td>\n",
       "      <td>3.975</td>\n",
       "      <td>3.975</td>\n",
       "      <td>0.000</td>\n",
       "      <td>0.000</td>\n",
       "      <td>566.000</td>\n",
       "      <td>566.000</td>\n",
       "      <td>3.959</td>\n",
       "      <td>3.959</td>\n",
       "      <td>IoT-Bot-Attack</td>\n",
       "    </tr>\n",
       "    <tr>\n",
       "      <th>4</th>\n",
       "      <td>566.000</td>\n",
       "      <td>566.000</td>\n",
       "      <td>566.000</td>\n",
       "      <td>566.000</td>\n",
       "      <td>0.000</td>\n",
       "      <td>0.000</td>\n",
       "      <td>0.000</td>\n",
       "      <td>0.000</td>\n",
       "      <td>0.000</td>\n",
       "      <td>0.000</td>\n",
       "      <td>566.000</td>\n",
       "      <td>566.000</td>\n",
       "      <td>4.983</td>\n",
       "      <td>4.983</td>\n",
       "      <td>4.998</td>\n",
       "      <td>4.998</td>\n",
       "      <td>0.000</td>\n",
       "      <td>0.000</td>\n",
       "      <td>566.000</td>\n",
       "      <td>566.000</td>\n",
       "      <td>4.948</td>\n",
       "      <td>4.948</td>\n",
       "      <td>0.000</td>\n",
       "      <td>0.000</td>\n",
       "      <td>566.000</td>\n",
       "      <td>566.000</td>\n",
       "      <td>4.914</td>\n",
       "      <td>4.914</td>\n",
       "      <td>IoT-Bot-Attack</td>\n",
       "    </tr>\n",
       "    <tr>\n",
       "      <th>...</th>\n",
       "      <td>...</td>\n",
       "      <td>...</td>\n",
       "      <td>...</td>\n",
       "      <td>...</td>\n",
       "      <td>...</td>\n",
       "      <td>...</td>\n",
       "      <td>...</td>\n",
       "      <td>...</td>\n",
       "      <td>...</td>\n",
       "      <td>...</td>\n",
       "      <td>...</td>\n",
       "      <td>...</td>\n",
       "      <td>...</td>\n",
       "      <td>...</td>\n",
       "      <td>...</td>\n",
       "      <td>...</td>\n",
       "      <td>...</td>\n",
       "      <td>...</td>\n",
       "      <td>...</td>\n",
       "      <td>...</td>\n",
       "      <td>...</td>\n",
       "      <td>...</td>\n",
       "      <td>...</td>\n",
       "      <td>...</td>\n",
       "      <td>...</td>\n",
       "      <td>...</td>\n",
       "      <td>...</td>\n",
       "      <td>...</td>\n",
       "      <td>...</td>\n",
       "    </tr>\n",
       "    <tr>\n",
       "      <th>46492</th>\n",
       "      <td>91.176</td>\n",
       "      <td>91.176</td>\n",
       "      <td>94.082</td>\n",
       "      <td>94.082</td>\n",
       "      <td>314.849</td>\n",
       "      <td>314.849</td>\n",
       "      <td>253.797</td>\n",
       "      <td>253.797</td>\n",
       "      <td>0.196</td>\n",
       "      <td>0.196</td>\n",
       "      <td>101.995</td>\n",
       "      <td>101.995</td>\n",
       "      <td>1.999</td>\n",
       "      <td>1.999</td>\n",
       "      <td>3.294</td>\n",
       "      <td>3.294</td>\n",
       "      <td>0.000</td>\n",
       "      <td>0.000</td>\n",
       "      <td>102.000</td>\n",
       "      <td>102.000</td>\n",
       "      <td>1.996</td>\n",
       "      <td>1.996</td>\n",
       "      <td>0.000</td>\n",
       "      <td>0.000</td>\n",
       "      <td>102.000</td>\n",
       "      <td>102.000</td>\n",
       "      <td>1.994</td>\n",
       "      <td>1.994</td>\n",
       "      <td>Benign</td>\n",
       "    </tr>\n",
       "    <tr>\n",
       "      <th>46493</th>\n",
       "      <td>91.531</td>\n",
       "      <td>91.531</td>\n",
       "      <td>95.929</td>\n",
       "      <td>95.929</td>\n",
       "      <td>308.254</td>\n",
       "      <td>308.254</td>\n",
       "      <td>205.814</td>\n",
       "      <td>205.814</td>\n",
       "      <td>0.130</td>\n",
       "      <td>0.130</td>\n",
       "      <td>101.997</td>\n",
       "      <td>101.997</td>\n",
       "      <td>2.958</td>\n",
       "      <td>2.958</td>\n",
       "      <td>4.288</td>\n",
       "      <td>4.288</td>\n",
       "      <td>0.000</td>\n",
       "      <td>0.000</td>\n",
       "      <td>102.000</td>\n",
       "      <td>102.000</td>\n",
       "      <td>2.877</td>\n",
       "      <td>2.877</td>\n",
       "      <td>0.000</td>\n",
       "      <td>0.000</td>\n",
       "      <td>102.000</td>\n",
       "      <td>102.000</td>\n",
       "      <td>2.799</td>\n",
       "      <td>2.799</td>\n",
       "      <td>Benign</td>\n",
       "    </tr>\n",
       "    <tr>\n",
       "      <th>46494</th>\n",
       "      <td>91.862</td>\n",
       "      <td>91.862</td>\n",
       "      <td>97.077</td>\n",
       "      <td>97.077</td>\n",
       "      <td>301.850</td>\n",
       "      <td>301.850</td>\n",
       "      <td>172.542</td>\n",
       "      <td>172.542</td>\n",
       "      <td>0.097</td>\n",
       "      <td>0.097</td>\n",
       "      <td>101.998</td>\n",
       "      <td>101.998</td>\n",
       "      <td>3.958</td>\n",
       "      <td>3.958</td>\n",
       "      <td>5.288</td>\n",
       "      <td>5.288</td>\n",
       "      <td>0.000</td>\n",
       "      <td>0.000</td>\n",
       "      <td>102.000</td>\n",
       "      <td>102.000</td>\n",
       "      <td>3.877</td>\n",
       "      <td>3.877</td>\n",
       "      <td>0.000</td>\n",
       "      <td>0.000</td>\n",
       "      <td>102.000</td>\n",
       "      <td>102.000</td>\n",
       "      <td>3.799</td>\n",
       "      <td>3.799</td>\n",
       "      <td>Benign</td>\n",
       "    </tr>\n",
       "    <tr>\n",
       "      <th>46495</th>\n",
       "      <td>92.174</td>\n",
       "      <td>92.174</td>\n",
       "      <td>97.860</td>\n",
       "      <td>97.860</td>\n",
       "      <td>295.639</td>\n",
       "      <td>295.639</td>\n",
       "      <td>148.342</td>\n",
       "      <td>148.342</td>\n",
       "      <td>0.077</td>\n",
       "      <td>0.077</td>\n",
       "      <td>101.998</td>\n",
       "      <td>101.998</td>\n",
       "      <td>4.958</td>\n",
       "      <td>4.958</td>\n",
       "      <td>6.288</td>\n",
       "      <td>6.288</td>\n",
       "      <td>0.000</td>\n",
       "      <td>0.000</td>\n",
       "      <td>102.000</td>\n",
       "      <td>102.000</td>\n",
       "      <td>4.877</td>\n",
       "      <td>4.877</td>\n",
       "      <td>0.000</td>\n",
       "      <td>0.000</td>\n",
       "      <td>102.000</td>\n",
       "      <td>102.000</td>\n",
       "      <td>4.799</td>\n",
       "      <td>4.799</td>\n",
       "      <td>Benign</td>\n",
       "    </tr>\n",
       "    <tr>\n",
       "      <th>46496</th>\n",
       "      <td>91.181</td>\n",
       "      <td>91.181</td>\n",
       "      <td>90.851</td>\n",
       "      <td>90.851</td>\n",
       "      <td>317.464</td>\n",
       "      <td>317.464</td>\n",
       "      <td>337.114</td>\n",
       "      <td>337.114</td>\n",
       "      <td>190.206</td>\n",
       "      <td>190.206</td>\n",
       "      <td>65.164</td>\n",
       "      <td>65.164</td>\n",
       "      <td>1.140</td>\n",
       "      <td>1.140</td>\n",
       "      <td>5.402</td>\n",
       "      <td>5.402</td>\n",
       "      <td>0.194</td>\n",
       "      <td>0.194</td>\n",
       "      <td>60.005</td>\n",
       "      <td>60.005</td>\n",
       "      <td>1.000</td>\n",
       "      <td>1.000</td>\n",
       "      <td>0.000</td>\n",
       "      <td>0.000</td>\n",
       "      <td>60.000</td>\n",
       "      <td>60.000</td>\n",
       "      <td>1.000</td>\n",
       "      <td>1.000</td>\n",
       "      <td>Benign</td>\n",
       "    </tr>\n",
       "  </tbody>\n",
       "</table>\n",
       "<p>996539 rows × 29 columns</p>\n",
       "</div>"
      ],
      "text/plain": [
       "       H_L0.01_mean  MI_dir_L0.01_mean  H_L0.1_mean  MI_dir_L0.1_mean  \\\n",
       "0           566.000            566.000      566.000           566.000   \n",
       "1           566.000            566.000      566.000           566.000   \n",
       "2           566.000            566.000      566.000           566.000   \n",
       "3           566.000            566.000      566.000           566.000   \n",
       "4           566.000            566.000      566.000           566.000   \n",
       "...             ...                ...          ...               ...   \n",
       "46492        91.176             91.176       94.082            94.082   \n",
       "46493        91.531             91.531       95.929            95.929   \n",
       "46494        91.862             91.862       97.077            97.077   \n",
       "46495        92.174             92.174       97.860            97.860   \n",
       "46496        91.181             91.181       90.851            90.851   \n",
       "\n",
       "       H_L0.01_variance  MI_dir_L0.01_variance  H_L0.1_variance  \\\n",
       "0                 0.000                  0.000            0.000   \n",
       "1                 0.000                  0.000            0.000   \n",
       "2                 0.000                  0.000            0.000   \n",
       "3                 0.000                  0.000            0.000   \n",
       "4                 0.000                  0.000            0.000   \n",
       "...                 ...                    ...              ...   \n",
       "46492           314.849                314.849          253.797   \n",
       "46493           308.254                308.254          205.814   \n",
       "46494           301.850                301.850          172.542   \n",
       "46495           295.639                295.639          148.342   \n",
       "46496           317.464                317.464          337.114   \n",
       "\n",
       "       MI_dir_L0.1_variance  MI_dir_L1_variance  H_L1_variance  H_L1_mean  \\\n",
       "0                     0.000               0.000          0.000    566.000   \n",
       "1                     0.000               0.000          0.000    566.000   \n",
       "2                     0.000               0.000          0.000    566.000   \n",
       "3                     0.000               0.000          0.000    566.000   \n",
       "4                     0.000               0.000          0.000    566.000   \n",
       "...                     ...                 ...            ...        ...   \n",
       "46492               253.797               0.196          0.196    101.995   \n",
       "46493               205.814               0.130          0.130    101.997   \n",
       "46494               172.542               0.097          0.097    101.998   \n",
       "46495               148.342               0.077          0.077    101.998   \n",
       "46496               337.114             190.206        190.206     65.164   \n",
       "\n",
       "       MI_dir_L1_mean  MI_dir_L1_weight  H_L1_weight  MI_dir_L0.1_weight  \\\n",
       "0             566.000             1.000        1.000               1.000   \n",
       "1             566.000             1.999        1.999               2.000   \n",
       "2             566.000             2.992        2.992               2.999   \n",
       "3             566.000             3.992        3.992               3.999   \n",
       "4             566.000             4.983        4.983               4.998   \n",
       "...               ...               ...          ...                 ...   \n",
       "46492         101.995             1.999        1.999               3.294   \n",
       "46493         101.997             2.958        2.958               4.288   \n",
       "46494         101.998             3.958        3.958               5.288   \n",
       "46495         101.998             4.958        4.958               6.288   \n",
       "46496          65.164             1.140        1.140               5.402   \n",
       "\n",
       "       H_L0.1_weight  MI_dir_L3_variance  H_L3_variance  H_L3_mean  \\\n",
       "0              1.000               0.000          0.000    566.000   \n",
       "1              2.000               0.000          0.000    566.000   \n",
       "2              2.999               0.000          0.000    566.000   \n",
       "3              3.999               0.000          0.000    566.000   \n",
       "4              4.998               0.000          0.000    566.000   \n",
       "...              ...                 ...            ...        ...   \n",
       "46492          3.294               0.000          0.000    102.000   \n",
       "46493          4.288               0.000          0.000    102.000   \n",
       "46494          5.288               0.000          0.000    102.000   \n",
       "46495          6.288               0.000          0.000    102.000   \n",
       "46496          5.402               0.194          0.194     60.005   \n",
       "\n",
       "       MI_dir_L3_mean  MI_dir_L3_weight  H_L3_weight  MI_dir_L5_variance  \\\n",
       "0             566.000             1.000        1.000               0.000   \n",
       "1             566.000             1.998        1.998               0.000   \n",
       "2             566.000             2.975        2.975               0.000   \n",
       "3             566.000             3.975        3.975               0.000   \n",
       "4             566.000             4.948        4.948               0.000   \n",
       "...               ...               ...          ...                 ...   \n",
       "46492         102.000             1.996        1.996               0.000   \n",
       "46493         102.000             2.877        2.877               0.000   \n",
       "46494         102.000             3.877        3.877               0.000   \n",
       "46495         102.000             4.877        4.877               0.000   \n",
       "46496          60.005             1.000        1.000               0.000   \n",
       "\n",
       "       H_L5_variance  H_L5_mean  MI_dir_L5_mean  MI_dir_L5_weight  \\\n",
       "0              0.000    566.000         566.000             1.000   \n",
       "1              0.000    566.000         566.000             1.997   \n",
       "2              0.000    566.000         566.000             2.959   \n",
       "3              0.000    566.000         566.000             3.959   \n",
       "4              0.000    566.000         566.000             4.914   \n",
       "...              ...        ...             ...               ...   \n",
       "46492          0.000    102.000         102.000             1.994   \n",
       "46493          0.000    102.000         102.000             2.799   \n",
       "46494          0.000    102.000         102.000             3.799   \n",
       "46495          0.000    102.000         102.000             4.799   \n",
       "46496          0.000     60.000          60.000             1.000   \n",
       "\n",
       "       H_L5_weight          target  \n",
       "0            1.000  IoT-Bot-Attack  \n",
       "1            1.997  IoT-Bot-Attack  \n",
       "2            2.959  IoT-Bot-Attack  \n",
       "3            3.959  IoT-Bot-Attack  \n",
       "4            4.914  IoT-Bot-Attack  \n",
       "...            ...             ...  \n",
       "46492        1.994          Benign  \n",
       "46493        2.799          Benign  \n",
       "46494        3.799          Benign  \n",
       "46495        4.799          Benign  \n",
       "46496        1.000          Benign  \n",
       "\n",
       "[996539 rows x 29 columns]"
      ]
     },
     "execution_count": 87,
     "metadata": {},
     "output_type": "execute_result"
    }
   ],
   "source": [
    "binary_opt1_df"
   ]
  },
  {
   "cell_type": "code",
   "execution_count": 88,
   "metadata": {},
   "outputs": [],
   "source": [
    "binary_opt1_df[\"target\"].replace(regex=r'^gafgyt-[a-z]*', value='IoT-Bot-Attack', inplace=True)"
   ]
  },
  {
   "cell_type": "code",
   "execution_count": 89,
   "metadata": {},
   "outputs": [
    {
     "data": {
      "text/html": [
       "<div>\n",
       "<style scoped>\n",
       "    .dataframe tbody tr th:only-of-type {\n",
       "        vertical-align: middle;\n",
       "    }\n",
       "\n",
       "    .dataframe tbody tr th {\n",
       "        vertical-align: top;\n",
       "    }\n",
       "\n",
       "    .dataframe thead th {\n",
       "        text-align: right;\n",
       "    }\n",
       "</style>\n",
       "<table border=\"1\" class=\"dataframe\">\n",
       "  <thead>\n",
       "    <tr style=\"text-align: right;\">\n",
       "      <th></th>\n",
       "      <th>H_L0.01_mean</th>\n",
       "      <th>MI_dir_L0.01_mean</th>\n",
       "      <th>H_L0.1_mean</th>\n",
       "      <th>MI_dir_L0.1_mean</th>\n",
       "      <th>H_L0.01_variance</th>\n",
       "      <th>MI_dir_L0.01_variance</th>\n",
       "      <th>H_L0.1_variance</th>\n",
       "      <th>MI_dir_L0.1_variance</th>\n",
       "      <th>MI_dir_L1_variance</th>\n",
       "      <th>H_L1_variance</th>\n",
       "      <th>H_L1_mean</th>\n",
       "      <th>MI_dir_L1_mean</th>\n",
       "      <th>MI_dir_L1_weight</th>\n",
       "      <th>H_L1_weight</th>\n",
       "      <th>MI_dir_L0.1_weight</th>\n",
       "      <th>H_L0.1_weight</th>\n",
       "      <th>MI_dir_L3_variance</th>\n",
       "      <th>H_L3_variance</th>\n",
       "      <th>H_L3_mean</th>\n",
       "      <th>MI_dir_L3_mean</th>\n",
       "      <th>MI_dir_L3_weight</th>\n",
       "      <th>H_L3_weight</th>\n",
       "      <th>MI_dir_L5_variance</th>\n",
       "      <th>H_L5_variance</th>\n",
       "      <th>H_L5_mean</th>\n",
       "      <th>MI_dir_L5_mean</th>\n",
       "      <th>MI_dir_L5_weight</th>\n",
       "      <th>H_L5_weight</th>\n",
       "      <th>target</th>\n",
       "    </tr>\n",
       "  </thead>\n",
       "  <tbody>\n",
       "    <tr>\n",
       "      <th>0</th>\n",
       "      <td>566.000</td>\n",
       "      <td>566.000</td>\n",
       "      <td>566.000</td>\n",
       "      <td>566.000</td>\n",
       "      <td>0.000</td>\n",
       "      <td>0.000</td>\n",
       "      <td>0.000</td>\n",
       "      <td>0.000</td>\n",
       "      <td>0.000</td>\n",
       "      <td>0.000</td>\n",
       "      <td>566.000</td>\n",
       "      <td>566.000</td>\n",
       "      <td>1.000</td>\n",
       "      <td>1.000</td>\n",
       "      <td>1.000</td>\n",
       "      <td>1.000</td>\n",
       "      <td>0.000</td>\n",
       "      <td>0.000</td>\n",
       "      <td>566.000</td>\n",
       "      <td>566.000</td>\n",
       "      <td>1.000</td>\n",
       "      <td>1.000</td>\n",
       "      <td>0.000</td>\n",
       "      <td>0.000</td>\n",
       "      <td>566.000</td>\n",
       "      <td>566.000</td>\n",
       "      <td>1.000</td>\n",
       "      <td>1.000</td>\n",
       "      <td>IoT-Bot-Attack</td>\n",
       "    </tr>\n",
       "    <tr>\n",
       "      <th>1</th>\n",
       "      <td>566.000</td>\n",
       "      <td>566.000</td>\n",
       "      <td>566.000</td>\n",
       "      <td>566.000</td>\n",
       "      <td>0.000</td>\n",
       "      <td>0.000</td>\n",
       "      <td>0.000</td>\n",
       "      <td>0.000</td>\n",
       "      <td>0.000</td>\n",
       "      <td>0.000</td>\n",
       "      <td>566.000</td>\n",
       "      <td>566.000</td>\n",
       "      <td>1.999</td>\n",
       "      <td>1.999</td>\n",
       "      <td>2.000</td>\n",
       "      <td>2.000</td>\n",
       "      <td>0.000</td>\n",
       "      <td>0.000</td>\n",
       "      <td>566.000</td>\n",
       "      <td>566.000</td>\n",
       "      <td>1.998</td>\n",
       "      <td>1.998</td>\n",
       "      <td>0.000</td>\n",
       "      <td>0.000</td>\n",
       "      <td>566.000</td>\n",
       "      <td>566.000</td>\n",
       "      <td>1.997</td>\n",
       "      <td>1.997</td>\n",
       "      <td>IoT-Bot-Attack</td>\n",
       "    </tr>\n",
       "    <tr>\n",
       "      <th>2</th>\n",
       "      <td>566.000</td>\n",
       "      <td>566.000</td>\n",
       "      <td>566.000</td>\n",
       "      <td>566.000</td>\n",
       "      <td>0.000</td>\n",
       "      <td>0.000</td>\n",
       "      <td>0.000</td>\n",
       "      <td>0.000</td>\n",
       "      <td>0.000</td>\n",
       "      <td>0.000</td>\n",
       "      <td>566.000</td>\n",
       "      <td>566.000</td>\n",
       "      <td>2.992</td>\n",
       "      <td>2.992</td>\n",
       "      <td>2.999</td>\n",
       "      <td>2.999</td>\n",
       "      <td>0.000</td>\n",
       "      <td>0.000</td>\n",
       "      <td>566.000</td>\n",
       "      <td>566.000</td>\n",
       "      <td>2.975</td>\n",
       "      <td>2.975</td>\n",
       "      <td>0.000</td>\n",
       "      <td>0.000</td>\n",
       "      <td>566.000</td>\n",
       "      <td>566.000</td>\n",
       "      <td>2.959</td>\n",
       "      <td>2.959</td>\n",
       "      <td>IoT-Bot-Attack</td>\n",
       "    </tr>\n",
       "    <tr>\n",
       "      <th>3</th>\n",
       "      <td>566.000</td>\n",
       "      <td>566.000</td>\n",
       "      <td>566.000</td>\n",
       "      <td>566.000</td>\n",
       "      <td>0.000</td>\n",
       "      <td>0.000</td>\n",
       "      <td>0.000</td>\n",
       "      <td>0.000</td>\n",
       "      <td>0.000</td>\n",
       "      <td>0.000</td>\n",
       "      <td>566.000</td>\n",
       "      <td>566.000</td>\n",
       "      <td>3.992</td>\n",
       "      <td>3.992</td>\n",
       "      <td>3.999</td>\n",
       "      <td>3.999</td>\n",
       "      <td>0.000</td>\n",
       "      <td>0.000</td>\n",
       "      <td>566.000</td>\n",
       "      <td>566.000</td>\n",
       "      <td>3.975</td>\n",
       "      <td>3.975</td>\n",
       "      <td>0.000</td>\n",
       "      <td>0.000</td>\n",
       "      <td>566.000</td>\n",
       "      <td>566.000</td>\n",
       "      <td>3.959</td>\n",
       "      <td>3.959</td>\n",
       "      <td>IoT-Bot-Attack</td>\n",
       "    </tr>\n",
       "    <tr>\n",
       "      <th>4</th>\n",
       "      <td>566.000</td>\n",
       "      <td>566.000</td>\n",
       "      <td>566.000</td>\n",
       "      <td>566.000</td>\n",
       "      <td>0.000</td>\n",
       "      <td>0.000</td>\n",
       "      <td>0.000</td>\n",
       "      <td>0.000</td>\n",
       "      <td>0.000</td>\n",
       "      <td>0.000</td>\n",
       "      <td>566.000</td>\n",
       "      <td>566.000</td>\n",
       "      <td>4.983</td>\n",
       "      <td>4.983</td>\n",
       "      <td>4.998</td>\n",
       "      <td>4.998</td>\n",
       "      <td>0.000</td>\n",
       "      <td>0.000</td>\n",
       "      <td>566.000</td>\n",
       "      <td>566.000</td>\n",
       "      <td>4.948</td>\n",
       "      <td>4.948</td>\n",
       "      <td>0.000</td>\n",
       "      <td>0.000</td>\n",
       "      <td>566.000</td>\n",
       "      <td>566.000</td>\n",
       "      <td>4.914</td>\n",
       "      <td>4.914</td>\n",
       "      <td>IoT-Bot-Attack</td>\n",
       "    </tr>\n",
       "    <tr>\n",
       "      <th>...</th>\n",
       "      <td>...</td>\n",
       "      <td>...</td>\n",
       "      <td>...</td>\n",
       "      <td>...</td>\n",
       "      <td>...</td>\n",
       "      <td>...</td>\n",
       "      <td>...</td>\n",
       "      <td>...</td>\n",
       "      <td>...</td>\n",
       "      <td>...</td>\n",
       "      <td>...</td>\n",
       "      <td>...</td>\n",
       "      <td>...</td>\n",
       "      <td>...</td>\n",
       "      <td>...</td>\n",
       "      <td>...</td>\n",
       "      <td>...</td>\n",
       "      <td>...</td>\n",
       "      <td>...</td>\n",
       "      <td>...</td>\n",
       "      <td>...</td>\n",
       "      <td>...</td>\n",
       "      <td>...</td>\n",
       "      <td>...</td>\n",
       "      <td>...</td>\n",
       "      <td>...</td>\n",
       "      <td>...</td>\n",
       "      <td>...</td>\n",
       "      <td>...</td>\n",
       "    </tr>\n",
       "    <tr>\n",
       "      <th>46492</th>\n",
       "      <td>91.176</td>\n",
       "      <td>91.176</td>\n",
       "      <td>94.082</td>\n",
       "      <td>94.082</td>\n",
       "      <td>314.849</td>\n",
       "      <td>314.849</td>\n",
       "      <td>253.797</td>\n",
       "      <td>253.797</td>\n",
       "      <td>0.196</td>\n",
       "      <td>0.196</td>\n",
       "      <td>101.995</td>\n",
       "      <td>101.995</td>\n",
       "      <td>1.999</td>\n",
       "      <td>1.999</td>\n",
       "      <td>3.294</td>\n",
       "      <td>3.294</td>\n",
       "      <td>0.000</td>\n",
       "      <td>0.000</td>\n",
       "      <td>102.000</td>\n",
       "      <td>102.000</td>\n",
       "      <td>1.996</td>\n",
       "      <td>1.996</td>\n",
       "      <td>0.000</td>\n",
       "      <td>0.000</td>\n",
       "      <td>102.000</td>\n",
       "      <td>102.000</td>\n",
       "      <td>1.994</td>\n",
       "      <td>1.994</td>\n",
       "      <td>Benign</td>\n",
       "    </tr>\n",
       "    <tr>\n",
       "      <th>46493</th>\n",
       "      <td>91.531</td>\n",
       "      <td>91.531</td>\n",
       "      <td>95.929</td>\n",
       "      <td>95.929</td>\n",
       "      <td>308.254</td>\n",
       "      <td>308.254</td>\n",
       "      <td>205.814</td>\n",
       "      <td>205.814</td>\n",
       "      <td>0.130</td>\n",
       "      <td>0.130</td>\n",
       "      <td>101.997</td>\n",
       "      <td>101.997</td>\n",
       "      <td>2.958</td>\n",
       "      <td>2.958</td>\n",
       "      <td>4.288</td>\n",
       "      <td>4.288</td>\n",
       "      <td>0.000</td>\n",
       "      <td>0.000</td>\n",
       "      <td>102.000</td>\n",
       "      <td>102.000</td>\n",
       "      <td>2.877</td>\n",
       "      <td>2.877</td>\n",
       "      <td>0.000</td>\n",
       "      <td>0.000</td>\n",
       "      <td>102.000</td>\n",
       "      <td>102.000</td>\n",
       "      <td>2.799</td>\n",
       "      <td>2.799</td>\n",
       "      <td>Benign</td>\n",
       "    </tr>\n",
       "    <tr>\n",
       "      <th>46494</th>\n",
       "      <td>91.862</td>\n",
       "      <td>91.862</td>\n",
       "      <td>97.077</td>\n",
       "      <td>97.077</td>\n",
       "      <td>301.850</td>\n",
       "      <td>301.850</td>\n",
       "      <td>172.542</td>\n",
       "      <td>172.542</td>\n",
       "      <td>0.097</td>\n",
       "      <td>0.097</td>\n",
       "      <td>101.998</td>\n",
       "      <td>101.998</td>\n",
       "      <td>3.958</td>\n",
       "      <td>3.958</td>\n",
       "      <td>5.288</td>\n",
       "      <td>5.288</td>\n",
       "      <td>0.000</td>\n",
       "      <td>0.000</td>\n",
       "      <td>102.000</td>\n",
       "      <td>102.000</td>\n",
       "      <td>3.877</td>\n",
       "      <td>3.877</td>\n",
       "      <td>0.000</td>\n",
       "      <td>0.000</td>\n",
       "      <td>102.000</td>\n",
       "      <td>102.000</td>\n",
       "      <td>3.799</td>\n",
       "      <td>3.799</td>\n",
       "      <td>Benign</td>\n",
       "    </tr>\n",
       "    <tr>\n",
       "      <th>46495</th>\n",
       "      <td>92.174</td>\n",
       "      <td>92.174</td>\n",
       "      <td>97.860</td>\n",
       "      <td>97.860</td>\n",
       "      <td>295.639</td>\n",
       "      <td>295.639</td>\n",
       "      <td>148.342</td>\n",
       "      <td>148.342</td>\n",
       "      <td>0.077</td>\n",
       "      <td>0.077</td>\n",
       "      <td>101.998</td>\n",
       "      <td>101.998</td>\n",
       "      <td>4.958</td>\n",
       "      <td>4.958</td>\n",
       "      <td>6.288</td>\n",
       "      <td>6.288</td>\n",
       "      <td>0.000</td>\n",
       "      <td>0.000</td>\n",
       "      <td>102.000</td>\n",
       "      <td>102.000</td>\n",
       "      <td>4.877</td>\n",
       "      <td>4.877</td>\n",
       "      <td>0.000</td>\n",
       "      <td>0.000</td>\n",
       "      <td>102.000</td>\n",
       "      <td>102.000</td>\n",
       "      <td>4.799</td>\n",
       "      <td>4.799</td>\n",
       "      <td>Benign</td>\n",
       "    </tr>\n",
       "    <tr>\n",
       "      <th>46496</th>\n",
       "      <td>91.181</td>\n",
       "      <td>91.181</td>\n",
       "      <td>90.851</td>\n",
       "      <td>90.851</td>\n",
       "      <td>317.464</td>\n",
       "      <td>317.464</td>\n",
       "      <td>337.114</td>\n",
       "      <td>337.114</td>\n",
       "      <td>190.206</td>\n",
       "      <td>190.206</td>\n",
       "      <td>65.164</td>\n",
       "      <td>65.164</td>\n",
       "      <td>1.140</td>\n",
       "      <td>1.140</td>\n",
       "      <td>5.402</td>\n",
       "      <td>5.402</td>\n",
       "      <td>0.194</td>\n",
       "      <td>0.194</td>\n",
       "      <td>60.005</td>\n",
       "      <td>60.005</td>\n",
       "      <td>1.000</td>\n",
       "      <td>1.000</td>\n",
       "      <td>0.000</td>\n",
       "      <td>0.000</td>\n",
       "      <td>60.000</td>\n",
       "      <td>60.000</td>\n",
       "      <td>1.000</td>\n",
       "      <td>1.000</td>\n",
       "      <td>Benign</td>\n",
       "    </tr>\n",
       "  </tbody>\n",
       "</table>\n",
       "<p>996539 rows × 29 columns</p>\n",
       "</div>"
      ],
      "text/plain": [
       "       H_L0.01_mean  MI_dir_L0.01_mean  H_L0.1_mean  MI_dir_L0.1_mean  \\\n",
       "0           566.000            566.000      566.000           566.000   \n",
       "1           566.000            566.000      566.000           566.000   \n",
       "2           566.000            566.000      566.000           566.000   \n",
       "3           566.000            566.000      566.000           566.000   \n",
       "4           566.000            566.000      566.000           566.000   \n",
       "...             ...                ...          ...               ...   \n",
       "46492        91.176             91.176       94.082            94.082   \n",
       "46493        91.531             91.531       95.929            95.929   \n",
       "46494        91.862             91.862       97.077            97.077   \n",
       "46495        92.174             92.174       97.860            97.860   \n",
       "46496        91.181             91.181       90.851            90.851   \n",
       "\n",
       "       H_L0.01_variance  MI_dir_L0.01_variance  H_L0.1_variance  \\\n",
       "0                 0.000                  0.000            0.000   \n",
       "1                 0.000                  0.000            0.000   \n",
       "2                 0.000                  0.000            0.000   \n",
       "3                 0.000                  0.000            0.000   \n",
       "4                 0.000                  0.000            0.000   \n",
       "...                 ...                    ...              ...   \n",
       "46492           314.849                314.849          253.797   \n",
       "46493           308.254                308.254          205.814   \n",
       "46494           301.850                301.850          172.542   \n",
       "46495           295.639                295.639          148.342   \n",
       "46496           317.464                317.464          337.114   \n",
       "\n",
       "       MI_dir_L0.1_variance  MI_dir_L1_variance  H_L1_variance  H_L1_mean  \\\n",
       "0                     0.000               0.000          0.000    566.000   \n",
       "1                     0.000               0.000          0.000    566.000   \n",
       "2                     0.000               0.000          0.000    566.000   \n",
       "3                     0.000               0.000          0.000    566.000   \n",
       "4                     0.000               0.000          0.000    566.000   \n",
       "...                     ...                 ...            ...        ...   \n",
       "46492               253.797               0.196          0.196    101.995   \n",
       "46493               205.814               0.130          0.130    101.997   \n",
       "46494               172.542               0.097          0.097    101.998   \n",
       "46495               148.342               0.077          0.077    101.998   \n",
       "46496               337.114             190.206        190.206     65.164   \n",
       "\n",
       "       MI_dir_L1_mean  MI_dir_L1_weight  H_L1_weight  MI_dir_L0.1_weight  \\\n",
       "0             566.000             1.000        1.000               1.000   \n",
       "1             566.000             1.999        1.999               2.000   \n",
       "2             566.000             2.992        2.992               2.999   \n",
       "3             566.000             3.992        3.992               3.999   \n",
       "4             566.000             4.983        4.983               4.998   \n",
       "...               ...               ...          ...                 ...   \n",
       "46492         101.995             1.999        1.999               3.294   \n",
       "46493         101.997             2.958        2.958               4.288   \n",
       "46494         101.998             3.958        3.958               5.288   \n",
       "46495         101.998             4.958        4.958               6.288   \n",
       "46496          65.164             1.140        1.140               5.402   \n",
       "\n",
       "       H_L0.1_weight  MI_dir_L3_variance  H_L3_variance  H_L3_mean  \\\n",
       "0              1.000               0.000          0.000    566.000   \n",
       "1              2.000               0.000          0.000    566.000   \n",
       "2              2.999               0.000          0.000    566.000   \n",
       "3              3.999               0.000          0.000    566.000   \n",
       "4              4.998               0.000          0.000    566.000   \n",
       "...              ...                 ...            ...        ...   \n",
       "46492          3.294               0.000          0.000    102.000   \n",
       "46493          4.288               0.000          0.000    102.000   \n",
       "46494          5.288               0.000          0.000    102.000   \n",
       "46495          6.288               0.000          0.000    102.000   \n",
       "46496          5.402               0.194          0.194     60.005   \n",
       "\n",
       "       MI_dir_L3_mean  MI_dir_L3_weight  H_L3_weight  MI_dir_L5_variance  \\\n",
       "0             566.000             1.000        1.000               0.000   \n",
       "1             566.000             1.998        1.998               0.000   \n",
       "2             566.000             2.975        2.975               0.000   \n",
       "3             566.000             3.975        3.975               0.000   \n",
       "4             566.000             4.948        4.948               0.000   \n",
       "...               ...               ...          ...                 ...   \n",
       "46492         102.000             1.996        1.996               0.000   \n",
       "46493         102.000             2.877        2.877               0.000   \n",
       "46494         102.000             3.877        3.877               0.000   \n",
       "46495         102.000             4.877        4.877               0.000   \n",
       "46496          60.005             1.000        1.000               0.000   \n",
       "\n",
       "       H_L5_variance  H_L5_mean  MI_dir_L5_mean  MI_dir_L5_weight  \\\n",
       "0              0.000    566.000         566.000             1.000   \n",
       "1              0.000    566.000         566.000             1.997   \n",
       "2              0.000    566.000         566.000             2.959   \n",
       "3              0.000    566.000         566.000             3.959   \n",
       "4              0.000    566.000         566.000             4.914   \n",
       "...              ...        ...             ...               ...   \n",
       "46492          0.000    102.000         102.000             1.994   \n",
       "46493          0.000    102.000         102.000             2.799   \n",
       "46494          0.000    102.000         102.000             3.799   \n",
       "46495          0.000    102.000         102.000             4.799   \n",
       "46496          0.000     60.000          60.000             1.000   \n",
       "\n",
       "       H_L5_weight          target  \n",
       "0            1.000  IoT-Bot-Attack  \n",
       "1            1.997  IoT-Bot-Attack  \n",
       "2            2.959  IoT-Bot-Attack  \n",
       "3            3.959  IoT-Bot-Attack  \n",
       "4            4.914  IoT-Bot-Attack  \n",
       "...            ...             ...  \n",
       "46492        1.994          Benign  \n",
       "46493        2.799          Benign  \n",
       "46494        3.799          Benign  \n",
       "46495        4.799          Benign  \n",
       "46496        1.000          Benign  \n",
       "\n",
       "[996539 rows x 29 columns]"
      ]
     },
     "execution_count": 89,
     "metadata": {},
     "output_type": "execute_result"
    }
   ],
   "source": [
    "binary_opt1_df"
   ]
  },
  {
   "cell_type": "code",
   "execution_count": 90,
   "metadata": {},
   "outputs": [],
   "source": [
    "binary_target_counts = binary_opt1_df[\"target\"].value_counts()"
   ]
  },
  {
   "cell_type": "code",
   "execution_count": 91,
   "metadata": {},
   "outputs": [
    {
     "data": {
      "text/plain": [
       "996539"
      ]
     },
     "execution_count": 91,
     "metadata": {},
     "output_type": "execute_result"
    }
   ],
   "source": [
    "956144 + 40395"
   ]
  },
  {
   "cell_type": "code",
   "execution_count": 92,
   "metadata": {},
   "outputs": [
    {
     "data": {
      "text/plain": [
       "0.9594647073521457"
      ]
     },
     "execution_count": 92,
     "metadata": {},
     "output_type": "execute_result"
    }
   ],
   "source": [
    "956144 / 996539"
   ]
  },
  {
   "cell_type": "code",
   "execution_count": 93,
   "metadata": {},
   "outputs": [
    {
     "data": {
      "text/plain": [
       "target\n",
       "IoT-Bot-Attack    956144\n",
       "Benign             40395\n",
       "Name: count, dtype: int64"
      ]
     },
     "execution_count": 93,
     "metadata": {},
     "output_type": "execute_result"
    }
   ],
   "source": [
    "binary_target_counts"
   ]
  },
  {
   "cell_type": "code",
   "execution_count": 94,
   "metadata": {},
   "outputs": [
    {
     "data": {
      "application/vnd.plotly.v1+json": {
       "config": {
        "plotlyServerURL": "https://plot.ly"
       },
       "data": [
        {
         "alignmentgroup": "True",
         "hovertemplate": "target=%{x}<br>y=%{y}<extra></extra>",
         "legendgroup": "IoT-Bot-Attack",
         "marker": {
          "color": "#636efa",
          "pattern": {
           "shape": ""
          }
         },
         "name": "IoT-Bot-Attack",
         "offsetgroup": "IoT-Bot-Attack",
         "orientation": "v",
         "showlegend": true,
         "textposition": "auto",
         "texttemplate": "%{y}",
         "type": "bar",
         "x": [
          "IoT-Bot-Attack"
         ],
         "xaxis": "x",
         "y": [
          956144
         ],
         "yaxis": "y"
        },
        {
         "alignmentgroup": "True",
         "hovertemplate": "target=%{x}<br>y=%{y}<extra></extra>",
         "legendgroup": "Benign",
         "marker": {
          "color": "#EF553B",
          "pattern": {
           "shape": ""
          }
         },
         "name": "Benign",
         "offsetgroup": "Benign",
         "orientation": "v",
         "showlegend": true,
         "textposition": "auto",
         "texttemplate": "%{y}",
         "type": "bar",
         "x": [
          "Benign"
         ],
         "xaxis": "x",
         "y": [
          40395
         ],
         "yaxis": "y"
        }
       ],
       "layout": {
        "barmode": "relative",
        "legend": {
         "bgcolor": "#dcdcdc",
         "bordercolor": "#00BCD4",
         "borderwidth": 1,
         "orientation": "v",
         "title": {
          "text": "Targets"
         },
         "tracegroupgap": 0,
         "x": 0.9,
         "xanchor": "right",
         "y": 0.99,
         "yanchor": "top"
        },
        "margin": {
         "t": 60
        },
        "template": {
         "data": {
          "bar": [
           {
            "error_x": {
             "color": "#2a3f5f"
            },
            "error_y": {
             "color": "#2a3f5f"
            },
            "marker": {
             "line": {
              "color": "#E5ECF6",
              "width": 0.5
             },
             "pattern": {
              "fillmode": "overlay",
              "size": 10,
              "solidity": 0.2
             }
            },
            "type": "bar"
           }
          ],
          "barpolar": [
           {
            "marker": {
             "line": {
              "color": "#E5ECF6",
              "width": 0.5
             },
             "pattern": {
              "fillmode": "overlay",
              "size": 10,
              "solidity": 0.2
             }
            },
            "type": "barpolar"
           }
          ],
          "carpet": [
           {
            "aaxis": {
             "endlinecolor": "#2a3f5f",
             "gridcolor": "white",
             "linecolor": "white",
             "minorgridcolor": "white",
             "startlinecolor": "#2a3f5f"
            },
            "baxis": {
             "endlinecolor": "#2a3f5f",
             "gridcolor": "white",
             "linecolor": "white",
             "minorgridcolor": "white",
             "startlinecolor": "#2a3f5f"
            },
            "type": "carpet"
           }
          ],
          "choropleth": [
           {
            "colorbar": {
             "outlinewidth": 0,
             "ticks": ""
            },
            "type": "choropleth"
           }
          ],
          "contour": [
           {
            "colorbar": {
             "outlinewidth": 0,
             "ticks": ""
            },
            "colorscale": [
             [
              0,
              "#0d0887"
             ],
             [
              0.1111111111111111,
              "#46039f"
             ],
             [
              0.2222222222222222,
              "#7201a8"
             ],
             [
              0.3333333333333333,
              "#9c179e"
             ],
             [
              0.4444444444444444,
              "#bd3786"
             ],
             [
              0.5555555555555556,
              "#d8576b"
             ],
             [
              0.6666666666666666,
              "#ed7953"
             ],
             [
              0.7777777777777778,
              "#fb9f3a"
             ],
             [
              0.8888888888888888,
              "#fdca26"
             ],
             [
              1,
              "#f0f921"
             ]
            ],
            "type": "contour"
           }
          ],
          "contourcarpet": [
           {
            "colorbar": {
             "outlinewidth": 0,
             "ticks": ""
            },
            "type": "contourcarpet"
           }
          ],
          "heatmap": [
           {
            "colorbar": {
             "outlinewidth": 0,
             "ticks": ""
            },
            "colorscale": [
             [
              0,
              "#0d0887"
             ],
             [
              0.1111111111111111,
              "#46039f"
             ],
             [
              0.2222222222222222,
              "#7201a8"
             ],
             [
              0.3333333333333333,
              "#9c179e"
             ],
             [
              0.4444444444444444,
              "#bd3786"
             ],
             [
              0.5555555555555556,
              "#d8576b"
             ],
             [
              0.6666666666666666,
              "#ed7953"
             ],
             [
              0.7777777777777778,
              "#fb9f3a"
             ],
             [
              0.8888888888888888,
              "#fdca26"
             ],
             [
              1,
              "#f0f921"
             ]
            ],
            "type": "heatmap"
           }
          ],
          "heatmapgl": [
           {
            "colorbar": {
             "outlinewidth": 0,
             "ticks": ""
            },
            "colorscale": [
             [
              0,
              "#0d0887"
             ],
             [
              0.1111111111111111,
              "#46039f"
             ],
             [
              0.2222222222222222,
              "#7201a8"
             ],
             [
              0.3333333333333333,
              "#9c179e"
             ],
             [
              0.4444444444444444,
              "#bd3786"
             ],
             [
              0.5555555555555556,
              "#d8576b"
             ],
             [
              0.6666666666666666,
              "#ed7953"
             ],
             [
              0.7777777777777778,
              "#fb9f3a"
             ],
             [
              0.8888888888888888,
              "#fdca26"
             ],
             [
              1,
              "#f0f921"
             ]
            ],
            "type": "heatmapgl"
           }
          ],
          "histogram": [
           {
            "marker": {
             "pattern": {
              "fillmode": "overlay",
              "size": 10,
              "solidity": 0.2
             }
            },
            "type": "histogram"
           }
          ],
          "histogram2d": [
           {
            "colorbar": {
             "outlinewidth": 0,
             "ticks": ""
            },
            "colorscale": [
             [
              0,
              "#0d0887"
             ],
             [
              0.1111111111111111,
              "#46039f"
             ],
             [
              0.2222222222222222,
              "#7201a8"
             ],
             [
              0.3333333333333333,
              "#9c179e"
             ],
             [
              0.4444444444444444,
              "#bd3786"
             ],
             [
              0.5555555555555556,
              "#d8576b"
             ],
             [
              0.6666666666666666,
              "#ed7953"
             ],
             [
              0.7777777777777778,
              "#fb9f3a"
             ],
             [
              0.8888888888888888,
              "#fdca26"
             ],
             [
              1,
              "#f0f921"
             ]
            ],
            "type": "histogram2d"
           }
          ],
          "histogram2dcontour": [
           {
            "colorbar": {
             "outlinewidth": 0,
             "ticks": ""
            },
            "colorscale": [
             [
              0,
              "#0d0887"
             ],
             [
              0.1111111111111111,
              "#46039f"
             ],
             [
              0.2222222222222222,
              "#7201a8"
             ],
             [
              0.3333333333333333,
              "#9c179e"
             ],
             [
              0.4444444444444444,
              "#bd3786"
             ],
             [
              0.5555555555555556,
              "#d8576b"
             ],
             [
              0.6666666666666666,
              "#ed7953"
             ],
             [
              0.7777777777777778,
              "#fb9f3a"
             ],
             [
              0.8888888888888888,
              "#fdca26"
             ],
             [
              1,
              "#f0f921"
             ]
            ],
            "type": "histogram2dcontour"
           }
          ],
          "mesh3d": [
           {
            "colorbar": {
             "outlinewidth": 0,
             "ticks": ""
            },
            "type": "mesh3d"
           }
          ],
          "parcoords": [
           {
            "line": {
             "colorbar": {
              "outlinewidth": 0,
              "ticks": ""
             }
            },
            "type": "parcoords"
           }
          ],
          "pie": [
           {
            "automargin": true,
            "type": "pie"
           }
          ],
          "scatter": [
           {
            "fillpattern": {
             "fillmode": "overlay",
             "size": 10,
             "solidity": 0.2
            },
            "type": "scatter"
           }
          ],
          "scatter3d": [
           {
            "line": {
             "colorbar": {
              "outlinewidth": 0,
              "ticks": ""
             }
            },
            "marker": {
             "colorbar": {
              "outlinewidth": 0,
              "ticks": ""
             }
            },
            "type": "scatter3d"
           }
          ],
          "scattercarpet": [
           {
            "marker": {
             "colorbar": {
              "outlinewidth": 0,
              "ticks": ""
             }
            },
            "type": "scattercarpet"
           }
          ],
          "scattergeo": [
           {
            "marker": {
             "colorbar": {
              "outlinewidth": 0,
              "ticks": ""
             }
            },
            "type": "scattergeo"
           }
          ],
          "scattergl": [
           {
            "marker": {
             "colorbar": {
              "outlinewidth": 0,
              "ticks": ""
             }
            },
            "type": "scattergl"
           }
          ],
          "scattermapbox": [
           {
            "marker": {
             "colorbar": {
              "outlinewidth": 0,
              "ticks": ""
             }
            },
            "type": "scattermapbox"
           }
          ],
          "scatterpolar": [
           {
            "marker": {
             "colorbar": {
              "outlinewidth": 0,
              "ticks": ""
             }
            },
            "type": "scatterpolar"
           }
          ],
          "scatterpolargl": [
           {
            "marker": {
             "colorbar": {
              "outlinewidth": 0,
              "ticks": ""
             }
            },
            "type": "scatterpolargl"
           }
          ],
          "scatterternary": [
           {
            "marker": {
             "colorbar": {
              "outlinewidth": 0,
              "ticks": ""
             }
            },
            "type": "scatterternary"
           }
          ],
          "surface": [
           {
            "colorbar": {
             "outlinewidth": 0,
             "ticks": ""
            },
            "colorscale": [
             [
              0,
              "#0d0887"
             ],
             [
              0.1111111111111111,
              "#46039f"
             ],
             [
              0.2222222222222222,
              "#7201a8"
             ],
             [
              0.3333333333333333,
              "#9c179e"
             ],
             [
              0.4444444444444444,
              "#bd3786"
             ],
             [
              0.5555555555555556,
              "#d8576b"
             ],
             [
              0.6666666666666666,
              "#ed7953"
             ],
             [
              0.7777777777777778,
              "#fb9f3a"
             ],
             [
              0.8888888888888888,
              "#fdca26"
             ],
             [
              1,
              "#f0f921"
             ]
            ],
            "type": "surface"
           }
          ],
          "table": [
           {
            "cells": {
             "fill": {
              "color": "#EBF0F8"
             },
             "line": {
              "color": "white"
             }
            },
            "header": {
             "fill": {
              "color": "#C8D4E3"
             },
             "line": {
              "color": "white"
             }
            },
            "type": "table"
           }
          ]
         },
         "layout": {
          "annotationdefaults": {
           "arrowcolor": "#2a3f5f",
           "arrowhead": 0,
           "arrowwidth": 1
          },
          "autotypenumbers": "strict",
          "coloraxis": {
           "colorbar": {
            "outlinewidth": 0,
            "ticks": ""
           }
          },
          "colorscale": {
           "diverging": [
            [
             0,
             "#8e0152"
            ],
            [
             0.1,
             "#c51b7d"
            ],
            [
             0.2,
             "#de77ae"
            ],
            [
             0.3,
             "#f1b6da"
            ],
            [
             0.4,
             "#fde0ef"
            ],
            [
             0.5,
             "#f7f7f7"
            ],
            [
             0.6,
             "#e6f5d0"
            ],
            [
             0.7,
             "#b8e186"
            ],
            [
             0.8,
             "#7fbc41"
            ],
            [
             0.9,
             "#4d9221"
            ],
            [
             1,
             "#276419"
            ]
           ],
           "sequential": [
            [
             0,
             "#0d0887"
            ],
            [
             0.1111111111111111,
             "#46039f"
            ],
            [
             0.2222222222222222,
             "#7201a8"
            ],
            [
             0.3333333333333333,
             "#9c179e"
            ],
            [
             0.4444444444444444,
             "#bd3786"
            ],
            [
             0.5555555555555556,
             "#d8576b"
            ],
            [
             0.6666666666666666,
             "#ed7953"
            ],
            [
             0.7777777777777778,
             "#fb9f3a"
            ],
            [
             0.8888888888888888,
             "#fdca26"
            ],
            [
             1,
             "#f0f921"
            ]
           ],
           "sequentialminus": [
            [
             0,
             "#0d0887"
            ],
            [
             0.1111111111111111,
             "#46039f"
            ],
            [
             0.2222222222222222,
             "#7201a8"
            ],
            [
             0.3333333333333333,
             "#9c179e"
            ],
            [
             0.4444444444444444,
             "#bd3786"
            ],
            [
             0.5555555555555556,
             "#d8576b"
            ],
            [
             0.6666666666666666,
             "#ed7953"
            ],
            [
             0.7777777777777778,
             "#fb9f3a"
            ],
            [
             0.8888888888888888,
             "#fdca26"
            ],
            [
             1,
             "#f0f921"
            ]
           ]
          },
          "colorway": [
           "#636efa",
           "#EF553B",
           "#00cc96",
           "#ab63fa",
           "#FFA15A",
           "#19d3f3",
           "#FF6692",
           "#B6E880",
           "#FF97FF",
           "#FECB52"
          ],
          "font": {
           "color": "#2a3f5f"
          },
          "geo": {
           "bgcolor": "white",
           "lakecolor": "white",
           "landcolor": "#E5ECF6",
           "showlakes": true,
           "showland": true,
           "subunitcolor": "white"
          },
          "hoverlabel": {
           "align": "left"
          },
          "hovermode": "closest",
          "mapbox": {
           "style": "light"
          },
          "paper_bgcolor": "white",
          "plot_bgcolor": "#E5ECF6",
          "polar": {
           "angularaxis": {
            "gridcolor": "white",
            "linecolor": "white",
            "ticks": ""
           },
           "bgcolor": "#E5ECF6",
           "radialaxis": {
            "gridcolor": "white",
            "linecolor": "white",
            "ticks": ""
           }
          },
          "scene": {
           "xaxis": {
            "backgroundcolor": "#E5ECF6",
            "gridcolor": "white",
            "gridwidth": 2,
            "linecolor": "white",
            "showbackground": true,
            "ticks": "",
            "zerolinecolor": "white"
           },
           "yaxis": {
            "backgroundcolor": "#E5ECF6",
            "gridcolor": "white",
            "gridwidth": 2,
            "linecolor": "white",
            "showbackground": true,
            "ticks": "",
            "zerolinecolor": "white"
           },
           "zaxis": {
            "backgroundcolor": "#E5ECF6",
            "gridcolor": "white",
            "gridwidth": 2,
            "linecolor": "white",
            "showbackground": true,
            "ticks": "",
            "zerolinecolor": "white"
           }
          },
          "shapedefaults": {
           "line": {
            "color": "#2a3f5f"
           }
          },
          "ternary": {
           "aaxis": {
            "gridcolor": "white",
            "linecolor": "white",
            "ticks": ""
           },
           "baxis": {
            "gridcolor": "white",
            "linecolor": "white",
            "ticks": ""
           },
           "bgcolor": "#E5ECF6",
           "caxis": {
            "gridcolor": "white",
            "linecolor": "white",
            "ticks": ""
           }
          },
          "title": {
           "x": 0.05
          },
          "xaxis": {
           "automargin": true,
           "gridcolor": "white",
           "linecolor": "white",
           "ticks": "",
           "title": {
            "standoff": 15
           },
           "zerolinecolor": "white",
           "zerolinewidth": 2
          },
          "yaxis": {
           "automargin": true,
           "gridcolor": "white",
           "linecolor": "white",
           "ticks": "",
           "title": {
            "standoff": 15
           },
           "zerolinecolor": "white",
           "zerolinewidth": 2
          }
         }
        },
        "title": {
         "text": "Binary Classification. Option 1: Target wise count"
        },
        "xaxis": {
         "anchor": "y",
         "categoryarray": [
          "IoT-Bot-Attack",
          "Benign"
         ],
         "categoryorder": "array",
         "domain": [
          0,
          1
         ],
         "title": {
          "text": "Traffic Information"
         }
        },
        "yaxis": {
         "anchor": "x",
         "domain": [
          0,
          1
         ],
         "title": {
          "text": "No of Samples"
         }
        }
       }
      }
     },
     "metadata": {},
     "output_type": "display_data"
    }
   ],
   "source": [
    "legend_position_dict = dict(bgcolor=\"#dcdcdc\", borderwidth=1, bordercolor=\"#00BCD4\", orientation='v',\n",
    "                            yanchor=\"top\", y=0.99, xanchor=\"right\", x=0.9, title=\"Targets\")\n",
    "display_bar_chart(binary_target_counts, binary_target_counts.index, binary_target_counts.values, \n",
    "                  \"Binary Classification. Option 1: Target wise count\", \"Traffic Information\", \"No of Samples\", \n",
    "                  legend_position_dict=legend_position_dict)"
   ]
  },
  {
   "cell_type": "code",
   "execution_count": 95,
   "metadata": {},
   "outputs": [],
   "source": [
    "main_attack_opt2_df = df.copy()"
   ]
  },
  {
   "cell_type": "code",
   "execution_count": 96,
   "metadata": {},
   "outputs": [],
   "source": [
    "main_attack_opt2_df[\"target\"].replace(regex=r'^mirai-[a-z]*', value='mirai', inplace=True)"
   ]
  },
  {
   "cell_type": "code",
   "execution_count": 97,
   "metadata": {},
   "outputs": [],
   "source": [
    "main_attack_opt2_df[\"target\"].replace(regex=r'^gafgyt-[a-z]*', value='gafgyt', inplace=True)"
   ]
  },
  {
   "cell_type": "code",
   "execution_count": 98,
   "metadata": {},
   "outputs": [],
   "source": [
    "main_attack_target_counts = main_attack_opt2_df[\"target\"].value_counts()"
   ]
  },
  {
   "cell_type": "code",
   "execution_count": 99,
   "metadata": {},
   "outputs": [
    {
     "data": {
      "text/plain": [
       "target\n",
       "mirai     652100\n",
       "gafgyt    304044\n",
       "Benign     40395\n",
       "Name: count, dtype: int64"
      ]
     },
     "execution_count": 99,
     "metadata": {},
     "output_type": "execute_result"
    }
   ],
   "source": [
    "main_attack_target_counts"
   ]
  },
  {
   "cell_type": "code",
   "execution_count": 100,
   "metadata": {},
   "outputs": [
    {
     "data": {
      "application/vnd.plotly.v1+json": {
       "config": {
        "plotlyServerURL": "https://plot.ly"
       },
       "data": [
        {
         "alignmentgroup": "True",
         "hovertemplate": "target=%{x}<br>y=%{y}<extra></extra>",
         "legendgroup": "mirai",
         "marker": {
          "color": "#636efa",
          "pattern": {
           "shape": ""
          }
         },
         "name": "mirai",
         "offsetgroup": "mirai",
         "orientation": "v",
         "showlegend": true,
         "textposition": "auto",
         "texttemplate": "%{y}",
         "type": "bar",
         "x": [
          "mirai"
         ],
         "xaxis": "x",
         "y": [
          652100
         ],
         "yaxis": "y"
        },
        {
         "alignmentgroup": "True",
         "hovertemplate": "target=%{x}<br>y=%{y}<extra></extra>",
         "legendgroup": "gafgyt",
         "marker": {
          "color": "#EF553B",
          "pattern": {
           "shape": ""
          }
         },
         "name": "gafgyt",
         "offsetgroup": "gafgyt",
         "orientation": "v",
         "showlegend": true,
         "textposition": "auto",
         "texttemplate": "%{y}",
         "type": "bar",
         "x": [
          "gafgyt"
         ],
         "xaxis": "x",
         "y": [
          304044
         ],
         "yaxis": "y"
        },
        {
         "alignmentgroup": "True",
         "hovertemplate": "target=%{x}<br>y=%{y}<extra></extra>",
         "legendgroup": "Benign",
         "marker": {
          "color": "#00cc96",
          "pattern": {
           "shape": ""
          }
         },
         "name": "Benign",
         "offsetgroup": "Benign",
         "orientation": "v",
         "showlegend": true,
         "textposition": "auto",
         "texttemplate": "%{y}",
         "type": "bar",
         "x": [
          "Benign"
         ],
         "xaxis": "x",
         "y": [
          40395
         ],
         "yaxis": "y"
        }
       ],
       "layout": {
        "barmode": "relative",
        "legend": {
         "bgcolor": "#dcdcdc",
         "bordercolor": "#00BCD4",
         "borderwidth": 1,
         "orientation": "v",
         "title": {
          "text": "Targets"
         },
         "tracegroupgap": 0,
         "x": 0.9,
         "xanchor": "right",
         "y": 0.99,
         "yanchor": "top"
        },
        "margin": {
         "t": 60
        },
        "template": {
         "data": {
          "bar": [
           {
            "error_x": {
             "color": "#2a3f5f"
            },
            "error_y": {
             "color": "#2a3f5f"
            },
            "marker": {
             "line": {
              "color": "#E5ECF6",
              "width": 0.5
             },
             "pattern": {
              "fillmode": "overlay",
              "size": 10,
              "solidity": 0.2
             }
            },
            "type": "bar"
           }
          ],
          "barpolar": [
           {
            "marker": {
             "line": {
              "color": "#E5ECF6",
              "width": 0.5
             },
             "pattern": {
              "fillmode": "overlay",
              "size": 10,
              "solidity": 0.2
             }
            },
            "type": "barpolar"
           }
          ],
          "carpet": [
           {
            "aaxis": {
             "endlinecolor": "#2a3f5f",
             "gridcolor": "white",
             "linecolor": "white",
             "minorgridcolor": "white",
             "startlinecolor": "#2a3f5f"
            },
            "baxis": {
             "endlinecolor": "#2a3f5f",
             "gridcolor": "white",
             "linecolor": "white",
             "minorgridcolor": "white",
             "startlinecolor": "#2a3f5f"
            },
            "type": "carpet"
           }
          ],
          "choropleth": [
           {
            "colorbar": {
             "outlinewidth": 0,
             "ticks": ""
            },
            "type": "choropleth"
           }
          ],
          "contour": [
           {
            "colorbar": {
             "outlinewidth": 0,
             "ticks": ""
            },
            "colorscale": [
             [
              0,
              "#0d0887"
             ],
             [
              0.1111111111111111,
              "#46039f"
             ],
             [
              0.2222222222222222,
              "#7201a8"
             ],
             [
              0.3333333333333333,
              "#9c179e"
             ],
             [
              0.4444444444444444,
              "#bd3786"
             ],
             [
              0.5555555555555556,
              "#d8576b"
             ],
             [
              0.6666666666666666,
              "#ed7953"
             ],
             [
              0.7777777777777778,
              "#fb9f3a"
             ],
             [
              0.8888888888888888,
              "#fdca26"
             ],
             [
              1,
              "#f0f921"
             ]
            ],
            "type": "contour"
           }
          ],
          "contourcarpet": [
           {
            "colorbar": {
             "outlinewidth": 0,
             "ticks": ""
            },
            "type": "contourcarpet"
           }
          ],
          "heatmap": [
           {
            "colorbar": {
             "outlinewidth": 0,
             "ticks": ""
            },
            "colorscale": [
             [
              0,
              "#0d0887"
             ],
             [
              0.1111111111111111,
              "#46039f"
             ],
             [
              0.2222222222222222,
              "#7201a8"
             ],
             [
              0.3333333333333333,
              "#9c179e"
             ],
             [
              0.4444444444444444,
              "#bd3786"
             ],
             [
              0.5555555555555556,
              "#d8576b"
             ],
             [
              0.6666666666666666,
              "#ed7953"
             ],
             [
              0.7777777777777778,
              "#fb9f3a"
             ],
             [
              0.8888888888888888,
              "#fdca26"
             ],
             [
              1,
              "#f0f921"
             ]
            ],
            "type": "heatmap"
           }
          ],
          "heatmapgl": [
           {
            "colorbar": {
             "outlinewidth": 0,
             "ticks": ""
            },
            "colorscale": [
             [
              0,
              "#0d0887"
             ],
             [
              0.1111111111111111,
              "#46039f"
             ],
             [
              0.2222222222222222,
              "#7201a8"
             ],
             [
              0.3333333333333333,
              "#9c179e"
             ],
             [
              0.4444444444444444,
              "#bd3786"
             ],
             [
              0.5555555555555556,
              "#d8576b"
             ],
             [
              0.6666666666666666,
              "#ed7953"
             ],
             [
              0.7777777777777778,
              "#fb9f3a"
             ],
             [
              0.8888888888888888,
              "#fdca26"
             ],
             [
              1,
              "#f0f921"
             ]
            ],
            "type": "heatmapgl"
           }
          ],
          "histogram": [
           {
            "marker": {
             "pattern": {
              "fillmode": "overlay",
              "size": 10,
              "solidity": 0.2
             }
            },
            "type": "histogram"
           }
          ],
          "histogram2d": [
           {
            "colorbar": {
             "outlinewidth": 0,
             "ticks": ""
            },
            "colorscale": [
             [
              0,
              "#0d0887"
             ],
             [
              0.1111111111111111,
              "#46039f"
             ],
             [
              0.2222222222222222,
              "#7201a8"
             ],
             [
              0.3333333333333333,
              "#9c179e"
             ],
             [
              0.4444444444444444,
              "#bd3786"
             ],
             [
              0.5555555555555556,
              "#d8576b"
             ],
             [
              0.6666666666666666,
              "#ed7953"
             ],
             [
              0.7777777777777778,
              "#fb9f3a"
             ],
             [
              0.8888888888888888,
              "#fdca26"
             ],
             [
              1,
              "#f0f921"
             ]
            ],
            "type": "histogram2d"
           }
          ],
          "histogram2dcontour": [
           {
            "colorbar": {
             "outlinewidth": 0,
             "ticks": ""
            },
            "colorscale": [
             [
              0,
              "#0d0887"
             ],
             [
              0.1111111111111111,
              "#46039f"
             ],
             [
              0.2222222222222222,
              "#7201a8"
             ],
             [
              0.3333333333333333,
              "#9c179e"
             ],
             [
              0.4444444444444444,
              "#bd3786"
             ],
             [
              0.5555555555555556,
              "#d8576b"
             ],
             [
              0.6666666666666666,
              "#ed7953"
             ],
             [
              0.7777777777777778,
              "#fb9f3a"
             ],
             [
              0.8888888888888888,
              "#fdca26"
             ],
             [
              1,
              "#f0f921"
             ]
            ],
            "type": "histogram2dcontour"
           }
          ],
          "mesh3d": [
           {
            "colorbar": {
             "outlinewidth": 0,
             "ticks": ""
            },
            "type": "mesh3d"
           }
          ],
          "parcoords": [
           {
            "line": {
             "colorbar": {
              "outlinewidth": 0,
              "ticks": ""
             }
            },
            "type": "parcoords"
           }
          ],
          "pie": [
           {
            "automargin": true,
            "type": "pie"
           }
          ],
          "scatter": [
           {
            "fillpattern": {
             "fillmode": "overlay",
             "size": 10,
             "solidity": 0.2
            },
            "type": "scatter"
           }
          ],
          "scatter3d": [
           {
            "line": {
             "colorbar": {
              "outlinewidth": 0,
              "ticks": ""
             }
            },
            "marker": {
             "colorbar": {
              "outlinewidth": 0,
              "ticks": ""
             }
            },
            "type": "scatter3d"
           }
          ],
          "scattercarpet": [
           {
            "marker": {
             "colorbar": {
              "outlinewidth": 0,
              "ticks": ""
             }
            },
            "type": "scattercarpet"
           }
          ],
          "scattergeo": [
           {
            "marker": {
             "colorbar": {
              "outlinewidth": 0,
              "ticks": ""
             }
            },
            "type": "scattergeo"
           }
          ],
          "scattergl": [
           {
            "marker": {
             "colorbar": {
              "outlinewidth": 0,
              "ticks": ""
             }
            },
            "type": "scattergl"
           }
          ],
          "scattermapbox": [
           {
            "marker": {
             "colorbar": {
              "outlinewidth": 0,
              "ticks": ""
             }
            },
            "type": "scattermapbox"
           }
          ],
          "scatterpolar": [
           {
            "marker": {
             "colorbar": {
              "outlinewidth": 0,
              "ticks": ""
             }
            },
            "type": "scatterpolar"
           }
          ],
          "scatterpolargl": [
           {
            "marker": {
             "colorbar": {
              "outlinewidth": 0,
              "ticks": ""
             }
            },
            "type": "scatterpolargl"
           }
          ],
          "scatterternary": [
           {
            "marker": {
             "colorbar": {
              "outlinewidth": 0,
              "ticks": ""
             }
            },
            "type": "scatterternary"
           }
          ],
          "surface": [
           {
            "colorbar": {
             "outlinewidth": 0,
             "ticks": ""
            },
            "colorscale": [
             [
              0,
              "#0d0887"
             ],
             [
              0.1111111111111111,
              "#46039f"
             ],
             [
              0.2222222222222222,
              "#7201a8"
             ],
             [
              0.3333333333333333,
              "#9c179e"
             ],
             [
              0.4444444444444444,
              "#bd3786"
             ],
             [
              0.5555555555555556,
              "#d8576b"
             ],
             [
              0.6666666666666666,
              "#ed7953"
             ],
             [
              0.7777777777777778,
              "#fb9f3a"
             ],
             [
              0.8888888888888888,
              "#fdca26"
             ],
             [
              1,
              "#f0f921"
             ]
            ],
            "type": "surface"
           }
          ],
          "table": [
           {
            "cells": {
             "fill": {
              "color": "#EBF0F8"
             },
             "line": {
              "color": "white"
             }
            },
            "header": {
             "fill": {
              "color": "#C8D4E3"
             },
             "line": {
              "color": "white"
             }
            },
            "type": "table"
           }
          ]
         },
         "layout": {
          "annotationdefaults": {
           "arrowcolor": "#2a3f5f",
           "arrowhead": 0,
           "arrowwidth": 1
          },
          "autotypenumbers": "strict",
          "coloraxis": {
           "colorbar": {
            "outlinewidth": 0,
            "ticks": ""
           }
          },
          "colorscale": {
           "diverging": [
            [
             0,
             "#8e0152"
            ],
            [
             0.1,
             "#c51b7d"
            ],
            [
             0.2,
             "#de77ae"
            ],
            [
             0.3,
             "#f1b6da"
            ],
            [
             0.4,
             "#fde0ef"
            ],
            [
             0.5,
             "#f7f7f7"
            ],
            [
             0.6,
             "#e6f5d0"
            ],
            [
             0.7,
             "#b8e186"
            ],
            [
             0.8,
             "#7fbc41"
            ],
            [
             0.9,
             "#4d9221"
            ],
            [
             1,
             "#276419"
            ]
           ],
           "sequential": [
            [
             0,
             "#0d0887"
            ],
            [
             0.1111111111111111,
             "#46039f"
            ],
            [
             0.2222222222222222,
             "#7201a8"
            ],
            [
             0.3333333333333333,
             "#9c179e"
            ],
            [
             0.4444444444444444,
             "#bd3786"
            ],
            [
             0.5555555555555556,
             "#d8576b"
            ],
            [
             0.6666666666666666,
             "#ed7953"
            ],
            [
             0.7777777777777778,
             "#fb9f3a"
            ],
            [
             0.8888888888888888,
             "#fdca26"
            ],
            [
             1,
             "#f0f921"
            ]
           ],
           "sequentialminus": [
            [
             0,
             "#0d0887"
            ],
            [
             0.1111111111111111,
             "#46039f"
            ],
            [
             0.2222222222222222,
             "#7201a8"
            ],
            [
             0.3333333333333333,
             "#9c179e"
            ],
            [
             0.4444444444444444,
             "#bd3786"
            ],
            [
             0.5555555555555556,
             "#d8576b"
            ],
            [
             0.6666666666666666,
             "#ed7953"
            ],
            [
             0.7777777777777778,
             "#fb9f3a"
            ],
            [
             0.8888888888888888,
             "#fdca26"
            ],
            [
             1,
             "#f0f921"
            ]
           ]
          },
          "colorway": [
           "#636efa",
           "#EF553B",
           "#00cc96",
           "#ab63fa",
           "#FFA15A",
           "#19d3f3",
           "#FF6692",
           "#B6E880",
           "#FF97FF",
           "#FECB52"
          ],
          "font": {
           "color": "#2a3f5f"
          },
          "geo": {
           "bgcolor": "white",
           "lakecolor": "white",
           "landcolor": "#E5ECF6",
           "showlakes": true,
           "showland": true,
           "subunitcolor": "white"
          },
          "hoverlabel": {
           "align": "left"
          },
          "hovermode": "closest",
          "mapbox": {
           "style": "light"
          },
          "paper_bgcolor": "white",
          "plot_bgcolor": "#E5ECF6",
          "polar": {
           "angularaxis": {
            "gridcolor": "white",
            "linecolor": "white",
            "ticks": ""
           },
           "bgcolor": "#E5ECF6",
           "radialaxis": {
            "gridcolor": "white",
            "linecolor": "white",
            "ticks": ""
           }
          },
          "scene": {
           "xaxis": {
            "backgroundcolor": "#E5ECF6",
            "gridcolor": "white",
            "gridwidth": 2,
            "linecolor": "white",
            "showbackground": true,
            "ticks": "",
            "zerolinecolor": "white"
           },
           "yaxis": {
            "backgroundcolor": "#E5ECF6",
            "gridcolor": "white",
            "gridwidth": 2,
            "linecolor": "white",
            "showbackground": true,
            "ticks": "",
            "zerolinecolor": "white"
           },
           "zaxis": {
            "backgroundcolor": "#E5ECF6",
            "gridcolor": "white",
            "gridwidth": 2,
            "linecolor": "white",
            "showbackground": true,
            "ticks": "",
            "zerolinecolor": "white"
           }
          },
          "shapedefaults": {
           "line": {
            "color": "#2a3f5f"
           }
          },
          "ternary": {
           "aaxis": {
            "gridcolor": "white",
            "linecolor": "white",
            "ticks": ""
           },
           "baxis": {
            "gridcolor": "white",
            "linecolor": "white",
            "ticks": ""
           },
           "bgcolor": "#E5ECF6",
           "caxis": {
            "gridcolor": "white",
            "linecolor": "white",
            "ticks": ""
           }
          },
          "title": {
           "x": 0.05
          },
          "xaxis": {
           "automargin": true,
           "gridcolor": "white",
           "linecolor": "white",
           "ticks": "",
           "title": {
            "standoff": 15
           },
           "zerolinecolor": "white",
           "zerolinewidth": 2
          },
          "yaxis": {
           "automargin": true,
           "gridcolor": "white",
           "linecolor": "white",
           "ticks": "",
           "title": {
            "standoff": 15
           },
           "zerolinecolor": "white",
           "zerolinewidth": 2
          }
         }
        },
        "title": {
         "text": "Multi Class Classification. Option 2: IoT BoT Main Attack Target wise count"
        },
        "xaxis": {
         "anchor": "y",
         "categoryarray": [
          "mirai",
          "gafgyt",
          "Benign"
         ],
         "categoryorder": "array",
         "domain": [
          0,
          1
         ],
         "title": {
          "text": "IoT BoT Main Attack Name"
         }
        },
        "yaxis": {
         "anchor": "x",
         "domain": [
          0,
          1
         ],
         "title": {
          "text": "No of Samples"
         }
        }
       }
      }
     },
     "metadata": {},
     "output_type": "display_data"
    }
   ],
   "source": [
    "display_bar_chart(main_attack_target_counts, main_attack_target_counts.index, main_attack_target_counts.values, \n",
    "                  \"Multi Class Classification. Option 2: IoT BoT Main Attack Target wise count\", \n",
    "                  \"IoT BoT Main Attack Name\", \"No of Samples\", \n",
    "                  legend_position_dict=legend_position_dict)"
   ]
  },
  {
   "cell_type": "code",
   "execution_count": 101,
   "metadata": {},
   "outputs": [],
   "source": [
    "sub_attack_opt3_df = df.copy()"
   ]
  },
  {
   "cell_type": "code",
   "execution_count": 102,
   "metadata": {},
   "outputs": [],
   "source": [
    "sub_attack_target_counts = sub_attack_opt3_df[\"target\"].value_counts()"
   ]
  },
  {
   "cell_type": "code",
   "execution_count": 103,
   "metadata": {},
   "outputs": [
    {
     "data": {
      "text/plain": [
       "target\n",
       "mirai-udp         237665\n",
       "mirai-syn         122573\n",
       "mirai-scan        107685\n",
       "mirai-ack         102195\n",
       "gafgyt-udp        100182\n",
       "gafgyt-tcp         85227\n",
       "mirai-udpplain     81982\n",
       "gafgyt-combo       59718\n",
       "Benign             40395\n",
       "gafgyt-scan        29849\n",
       "gafgyt-junk        29068\n",
       "Name: count, dtype: int64"
      ]
     },
     "execution_count": 103,
     "metadata": {},
     "output_type": "execute_result"
    }
   ],
   "source": [
    "sub_attack_target_counts"
   ]
  },
  {
   "cell_type": "code",
   "execution_count": 104,
   "metadata": {},
   "outputs": [
    {
     "data": {
      "application/vnd.plotly.v1+json": {
       "config": {
        "plotlyServerURL": "https://plot.ly"
       },
       "data": [
        {
         "alignmentgroup": "True",
         "hovertemplate": "target=%{x}<br>y=%{y}<extra></extra>",
         "legendgroup": "mirai-udp",
         "marker": {
          "color": "#636efa",
          "pattern": {
           "shape": ""
          }
         },
         "name": "mirai-udp",
         "offsetgroup": "mirai-udp",
         "orientation": "v",
         "showlegend": true,
         "textposition": "auto",
         "texttemplate": "%{y}",
         "type": "bar",
         "x": [
          "mirai-udp"
         ],
         "xaxis": "x",
         "y": [
          237665
         ],
         "yaxis": "y"
        },
        {
         "alignmentgroup": "True",
         "hovertemplate": "target=%{x}<br>y=%{y}<extra></extra>",
         "legendgroup": "mirai-syn",
         "marker": {
          "color": "#EF553B",
          "pattern": {
           "shape": ""
          }
         },
         "name": "mirai-syn",
         "offsetgroup": "mirai-syn",
         "orientation": "v",
         "showlegend": true,
         "textposition": "auto",
         "texttemplate": "%{y}",
         "type": "bar",
         "x": [
          "mirai-syn"
         ],
         "xaxis": "x",
         "y": [
          122573
         ],
         "yaxis": "y"
        },
        {
         "alignmentgroup": "True",
         "hovertemplate": "target=%{x}<br>y=%{y}<extra></extra>",
         "legendgroup": "mirai-scan",
         "marker": {
          "color": "#00cc96",
          "pattern": {
           "shape": ""
          }
         },
         "name": "mirai-scan",
         "offsetgroup": "mirai-scan",
         "orientation": "v",
         "showlegend": true,
         "textposition": "auto",
         "texttemplate": "%{y}",
         "type": "bar",
         "x": [
          "mirai-scan"
         ],
         "xaxis": "x",
         "y": [
          107685
         ],
         "yaxis": "y"
        },
        {
         "alignmentgroup": "True",
         "hovertemplate": "target=%{x}<br>y=%{y}<extra></extra>",
         "legendgroup": "mirai-ack",
         "marker": {
          "color": "#ab63fa",
          "pattern": {
           "shape": ""
          }
         },
         "name": "mirai-ack",
         "offsetgroup": "mirai-ack",
         "orientation": "v",
         "showlegend": true,
         "textposition": "auto",
         "texttemplate": "%{y}",
         "type": "bar",
         "x": [
          "mirai-ack"
         ],
         "xaxis": "x",
         "y": [
          102195
         ],
         "yaxis": "y"
        },
        {
         "alignmentgroup": "True",
         "hovertemplate": "target=%{x}<br>y=%{y}<extra></extra>",
         "legendgroup": "gafgyt-udp",
         "marker": {
          "color": "#FFA15A",
          "pattern": {
           "shape": ""
          }
         },
         "name": "gafgyt-udp",
         "offsetgroup": "gafgyt-udp",
         "orientation": "v",
         "showlegend": true,
         "textposition": "auto",
         "texttemplate": "%{y}",
         "type": "bar",
         "x": [
          "gafgyt-udp"
         ],
         "xaxis": "x",
         "y": [
          100182
         ],
         "yaxis": "y"
        },
        {
         "alignmentgroup": "True",
         "hovertemplate": "target=%{x}<br>y=%{y}<extra></extra>",
         "legendgroup": "gafgyt-tcp",
         "marker": {
          "color": "#19d3f3",
          "pattern": {
           "shape": ""
          }
         },
         "name": "gafgyt-tcp",
         "offsetgroup": "gafgyt-tcp",
         "orientation": "v",
         "showlegend": true,
         "textposition": "auto",
         "texttemplate": "%{y}",
         "type": "bar",
         "x": [
          "gafgyt-tcp"
         ],
         "xaxis": "x",
         "y": [
          85227
         ],
         "yaxis": "y"
        },
        {
         "alignmentgroup": "True",
         "hovertemplate": "target=%{x}<br>y=%{y}<extra></extra>",
         "legendgroup": "mirai-udpplain",
         "marker": {
          "color": "#FF6692",
          "pattern": {
           "shape": ""
          }
         },
         "name": "mirai-udpplain",
         "offsetgroup": "mirai-udpplain",
         "orientation": "v",
         "showlegend": true,
         "textposition": "auto",
         "texttemplate": "%{y}",
         "type": "bar",
         "x": [
          "mirai-udpplain"
         ],
         "xaxis": "x",
         "y": [
          81982
         ],
         "yaxis": "y"
        },
        {
         "alignmentgroup": "True",
         "hovertemplate": "target=%{x}<br>y=%{y}<extra></extra>",
         "legendgroup": "gafgyt-combo",
         "marker": {
          "color": "#B6E880",
          "pattern": {
           "shape": ""
          }
         },
         "name": "gafgyt-combo",
         "offsetgroup": "gafgyt-combo",
         "orientation": "v",
         "showlegend": true,
         "textposition": "auto",
         "texttemplate": "%{y}",
         "type": "bar",
         "x": [
          "gafgyt-combo"
         ],
         "xaxis": "x",
         "y": [
          59718
         ],
         "yaxis": "y"
        },
        {
         "alignmentgroup": "True",
         "hovertemplate": "target=%{x}<br>y=%{y}<extra></extra>",
         "legendgroup": "Benign",
         "marker": {
          "color": "#FF97FF",
          "pattern": {
           "shape": ""
          }
         },
         "name": "Benign",
         "offsetgroup": "Benign",
         "orientation": "v",
         "showlegend": true,
         "textposition": "auto",
         "texttemplate": "%{y}",
         "type": "bar",
         "x": [
          "Benign"
         ],
         "xaxis": "x",
         "y": [
          40395
         ],
         "yaxis": "y"
        },
        {
         "alignmentgroup": "True",
         "hovertemplate": "target=%{x}<br>y=%{y}<extra></extra>",
         "legendgroup": "gafgyt-scan",
         "marker": {
          "color": "#FECB52",
          "pattern": {
           "shape": ""
          }
         },
         "name": "gafgyt-scan",
         "offsetgroup": "gafgyt-scan",
         "orientation": "v",
         "showlegend": true,
         "textposition": "auto",
         "texttemplate": "%{y}",
         "type": "bar",
         "x": [
          "gafgyt-scan"
         ],
         "xaxis": "x",
         "y": [
          29849
         ],
         "yaxis": "y"
        },
        {
         "alignmentgroup": "True",
         "hovertemplate": "target=%{x}<br>y=%{y}<extra></extra>",
         "legendgroup": "gafgyt-junk",
         "marker": {
          "color": "#636efa",
          "pattern": {
           "shape": ""
          }
         },
         "name": "gafgyt-junk",
         "offsetgroup": "gafgyt-junk",
         "orientation": "v",
         "showlegend": true,
         "textposition": "auto",
         "texttemplate": "%{y}",
         "type": "bar",
         "x": [
          "gafgyt-junk"
         ],
         "xaxis": "x",
         "y": [
          29068
         ],
         "yaxis": "y"
        }
       ],
       "layout": {
        "barmode": "relative",
        "legend": {
         "bgcolor": "#dcdcdc",
         "bordercolor": "#00BCD4",
         "borderwidth": 1,
         "orientation": "v",
         "title": {
          "text": "Targets"
         },
         "tracegroupgap": 0,
         "x": 0.9,
         "xanchor": "right",
         "y": 0.99,
         "yanchor": "top"
        },
        "margin": {
         "t": 60
        },
        "template": {
         "data": {
          "bar": [
           {
            "error_x": {
             "color": "#2a3f5f"
            },
            "error_y": {
             "color": "#2a3f5f"
            },
            "marker": {
             "line": {
              "color": "#E5ECF6",
              "width": 0.5
             },
             "pattern": {
              "fillmode": "overlay",
              "size": 10,
              "solidity": 0.2
             }
            },
            "type": "bar"
           }
          ],
          "barpolar": [
           {
            "marker": {
             "line": {
              "color": "#E5ECF6",
              "width": 0.5
             },
             "pattern": {
              "fillmode": "overlay",
              "size": 10,
              "solidity": 0.2
             }
            },
            "type": "barpolar"
           }
          ],
          "carpet": [
           {
            "aaxis": {
             "endlinecolor": "#2a3f5f",
             "gridcolor": "white",
             "linecolor": "white",
             "minorgridcolor": "white",
             "startlinecolor": "#2a3f5f"
            },
            "baxis": {
             "endlinecolor": "#2a3f5f",
             "gridcolor": "white",
             "linecolor": "white",
             "minorgridcolor": "white",
             "startlinecolor": "#2a3f5f"
            },
            "type": "carpet"
           }
          ],
          "choropleth": [
           {
            "colorbar": {
             "outlinewidth": 0,
             "ticks": ""
            },
            "type": "choropleth"
           }
          ],
          "contour": [
           {
            "colorbar": {
             "outlinewidth": 0,
             "ticks": ""
            },
            "colorscale": [
             [
              0,
              "#0d0887"
             ],
             [
              0.1111111111111111,
              "#46039f"
             ],
             [
              0.2222222222222222,
              "#7201a8"
             ],
             [
              0.3333333333333333,
              "#9c179e"
             ],
             [
              0.4444444444444444,
              "#bd3786"
             ],
             [
              0.5555555555555556,
              "#d8576b"
             ],
             [
              0.6666666666666666,
              "#ed7953"
             ],
             [
              0.7777777777777778,
              "#fb9f3a"
             ],
             [
              0.8888888888888888,
              "#fdca26"
             ],
             [
              1,
              "#f0f921"
             ]
            ],
            "type": "contour"
           }
          ],
          "contourcarpet": [
           {
            "colorbar": {
             "outlinewidth": 0,
             "ticks": ""
            },
            "type": "contourcarpet"
           }
          ],
          "heatmap": [
           {
            "colorbar": {
             "outlinewidth": 0,
             "ticks": ""
            },
            "colorscale": [
             [
              0,
              "#0d0887"
             ],
             [
              0.1111111111111111,
              "#46039f"
             ],
             [
              0.2222222222222222,
              "#7201a8"
             ],
             [
              0.3333333333333333,
              "#9c179e"
             ],
             [
              0.4444444444444444,
              "#bd3786"
             ],
             [
              0.5555555555555556,
              "#d8576b"
             ],
             [
              0.6666666666666666,
              "#ed7953"
             ],
             [
              0.7777777777777778,
              "#fb9f3a"
             ],
             [
              0.8888888888888888,
              "#fdca26"
             ],
             [
              1,
              "#f0f921"
             ]
            ],
            "type": "heatmap"
           }
          ],
          "heatmapgl": [
           {
            "colorbar": {
             "outlinewidth": 0,
             "ticks": ""
            },
            "colorscale": [
             [
              0,
              "#0d0887"
             ],
             [
              0.1111111111111111,
              "#46039f"
             ],
             [
              0.2222222222222222,
              "#7201a8"
             ],
             [
              0.3333333333333333,
              "#9c179e"
             ],
             [
              0.4444444444444444,
              "#bd3786"
             ],
             [
              0.5555555555555556,
              "#d8576b"
             ],
             [
              0.6666666666666666,
              "#ed7953"
             ],
             [
              0.7777777777777778,
              "#fb9f3a"
             ],
             [
              0.8888888888888888,
              "#fdca26"
             ],
             [
              1,
              "#f0f921"
             ]
            ],
            "type": "heatmapgl"
           }
          ],
          "histogram": [
           {
            "marker": {
             "pattern": {
              "fillmode": "overlay",
              "size": 10,
              "solidity": 0.2
             }
            },
            "type": "histogram"
           }
          ],
          "histogram2d": [
           {
            "colorbar": {
             "outlinewidth": 0,
             "ticks": ""
            },
            "colorscale": [
             [
              0,
              "#0d0887"
             ],
             [
              0.1111111111111111,
              "#46039f"
             ],
             [
              0.2222222222222222,
              "#7201a8"
             ],
             [
              0.3333333333333333,
              "#9c179e"
             ],
             [
              0.4444444444444444,
              "#bd3786"
             ],
             [
              0.5555555555555556,
              "#d8576b"
             ],
             [
              0.6666666666666666,
              "#ed7953"
             ],
             [
              0.7777777777777778,
              "#fb9f3a"
             ],
             [
              0.8888888888888888,
              "#fdca26"
             ],
             [
              1,
              "#f0f921"
             ]
            ],
            "type": "histogram2d"
           }
          ],
          "histogram2dcontour": [
           {
            "colorbar": {
             "outlinewidth": 0,
             "ticks": ""
            },
            "colorscale": [
             [
              0,
              "#0d0887"
             ],
             [
              0.1111111111111111,
              "#46039f"
             ],
             [
              0.2222222222222222,
              "#7201a8"
             ],
             [
              0.3333333333333333,
              "#9c179e"
             ],
             [
              0.4444444444444444,
              "#bd3786"
             ],
             [
              0.5555555555555556,
              "#d8576b"
             ],
             [
              0.6666666666666666,
              "#ed7953"
             ],
             [
              0.7777777777777778,
              "#fb9f3a"
             ],
             [
              0.8888888888888888,
              "#fdca26"
             ],
             [
              1,
              "#f0f921"
             ]
            ],
            "type": "histogram2dcontour"
           }
          ],
          "mesh3d": [
           {
            "colorbar": {
             "outlinewidth": 0,
             "ticks": ""
            },
            "type": "mesh3d"
           }
          ],
          "parcoords": [
           {
            "line": {
             "colorbar": {
              "outlinewidth": 0,
              "ticks": ""
             }
            },
            "type": "parcoords"
           }
          ],
          "pie": [
           {
            "automargin": true,
            "type": "pie"
           }
          ],
          "scatter": [
           {
            "fillpattern": {
             "fillmode": "overlay",
             "size": 10,
             "solidity": 0.2
            },
            "type": "scatter"
           }
          ],
          "scatter3d": [
           {
            "line": {
             "colorbar": {
              "outlinewidth": 0,
              "ticks": ""
             }
            },
            "marker": {
             "colorbar": {
              "outlinewidth": 0,
              "ticks": ""
             }
            },
            "type": "scatter3d"
           }
          ],
          "scattercarpet": [
           {
            "marker": {
             "colorbar": {
              "outlinewidth": 0,
              "ticks": ""
             }
            },
            "type": "scattercarpet"
           }
          ],
          "scattergeo": [
           {
            "marker": {
             "colorbar": {
              "outlinewidth": 0,
              "ticks": ""
             }
            },
            "type": "scattergeo"
           }
          ],
          "scattergl": [
           {
            "marker": {
             "colorbar": {
              "outlinewidth": 0,
              "ticks": ""
             }
            },
            "type": "scattergl"
           }
          ],
          "scattermapbox": [
           {
            "marker": {
             "colorbar": {
              "outlinewidth": 0,
              "ticks": ""
             }
            },
            "type": "scattermapbox"
           }
          ],
          "scatterpolar": [
           {
            "marker": {
             "colorbar": {
              "outlinewidth": 0,
              "ticks": ""
             }
            },
            "type": "scatterpolar"
           }
          ],
          "scatterpolargl": [
           {
            "marker": {
             "colorbar": {
              "outlinewidth": 0,
              "ticks": ""
             }
            },
            "type": "scatterpolargl"
           }
          ],
          "scatterternary": [
           {
            "marker": {
             "colorbar": {
              "outlinewidth": 0,
              "ticks": ""
             }
            },
            "type": "scatterternary"
           }
          ],
          "surface": [
           {
            "colorbar": {
             "outlinewidth": 0,
             "ticks": ""
            },
            "colorscale": [
             [
              0,
              "#0d0887"
             ],
             [
              0.1111111111111111,
              "#46039f"
             ],
             [
              0.2222222222222222,
              "#7201a8"
             ],
             [
              0.3333333333333333,
              "#9c179e"
             ],
             [
              0.4444444444444444,
              "#bd3786"
             ],
             [
              0.5555555555555556,
              "#d8576b"
             ],
             [
              0.6666666666666666,
              "#ed7953"
             ],
             [
              0.7777777777777778,
              "#fb9f3a"
             ],
             [
              0.8888888888888888,
              "#fdca26"
             ],
             [
              1,
              "#f0f921"
             ]
            ],
            "type": "surface"
           }
          ],
          "table": [
           {
            "cells": {
             "fill": {
              "color": "#EBF0F8"
             },
             "line": {
              "color": "white"
             }
            },
            "header": {
             "fill": {
              "color": "#C8D4E3"
             },
             "line": {
              "color": "white"
             }
            },
            "type": "table"
           }
          ]
         },
         "layout": {
          "annotationdefaults": {
           "arrowcolor": "#2a3f5f",
           "arrowhead": 0,
           "arrowwidth": 1
          },
          "autotypenumbers": "strict",
          "coloraxis": {
           "colorbar": {
            "outlinewidth": 0,
            "ticks": ""
           }
          },
          "colorscale": {
           "diverging": [
            [
             0,
             "#8e0152"
            ],
            [
             0.1,
             "#c51b7d"
            ],
            [
             0.2,
             "#de77ae"
            ],
            [
             0.3,
             "#f1b6da"
            ],
            [
             0.4,
             "#fde0ef"
            ],
            [
             0.5,
             "#f7f7f7"
            ],
            [
             0.6,
             "#e6f5d0"
            ],
            [
             0.7,
             "#b8e186"
            ],
            [
             0.8,
             "#7fbc41"
            ],
            [
             0.9,
             "#4d9221"
            ],
            [
             1,
             "#276419"
            ]
           ],
           "sequential": [
            [
             0,
             "#0d0887"
            ],
            [
             0.1111111111111111,
             "#46039f"
            ],
            [
             0.2222222222222222,
             "#7201a8"
            ],
            [
             0.3333333333333333,
             "#9c179e"
            ],
            [
             0.4444444444444444,
             "#bd3786"
            ],
            [
             0.5555555555555556,
             "#d8576b"
            ],
            [
             0.6666666666666666,
             "#ed7953"
            ],
            [
             0.7777777777777778,
             "#fb9f3a"
            ],
            [
             0.8888888888888888,
             "#fdca26"
            ],
            [
             1,
             "#f0f921"
            ]
           ],
           "sequentialminus": [
            [
             0,
             "#0d0887"
            ],
            [
             0.1111111111111111,
             "#46039f"
            ],
            [
             0.2222222222222222,
             "#7201a8"
            ],
            [
             0.3333333333333333,
             "#9c179e"
            ],
            [
             0.4444444444444444,
             "#bd3786"
            ],
            [
             0.5555555555555556,
             "#d8576b"
            ],
            [
             0.6666666666666666,
             "#ed7953"
            ],
            [
             0.7777777777777778,
             "#fb9f3a"
            ],
            [
             0.8888888888888888,
             "#fdca26"
            ],
            [
             1,
             "#f0f921"
            ]
           ]
          },
          "colorway": [
           "#636efa",
           "#EF553B",
           "#00cc96",
           "#ab63fa",
           "#FFA15A",
           "#19d3f3",
           "#FF6692",
           "#B6E880",
           "#FF97FF",
           "#FECB52"
          ],
          "font": {
           "color": "#2a3f5f"
          },
          "geo": {
           "bgcolor": "white",
           "lakecolor": "white",
           "landcolor": "#E5ECF6",
           "showlakes": true,
           "showland": true,
           "subunitcolor": "white"
          },
          "hoverlabel": {
           "align": "left"
          },
          "hovermode": "closest",
          "mapbox": {
           "style": "light"
          },
          "paper_bgcolor": "white",
          "plot_bgcolor": "#E5ECF6",
          "polar": {
           "angularaxis": {
            "gridcolor": "white",
            "linecolor": "white",
            "ticks": ""
           },
           "bgcolor": "#E5ECF6",
           "radialaxis": {
            "gridcolor": "white",
            "linecolor": "white",
            "ticks": ""
           }
          },
          "scene": {
           "xaxis": {
            "backgroundcolor": "#E5ECF6",
            "gridcolor": "white",
            "gridwidth": 2,
            "linecolor": "white",
            "showbackground": true,
            "ticks": "",
            "zerolinecolor": "white"
           },
           "yaxis": {
            "backgroundcolor": "#E5ECF6",
            "gridcolor": "white",
            "gridwidth": 2,
            "linecolor": "white",
            "showbackground": true,
            "ticks": "",
            "zerolinecolor": "white"
           },
           "zaxis": {
            "backgroundcolor": "#E5ECF6",
            "gridcolor": "white",
            "gridwidth": 2,
            "linecolor": "white",
            "showbackground": true,
            "ticks": "",
            "zerolinecolor": "white"
           }
          },
          "shapedefaults": {
           "line": {
            "color": "#2a3f5f"
           }
          },
          "ternary": {
           "aaxis": {
            "gridcolor": "white",
            "linecolor": "white",
            "ticks": ""
           },
           "baxis": {
            "gridcolor": "white",
            "linecolor": "white",
            "ticks": ""
           },
           "bgcolor": "#E5ECF6",
           "caxis": {
            "gridcolor": "white",
            "linecolor": "white",
            "ticks": ""
           }
          },
          "title": {
           "x": 0.05
          },
          "xaxis": {
           "automargin": true,
           "gridcolor": "white",
           "linecolor": "white",
           "ticks": "",
           "title": {
            "standoff": 15
           },
           "zerolinecolor": "white",
           "zerolinewidth": 2
          },
          "yaxis": {
           "automargin": true,
           "gridcolor": "white",
           "linecolor": "white",
           "ticks": "",
           "title": {
            "standoff": 15
           },
           "zerolinecolor": "white",
           "zerolinewidth": 2
          }
         }
        },
        "title": {
         "text": "Multi Class Classification. Option 3: IoT BoT Sub Attack Target wise count"
        },
        "xaxis": {
         "anchor": "y",
         "categoryarray": [
          "mirai-udp",
          "mirai-syn",
          "mirai-scan",
          "mirai-ack",
          "gafgyt-udp",
          "gafgyt-tcp",
          "mirai-udpplain",
          "gafgyt-combo",
          "Benign",
          "gafgyt-scan",
          "gafgyt-junk"
         ],
         "categoryorder": "array",
         "domain": [
          0,
          1
         ],
         "title": {
          "text": "IoT BoT Sub Attack Name"
         }
        },
        "yaxis": {
         "anchor": "x",
         "domain": [
          0,
          1
         ],
         "title": {
          "text": "No of Samples"
         }
        }
       }
      }
     },
     "metadata": {},
     "output_type": "display_data"
    }
   ],
   "source": [
    "display_bar_chart(sub_attack_target_counts, sub_attack_target_counts.index, sub_attack_target_counts.values, \n",
    "                  \"Multi Class Classification. Option 3: IoT BoT Sub Attack Target wise count\", \n",
    "                  \"IoT BoT Sub Attack Name\", \"No of Samples\", \n",
    "                  legend_position_dict=legend_position_dict)"
   ]
  },
  {
   "cell_type": "code",
   "execution_count": 105,
   "metadata": {},
   "outputs": [],
   "source": [
    "cm_fig_size = (7,5)"
   ]
  },
  {
   "cell_type": "code",
   "execution_count": 106,
   "metadata": {},
   "outputs": [],
   "source": [
    "selected_features = ['H_L0.01_mean',\n",
    " 'MI_dir_L0.01_mean',\n",
    " 'H_L0.1_mean',\n",
    " 'MI_dir_L0.1_mean',\n",
    " 'H_L0.01_variance',\n",
    " 'MI_dir_L0.01_variance',\n",
    " 'H_L0.1_variance',\n",
    " 'MI_dir_L0.1_variance',\n",
    " 'MI_dir_L1_variance',\n",
    " 'H_L1_variance',\n",
    " 'H_L1_mean',\n",
    " 'MI_dir_L1_mean',\n",
    " 'MI_dir_L1_weight',\n",
    " 'H_L1_weight',\n",
    " 'MI_dir_L0.1_weight',\n",
    " 'H_L0.1_weight',\n",
    " 'MI_dir_L3_variance',\n",
    " 'H_L3_variance',\n",
    " 'H_L3_mean',\n",
    " 'MI_dir_L3_mean',\n",
    " 'MI_dir_L3_weight',\n",
    " 'H_L3_weight',\n",
    " 'MI_dir_L5_variance',\n",
    " 'H_L5_variance',\n",
    " 'H_L5_mean',\n",
    " 'MI_dir_L5_mean',\n",
    " 'MI_dir_L5_weight',\n",
    " 'H_L5_weight']"
   ]
  },
  {
   "cell_type": "code",
   "execution_count": 118,
   "metadata": {},
   "outputs": [],
   "source": [
    "labelencoder = LabelEncoder()"
   ]
  },
  {
   "cell_type": "code",
   "execution_count": 119,
   "metadata": {},
   "outputs": [],
   "source": [
    "main_attack_opt2_df['target'] = labelencoder.fit_transform(main_attack_opt2_df['target'])"
   ]
  },
  {
   "cell_type": "code",
   "execution_count": 120,
   "metadata": {},
   "outputs": [
    {
     "data": {
      "text/plain": [
       "array(['Benign', 'gafgyt', 'mirai'], dtype=object)"
      ]
     },
     "execution_count": 120,
     "metadata": {},
     "output_type": "execute_result"
    }
   ],
   "source": [
    "labelencoder.classes_"
   ]
  },
  {
   "cell_type": "code",
   "execution_count": null,
   "metadata": {},
   "outputs": [],
   "source": []
  },
  {
   "cell_type": "code",
   "execution_count": 107,
   "metadata": {},
   "outputs": [],
   "source": [
    "y = main_attack_opt2_df[\"target\"]"
   ]
  },
  {
   "cell_type": "code",
   "execution_count": 108,
   "metadata": {},
   "outputs": [],
   "source": [
    "lb = LabelBinarizer()"
   ]
  },
  {
   "cell_type": "code",
   "execution_count": 109,
   "metadata": {},
   "outputs": [],
   "source": [
    "y = lb.fit_transform(y)"
   ]
  },
  {
   "cell_type": "code",
   "execution_count": 125,
   "metadata": {},
   "outputs": [
    {
     "data": {
      "text/plain": [
       "array([[0, 0, 1],\n",
       "       [0, 0, 1],\n",
       "       [0, 0, 1],\n",
       "       ...,\n",
       "       [1, 0, 0],\n",
       "       [1, 0, 0],\n",
       "       [1, 0, 0]])"
      ]
     },
     "execution_count": 125,
     "metadata": {},
     "output_type": "execute_result"
    }
   ],
   "source": [
    "y"
   ]
  },
  {
   "cell_type": "code",
   "execution_count": 126,
   "metadata": {},
   "outputs": [
    {
     "data": {
      "text/plain": [
       "array(['Benign', 'gafgyt', 'mirai'], dtype='<U6')"
      ]
     },
     "execution_count": 126,
     "metadata": {},
     "output_type": "execute_result"
    }
   ],
   "source": [
    "lb.classes_"
   ]
  },
  {
   "cell_type": "code",
   "execution_count": 127,
   "metadata": {},
   "outputs": [],
   "source": [
    "y = main_attack_opt2_df[\"target\"]"
   ]
  },
  {
   "cell_type": "code",
   "execution_count": 128,
   "metadata": {},
   "outputs": [],
   "source": [
    "X = main_attack_opt2_df[selected_features]"
   ]
  },
  {
   "cell_type": "code",
   "execution_count": 129,
   "metadata": {},
   "outputs": [],
   "source": [
    "x_train, x_test, y_train, y_test = train_test_split(X, y, test_size=0.3, random_state=42, stratify=y)"
   ]
  },
  {
   "cell_type": "code",
   "execution_count": 114,
   "metadata": {},
   "outputs": [],
   "source": [
    "accuracy_1_list = []\n",
    "precision_1_list = []\n",
    "recall_1_list = []\n",
    "f1_score_1_list = []\n",
    "det_curve_1_list = []\n",
    "roc_auc_score_1_list = []\n",
    "roc_curve_1_list = []\n",
    "training_time_1_list = []\n",
    "cm_1_list = []\n",
    "cr_1_list = []"
   ]
  },
  {
   "cell_type": "code",
   "execution_count": 121,
   "metadata": {},
   "outputs": [],
   "source": [
    "model_list = [LogisticRegression(solver='sag'), SGDClassifier(loss='log_loss'), SVC(), \n",
    "              RandomForestClassifier(), AdaBoostClassifier(), GradientBoostingClassifier()]\n",
    "model_name_list = ['Logistic Regression', 'SGD', 'SVC', 'Random Forest', 'Ada Boost', 'Gradient Boosting']\n",
    "ml_cmap_list = ['plasma','RdYlBu', 'PiYG', 'PuOr', 'RdYlGn', 'seismic']"
   ]
  },
  {
   "cell_type": "code",
   "execution_count": 130,
   "metadata": {},
   "outputs": [],
   "source": [
    "def get_metrics_data_1(y_test, yhat, yhat_proba):\n",
    "    accuracy_1_list.append(accuracy_score(y_test, yhat) * 100)\n",
    "    precision_1_list.append(precision_score(y_test, yhat,average='macro'))\n",
    "    recall_1_list.append(recall_score(y_test, yhat,average='macro'))\n",
    "    f1_score_1_list.append(f1_score(y_test, yhat,average='macro'))\n",
    "    #det_curve_1_list.append(det_curve(y_test, yhat))\n",
    "    \n",
    "    #roc_auc_score_1_list.append(roc_auc_score(y_test, yhat,average='macro', multi_class='ovr'))\n",
    "    #roc_curve_1_list.append(roc_curve(y_test, yhat))"
   ]
  },
  {
   "cell_type": "code",
   "execution_count": 131,
   "metadata": {},
   "outputs": [
    {
     "name": "stdout",
     "output_type": "stream",
     "text": [
      "              precision    recall  f1-score   support\n",
      "\n",
      "      Benign       0.77      0.01      0.02     12119\n",
      "      gafgyt       0.61      0.80      0.69     91213\n",
      "       mirai       0.90      0.82      0.86    195630\n",
      "\n",
      "    accuracy                           0.78    298962\n",
      "   macro avg       0.76      0.54      0.52    298962\n",
      "weighted avg       0.81      0.78      0.77    298962\n",
      "\n"
     ]
    },
    {
     "data": {
      "image/png": "[encoded data removed]",
      "text/plain": [
       "<Figure size 700x500 with 2 Axes>"
      ]
     },
     "metadata": {},
     "output_type": "display_data"
    },
    {
     "name": "stdout",
     "output_type": "stream",
     "text": [
      "              precision    recall  f1-score   support\n",
      "\n",
      "      Benign       1.00      0.63      0.78     12119\n",
      "      gafgyt       0.80      0.79      0.79     91213\n",
      "       mirai       0.90      0.93      0.92    195630\n",
      "\n",
      "    accuracy                           0.87    298962\n",
      "   macro avg       0.90      0.78      0.83    298962\n",
      "weighted avg       0.87      0.87      0.87    298962\n",
      "\n"
     ]
    },
    {
     "data": {
      "image/png": "[encoded data removed]",
      "text/plain": [
       "<Figure size 700x500 with 2 Axes>"
      ]
     },
     "metadata": {},
     "output_type": "display_data"
    }
   ],
   "source": [
    "for idx, model in enumerate(model_list):\n",
    "    start = time.time()\n",
    "    model.fit(x_train, y_train)\n",
    "    stop = time.time()\n",
    "    model_training_time = stop - start\n",
    "    training_time_1_list.append(model_training_time)\n",
    "    yhat = model.predict(x_test)\n",
    "    yhat_proba = model.predict_proba(x_test)\n",
    "    get_metrics_data_1(y_test, yhat, yhat_proba)\n",
    "    cr = classification_report(y_test, yhat, target_names=labelencoder.classes_)\n",
    "    cr_1_list.append(cr)\n",
    "    print(cr)\n",
    "    cm = confusion_matrix(y_test, yhat)\n",
    "    cm_1_list.append(cm)\n",
    "    plt.figure(figsize=cm_fig_size)\n",
    "    ax = plt.subplot()\n",
    "    sns.heatmap(cm, fmt='.0f', annot=True, linewidths=0.2, linecolor='yellow', ax=ax, cmap=ml_cmap_list[idx])\n",
    "    plt.xlabel('Predicted value')\n",
    "    plt.ylabel('Truth value')\n",
    "    ax.set_title(f'{model_name_list[idx]} Confusion Matrix'); \n",
    "    ax.xaxis.set_ticklabels(labelencoder.classes_); \n",
    "    ax.yaxis.set_ticklabels(labelencoder.classes_);\n",
    "    plt.show()"
   ]
  },
  {
   "cell_type": "code",
   "execution_count": null,
   "metadata": {},
   "outputs": [],
   "source": [
    "y_train_dl = to_categorical(y_train, len(labelencoder.classes_))\n",
    "y_test_dl = to_categorical(y_test, len(labelencoder.classes_))"
   ]
  },
  {
   "cell_type": "code",
   "execution_count": null,
   "metadata": {},
   "outputs": [],
   "source": [
    "labels_full=pd.get_dummies(binary_opt1_df['target'], prefix='type')\n",
    "labels=labels_full.values"
   ]
  },
  {
   "cell_type": "code",
   "execution_count": null,
   "metadata": {},
   "outputs": [],
   "source": [
    "monitor = EarlyStopping(monitor='val_loss', min_delta=1e-3, \n",
    "                        patience=5, verbose=1, mode='auto')"
   ]
  },
  {
   "cell_type": "code",
   "execution_count": null,
   "metadata": {},
   "outputs": [],
   "source": [
    "def create_nn_model():\n",
    "    model = Sequential()\n",
    "    model.add(Dense(10, input_dim=x_train.shape[1], activation='relu'))\n",
    "    model.add(Dense(40, input_dim=x_train.shape[1], activation='relu'))\n",
    "    model.add(Dense(10, input_dim=x_train.shape[1], activation='relu'))\n",
    "    model.add(Dense(1, kernel_initializer='normal'))\n",
    "    model.add(Dense(labels.shape[1],activation='softmax'))\n",
    "    return model"
   ]
  },
  {
   "cell_type": "code",
   "execution_count": null,
   "metadata": {},
   "outputs": [],
   "source": [
    "def create_ann_2_model():\n",
    "    model = Sequential()\n",
    "    model.add(Dense(2000, activation='relu',input_dim=x_train.shape[1]))\n",
    "    model.add(Dense(1500, activation='relu'))\n",
    "    model.add(Dropout(0.2))\n",
    "    model.add(Dense(800,activation='relu'))\n",
    "    model.add(Dropout(0.2))\n",
    "    model.add(Dense(400,activation='relu'))\n",
    "    model.add(Dropout(0.2))\n",
    "    model.add(Dense(150,activation='relu'))\n",
    "    model.add(Dropout(0.2))\n",
    "    model.add(Dense(labels.shape[1], activation='softmax'))\n",
    "    return model"
   ]
  },
  {
   "cell_type": "code",
   "execution_count": null,
   "metadata": {},
   "outputs": [],
   "source": [
    "def create_cnn_lstm_model():\n",
    "    model = Sequential()\n",
    "    model.add(Conv1D(filters=64, kernel_size=5, strides=1, padding='same', input_shape = (x_train.shape[1], 1)))\n",
    "    model.add(Conv1D(filters=32, kernel_size=5, strides=1, padding='same'))\n",
    "    model.add(LSTM(32, activation = 'relu', return_sequences=True))\n",
    "    model.add(LSTM(16, return_sequences=True))  \n",
    "    model.add(LSTM(8, return_sequences=True))\n",
    "    model.add(LSTM(4, return_sequences=True))  \n",
    "    model.add(Flatten())\n",
    "    model.add(Dense(128, activation='relu'))\n",
    "    model.add(Dense(64, activation='relu'))\n",
    "    model.add(Dense(labels.shape[1],activation='softmax'))\n",
    "    return model"
   ]
  },
  {
   "cell_type": "code",
   "execution_count": null,
   "metadata": {},
   "outputs": [],
   "source": [
    "dl_model_list = [create_nn_model(), create_ann_2_model(), create_cnn_lstm_model()]\n",
    "dl_model_name_list = ['ANN Model 1', 'Deep ANN Model', 'CNN-LSTM Model']\n",
    "dl_cmap_list = ['Accent','rainbow','bwr']"
   ]
  },
  {
   "cell_type": "code",
   "execution_count": null,
   "metadata": {},
   "outputs": [],
   "source": [
    "history_list_1 = []"
   ]
  },
  {
   "cell_type": "code",
   "execution_count": null,
   "metadata": {},
   "outputs": [],
   "source": [
    "for idx, model in enumerate(dl_model_list):\n",
    "    model.compile(loss='categorical_crossentropy', optimizer='adam', \n",
    "                  metrics=['accuracy'])\n",
    "    plot_model(model,to_file=f\"{dl_model_name_list[idx].replace(' ', '-')}.png\", show_shapes=True, show_dtype=True, show_layer_activations=True)\n",
    "    start = time.time()\n",
    "    history = model.fit(x_train,y_train_dl,validation_data=(x_test,y_test_dl),\n",
    "              callbacks=[monitor],verbose=2,epochs=500)\n",
    "    stop = time.time()\n",
    "    history_list_1.append(history)\n",
    "    model_training_time = stop - start\n",
    "    training_time_1_list.append(model_training_time)\n",
    "    yhat = model.predict(x_test)\n",
    "    \n",
    "    yhat = model.predict(x_test)\n",
    "    yhat = np.argmax(yhat,axis=1)\n",
    "    y_test = np.argmax(y_test_dl,axis=1)\n",
    "\n",
    "    get_metrics_data_1(y_test, yhat)\n",
    "    classification_report(y_test, yhat, target_names=labelencoder.classes_)\n",
    "    cr_1_list.append(cr)\n",
    "    print(cr)\n",
    "    cm = confusion_matrix(y_test, yhat)\n",
    "    cm_1_list.append(cm)\n",
    "    plt.figure(figsize=cm_fig_size)\n",
    "    ax = plt.subplot()\n",
    "    sns.heatmap(cm, fmt='.0f', annot=True, linewidths=0.2, linecolor='yellow', ax=ax, cmap=dl_cmap_list[idx])\n",
    "    plt.xlabel('Predicted value')\n",
    "    plt.ylabel('Truth value')\n",
    "    ax.set_title(f'{dl_model_name_list[idx]} Confusion Matrix'); \n",
    "    ax.xaxis.set_ticklabels(labelencoder.classes_); \n",
    "    ax.yaxis.set_ticklabels(labelencoder.classes_);\n",
    "    plt.show()"
   ]
  },
  {
   "cell_type": "code",
   "execution_count": null,
   "metadata": {},
   "outputs": [],
   "source": [
    "training_time_1_list"
   ]
  },
  {
   "cell_type": "code",
   "execution_count": null,
   "metadata": {},
   "outputs": [],
   "source": [
    "accuracy_1_list, precision_1_list, recall_1_list, f1_score_1_list, det_curve_1_list, roc_auc_score_1_list,\n",
    "roc_curve_1_list, training_time_1_list"
   ]
  },
  {
   "cell_type": "code",
   "execution_count": null,
   "metadata": {},
   "outputs": [],
   "source": []
  },
  {
   "cell_type": "code",
   "execution_count": null,
   "metadata": {},
   "outputs": [],
   "source": [
    "scaler = MinMaxScaler()"
   ]
  },
  {
   "cell_type": "code",
   "execution_count": null,
   "metadata": {},
   "outputs": [],
   "source": [
    "X_norm = scaler.fit_transform(X)"
   ]
  },
  {
   "cell_type": "code",
   "execution_count": null,
   "metadata": {},
   "outputs": [],
   "source": []
  },
  {
   "cell_type": "code",
   "execution_count": null,
   "metadata": {},
   "outputs": [],
   "source": [
    "x_norm_train, x_norm_test, y_train, y_test = train_test_split(X_norm, y, test_size=0.3, random_state=42, stratify=y)"
   ]
  },
  {
   "cell_type": "code",
   "execution_count": null,
   "metadata": {},
   "outputs": [],
   "source": [
    "cmap_list = ['plasma','RdYlBu', 'PiYG', 'PuOr', 'RdYlGn', 'seismic']"
   ]
  },
  {
   "cell_type": "code",
   "execution_count": null,
   "metadata": {},
   "outputs": [],
   "source": [
    "accuracy_2_list = []\n",
    "precision_2_list = []\n",
    "recall_2_list = []\n",
    "f1_score_2_list = []\n",
    "det_curve_2_list = []\n",
    "roc_auc_score_2_list = []\n",
    "roc_curve_2_list = []\n",
    "training_time_2_list = []\n",
    "cm_2_list = []\n",
    "cr_2_list = []"
   ]
  },
  {
   "cell_type": "code",
   "execution_count": null,
   "metadata": {},
   "outputs": [],
   "source": [
    "def get_metrics_data_2(y_test, yhat):\n",
    "    accuracy_2_list.append(accuracy_score(y_test, yhat) * 100)\n",
    "    precision_2_list.append(precision_score(y_test, yhat,average='macro'))\n",
    "    recall_2_list.append(recall_score(y_test, yhat,average='macro'))\n",
    "    f1_score_2_list.append(f1_score(y_test, yhat,average='macro'))\n",
    "    #det_curve_2_list.append(det_curve(y_test, yhat))\n",
    "    \n",
    "    roc_auc_score_2_list.append(roc_auc_score(y_test, yhat_proba,multi_class='ovr'))\n",
    "    #roc_curve_2_list.append(roc_curve(y_test, yhat))"
   ]
  },
  {
   "cell_type": "code",
   "execution_count": null,
   "metadata": {},
   "outputs": [],
   "source": [
    "for idx, model in enumerate(model_list):\n",
    "    start = time.time()\n",
    "    model.fit(x_norm_train, y_train)\n",
    "    stop = time.time()\n",
    "    model_training_time = stop - start\n",
    "    training_time_2_list.append(model_training_time)\n",
    "    yhat = model.predict(x_norm_test)\n",
    "    get_metrics_data_2(y_test, yhat)\n",
    "    cr = classification_report(y_test, yhat, target_names=labelencoder.classes_)\n",
    "    print(cr)\n",
    "    cr_2_list.append(cr)\n",
    "    cm = confusion_matrix(y_test, yhat)\n",
    "    cm_2_list.append(cm)\n",
    "    plt.figure(figsize=cm_fig_size)\n",
    "    ax = plt.subplot()\n",
    "    sns.heatmap(cm, fmt='.0f', annot=True, linewidths=0.2, linecolor='yellow', ax=ax, cmap=cmap_list[idx])\n",
    "    plt.xlabel('Predicted value')\n",
    "    plt.ylabel('Truth value')\n",
    "    ax.set_title(f'{model_name_list[idx]} Confusion Matrix'); \n",
    "    ax.xaxis.set_ticklabels(labelencoder.classes_); \n",
    "    ax.yaxis.set_ticklabels(labelencoder.classes_);\n",
    "    plt.show()"
   ]
  },
  {
   "cell_type": "code",
   "execution_count": null,
   "metadata": {},
   "outputs": [],
   "source": []
  },
  {
   "cell_type": "code",
   "execution_count": null,
   "metadata": {},
   "outputs": [],
   "source": [
    "history_list_2 = []"
   ]
  },
  {
   "cell_type": "code",
   "execution_count": null,
   "metadata": {},
   "outputs": [],
   "source": [
    "for idx, model in enumerate(dl_model_list):\n",
    "    model.compile(loss='categorical_crossentropy', optimizer='adam', \n",
    "                  metrics=['accuracy', AUC(name='AUC'), BinaryCrossentropy(), \n",
    "                           FalseNegatives(), FalsePositives(), Hinge(), Precision(), PrecisionAtRecall(0.5), \n",
    "                           Recall(), RecallAtPrecision(precision=0.5), SpecificityAtSensitivity(0.5), \n",
    "                           SquaredHinge(), \n",
    "                           TrueNegatives(), TruePositives()])\n",
    "    plot_model(model,to_file=f\"{dl_model_name_list[idx].replace(' ', '-')}.png\", show_shapes=True, show_dtype=True, show_layer_activations=True)\n",
    "    start = time.time()\n",
    "    history = model.fit(x_norm_train,y_train_dl,validation_data=(x_norm_test,y_test_dl),\n",
    "              callbacks=[monitor],verbose=2,epochs=500)\n",
    "    stop = time.time()\n",
    "    history_list_2.append(history)\n",
    "    model_training_time = stop - start\n",
    "    training_time_2_list.append(model_training_time)   \n",
    "    yhat = model.predict(x_norm_test)\n",
    "    yhat = np.argmax(yhat,axis=1)\n",
    "    y_test = np.argmax(y_test_dl,axis=1)\n",
    "\n",
    "    get_metrics_data_2(y_test, yhat)\n",
    "    cr = classification_report(y_test, yhat, target_names=labelencoder.classes_)\n",
    "    print(cr)\n",
    "    cm = confusion_matrix(y_test, yhat)\n",
    "    plt.figure(figsize=cm_fig_size)\n",
    "    ax = plt.subplot()\n",
    "    sns.heatmap(cm, fmt='.0f', annot=True, linewidths=0.2, linecolor='yellow', ax=ax, cmap=dl_cmap_list[idx])\n",
    "    plt.xlabel('Predicted value')\n",
    "    plt.ylabel('Truth value')\n",
    "    ax.set_title(f'{dl_model_name_list[idx]} Confusion Matrix'); \n",
    "    ax.xaxis.set_ticklabels(labelencoder.classes_); \n",
    "    ax.yaxis.set_ticklabels(labelencoder.classes_);\n",
    "    plt.show()"
   ]
  },
  {
   "cell_type": "code",
   "execution_count": null,
   "metadata": {},
   "outputs": [],
   "source": [
    "training_time_2_list"
   ]
  },
  {
   "cell_type": "code",
   "execution_count": null,
   "metadata": {},
   "outputs": [],
   "source": [
    "training_time_df = pd.DataFrame({\n",
    "    'Algorithms': model_name_list + dl_model_name_list,\n",
    "    'Training Time Without Normalization': training_time_1_list,\n",
    "    'Training Time With Normalization': training_time_2_list\n",
    "})"
   ]
  },
  {
   "cell_type": "code",
   "execution_count": null,
   "metadata": {},
   "outputs": [],
   "source": [
    "training_time_df['Perc'] = training_time_df.map(lambda x: print(type(x)))"
   ]
  },
  {
   "cell_type": "code",
   "execution_count": null,
   "metadata": {},
   "outputs": [],
   "source": [
    "training_time_df"
   ]
  },
  {
   "cell_type": "code",
   "execution_count": null,
   "metadata": {},
   "outputs": [],
   "source": [
    "cmp_list = ['Training Time Without Normalization', 'Training Time With Normalization']\n",
    "fig = go.Figure()\n",
    "for cmp in cmp_list:\n",
    "    fig.add_trace(go.Line(x = training_time_df[\"Algorithms\"],\n",
    "                        y = training_time_df[cmp],\n",
    "                        mode='lines+markers',\n",
    "                        name=cmp))\n",
    "fig.update_layout(title_text=\"Training Time Computation Without & With Normalization\",\n",
    "                 xaxis_rangeslider_visible = True,\n",
    "                 legend=dict(\n",
    "                    yanchor=\"top\",\n",
    "                    y=0.99,\n",
    "                    xanchor=\"left\",\n",
    "                    x=0.01\n",
    "                ))\n",
    "fig.show()"
   ]
  },
  {
   "cell_type": "code",
   "execution_count": null,
   "metadata": {},
   "outputs": [],
   "source": []
  },
  {
   "cell_type": "code",
   "execution_count": null,
   "metadata": {},
   "outputs": [],
   "source": []
  },
  {
   "cell_type": "code",
   "execution_count": null,
   "metadata": {},
   "outputs": [],
   "source": []
  },
  {
   "cell_type": "code",
   "execution_count": null,
   "metadata": {},
   "outputs": [],
   "source": []
  },
  {
   "cell_type": "code",
   "execution_count": null,
   "metadata": {},
   "outputs": [
    {
     "data": {
      "text/plain": [
       "(697577, 28)"
      ]
     },
     "execution_count": 113,
     "metadata": {},
     "output_type": "execute_result"
    }
   ],
   "source": [
    "x_train.shape"
   ]
  },
  {
   "cell_type": "code",
   "execution_count": null,
   "metadata": {},
   "outputs": [],
   "source": [
    "\n",
    "lr_cls = LogisticRegression(solver='sag')\n",
    "start = time.time()\n",
    "lr_cls.fit(x_train, y_train)\n",
    "stop = time.time()\n",
    "lr_training_time = stop - start\n",
    "lr_yhat = lr_cls.predict(x_test)\n"
   ]
  },
  {
   "cell_type": "code",
   "execution_count": null,
   "metadata": {},
   "outputs": [],
   "source": [
    "accuracy_list = []\n",
    "precision_list = []\n",
    "recall_list = []\n",
    "f1_score_list = []\n",
    "det_curve_list = []\n",
    "roc_auc_score_list = []\n",
    "roc_curve_list = []"
   ]
  },
  {
   "cell_type": "code",
   "execution_count": null,
   "metadata": {},
   "outputs": [],
   "source": [
    "def get_metrics_data(y_test, yhat):\n",
    "    accuracy_list.append(accuracy_score(y_test, yhat) * 100)\n",
    "    precision_list.append(precision_score(y_test, yhat))\n",
    "    recall_list.append(recall_score(y_test, yhat))\n",
    "    f1_score_list.append(f1_score(y_test, yhat))\n",
    "    det_curve_list.append(det_curve(y_test, yhat))\n",
    "    roc_auc_score_list.append(roc_auc_score(y_test, yhat))\n",
    "    roc_curve_list.append(roc_curve(y_test, yhat))"
   ]
  },
  {
   "cell_type": "code",
   "execution_count": null,
   "metadata": {},
   "outputs": [],
   "source": [
    "get_metrics_data(y_test, lr_yhat)"
   ]
  },
  {
   "cell_type": "code",
   "execution_count": null,
   "metadata": {},
   "outputs": [
    {
     "name": "stdout",
     "output_type": "stream",
     "text": [
      "Accuracy: 99.98\n"
     ]
    }
   ],
   "source": [
    "lr_accuracy = accuracy_score(y_test, lr_yhat) * 100\n",
    "print('Accuracy: %.2f' % (lr_accuracy))"
   ]
  },
  {
   "cell_type": "code",
   "execution_count": null,
   "metadata": {},
   "outputs": [
    {
     "name": "stdout",
     "output_type": "stream",
     "text": [
      "                precision    recall  f1-score   support\n",
      "\n",
      "        Benign       1.00      1.00      1.00     12119\n",
      "IoT-Bot-Attack       1.00      1.00      1.00    286843\n",
      "\n",
      "      accuracy                           1.00    298962\n",
      "     macro avg       1.00      1.00      1.00    298962\n",
      "  weighted avg       1.00      1.00      1.00    298962\n",
      "\n"
     ]
    }
   ],
   "source": [
    "print(classification_report(y_test, lr_yhat, target_names=labelencoder.classes_))"
   ]
  },
  {
   "cell_type": "code",
   "execution_count": null,
   "metadata": {},
   "outputs": [
    {
     "data": {
      "image/png": "[encoded data removed]",
      "text/plain": [
       "<Figure size 504x360 with 2 Axes>"
      ]
     },
     "metadata": {
      "needs_background": "light"
     },
     "output_type": "display_data"
    }
   ],
   "source": [
    "lr_cm = confusion_matrix(y_test, lr_yhat)\n",
    "plt.figure(figsize=cm_fig_size)\n",
    "ax = plt.subplot()\n",
    "sns.heatmap(lr_cm, fmt='.0f', annot=True, linewidths=0.2, linecolor='yellow', ax=ax, cmap=\"plasma\")\n",
    "plt.xlabel('Predicted value')\n",
    "plt.ylabel('Truth value')\n",
    "ax.set_title('Logistic Regression Confusion Matrix'); \n",
    "ax.xaxis.set_ticklabels(labelencoder.classes_); \n",
    "ax.yaxis.set_ticklabels(labelencoder.classes_);\n",
    "plt.show()"
   ]
  },
  {
   "cell_type": "code",
   "execution_count": null,
   "metadata": {},
   "outputs": [],
   "source": []
  },
  {
   "cell_type": "code",
   "execution_count": null,
   "metadata": {},
   "outputs": [],
   "source": []
  },
  {
   "cell_type": "code",
   "execution_count": null,
   "metadata": {},
   "outputs": [],
   "source": [
    "sgd_clr = SGDClassifier(loss='hinge')\n",
    "start = time.time()\n",
    "sgd_clr.fit(x_train, y_train)\n",
    "stop = time.time()\n",
    "sgd_training_time = stop - start\n",
    "sgd_yhat = sgd_clr.predict(x_test)"
   ]
  },
  {
   "cell_type": "code",
   "execution_count": null,
   "metadata": {},
   "outputs": [],
   "source": []
  },
  {
   "cell_type": "code",
   "execution_count": null,
   "metadata": {},
   "outputs": [],
   "source": [
    "get_metrics_data(y_test, sgd_yhat)"
   ]
  },
  {
   "cell_type": "code",
   "execution_count": null,
   "metadata": {},
   "outputs": [
    {
     "name": "stdout",
     "output_type": "stream",
     "text": [
      "Accuracy: 99.97\n"
     ]
    }
   ],
   "source": [
    "sgd_accuracy = accuracy_score(y_test, sgd_yhat)*100\n",
    "print('Accuracy: %.2f' % (sgd_accuracy))"
   ]
  },
  {
   "cell_type": "code",
   "execution_count": null,
   "metadata": {},
   "outputs": [
    {
     "name": "stdout",
     "output_type": "stream",
     "text": [
      "                precision    recall  f1-score   support\n",
      "\n",
      "        Benign       0.99      1.00      1.00     12119\n",
      "IoT-Bot-Attack       1.00      1.00      1.00    286843\n",
      "\n",
      "      accuracy                           1.00    298962\n",
      "     macro avg       1.00      1.00      1.00    298962\n",
      "  weighted avg       1.00      1.00      1.00    298962\n",
      "\n"
     ]
    }
   ],
   "source": [
    "print(classification_report(y_test, sgd_yhat, target_names=labelencoder.classes_))"
   ]
  },
  {
   "cell_type": "code",
   "execution_count": null,
   "metadata": {},
   "outputs": [
    {
     "data": {
      "image/png": "[encoded data removed]",
      "text/plain": [
       "<Figure size 504x360 with 2 Axes>"
      ]
     },
     "metadata": {
      "needs_background": "light"
     },
     "output_type": "display_data"
    }
   ],
   "source": [
    "sgd_cm = confusion_matrix(y_test, sgd_yhat)\n",
    "plt.figure(figsize=cm_fig_size)\n",
    "ax = plt.subplot()\n",
    "sns.heatmap(sgd_cm, fmt='.0f', annot=True, linewidths=0.2, linecolor='white', ax=ax, cmap=\"RdYlBu\")\n",
    "plt.xlabel('Predicted value')\n",
    "plt.ylabel('Truth value')\n",
    "ax.set_title('SGD Classifier Confusion Matrix'); \n",
    "ax.xaxis.set_ticklabels(labelencoder.classes_); \n",
    "ax.yaxis.set_ticklabels(labelencoder.classes_);\n",
    "plt.show()"
   ]
  },
  {
   "cell_type": "code",
   "execution_count": null,
   "metadata": {},
   "outputs": [
    {
     "name": "stdout",
     "output_type": "stream",
     "text": [
      "Processing squared_error Loss\n",
      "Processing hinge Loss\n",
      "Processing epsilon_insensitive Loss\n",
      "Processing squared_hinge Loss\n",
      "Processing squared_epsilon_insensitive Loss\n",
      "Processing modified_huber Loss\n",
      "Processing perceptron Loss\n",
      "Processing log_loss Loss\n",
      "Processing huber Loss\n"
     ]
    }
   ],
   "source": [
    "sgd_loss_list = ['squared_error', 'hinge', 'epsilon_insensitive', 'squared_hinge', 'squared_epsilon_insensitive', 'modified_huber', 'perceptron', 'log_loss', 'huber']\n",
    "sgd_loss_scores = []\n",
    "for loss in sgd_loss_list:\n",
    "    print(f\"Processing {loss} Loss\")\n",
    "    clf = SGDClassifier(loss=loss, penalty=\"l2\", max_iter=1000)\n",
    "    clf.fit(x_train, y_train)\n",
    "    sgd_loss_scores.append(clf.score(x_test, y_test))\n"
   ]
  },
  {
   "cell_type": "code",
   "execution_count": null,
   "metadata": {},
   "outputs": [],
   "source": [
    "sgd_loss_scores_df = pd.DataFrame({'Loss': sgd_loss_list, 'Scores': sgd_loss_scores})\n",
    "sgd_loss_scores_df.sort_values(by='Scores', ascending=False, inplace=True)"
   ]
  },
  {
   "cell_type": "code",
   "execution_count": null,
   "metadata": {},
   "outputs": [
    {
     "data": {
      "text/html": [
       "<div>\n",
       "<style scoped>\n",
       "    .dataframe tbody tr th:only-of-type {\n",
       "        vertical-align: middle;\n",
       "    }\n",
       "\n",
       "    .dataframe tbody tr th {\n",
       "        vertical-align: top;\n",
       "    }\n",
       "\n",
       "    .dataframe thead th {\n",
       "        text-align: right;\n",
       "    }\n",
       "</style>\n",
       "<table border=\"1\" class=\"dataframe\">\n",
       "  <thead>\n",
       "    <tr style=\"text-align: right;\">\n",
       "      <th></th>\n",
       "      <th>Loss</th>\n",
       "      <th>Scores</th>\n",
       "    </tr>\n",
       "  </thead>\n",
       "  <tbody>\n",
       "    <tr>\n",
       "      <th>5</th>\n",
       "      <td>modified_huber</td>\n",
       "      <td>1.000</td>\n",
       "    </tr>\n",
       "    <tr>\n",
       "      <th>1</th>\n",
       "      <td>hinge</td>\n",
       "      <td>1.000</td>\n",
       "    </tr>\n",
       "    <tr>\n",
       "      <th>6</th>\n",
       "      <td>perceptron</td>\n",
       "      <td>1.000</td>\n",
       "    </tr>\n",
       "    <tr>\n",
       "      <th>7</th>\n",
       "      <td>log_loss</td>\n",
       "      <td>0.990</td>\n",
       "    </tr>\n",
       "    <tr>\n",
       "      <th>8</th>\n",
       "      <td>huber</td>\n",
       "      <td>0.959</td>\n",
       "    </tr>\n",
       "    <tr>\n",
       "      <th>2</th>\n",
       "      <td>epsilon_insensitive</td>\n",
       "      <td>0.959</td>\n",
       "    </tr>\n",
       "    <tr>\n",
       "      <th>3</th>\n",
       "      <td>squared_hinge</td>\n",
       "      <td>0.806</td>\n",
       "    </tr>\n",
       "    <tr>\n",
       "      <th>4</th>\n",
       "      <td>squared_epsilon_insensitive</td>\n",
       "      <td>0.546</td>\n",
       "    </tr>\n",
       "    <tr>\n",
       "      <th>0</th>\n",
       "      <td>squared_error</td>\n",
       "      <td>0.444</td>\n",
       "    </tr>\n",
       "  </tbody>\n",
       "</table>\n",
       "</div>"
      ],
      "text/plain": [
       "                          Loss  Scores\n",
       "5               modified_huber   1.000\n",
       "1                        hinge   1.000\n",
       "6                   perceptron   1.000\n",
       "7                     log_loss   0.990\n",
       "8                        huber   0.959\n",
       "2          epsilon_insensitive   0.959\n",
       "3                squared_hinge   0.806\n",
       "4  squared_epsilon_insensitive   0.546\n",
       "0                squared_error   0.444"
      ]
     },
     "execution_count": 128,
     "metadata": {},
     "output_type": "execute_result"
    }
   ],
   "source": [
    "sgd_loss_scores_df"
   ]
  },
  {
   "cell_type": "code",
   "execution_count": null,
   "metadata": {},
   "outputs": [
    {
     "data": {
      "application/vnd.plotly.v1+json": {
       "config": {
        "plotlyServerURL": "https://plot.ly"
       },
       "data": [
        {
         "alignmentgroup": "True",
         "hovertemplate": "color=squared_error<br>x=%{x}<br>Loss Score=%{y}<extra></extra>",
         "legendgroup": "squared_error",
         "marker": {
          "color": "rgb(36, 86, 104)",
          "pattern": {
           "shape": ""
          }
         },
         "name": "squared_error",
         "offsetgroup": "squared_error",
         "orientation": "v",
         "showlegend": true,
         "textposition": "auto",
         "type": "bar",
         "x": [
          "squared_error"
         ],
         "xaxis": "x",
         "y": [
          0.44357476869970097
         ],
         "yaxis": "y"
        },
        {
         "alignmentgroup": "True",
         "hovertemplate": "color=hinge<br>x=%{x}<br>Loss Score=%{y}<extra></extra>",
         "legendgroup": "hinge",
         "marker": {
          "color": "rgb(15, 114, 121)",
          "pattern": {
           "shape": ""
          }
         },
         "name": "hinge",
         "offsetgroup": "hinge",
         "orientation": "v",
         "showlegend": true,
         "textposition": "auto",
         "type": "bar",
         "x": [
          "hinge"
         ],
         "xaxis": "x",
         "y": [
          0.9996922685826293
         ],
         "yaxis": "y"
        },
        {
         "alignmentgroup": "True",
         "hovertemplate": "color=epsilon_insensitive<br>x=%{x}<br>Loss Score=%{y}<extra></extra>",
         "legendgroup": "epsilon_insensitive",
         "marker": {
          "color": "rgb(13, 143, 129)",
          "pattern": {
           "shape": ""
          }
         },
         "name": "epsilon_insensitive",
         "offsetgroup": "epsilon_insensitive",
         "orientation": "v",
         "showlegend": true,
         "textposition": "auto",
         "type": "bar",
         "x": [
          "epsilon_insensitive"
         ],
         "xaxis": "x",
         "y": [
          0.9594363163211378
         ],
         "yaxis": "y"
        },
        {
         "alignmentgroup": "True",
         "hovertemplate": "color=squared_hinge<br>x=%{x}<br>Loss Score=%{y}<extra></extra>",
         "legendgroup": "squared_hinge",
         "marker": {
          "color": "rgb(57, 171, 126)",
          "pattern": {
           "shape": ""
          }
         },
         "name": "squared_hinge",
         "offsetgroup": "squared_hinge",
         "orientation": "v",
         "showlegend": true,
         "textposition": "auto",
         "type": "bar",
         "x": [
          "squared_hinge"
         ],
         "xaxis": "x",
         "y": [
          0.8056843344639119
         ],
         "yaxis": "y"
        },
        {
         "alignmentgroup": "True",
         "hovertemplate": "color=squared_epsilon_insensitive<br>x=%{x}<br>Loss Score=%{y}<extra></extra>",
         "legendgroup": "squared_epsilon_insensitive",
         "marker": {
          "color": "rgb(110, 197, 116)",
          "pattern": {
           "shape": ""
          }
         },
         "name": "squared_epsilon_insensitive",
         "offsetgroup": "squared_epsilon_insensitive",
         "orientation": "v",
         "showlegend": true,
         "textposition": "auto",
         "type": "bar",
         "x": [
          "squared_epsilon_insensitive"
         ],
         "xaxis": "x",
         "y": [
          0.546357062101538
         ],
         "yaxis": "y"
        },
        {
         "alignmentgroup": "True",
         "hovertemplate": "color=modified_huber<br>x=%{x}<br>Loss Score=%{y}<extra></extra>",
         "legendgroup": "modified_huber",
         "marker": {
          "color": "rgb(169, 220, 103)",
          "pattern": {
           "shape": ""
          }
         },
         "name": "modified_huber",
         "offsetgroup": "modified_huber",
         "orientation": "v",
         "showlegend": true,
         "textposition": "auto",
         "type": "bar",
         "x": [
          "modified_huber"
         ],
         "xaxis": "x",
         "y": [
          0.9997959606906563
         ],
         "yaxis": "y"
        },
        {
         "alignmentgroup": "True",
         "hovertemplate": "color=perceptron<br>x=%{x}<br>Loss Score=%{y}<extra></extra>",
         "legendgroup": "perceptron",
         "marker": {
          "color": "rgb(237, 239, 93)",
          "pattern": {
           "shape": ""
          }
         },
         "name": "perceptron",
         "offsetgroup": "perceptron",
         "orientation": "v",
         "showlegend": true,
         "textposition": "auto",
         "type": "bar",
         "x": [
          "perceptron"
         ],
         "xaxis": "x",
         "y": [
          0.999642094981971
         ],
         "yaxis": "y"
        },
        {
         "alignmentgroup": "True",
         "hovertemplate": "color=log_loss<br>x=%{x}<br>Loss Score=%{y}<extra></extra>",
         "legendgroup": "log_loss",
         "marker": {
          "color": "rgb(36, 86, 104)",
          "pattern": {
           "shape": ""
          }
         },
         "name": "log_loss",
         "offsetgroup": "log_loss",
         "orientation": "v",
         "showlegend": true,
         "textposition": "auto",
         "type": "bar",
         "x": [
          "log_loss"
         ],
         "xaxis": "x",
         "y": [
          0.989744516025448
         ],
         "yaxis": "y"
        },
        {
         "alignmentgroup": "True",
         "hovertemplate": "color=huber<br>x=%{x}<br>Loss Score=%{y}<extra></extra>",
         "legendgroup": "huber",
         "marker": {
          "color": "rgb(15, 114, 121)",
          "pattern": {
           "shape": ""
          }
         },
         "name": "huber",
         "offsetgroup": "huber",
         "orientation": "v",
         "showlegend": true,
         "textposition": "auto",
         "type": "bar",
         "x": [
          "huber"
         ],
         "xaxis": "x",
         "y": [
          0.9594630755748222
         ],
         "yaxis": "y"
        }
       ],
       "layout": {
        "barmode": "relative",
        "legend": {
         "title": {
          "text": "color"
         },
         "tracegroupgap": 0
        },
        "showlegend": false,
        "template": {
         "data": {
          "bar": [
           {
            "error_x": {
             "color": "#2a3f5f"
            },
            "error_y": {
             "color": "#2a3f5f"
            },
            "marker": {
             "line": {
              "color": "#E5ECF6",
              "width": 0.5
             },
             "pattern": {
              "fillmode": "overlay",
              "size": 10,
              "solidity": 0.2
             }
            },
            "type": "bar"
           }
          ],
          "barpolar": [
           {
            "marker": {
             "line": {
              "color": "#E5ECF6",
              "width": 0.5
             },
             "pattern": {
              "fillmode": "overlay",
              "size": 10,
              "solidity": 0.2
             }
            },
            "type": "barpolar"
           }
          ],
          "carpet": [
           {
            "aaxis": {
             "endlinecolor": "#2a3f5f",
             "gridcolor": "white",
             "linecolor": "white",
             "minorgridcolor": "white",
             "startlinecolor": "#2a3f5f"
            },
            "baxis": {
             "endlinecolor": "#2a3f5f",
             "gridcolor": "white",
             "linecolor": "white",
             "minorgridcolor": "white",
             "startlinecolor": "#2a3f5f"
            },
            "type": "carpet"
           }
          ],
          "choropleth": [
           {
            "colorbar": {
             "outlinewidth": 0,
             "ticks": ""
            },
            "type": "choropleth"
           }
          ],
          "contour": [
           {
            "colorbar": {
             "outlinewidth": 0,
             "ticks": ""
            },
            "colorscale": [
             [
              0,
              "#0d0887"
             ],
             [
              0.1111111111111111,
              "#46039f"
             ],
             [
              0.2222222222222222,
              "#7201a8"
             ],
             [
              0.3333333333333333,
              "#9c179e"
             ],
             [
              0.4444444444444444,
              "#bd3786"
             ],
             [
              0.5555555555555556,
              "#d8576b"
             ],
             [
              0.6666666666666666,
              "#ed7953"
             ],
             [
              0.7777777777777778,
              "#fb9f3a"
             ],
             [
              0.8888888888888888,
              "#fdca26"
             ],
             [
              1,
              "#f0f921"
             ]
            ],
            "type": "contour"
           }
          ],
          "contourcarpet": [
           {
            "colorbar": {
             "outlinewidth": 0,
             "ticks": ""
            },
            "type": "contourcarpet"
           }
          ],
          "heatmap": [
           {
            "colorbar": {
             "outlinewidth": 0,
             "ticks": ""
            },
            "colorscale": [
             [
              0,
              "#0d0887"
             ],
             [
              0.1111111111111111,
              "#46039f"
             ],
             [
              0.2222222222222222,
              "#7201a8"
             ],
             [
              0.3333333333333333,
              "#9c179e"
             ],
             [
              0.4444444444444444,
              "#bd3786"
             ],
             [
              0.5555555555555556,
              "#d8576b"
             ],
             [
              0.6666666666666666,
              "#ed7953"
             ],
             [
              0.7777777777777778,
              "#fb9f3a"
             ],
             [
              0.8888888888888888,
              "#fdca26"
             ],
             [
              1,
              "#f0f921"
             ]
            ],
            "type": "heatmap"
           }
          ],
          "heatmapgl": [
           {
            "colorbar": {
             "outlinewidth": 0,
             "ticks": ""
            },
            "colorscale": [
             [
              0,
              "#0d0887"
             ],
             [
              0.1111111111111111,
              "#46039f"
             ],
             [
              0.2222222222222222,
              "#7201a8"
             ],
             [
              0.3333333333333333,
              "#9c179e"
             ],
             [
              0.4444444444444444,
              "#bd3786"
             ],
             [
              0.5555555555555556,
              "#d8576b"
             ],
             [
              0.6666666666666666,
              "#ed7953"
             ],
             [
              0.7777777777777778,
              "#fb9f3a"
             ],
             [
              0.8888888888888888,
              "#fdca26"
             ],
             [
              1,
              "#f0f921"
             ]
            ],
            "type": "heatmapgl"
           }
          ],
          "histogram": [
           {
            "marker": {
             "pattern": {
              "fillmode": "overlay",
              "size": 10,
              "solidity": 0.2
             }
            },
            "type": "histogram"
           }
          ],
          "histogram2d": [
           {
            "colorbar": {
             "outlinewidth": 0,
             "ticks": ""
            },
            "colorscale": [
             [
              0,
              "#0d0887"
             ],
             [
              0.1111111111111111,
              "#46039f"
             ],
             [
              0.2222222222222222,
              "#7201a8"
             ],
             [
              0.3333333333333333,
              "#9c179e"
             ],
             [
              0.4444444444444444,
              "#bd3786"
             ],
             [
              0.5555555555555556,
              "#d8576b"
             ],
             [
              0.6666666666666666,
              "#ed7953"
             ],
             [
              0.7777777777777778,
              "#fb9f3a"
             ],
             [
              0.8888888888888888,
              "#fdca26"
             ],
             [
              1,
              "#f0f921"
             ]
            ],
            "type": "histogram2d"
           }
          ],
          "histogram2dcontour": [
           {
            "colorbar": {
             "outlinewidth": 0,
             "ticks": ""
            },
            "colorscale": [
             [
              0,
              "#0d0887"
             ],
             [
              0.1111111111111111,
              "#46039f"
             ],
             [
              0.2222222222222222,
              "#7201a8"
             ],
             [
              0.3333333333333333,
              "#9c179e"
             ],
             [
              0.4444444444444444,
              "#bd3786"
             ],
             [
              0.5555555555555556,
              "#d8576b"
             ],
             [
              0.6666666666666666,
              "#ed7953"
             ],
             [
              0.7777777777777778,
              "#fb9f3a"
             ],
             [
              0.8888888888888888,
              "#fdca26"
             ],
             [
              1,
              "#f0f921"
             ]
            ],
            "type": "histogram2dcontour"
           }
          ],
          "mesh3d": [
           {
            "colorbar": {
             "outlinewidth": 0,
             "ticks": ""
            },
            "type": "mesh3d"
           }
          ],
          "parcoords": [
           {
            "line": {
             "colorbar": {
              "outlinewidth": 0,
              "ticks": ""
             }
            },
            "type": "parcoords"
           }
          ],
          "pie": [
           {
            "automargin": true,
            "type": "pie"
           }
          ],
          "scatter": [
           {
            "marker": {
             "colorbar": {
              "outlinewidth": 0,
              "ticks": ""
             }
            },
            "type": "scatter"
           }
          ],
          "scatter3d": [
           {
            "line": {
             "colorbar": {
              "outlinewidth": 0,
              "ticks": ""
             }
            },
            "marker": {
             "colorbar": {
              "outlinewidth": 0,
              "ticks": ""
             }
            },
            "type": "scatter3d"
           }
          ],
          "scattercarpet": [
           {
            "marker": {
             "colorbar": {
              "outlinewidth": 0,
              "ticks": ""
             }
            },
            "type": "scattercarpet"
           }
          ],
          "scattergeo": [
           {
            "marker": {
             "colorbar": {
              "outlinewidth": 0,
              "ticks": ""
             }
            },
            "type": "scattergeo"
           }
          ],
          "scattergl": [
           {
            "marker": {
             "colorbar": {
              "outlinewidth": 0,
              "ticks": ""
             }
            },
            "type": "scattergl"
           }
          ],
          "scattermapbox": [
           {
            "marker": {
             "colorbar": {
              "outlinewidth": 0,
              "ticks": ""
             }
            },
            "type": "scattermapbox"
           }
          ],
          "scatterpolar": [
           {
            "marker": {
             "colorbar": {
              "outlinewidth": 0,
              "ticks": ""
             }
            },
            "type": "scatterpolar"
           }
          ],
          "scatterpolargl": [
           {
            "marker": {
             "colorbar": {
              "outlinewidth": 0,
              "ticks": ""
             }
            },
            "type": "scatterpolargl"
           }
          ],
          "scatterternary": [
           {
            "marker": {
             "colorbar": {
              "outlinewidth": 0,
              "ticks": ""
             }
            },
            "type": "scatterternary"
           }
          ],
          "surface": [
           {
            "colorbar": {
             "outlinewidth": 0,
             "ticks": ""
            },
            "colorscale": [
             [
              0,
              "#0d0887"
             ],
             [
              0.1111111111111111,
              "#46039f"
             ],
             [
              0.2222222222222222,
              "#7201a8"
             ],
             [
              0.3333333333333333,
              "#9c179e"
             ],
             [
              0.4444444444444444,
              "#bd3786"
             ],
             [
              0.5555555555555556,
              "#d8576b"
             ],
             [
              0.6666666666666666,
              "#ed7953"
             ],
             [
              0.7777777777777778,
              "#fb9f3a"
             ],
             [
              0.8888888888888888,
              "#fdca26"
             ],
             [
              1,
              "#f0f921"
             ]
            ],
            "type": "surface"
           }
          ],
          "table": [
           {
            "cells": {
             "fill": {
              "color": "#EBF0F8"
             },
             "line": {
              "color": "white"
             }
            },
            "header": {
             "fill": {
              "color": "#C8D4E3"
             },
             "line": {
              "color": "white"
             }
            },
            "type": "table"
           }
          ]
         },
         "layout": {
          "annotationdefaults": {
           "arrowcolor": "#2a3f5f",
           "arrowhead": 0,
           "arrowwidth": 1
          },
          "autotypenumbers": "strict",
          "coloraxis": {
           "colorbar": {
            "outlinewidth": 0,
            "ticks": ""
           }
          },
          "colorscale": {
           "diverging": [
            [
             0,
             "#8e0152"
            ],
            [
             0.1,
             "#c51b7d"
            ],
            [
             0.2,
             "#de77ae"
            ],
            [
             0.3,
             "#f1b6da"
            ],
            [
             0.4,
             "#fde0ef"
            ],
            [
             0.5,
             "#f7f7f7"
            ],
            [
             0.6,
             "#e6f5d0"
            ],
            [
             0.7,
             "#b8e186"
            ],
            [
             0.8,
             "#7fbc41"
            ],
            [
             0.9,
             "#4d9221"
            ],
            [
             1,
             "#276419"
            ]
           ],
           "sequential": [
            [
             0,
             "#0d0887"
            ],
            [
             0.1111111111111111,
             "#46039f"
            ],
            [
             0.2222222222222222,
             "#7201a8"
            ],
            [
             0.3333333333333333,
             "#9c179e"
            ],
            [
             0.4444444444444444,
             "#bd3786"
            ],
            [
             0.5555555555555556,
             "#d8576b"
            ],
            [
             0.6666666666666666,
             "#ed7953"
            ],
            [
             0.7777777777777778,
             "#fb9f3a"
            ],
            [
             0.8888888888888888,
             "#fdca26"
            ],
            [
             1,
             "#f0f921"
            ]
           ],
           "sequentialminus": [
            [
             0,
             "#0d0887"
            ],
            [
             0.1111111111111111,
             "#46039f"
            ],
            [
             0.2222222222222222,
             "#7201a8"
            ],
            [
             0.3333333333333333,
             "#9c179e"
            ],
            [
             0.4444444444444444,
             "#bd3786"
            ],
            [
             0.5555555555555556,
             "#d8576b"
            ],
            [
             0.6666666666666666,
             "#ed7953"
            ],
            [
             0.7777777777777778,
             "#fb9f3a"
            ],
            [
             0.8888888888888888,
             "#fdca26"
            ],
            [
             1,
             "#f0f921"
            ]
           ]
          },
          "colorway": [
           "#636efa",
           "#EF553B",
           "#00cc96",
           "#ab63fa",
           "#FFA15A",
           "#19d3f3",
           "#FF6692",
           "#B6E880",
           "#FF97FF",
           "#FECB52"
          ],
          "font": {
           "color": "#2a3f5f"
          },
          "geo": {
           "bgcolor": "white",
           "lakecolor": "white",
           "landcolor": "#E5ECF6",
           "showlakes": true,
           "showland": true,
           "subunitcolor": "white"
          },
          "hoverlabel": {
           "align": "left"
          },
          "hovermode": "closest",
          "mapbox": {
           "style": "light"
          },
          "paper_bgcolor": "white",
          "plot_bgcolor": "#E5ECF6",
          "polar": {
           "angularaxis": {
            "gridcolor": "white",
            "linecolor": "white",
            "ticks": ""
           },
           "bgcolor": "#E5ECF6",
           "radialaxis": {
            "gridcolor": "white",
            "linecolor": "white",
            "ticks": ""
           }
          },
          "scene": {
           "xaxis": {
            "backgroundcolor": "#E5ECF6",
            "gridcolor": "white",
            "gridwidth": 2,
            "linecolor": "white",
            "showbackground": true,
            "ticks": "",
            "zerolinecolor": "white"
           },
           "yaxis": {
            "backgroundcolor": "#E5ECF6",
            "gridcolor": "white",
            "gridwidth": 2,
            "linecolor": "white",
            "showbackground": true,
            "ticks": "",
            "zerolinecolor": "white"
           },
           "zaxis": {
            "backgroundcolor": "#E5ECF6",
            "gridcolor": "white",
            "gridwidth": 2,
            "linecolor": "white",
            "showbackground": true,
            "ticks": "",
            "zerolinecolor": "white"
           }
          },
          "shapedefaults": {
           "line": {
            "color": "#2a3f5f"
           }
          },
          "ternary": {
           "aaxis": {
            "gridcolor": "white",
            "linecolor": "white",
            "ticks": ""
           },
           "baxis": {
            "gridcolor": "white",
            "linecolor": "white",
            "ticks": ""
           },
           "bgcolor": "#E5ECF6",
           "caxis": {
            "gridcolor": "white",
            "linecolor": "white",
            "ticks": ""
           }
          },
          "title": {
           "x": 0.05
          },
          "xaxis": {
           "automargin": true,
           "gridcolor": "white",
           "linecolor": "white",
           "ticks": "",
           "title": {
            "standoff": 15
           },
           "zerolinecolor": "white",
           "zerolinewidth": 2
          },
          "yaxis": {
           "automargin": true,
           "gridcolor": "white",
           "linecolor": "white",
           "ticks": "",
           "title": {
            "standoff": 15
           },
           "zerolinecolor": "white",
           "zerolinewidth": 2
          }
         }
        },
        "title": {
         "text": "SGD Classifier Loss Scores"
        },
        "xaxis": {
         "anchor": "y",
         "categoryorder": "total descending",
         "domain": [
          0,
          1
         ],
         "title": {
          "text": "x"
         }
        },
        "yaxis": {
         "anchor": "x",
         "domain": [
          0,
          1
         ],
         "title": {
          "text": "Loss Score"
         }
        }
       }
      },
      "text/html": [
       "<div>                            <div id=\"8f21101e-3e78-42aa-8b26-d5b7fa85825b\" class=\"plotly-graph-div\" style=\"height:525px; width:100%;\"></div>            <script type=\"text/javascript\">                require([\"plotly\"], function(Plotly) {                    window.PLOTLYENV=window.PLOTLYENV || {};                                    if (document.getElementById(\"8f21101e-3e78-42aa-8b26-d5b7fa85825b\")) {                    Plotly.newPlot(                        \"8f21101e-3e78-42aa-8b26-d5b7fa85825b\",                        [{\"alignmentgroup\":\"True\",\"hovertemplate\":\"color=squared_error<br>x=%{x}<br>Loss Score=%{y}<extra></extra>\",\"legendgroup\":\"squared_error\",\"marker\":{\"color\":\"rgb(36, 86, 104)\",\"pattern\":{\"shape\":\"\"}},\"name\":\"squared_error\",\"offsetgroup\":\"squared_error\",\"orientation\":\"v\",\"showlegend\":true,\"textposition\":\"auto\",\"x\":[\"squared_error\"],\"xaxis\":\"x\",\"y\":[0.44357476869970097],\"yaxis\":\"y\",\"type\":\"bar\"},{\"alignmentgroup\":\"True\",\"hovertemplate\":\"color=hinge<br>x=%{x}<br>Loss Score=%{y}<extra></extra>\",\"legendgroup\":\"hinge\",\"marker\":{\"color\":\"rgb(15, 114, 121)\",\"pattern\":{\"shape\":\"\"}},\"name\":\"hinge\",\"offsetgroup\":\"hinge\",\"orientation\":\"v\",\"showlegend\":true,\"textposition\":\"auto\",\"x\":[\"hinge\"],\"xaxis\":\"x\",\"y\":[0.9996922685826293],\"yaxis\":\"y\",\"type\":\"bar\"},{\"alignmentgroup\":\"True\",\"hovertemplate\":\"color=epsilon_insensitive<br>x=%{x}<br>Loss Score=%{y}<extra></extra>\",\"legendgroup\":\"epsilon_insensitive\",\"marker\":{\"color\":\"rgb(13, 143, 129)\",\"pattern\":{\"shape\":\"\"}},\"name\":\"epsilon_insensitive\",\"offsetgroup\":\"epsilon_insensitive\",\"orientation\":\"v\",\"showlegend\":true,\"textposition\":\"auto\",\"x\":[\"epsilon_insensitive\"],\"xaxis\":\"x\",\"y\":[0.9594363163211378],\"yaxis\":\"y\",\"type\":\"bar\"},{\"alignmentgroup\":\"True\",\"hovertemplate\":\"color=squared_hinge<br>x=%{x}<br>Loss Score=%{y}<extra></extra>\",\"legendgroup\":\"squared_hinge\",\"marker\":{\"color\":\"rgb(57, 171, 126)\",\"pattern\":{\"shape\":\"\"}},\"name\":\"squared_hinge\",\"offsetgroup\":\"squared_hinge\",\"orientation\":\"v\",\"showlegend\":true,\"textposition\":\"auto\",\"x\":[\"squared_hinge\"],\"xaxis\":\"x\",\"y\":[0.8056843344639119],\"yaxis\":\"y\",\"type\":\"bar\"},{\"alignmentgroup\":\"True\",\"hovertemplate\":\"color=squared_epsilon_insensitive<br>x=%{x}<br>Loss Score=%{y}<extra></extra>\",\"legendgroup\":\"squared_epsilon_insensitive\",\"marker\":{\"color\":\"rgb(110, 197, 116)\",\"pattern\":{\"shape\":\"\"}},\"name\":\"squared_epsilon_insensitive\",\"offsetgroup\":\"squared_epsilon_insensitive\",\"orientation\":\"v\",\"showlegend\":true,\"textposition\":\"auto\",\"x\":[\"squared_epsilon_insensitive\"],\"xaxis\":\"x\",\"y\":[0.546357062101538],\"yaxis\":\"y\",\"type\":\"bar\"},{\"alignmentgroup\":\"True\",\"hovertemplate\":\"color=modified_huber<br>x=%{x}<br>Loss Score=%{y}<extra></extra>\",\"legendgroup\":\"modified_huber\",\"marker\":{\"color\":\"rgb(169, 220, 103)\",\"pattern\":{\"shape\":\"\"}},\"name\":\"modified_huber\",\"offsetgroup\":\"modified_huber\",\"orientation\":\"v\",\"showlegend\":true,\"textposition\":\"auto\",\"x\":[\"modified_huber\"],\"xaxis\":\"x\",\"y\":[0.9997959606906563],\"yaxis\":\"y\",\"type\":\"bar\"},{\"alignmentgroup\":\"True\",\"hovertemplate\":\"color=perceptron<br>x=%{x}<br>Loss Score=%{y}<extra></extra>\",\"legendgroup\":\"perceptron\",\"marker\":{\"color\":\"rgb(237, 239, 93)\",\"pattern\":{\"shape\":\"\"}},\"name\":\"perceptron\",\"offsetgroup\":\"perceptron\",\"orientation\":\"v\",\"showlegend\":true,\"textposition\":\"auto\",\"x\":[\"perceptron\"],\"xaxis\":\"x\",\"y\":[0.999642094981971],\"yaxis\":\"y\",\"type\":\"bar\"},{\"alignmentgroup\":\"True\",\"hovertemplate\":\"color=log_loss<br>x=%{x}<br>Loss Score=%{y}<extra></extra>\",\"legendgroup\":\"log_loss\",\"marker\":{\"color\":\"rgb(36, 86, 104)\",\"pattern\":{\"shape\":\"\"}},\"name\":\"log_loss\",\"offsetgroup\":\"log_loss\",\"orientation\":\"v\",\"showlegend\":true,\"textposition\":\"auto\",\"x\":[\"log_loss\"],\"xaxis\":\"x\",\"y\":[0.989744516025448],\"yaxis\":\"y\",\"type\":\"bar\"},{\"alignmentgroup\":\"True\",\"hovertemplate\":\"color=huber<br>x=%{x}<br>Loss Score=%{y}<extra></extra>\",\"legendgroup\":\"huber\",\"marker\":{\"color\":\"rgb(15, 114, 121)\",\"pattern\":{\"shape\":\"\"}},\"name\":\"huber\",\"offsetgroup\":\"huber\",\"orientation\":\"v\",\"showlegend\":true,\"textposition\":\"auto\",\"x\":[\"huber\"],\"xaxis\":\"x\",\"y\":[0.9594630755748222],\"yaxis\":\"y\",\"type\":\"bar\"}],                        {\"template\":{\"data\":{\"bar\":[{\"error_x\":{\"color\":\"#2a3f5f\"},\"error_y\":{\"color\":\"#2a3f5f\"},\"marker\":{\"line\":{\"color\":\"#E5ECF6\",\"width\":0.5},\"pattern\":{\"fillmode\":\"overlay\",\"size\":10,\"solidity\":0.2}},\"type\":\"bar\"}],\"barpolar\":[{\"marker\":{\"line\":{\"color\":\"#E5ECF6\",\"width\":0.5},\"pattern\":{\"fillmode\":\"overlay\",\"size\":10,\"solidity\":0.2}},\"type\":\"barpolar\"}],\"carpet\":[{\"aaxis\":{\"endlinecolor\":\"#2a3f5f\",\"gridcolor\":\"white\",\"linecolor\":\"white\",\"minorgridcolor\":\"white\",\"startlinecolor\":\"#2a3f5f\"},\"baxis\":{\"endlinecolor\":\"#2a3f5f\",\"gridcolor\":\"white\",\"linecolor\":\"white\",\"minorgridcolor\":\"white\",\"startlinecolor\":\"#2a3f5f\"},\"type\":\"carpet\"}],\"choropleth\":[{\"colorbar\":{\"outlinewidth\":0,\"ticks\":\"\"},\"type\":\"choropleth\"}],\"contour\":[{\"colorbar\":{\"outlinewidth\":0,\"ticks\":\"\"},\"colorscale\":[[0.0,\"#0d0887\"],[0.1111111111111111,\"#46039f\"],[0.2222222222222222,\"#7201a8\"],[0.3333333333333333,\"#9c179e\"],[0.4444444444444444,\"#bd3786\"],[0.5555555555555556,\"#d8576b\"],[0.6666666666666666,\"#ed7953\"],[0.7777777777777778,\"#fb9f3a\"],[0.8888888888888888,\"#fdca26\"],[1.0,\"#f0f921\"]],\"type\":\"contour\"}],\"contourcarpet\":[{\"colorbar\":{\"outlinewidth\":0,\"ticks\":\"\"},\"type\":\"contourcarpet\"}],\"heatmap\":[{\"colorbar\":{\"outlinewidth\":0,\"ticks\":\"\"},\"colorscale\":[[0.0,\"#0d0887\"],[0.1111111111111111,\"#46039f\"],[0.2222222222222222,\"#7201a8\"],[0.3333333333333333,\"#9c179e\"],[0.4444444444444444,\"#bd3786\"],[0.5555555555555556,\"#d8576b\"],[0.6666666666666666,\"#ed7953\"],[0.7777777777777778,\"#fb9f3a\"],[0.8888888888888888,\"#fdca26\"],[1.0,\"#f0f921\"]],\"type\":\"heatmap\"}],\"heatmapgl\":[{\"colorbar\":{\"outlinewidth\":0,\"ticks\":\"\"},\"colorscale\":[[0.0,\"#0d0887\"],[0.1111111111111111,\"#46039f\"],[0.2222222222222222,\"#7201a8\"],[0.3333333333333333,\"#9c179e\"],[0.4444444444444444,\"#bd3786\"],[0.5555555555555556,\"#d8576b\"],[0.6666666666666666,\"#ed7953\"],[0.7777777777777778,\"#fb9f3a\"],[0.8888888888888888,\"#fdca26\"],[1.0,\"#f0f921\"]],\"type\":\"heatmapgl\"}],\"histogram\":[{\"marker\":{\"pattern\":{\"fillmode\":\"overlay\",\"size\":10,\"solidity\":0.2}},\"type\":\"histogram\"}],\"histogram2d\":[{\"colorbar\":{\"outlinewidth\":0,\"ticks\":\"\"},\"colorscale\":[[0.0,\"#0d0887\"],[0.1111111111111111,\"#46039f\"],[0.2222222222222222,\"#7201a8\"],[0.3333333333333333,\"#9c179e\"],[0.4444444444444444,\"#bd3786\"],[0.5555555555555556,\"#d8576b\"],[0.6666666666666666,\"#ed7953\"],[0.7777777777777778,\"#fb9f3a\"],[0.8888888888888888,\"#fdca26\"],[1.0,\"#f0f921\"]],\"type\":\"histogram2d\"}],\"histogram2dcontour\":[{\"colorbar\":{\"outlinewidth\":0,\"ticks\":\"\"},\"colorscale\":[[0.0,\"#0d0887\"],[0.1111111111111111,\"#46039f\"],[0.2222222222222222,\"#7201a8\"],[0.3333333333333333,\"#9c179e\"],[0.4444444444444444,\"#bd3786\"],[0.5555555555555556,\"#d8576b\"],[0.6666666666666666,\"#ed7953\"],[0.7777777777777778,\"#fb9f3a\"],[0.8888888888888888,\"#fdca26\"],[1.0,\"#f0f921\"]],\"type\":\"histogram2dcontour\"}],\"mesh3d\":[{\"colorbar\":{\"outlinewidth\":0,\"ticks\":\"\"},\"type\":\"mesh3d\"}],\"parcoords\":[{\"line\":{\"colorbar\":{\"outlinewidth\":0,\"ticks\":\"\"}},\"type\":\"parcoords\"}],\"pie\":[{\"automargin\":true,\"type\":\"pie\"}],\"scatter\":[{\"marker\":{\"colorbar\":{\"outlinewidth\":0,\"ticks\":\"\"}},\"type\":\"scatter\"}],\"scatter3d\":[{\"line\":{\"colorbar\":{\"outlinewidth\":0,\"ticks\":\"\"}},\"marker\":{\"colorbar\":{\"outlinewidth\":0,\"ticks\":\"\"}},\"type\":\"scatter3d\"}],\"scattercarpet\":[{\"marker\":{\"colorbar\":{\"outlinewidth\":0,\"ticks\":\"\"}},\"type\":\"scattercarpet\"}],\"scattergeo\":[{\"marker\":{\"colorbar\":{\"outlinewidth\":0,\"ticks\":\"\"}},\"type\":\"scattergeo\"}],\"scattergl\":[{\"marker\":{\"colorbar\":{\"outlinewidth\":0,\"ticks\":\"\"}},\"type\":\"scattergl\"}],\"scattermapbox\":[{\"marker\":{\"colorbar\":{\"outlinewidth\":0,\"ticks\":\"\"}},\"type\":\"scattermapbox\"}],\"scatterpolar\":[{\"marker\":{\"colorbar\":{\"outlinewidth\":0,\"ticks\":\"\"}},\"type\":\"scatterpolar\"}],\"scatterpolargl\":[{\"marker\":{\"colorbar\":{\"outlinewidth\":0,\"ticks\":\"\"}},\"type\":\"scatterpolargl\"}],\"scatterternary\":[{\"marker\":{\"colorbar\":{\"outlinewidth\":0,\"ticks\":\"\"}},\"type\":\"scatterternary\"}],\"surface\":[{\"colorbar\":{\"outlinewidth\":0,\"ticks\":\"\"},\"colorscale\":[[0.0,\"#0d0887\"],[0.1111111111111111,\"#46039f\"],[0.2222222222222222,\"#7201a8\"],[0.3333333333333333,\"#9c179e\"],[0.4444444444444444,\"#bd3786\"],[0.5555555555555556,\"#d8576b\"],[0.6666666666666666,\"#ed7953\"],[0.7777777777777778,\"#fb9f3a\"],[0.8888888888888888,\"#fdca26\"],[1.0,\"#f0f921\"]],\"type\":\"surface\"}],\"table\":[{\"cells\":{\"fill\":{\"color\":\"#EBF0F8\"},\"line\":{\"color\":\"white\"}},\"header\":{\"fill\":{\"color\":\"#C8D4E3\"},\"line\":{\"color\":\"white\"}},\"type\":\"table\"}]},\"layout\":{\"annotationdefaults\":{\"arrowcolor\":\"#2a3f5f\",\"arrowhead\":0,\"arrowwidth\":1},\"autotypenumbers\":\"strict\",\"coloraxis\":{\"colorbar\":{\"outlinewidth\":0,\"ticks\":\"\"}},\"colorscale\":{\"diverging\":[[0,\"#8e0152\"],[0.1,\"#c51b7d\"],[0.2,\"#de77ae\"],[0.3,\"#f1b6da\"],[0.4,\"#fde0ef\"],[0.5,\"#f7f7f7\"],[0.6,\"#e6f5d0\"],[0.7,\"#b8e186\"],[0.8,\"#7fbc41\"],[0.9,\"#4d9221\"],[1,\"#276419\"]],\"sequential\":[[0.0,\"#0d0887\"],[0.1111111111111111,\"#46039f\"],[0.2222222222222222,\"#7201a8\"],[0.3333333333333333,\"#9c179e\"],[0.4444444444444444,\"#bd3786\"],[0.5555555555555556,\"#d8576b\"],[0.6666666666666666,\"#ed7953\"],[0.7777777777777778,\"#fb9f3a\"],[0.8888888888888888,\"#fdca26\"],[1.0,\"#f0f921\"]],\"sequentialminus\":[[0.0,\"#0d0887\"],[0.1111111111111111,\"#46039f\"],[0.2222222222222222,\"#7201a8\"],[0.3333333333333333,\"#9c179e\"],[0.4444444444444444,\"#bd3786\"],[0.5555555555555556,\"#d8576b\"],[0.6666666666666666,\"#ed7953\"],[0.7777777777777778,\"#fb9f3a\"],[0.8888888888888888,\"#fdca26\"],[1.0,\"#f0f921\"]]},\"colorway\":[\"#636efa\",\"#EF553B\",\"#00cc96\",\"#ab63fa\",\"#FFA15A\",\"#19d3f3\",\"#FF6692\",\"#B6E880\",\"#FF97FF\",\"#FECB52\"],\"font\":{\"color\":\"#2a3f5f\"},\"geo\":{\"bgcolor\":\"white\",\"lakecolor\":\"white\",\"landcolor\":\"#E5ECF6\",\"showlakes\":true,\"showland\":true,\"subunitcolor\":\"white\"},\"hoverlabel\":{\"align\":\"left\"},\"hovermode\":\"closest\",\"mapbox\":{\"style\":\"light\"},\"paper_bgcolor\":\"white\",\"plot_bgcolor\":\"#E5ECF6\",\"polar\":{\"angularaxis\":{\"gridcolor\":\"white\",\"linecolor\":\"white\",\"ticks\":\"\"},\"bgcolor\":\"#E5ECF6\",\"radialaxis\":{\"gridcolor\":\"white\",\"linecolor\":\"white\",\"ticks\":\"\"}},\"scene\":{\"xaxis\":{\"backgroundcolor\":\"#E5ECF6\",\"gridcolor\":\"white\",\"gridwidth\":2,\"linecolor\":\"white\",\"showbackground\":true,\"ticks\":\"\",\"zerolinecolor\":\"white\"},\"yaxis\":{\"backgroundcolor\":\"#E5ECF6\",\"gridcolor\":\"white\",\"gridwidth\":2,\"linecolor\":\"white\",\"showbackground\":true,\"ticks\":\"\",\"zerolinecolor\":\"white\"},\"zaxis\":{\"backgroundcolor\":\"#E5ECF6\",\"gridcolor\":\"white\",\"gridwidth\":2,\"linecolor\":\"white\",\"showbackground\":true,\"ticks\":\"\",\"zerolinecolor\":\"white\"}},\"shapedefaults\":{\"line\":{\"color\":\"#2a3f5f\"}},\"ternary\":{\"aaxis\":{\"gridcolor\":\"white\",\"linecolor\":\"white\",\"ticks\":\"\"},\"baxis\":{\"gridcolor\":\"white\",\"linecolor\":\"white\",\"ticks\":\"\"},\"bgcolor\":\"#E5ECF6\",\"caxis\":{\"gridcolor\":\"white\",\"linecolor\":\"white\",\"ticks\":\"\"}},\"title\":{\"x\":0.05},\"xaxis\":{\"automargin\":true,\"gridcolor\":\"white\",\"linecolor\":\"white\",\"ticks\":\"\",\"title\":{\"standoff\":15},\"zerolinecolor\":\"white\",\"zerolinewidth\":2},\"yaxis\":{\"automargin\":true,\"gridcolor\":\"white\",\"linecolor\":\"white\",\"ticks\":\"\",\"title\":{\"standoff\":15},\"zerolinecolor\":\"white\",\"zerolinewidth\":2}}},\"xaxis\":{\"anchor\":\"y\",\"domain\":[0.0,1.0],\"title\":{\"text\":\"x\"},\"categoryorder\":\"total descending\"},\"yaxis\":{\"anchor\":\"x\",\"domain\":[0.0,1.0],\"title\":{\"text\":\"Loss Score\"}},\"legend\":{\"title\":{\"text\":\"color\"},\"tracegroupgap\":0},\"title\":{\"text\":\"SGD Classifier Loss Scores\"},\"barmode\":\"relative\",\"showlegend\":false},                        {\"responsive\": true}                    ).then(function(){\n",
       "                            \n",
       "var gd = document.getElementById('8f21101e-3e78-42aa-8b26-d5b7fa85825b');\n",
       "var x = new MutationObserver(function (mutations, observer) {{\n",
       "        var display = window.getComputedStyle(gd).display;\n",
       "        if (!display || display === 'none') {{\n",
       "            console.log([gd, 'removed!']);\n",
       "            Plotly.purge(gd);\n",
       "            observer.disconnect();\n",
       "        }}\n",
       "}});\n",
       "\n",
       "// Listen for the removal of the full notebook cells\n",
       "var notebookContainer = gd.closest('#notebook-container');\n",
       "if (notebookContainer) {{\n",
       "    x.observe(notebookContainer, {childList: true});\n",
       "}}\n",
       "\n",
       "// Listen for the clearing of the current output cell\n",
       "var outputEl = gd.closest('.output');\n",
       "if (outputEl) {{\n",
       "    x.observe(outputEl, {childList: true});\n",
       "}}\n",
       "\n",
       "                        })                };                });            </script>        </div>"
      ]
     },
     "metadata": {},
     "output_type": "display_data"
    }
   ],
   "source": [
    "fig = px.bar(sgd_loss_scores_df, x=sgd_loss_list, y = sgd_loss_scores, \n",
    "           color=sgd_loss_list, title=\"SGD Classifier Loss Scores\",\n",
    "          labels={'y': \"Loss Score\", 'index': \"Loss Name\"}, color_discrete_sequence= px.colors.sequential.Aggrnyl)\n",
    "fig.update_layout(xaxis={'categoryorder':'total descending'}, showlegend=False)"
   ]
  },
  {
   "cell_type": "code",
   "execution_count": null,
   "metadata": {},
   "outputs": [
    {
     "data": {
      "image/png": "[encoded data removed]",
      "text/plain": [
       "<Figure size 1296x360 with 1 Axes>"
      ]
     },
     "metadata": {
      "needs_background": "light"
     },
     "output_type": "display_data"
    }
   ],
   "source": [
    "plt.figure(figsize=(18,5))\n",
    "plt.title(\"Effect of loss\")\n",
    "plt.xlabel(\"loss\")\n",
    "plt.ylabel(\"score\")\n",
    "x = np.arange(len(sgd_loss_list))\n",
    "plt.xticks(x, sgd_loss_list)\n",
    "plt.plot(x, sgd_loss_scores)\n",
    "plt.show()"
   ]
  },
  {
   "cell_type": "code",
   "execution_count": null,
   "metadata": {},
   "outputs": [
    {
     "ename": "ValueError",
     "evalue": "Column(s) [ 4  5  6  7  8  9 10 11 12 13 14 15 16 17 18 19 20 21 22 23 24 25 26 27] need to be accounted for in either feature_index or filler_feature_values",
     "output_type": "error",
     "traceback": [
      "\u001b[1;31m---------------------------------------------------------------------------\u001b[0m",
      "\u001b[1;31mValueError\u001b[0m                                Traceback (most recent call last)",
      "Input \u001b[1;32mIn [131]\u001b[0m, in \u001b[0;36m<cell line: 3>\u001b[1;34m()\u001b[0m\n\u001b[0;32m      1\u001b[0m value\u001b[38;5;241m=\u001b[39m\u001b[38;5;241m1.5\u001b[39m\n\u001b[0;32m      2\u001b[0m width\u001b[38;5;241m=\u001b[39m\u001b[38;5;241m0.75\u001b[39m\n\u001b[1;32m----> 3\u001b[0m \u001b[43mplot_decision_regions\u001b[49m\u001b[43m(\u001b[49m\u001b[43mx_test\u001b[49m\u001b[43m,\u001b[49m\u001b[43m \u001b[49m\u001b[43my_test\u001b[49m\u001b[38;5;241;43m.\u001b[39;49m\u001b[43mvalues\u001b[49m\u001b[43m,\u001b[49m\u001b[43m \u001b[49m\u001b[43mclf\u001b[49m\u001b[43m \u001b[49m\u001b[38;5;241;43m=\u001b[39;49m\u001b[43m \u001b[49m\u001b[43msgd_clr\u001b[49m\u001b[43m,\u001b[49m\u001b[43m \u001b[49m\u001b[43mlegend\u001b[49m\u001b[43m \u001b[49m\u001b[38;5;241;43m=\u001b[39;49m\u001b[43m \u001b[49m\u001b[38;5;241;43m2\u001b[39;49m\u001b[43m,\u001b[49m\u001b[43m \u001b[49m\u001b[43mfeature_index\u001b[49m\u001b[38;5;241;43m=\u001b[39;49m\u001b[43m[\u001b[49m\u001b[38;5;241;43m0\u001b[39;49m\u001b[43m,\u001b[49m\u001b[38;5;241;43m2\u001b[39;49m\u001b[43m]\u001b[49m\u001b[43m,\u001b[49m\u001b[43m                        \u001b[49m\u001b[38;5;66;43;03m#these one will be plotted  \u001b[39;49;00m\n\u001b[0;32m      4\u001b[0m \u001b[43m              \u001b[49m\u001b[43mfiller_feature_values\u001b[49m\u001b[38;5;241;43m=\u001b[39;49m\u001b[43m{\u001b[49m\u001b[38;5;241;43m1\u001b[39;49m\u001b[43m:\u001b[49m\u001b[43m \u001b[49m\u001b[43mvalue\u001b[49m\u001b[43m,\u001b[49m\u001b[43m \u001b[49m\u001b[38;5;241;43m3\u001b[39;49m\u001b[43m:\u001b[49m\u001b[43mvalue\u001b[49m\u001b[43m}\u001b[49m\u001b[43m,\u001b[49m\u001b[43m  \u001b[49m\n\u001b[0;32m      5\u001b[0m \u001b[43m              \u001b[49m\u001b[43mfiller_feature_ranges\u001b[49m\u001b[38;5;241;43m=\u001b[39;49m\u001b[43m{\u001b[49m\u001b[38;5;241;43m1\u001b[39;49m\u001b[43m:\u001b[49m\u001b[43m \u001b[49m\u001b[43mwidth\u001b[49m\u001b[43m,\u001b[49m\u001b[43m \u001b[49m\u001b[38;5;241;43m3\u001b[39;49m\u001b[43m:\u001b[49m\u001b[43m \u001b[49m\u001b[43mwidth\u001b[49m\u001b[43m}\u001b[49m\u001b[43m)\u001b[49m\n\u001b[0;32m      6\u001b[0m plt\u001b[38;5;241m.\u001b[39mtitle(\u001b[38;5;124m\"\u001b[39m\u001b[38;5;124mDecision boundary using SGD Classifier (Test)\u001b[39m\u001b[38;5;124m\"\u001b[39m)\n\u001b[0;32m      7\u001b[0m plt\u001b[38;5;241m.\u001b[39mxlabel(\u001b[38;5;124m\"\u001b[39m\u001b[38;5;124mmean_perimeter\u001b[39m\u001b[38;5;124m\"\u001b[39m)\n",
      "File \u001b[1;32mD:\\ProgramData\\anaconda3\\lib\\site-packages\\mlxtend\\plotting\\decision_regions.py:224\u001b[0m, in \u001b[0;36mplot_decision_regions\u001b[1;34m(X, y, clf, feature_index, filler_feature_values, filler_feature_ranges, ax, X_highlight, zoom_factor, legend, hide_spines, markers, colors, scatter_kwargs, contourf_kwargs, contour_kwargs, scatter_highlight_kwargs, n_jobs)\u001b[0m\n\u001b[0;32m    222\u001b[0m     \u001b[38;5;28;01mif\u001b[39;00m \u001b[38;5;129;01mnot\u001b[39;00m \u001b[38;5;28mall\u001b[39m(column_check):\n\u001b[0;32m    223\u001b[0m         missing_cols \u001b[38;5;241m=\u001b[39m np\u001b[38;5;241m.\u001b[39margwhere(\u001b[38;5;241m~\u001b[39mcolumn_check)\u001b[38;5;241m.\u001b[39mflatten()\n\u001b[1;32m--> 224\u001b[0m         \u001b[38;5;28;01mraise\u001b[39;00m \u001b[38;5;167;01mValueError\u001b[39;00m(\n\u001b[0;32m    225\u001b[0m             \u001b[38;5;124m\"\u001b[39m\u001b[38;5;124mColumn(s) \u001b[39m\u001b[38;5;132;01m{}\u001b[39;00m\u001b[38;5;124m need to be accounted for in either \u001b[39m\u001b[38;5;124m\"\u001b[39m\n\u001b[0;32m    226\u001b[0m             \u001b[38;5;124m\"\u001b[39m\u001b[38;5;124mfeature_index or filler_feature_values\u001b[39m\u001b[38;5;124m\"\u001b[39m\u001b[38;5;241m.\u001b[39mformat(missing_cols)\n\u001b[0;32m    227\u001b[0m         )\n\u001b[0;32m    229\u001b[0m \u001b[38;5;66;03m# Check that the n_jobs isn't higher than the available CPU cores\u001b[39;00m\n\u001b[0;32m    230\u001b[0m \u001b[38;5;28;01mif\u001b[39;00m n_jobs \u001b[38;5;241m>\u001b[39m mp\u001b[38;5;241m.\u001b[39mcpu_count():\n",
      "\u001b[1;31mValueError\u001b[0m: Column(s) [ 4  5  6  7  8  9 10 11 12 13 14 15 16 17 18 19 20 21 22 23 24 25 26 27] need to be accounted for in either feature_index or filler_feature_values"
     ]
    },
    {
     "data": {
      "image/png": "[encoded data removed]",
      "text/plain": [
       "<Figure size 432x288 with 1 Axes>"
      ]
     },
     "metadata": {
      "needs_background": "light"
     },
     "output_type": "display_data"
    }
   ],
   "source": [
    "value=1.5\n",
    "width=0.75\n",
    "plot_decision_regions(x_test, y_test.values, clf = sgd_clr, legend = 2, feature_index=[0,2],                        #these one will be plotted  \n",
    "              filler_feature_values={1: value, 3:value},  \n",
    "              filler_feature_ranges={1: width, 3: width})\n",
    "plt.title(\"Decision boundary using SGD Classifier (Test)\")\n",
    "plt.xlabel(\"mean_perimeter\")\n",
    "plt.ylabel(\"mean_texture\")"
   ]
  },
  {
   "cell_type": "code",
   "execution_count": null,
   "metadata": {},
   "outputs": [],
   "source": []
  },
  {
   "cell_type": "code",
   "execution_count": null,
   "metadata": {},
   "outputs": [],
   "source": []
  },
  {
   "cell_type": "code",
   "execution_count": null,
   "metadata": {},
   "outputs": [],
   "source": [
    "linear_svc = LinearSVC()\n",
    "start = time.time()\n",
    "linear_svc.fit(x_train,y_train)\n",
    "stop = time.time()\n",
    "linear_svc_training_time = stop - start\n",
    "linear_svc_yhat = linear_svc.predict(x_test)"
   ]
  },
  {
   "cell_type": "code",
   "execution_count": null,
   "metadata": {},
   "outputs": [
    {
     "data": {
      "text/plain": [
       "12.597505331039429"
      ]
     },
     "execution_count": 238,
     "metadata": {},
     "output_type": "execute_result"
    }
   ],
   "source": [
    "linear_svc_training_time"
   ]
  },
  {
   "cell_type": "code",
   "execution_count": null,
   "metadata": {},
   "outputs": [],
   "source": [
    "get_metrics_data(y_test, linear_svc_yhat)"
   ]
  },
  {
   "cell_type": "code",
   "execution_count": null,
   "metadata": {},
   "outputs": [
    {
     "name": "stdout",
     "output_type": "stream",
     "text": [
      "                precision    recall  f1-score   support\n",
      "\n",
      "        Benign       1.00      1.00      1.00     12119\n",
      "IoT-Bot-Attack       1.00      1.00      1.00    286843\n",
      "\n",
      "      accuracy                           1.00    298962\n",
      "     macro avg       1.00      1.00      1.00    298962\n",
      "  weighted avg       1.00      1.00      1.00    298962\n",
      "\n"
     ]
    }
   ],
   "source": [
    "print(classification_report(y_test, linear_svc_yhat, target_names=labelencoder.classes_))"
   ]
  },
  {
   "cell_type": "code",
   "execution_count": null,
   "metadata": {},
   "outputs": [
    {
     "data": {
      "image/png": "[encoded data removed]",
      "text/plain": [
       "<Figure size 504x360 with 2 Axes>"
      ]
     },
     "metadata": {
      "needs_background": "light"
     },
     "output_type": "display_data"
    }
   ],
   "source": [
    "linear_svc_cm = confusion_matrix(y_test, linear_svc_yhat)\n",
    "plt.figure(figsize=cm_fig_size)\n",
    "ax = plt.subplot()\n",
    "sns.heatmap(linear_svc_cm, fmt='.0f', annot=True, linewidths=0.2, linecolor='white', ax=ax, cmap=\"PiYG\")\n",
    "plt.xlabel('Predicted value')\n",
    "plt.ylabel('Truth value')\n",
    "ax.set_title('Linear Support Vector Machine Confusion Matrix'); \n",
    "ax.xaxis.set_ticklabels(labelencoder.classes_); \n",
    "ax.yaxis.set_ticklabels(labelencoder.classes_);\n",
    "plt.show()"
   ]
  },
  {
   "cell_type": "code",
   "execution_count": null,
   "metadata": {},
   "outputs": [],
   "source": []
  },
  {
   "cell_type": "code",
   "execution_count": null,
   "metadata": {},
   "outputs": [],
   "source": []
  },
  {
   "cell_type": "code",
   "execution_count": null,
   "metadata": {},
   "outputs": [],
   "source": []
  },
  {
   "cell_type": "code",
   "execution_count": null,
   "metadata": {},
   "outputs": [],
   "source": []
  },
  {
   "cell_type": "code",
   "execution_count": null,
   "metadata": {},
   "outputs": [],
   "source": [
    "svc = SVC(gamma='auto')\n",
    "start = time.time()\n",
    "svc.fit(x_train,y_train)\n",
    "stop = time.time()\n",
    "svc_training_time = stop - start\n",
    "svc_yhat = svc.predict(x_test)"
   ]
  },
  {
   "cell_type": "code",
   "execution_count": null,
   "metadata": {},
   "outputs": [
    {
     "data": {
      "text/plain": [
       "6615.1676070690155"
      ]
     },
     "execution_count": 187,
     "metadata": {},
     "output_type": "execute_result"
    }
   ],
   "source": [
    "svc_training_time"
   ]
  },
  {
   "cell_type": "code",
   "execution_count": null,
   "metadata": {},
   "outputs": [],
   "source": []
  },
  {
   "cell_type": "code",
   "execution_count": null,
   "metadata": {},
   "outputs": [],
   "source": [
    "get_metrics_data(y_test, svc_yhat)"
   ]
  },
  {
   "cell_type": "code",
   "execution_count": null,
   "metadata": {},
   "outputs": [
    {
     "name": "stdout",
     "output_type": "stream",
     "text": [
      "Accuracy: 99.98\n"
     ]
    }
   ],
   "source": [
    "svm_accuracy = accuracy_score(y_test, svc_yhat)*100\n",
    "print('Accuracy: %.2f' % (svm_accuracy))"
   ]
  },
  {
   "cell_type": "code",
   "execution_count": null,
   "metadata": {},
   "outputs": [
    {
     "name": "stdout",
     "output_type": "stream",
     "text": [
      "                precision    recall  f1-score   support\n",
      "\n",
      "        Benign       0.99      1.00      1.00     12119\n",
      "IoT-Bot-Attack       1.00      1.00      1.00    286843\n",
      "\n",
      "      accuracy                           1.00    298962\n",
      "     macro avg       1.00      1.00      1.00    298962\n",
      "  weighted avg       1.00      1.00      1.00    298962\n",
      "\n"
     ]
    }
   ],
   "source": [
    "print(classification_report(y_test, svc_yhat, target_names=labelencoder.classes_))"
   ]
  },
  {
   "cell_type": "code",
   "execution_count": null,
   "metadata": {},
   "outputs": [
    {
     "data": {
      "image/png": "[encoded data removed]",
      "text/plain": [
       "<Figure size 504x360 with 2 Axes>"
      ]
     },
     "metadata": {
      "needs_background": "light"
     },
     "output_type": "display_data"
    }
   ],
   "source": [
    "svc_cm = confusion_matrix(y_test, svc_yhat)\n",
    "plt.figure(figsize=cm_fig_size)\n",
    "ax = plt.subplot()\n",
    "sns.heatmap(svc_cm, fmt='.0f', annot=True, linewidths=0.2, linecolor='white', ax=ax, cmap=\"PiYG\")\n",
    "plt.xlabel('Predicted value')\n",
    "plt.ylabel('Truth value')\n",
    "ax.set_title('Support Vector Machine Confusion Matrix'); \n",
    "ax.xaxis.set_ticklabels(labelencoder.classes_); \n",
    "ax.yaxis.set_ticklabels(labelencoder.classes_);\n",
    "plt.show()"
   ]
  },
  {
   "cell_type": "code",
   "execution_count": null,
   "metadata": {},
   "outputs": [],
   "source": []
  },
  {
   "cell_type": "code",
   "execution_count": null,
   "metadata": {},
   "outputs": [],
   "source": []
  },
  {
   "cell_type": "code",
   "execution_count": null,
   "metadata": {},
   "outputs": [],
   "source": []
  },
  {
   "cell_type": "code",
   "execution_count": null,
   "metadata": {},
   "outputs": [],
   "source": [
    "rf = RandomForestClassifier()\n",
    "start = time.time()\n",
    "rf.fit(x_train, y_train)\n",
    "stop = time.time()\n",
    "rf_training_time = stop - start\n",
    "rf_yhat = rf.predict(x_test)"
   ]
  },
  {
   "cell_type": "code",
   "execution_count": null,
   "metadata": {},
   "outputs": [
    {
     "data": {
      "text/plain": [
       "104.0169825553894"
      ]
     },
     "execution_count": 186,
     "metadata": {},
     "output_type": "execute_result"
    }
   ],
   "source": [
    "rf_training_time"
   ]
  },
  {
   "cell_type": "code",
   "execution_count": null,
   "metadata": {},
   "outputs": [],
   "source": []
  },
  {
   "cell_type": "code",
   "execution_count": null,
   "metadata": {},
   "outputs": [],
   "source": [
    "get_metrics_data(y_test, rf_yhat)"
   ]
  },
  {
   "cell_type": "code",
   "execution_count": null,
   "metadata": {},
   "outputs": [
    {
     "name": "stdout",
     "output_type": "stream",
     "text": [
      "Accuracy: 100.00\n"
     ]
    }
   ],
   "source": [
    "rf_accuracy = accuracy_score(y_test, rf_yhat) * 100\n",
    "print('Accuracy: %.2f' % (rf_accuracy))"
   ]
  },
  {
   "cell_type": "code",
   "execution_count": null,
   "metadata": {},
   "outputs": [
    {
     "name": "stdout",
     "output_type": "stream",
     "text": [
      "                precision    recall  f1-score   support\n",
      "\n",
      "        Benign       1.00      1.00      1.00     12119\n",
      "IoT-Bot-Attack       1.00      1.00      1.00    286843\n",
      "\n",
      "      accuracy                           1.00    298962\n",
      "     macro avg       1.00      1.00      1.00    298962\n",
      "  weighted avg       1.00      1.00      1.00    298962\n",
      "\n"
     ]
    }
   ],
   "source": [
    "print(classification_report(y_test, rf_yhat, target_names=labelencoder.classes_))"
   ]
  },
  {
   "cell_type": "code",
   "execution_count": null,
   "metadata": {},
   "outputs": [
    {
     "data": {
      "image/png": "[encoded data removed]",
      "text/plain": [
       "<Figure size 504x360 with 2 Axes>"
      ]
     },
     "metadata": {
      "needs_background": "light"
     },
     "output_type": "display_data"
    }
   ],
   "source": [
    "rf_cm = confusion_matrix(y_test, rf_yhat)\n",
    "plt.figure(figsize=cm_fig_size)\n",
    "ax = plt.subplot()\n",
    "sns.heatmap(rf_cm, fmt='.0f', annot=True, linewidths=0.2, linecolor='white', ax=ax, cmap=\"PuOr\")\n",
    "plt.xlabel('Predicted value')\n",
    "plt.ylabel('Truth value')\n",
    "ax.set_title('Random Forest Confusion Matrix'); \n",
    "ax.xaxis.set_ticklabels(labelencoder.classes_); \n",
    "ax.yaxis.set_ticklabels(labelencoder.classes_);\n",
    "plt.show()"
   ]
  },
  {
   "cell_type": "code",
   "execution_count": null,
   "metadata": {},
   "outputs": [],
   "source": []
  },
  {
   "cell_type": "code",
   "execution_count": null,
   "metadata": {},
   "outputs": [
    {
     "name": "stdout",
     "output_type": "stream",
     "text": [
      "Accuracy: 100.00\n",
      "                precision    recall  f1-score   support\n",
      "\n",
      "        Benign       1.00      1.00      1.00     12119\n",
      "IoT-Bot-Attack       1.00      1.00      1.00    286843\n",
      "\n",
      "      accuracy                           1.00    298962\n",
      "     macro avg       1.00      1.00      1.00    298962\n",
      "  weighted avg       1.00      1.00      1.00    298962\n",
      "\n"
     ]
    },
    {
     "data": {
      "image/png": "[encoded data removed]",
      "text/plain": [
       "<Figure size 504x360 with 2 Axes>"
      ]
     },
     "metadata": {
      "needs_background": "light"
     },
     "output_type": "display_data"
    }
   ],
   "source": [
    "ada = AdaBoostClassifier()\n",
    "start = time.time()\n",
    "ada.fit(x_train, y_train)\n",
    "stop = time.time()\n",
    "ada_training_time = stop - start\n",
    "ada_yhat = ada.predict(x_test)\n",
    "ada_accuracy = accuracy_score(y_test, ada_yhat) * 100\n",
    "print('Accuracy: %.2f' % (ada_accuracy))\n",
    "print(classification_report(y_test, ada_yhat, target_names=labelencoder.classes_))\n",
    "ada_cm = confusion_matrix(y_test, ada_yhat)\n",
    "plt.figure(figsize=cm_fig_size)\n",
    "ax = plt.subplot()\n",
    "sns.heatmap(ada_cm, fmt='.0f', annot=True, linewidths=0.2, linecolor='white', ax=ax, cmap=\"RdYlGn\")\n",
    "plt.xlabel('Predicted value')\n",
    "plt.ylabel('Truth value')\n",
    "ax.set_title('Ada Boost Confusion Matrix'); \n",
    "ax.xaxis.set_ticklabels(labelencoder.classes_); \n",
    "ax.yaxis.set_ticklabels(labelencoder.classes_);\n",
    "plt.show()"
   ]
  },
  {
   "cell_type": "code",
   "execution_count": null,
   "metadata": {},
   "outputs": [],
   "source": [
    "#ada = AdaBoostClassifier()\n",
    "#kfold = KFold(5, shuffle=True, random_state=0)\n",
    "#ada_kfold_scores = cross_val_predict(ada, x_train, y_train, cv=kfold)\n",
    "#ada_kfold_scores"
   ]
  },
  {
   "cell_type": "code",
   "execution_count": null,
   "metadata": {},
   "outputs": [],
   "source": [
    "#plt.plot(ada_kfold_scores)"
   ]
  },
  {
   "cell_type": "code",
   "execution_count": null,
   "metadata": {},
   "outputs": [],
   "source": [
    "get_metrics_data(y_test, ada_yhat)"
   ]
  },
  {
   "cell_type": "code",
   "execution_count": null,
   "metadata": {},
   "outputs": [],
   "source": []
  },
  {
   "cell_type": "code",
   "execution_count": null,
   "metadata": {},
   "outputs": [
    {
     "name": "stdout",
     "output_type": "stream",
     "text": [
      "Accuracy: 100.00\n",
      "                precision    recall  f1-score   support\n",
      "\n",
      "        Benign       1.00      1.00      1.00     12119\n",
      "IoT-Bot-Attack       1.00      1.00      1.00    286843\n",
      "\n",
      "      accuracy                           1.00    298962\n",
      "     macro avg       1.00      1.00      1.00    298962\n",
      "  weighted avg       1.00      1.00      1.00    298962\n",
      "\n"
     ]
    },
    {
     "data": {
      "image/png": "[encoded data removed]",
      "text/plain": [
       "<Figure size 504x360 with 2 Axes>"
      ]
     },
     "metadata": {
      "needs_background": "light"
     },
     "output_type": "display_data"
    }
   ],
   "source": [
    "gboost = GradientBoostingClassifier()\n",
    "start = time.time()\n",
    "gboost.fit(x_train, y_train)\n",
    "stop = time.time()\n",
    "gboost_training_time = stop - start\n",
    "gboost_yhat = gboost.predict(x_test)\n",
    "gboost_accuracy = accuracy_score(y_test, gboost_yhat) * 100\n",
    "print('Accuracy: %.2f' % (gboost_accuracy))\n",
    "print(classification_report(y_test, gboost_yhat, target_names=labelencoder.classes_))\n",
    "gboost_cm = confusion_matrix(y_test, gboost_yhat)\n",
    "plt.figure(figsize=cm_fig_size)\n",
    "ax = plt.subplot()\n",
    "sns.heatmap(gboost_cm, fmt='.0f', annot=True, linewidths=0.2, linecolor='white', ax=ax, cmap=\"seismic\")\n",
    "plt.xlabel('Predicted value')\n",
    "plt.ylabel('Truth value')\n",
    "ax.set_title('Gradient Boosting Confusion Matrix'); \n",
    "ax.xaxis.set_ticklabels(labelencoder.classes_); \n",
    "ax.yaxis.set_ticklabels(labelencoder.classes_);\n",
    "plt.show()"
   ]
  },
  {
   "cell_type": "code",
   "execution_count": null,
   "metadata": {},
   "outputs": [],
   "source": [
    "get_metrics_data(y_test, gboost_yhat)"
   ]
  },
  {
   "cell_type": "code",
   "execution_count": null,
   "metadata": {},
   "outputs": [],
   "source": []
  },
  {
   "cell_type": "code",
   "execution_count": null,
   "metadata": {},
   "outputs": [],
   "source": []
  },
  {
   "cell_type": "code",
   "execution_count": null,
   "metadata": {},
   "outputs": [],
   "source": []
  },
  {
   "cell_type": "code",
   "execution_count": null,
   "metadata": {},
   "outputs": [],
   "source": [
    "labels_full=pd.get_dummies(binary_opt1_df['target'], prefix='type')\n",
    "labels=labels_full.values"
   ]
  },
  {
   "cell_type": "code",
   "execution_count": null,
   "metadata": {},
   "outputs": [
    {
     "data": {
      "text/plain": [
       "array([[False,  True],\n",
       "       [False,  True],\n",
       "       [False,  True],\n",
       "       ...,\n",
       "       [ True, False],\n",
       "       [ True, False],\n",
       "       [ True, False]])"
      ]
     },
     "execution_count": 262,
     "metadata": {},
     "output_type": "execute_result"
    }
   ],
   "source": [
    "labels=labels_full.values\n",
    "labels"
   ]
  },
  {
   "cell_type": "code",
   "execution_count": null,
   "metadata": {},
   "outputs": [
    {
     "data": {
      "text/plain": [
       "(2, (298962,))"
      ]
     },
     "execution_count": 263,
     "metadata": {},
     "output_type": "execute_result"
    }
   ],
   "source": [
    "labels.shape[1], y_test.shape"
   ]
  },
  {
   "cell_type": "code",
   "execution_count": null,
   "metadata": {},
   "outputs": [
    {
     "data": {
      "text/plain": [
       "28"
      ]
     },
     "execution_count": 264,
     "metadata": {},
     "output_type": "execute_result"
    }
   ],
   "source": [
    "x_train.shape[1]"
   ]
  },
  {
   "cell_type": "code",
   "execution_count": null,
   "metadata": {},
   "outputs": [
    {
     "data": {
      "text/plain": [
       "(59640     1\n",
       " 72486     1\n",
       " 95238     1\n",
       " 116570    1\n",
       " 58799     1\n",
       "          ..\n",
       " 101931    1\n",
       " 145816    1\n",
       " 68507     1\n",
       " 38268     1\n",
       " 63406     1\n",
       " Name: target, Length: 697577, dtype: int32,\n",
       " 13335    0\n",
       " 23294    1\n",
       " 72936    1\n",
       " 40003    1\n",
       " 16784    1\n",
       "         ..\n",
       " 99557    1\n",
       " 14693    1\n",
       " 70974    1\n",
       " 59921    1\n",
       " 17491    1\n",
       " Name: target, Length: 298962, dtype: int32)"
      ]
     },
     "execution_count": 265,
     "metadata": {},
     "output_type": "execute_result"
    }
   ],
   "source": [
    "y_train,y_test"
   ]
  },
  {
   "cell_type": "code",
   "execution_count": null,
   "metadata": {},
   "outputs": [],
   "source": []
  },
  {
   "cell_type": "code",
   "execution_count": null,
   "metadata": {},
   "outputs": [],
   "source": [
    "y_train_dl = to_categorical(y_train, len(labelencoder.classes_))\n",
    "y_test_dl = to_categorical(y_test, len(labelencoder.classes_))"
   ]
  },
  {
   "cell_type": "code",
   "execution_count": null,
   "metadata": {},
   "outputs": [
    {
     "data": {
      "text/plain": [
       "array([[1., 0.],\n",
       "       [0., 1.],\n",
       "       [0., 1.],\n",
       "       ...,\n",
       "       [0., 1.],\n",
       "       [0., 1.],\n",
       "       [0., 1.]], dtype=float32)"
      ]
     },
     "execution_count": 267,
     "metadata": {},
     "output_type": "execute_result"
    }
   ],
   "source": [
    "y_test_dl"
   ]
  },
  {
   "cell_type": "code",
   "execution_count": null,
   "metadata": {},
   "outputs": [
    {
     "data": {
      "text/plain": [
       "array([[1.38777878e-17, 1.38777878e-17, 1.38777878e-17, ...,\n",
       "        8.32667268e-17, 0.00000000e+00, 0.00000000e+00],\n",
       "       [5.45473842e-01, 5.45473842e-01, 5.39029960e-01, ...,\n",
       "        1.41951863e-01, 4.00769817e-01, 4.00769817e-01],\n",
       "       [4.15605539e-05, 4.15605539e-05, 5.21780771e-05, ...,\n",
       "        6.02453490e-10, 3.72454159e-01, 3.72454159e-01],\n",
       "       ...,\n",
       "       [5.45378760e-01, 5.45378760e-01, 5.38746307e-01, ...,\n",
       "        1.28168119e-01, 4.33416563e-01, 4.33416563e-01],\n",
       "       [6.54710388e-01, 6.54710388e-01, 6.53334780e-01, ...,\n",
       "        2.87987490e-01, 4.29225514e-01, 4.29225514e-01],\n",
       "       [4.21769797e-05, 4.21769797e-05, 5.70495886e-05, ...,\n",
       "        1.35721642e-08, 6.49947592e-02, 6.49947592e-02]])"
      ]
     },
     "execution_count": 268,
     "metadata": {},
     "output_type": "execute_result"
    }
   ],
   "source": [
    "x_train"
   ]
  },
  {
   "cell_type": "code",
   "execution_count": null,
   "metadata": {},
   "outputs": [],
   "source": [
    "def create_nn_model():\n",
    "    model = Sequential()\n",
    "    model.add(Dense(10, input_dim=x_train.shape[1], activation='relu'))\n",
    "    model.add(Dense(40, input_dim=x_train.shape[1], activation='relu'))\n",
    "    model.add(Dense(10, input_dim=x_train.shape[1], activation='relu'))\n",
    "    model.add(Dense(1, kernel_initializer='normal'))\n",
    "    model.add(Dense(labels.shape[1],activation='softmax'))\n",
    "    return model"
   ]
  },
  {
   "cell_type": "code",
   "execution_count": null,
   "metadata": {},
   "outputs": [],
   "source": [
    "ann_model_1 = create_nn_model()"
   ]
  },
  {
   "cell_type": "code",
   "execution_count": null,
   "metadata": {},
   "outputs": [],
   "source": [
    "ann_model_1.compile(loss='categorical_crossentropy', optimizer='adam')"
   ]
  },
  {
   "cell_type": "code",
   "execution_count": null,
   "metadata": {},
   "outputs": [
    {
     "data": {
      "image/png": "[encoded data removed]",
      "text/plain": [
       "<IPython.core.display.Image object>"
      ]
     },
     "execution_count": 159,
     "metadata": {},
     "output_type": "execute_result"
    }
   ],
   "source": [
    "plot_model(ann_model_1,to_file=\"ann_nn_architecture.png\", show_shapes=True, show_dtype=True, show_layer_activations=True)"
   ]
  },
  {
   "cell_type": "code",
   "execution_count": null,
   "metadata": {},
   "outputs": [],
   "source": [
    "monitor = EarlyStopping(monitor='val_loss', min_delta=1e-3, \n",
    "                        patience=5, verbose=1, mode='auto')"
   ]
  },
  {
   "cell_type": "code",
   "execution_count": null,
   "metadata": {},
   "outputs": [
    {
     "name": "stdout",
     "output_type": "stream",
     "text": [
      "Epoch 1/500\n",
      "21800/21800 - 22s - loss: 0.0062 - val_loss: 8.7724e-04 - 22s/epoch - 1ms/step\n",
      "Epoch 2/500\n",
      "21800/21800 - 21s - loss: 7.4979e-04 - val_loss: 7.8123e-04 - 21s/epoch - 972us/step\n",
      "Epoch 3/500\n",
      "21800/21800 - 21s - loss: 6.9168e-04 - val_loss: 6.7222e-04 - 21s/epoch - 973us/step\n",
      "Epoch 4/500\n",
      "21800/21800 - 21s - loss: 6.4933e-04 - val_loss: 7.1546e-04 - 21s/epoch - 974us/step\n",
      "Epoch 5/500\n",
      "21800/21800 - 21s - loss: 6.0970e-04 - val_loss: 5.4832e-04 - 21s/epoch - 964us/step\n",
      "Epoch 6/500\n",
      "21800/21800 - 21s - loss: 5.5726e-04 - val_loss: 5.3744e-04 - 21s/epoch - 976us/step\n",
      "Epoch 6: early stopping\n"
     ]
    }
   ],
   "source": [
    "start = time.time()\n",
    "ann_model_1.fit(x_train,y_train_dl,validation_data=(x_test,y_test_dl),\n",
    "          callbacks=[monitor],verbose=2,epochs=500)\n",
    "stop = time.time()\n",
    "ann_model_1_training_time = stop - start"
   ]
  },
  {
   "cell_type": "code",
   "execution_count": null,
   "metadata": {},
   "outputs": [
    {
     "data": {
      "text/plain": [
       "(298962, 28)"
      ]
     },
     "execution_count": 162,
     "metadata": {},
     "output_type": "execute_result"
    }
   ],
   "source": [
    "x_test.shape"
   ]
  },
  {
   "cell_type": "code",
   "execution_count": null,
   "metadata": {},
   "outputs": [
    {
     "name": "stdout",
     "output_type": "stream",
     "text": [
      "9343/9343 [==============================] - 6s 621us/step\n",
      "accuracy: 99.9872893544999\n"
     ]
    }
   ],
   "source": [
    "ann_y_pred_1 = ann_model_1.predict(x_test)\n",
    "ann_y_pred_1 = np.argmax(ann_y_pred_1,axis=1)\n",
    "y_eval = np.argmax(y_test_dl,axis=1)\n",
    "ann_model_1_accuracy = metrics.accuracy_score(y_eval, ann_y_pred_1) * 100\n",
    "print(\"accuracy: {}\".format(ann_model_1_accuracy))"
   ]
  },
  {
   "cell_type": "code",
   "execution_count": null,
   "metadata": {},
   "outputs": [
    {
     "data": {
      "text/plain": [
       "array([1.38777878e-17, 1.38777878e-17, 1.38777878e-17, 1.38777878e-17,\n",
       "       0.00000000e+00, 0.00000000e+00, 0.00000000e+00, 0.00000000e+00,\n",
       "       0.00000000e+00, 0.00000000e+00, 1.38777878e-17, 1.38777878e-17,\n",
       "       0.00000000e+00, 0.00000000e+00, 0.00000000e+00, 0.00000000e+00,\n",
       "       0.00000000e+00, 0.00000000e+00, 9.71445147e-17, 9.71445147e-17,\n",
       "       0.00000000e+00, 0.00000000e+00, 0.00000000e+00, 0.00000000e+00,\n",
       "       8.32667268e-17, 8.32667268e-17, 0.00000000e+00, 0.00000000e+00])"
      ]
     },
     "execution_count": 164,
     "metadata": {},
     "output_type": "execute_result"
    }
   ],
   "source": [
    "x_train[0]"
   ]
  },
  {
   "cell_type": "code",
   "execution_count": null,
   "metadata": {},
   "outputs": [
    {
     "name": "stdout",
     "output_type": "stream",
     "text": [
      "                precision    recall  f1-score   support\n",
      "\n",
      "        Benign       1.00      1.00      1.00     12119\n",
      "IoT-Bot-Attack       1.00      1.00      1.00    286843\n",
      "\n",
      "      accuracy                           1.00    298962\n",
      "     macro avg       1.00      1.00      1.00    298962\n",
      "  weighted avg       1.00      1.00      1.00    298962\n",
      "\n"
     ]
    }
   ],
   "source": [
    "print(classification_report(y_test_dl.argmax(axis=1), ann_y_pred_1, target_names=labelencoder.classes_))"
   ]
  },
  {
   "cell_type": "code",
   "execution_count": null,
   "metadata": {},
   "outputs": [
    {
     "data": {
      "image/png": "[encoded data removed]",
      "text/plain": [
       "<Figure size 504x360 with 2 Axes>"
      ]
     },
     "metadata": {
      "needs_background": "light"
     },
     "output_type": "display_data"
    }
   ],
   "source": [
    "ann_model_1_cm = confusion_matrix(y_test_dl.argmax(axis=1), ann_y_pred_1)\n",
    "plt.figure(figsize=cm_fig_size)\n",
    "ax = plt.subplot()\n",
    "sns.heatmap(ann_model_1_cm, fmt='.0f', annot=True, linewidths=0.2, linecolor='green', ax=ax, cmap=\"Accent\")\n",
    "plt.xlabel('Predicted value')\n",
    "plt.ylabel('Truth value')\n",
    "ax.set_title('ANN Model 1 Confusion Matrix'); \n",
    "ax.xaxis.set_ticklabels(labelencoder.classes_); \n",
    "ax.yaxis.set_ticklabels(labelencoder.classes_);\n",
    "plt.show()"
   ]
  },
  {
   "cell_type": "code",
   "execution_count": null,
   "metadata": {},
   "outputs": [],
   "source": [
    "get_metrics_data(y_test, ann_y_pred_1)"
   ]
  },
  {
   "cell_type": "code",
   "execution_count": null,
   "metadata": {},
   "outputs": [],
   "source": []
  },
  {
   "cell_type": "code",
   "execution_count": null,
   "metadata": {},
   "outputs": [],
   "source": [
    "def create_ann_2_model():\n",
    "    model = Sequential()\n",
    "    model.add(Dense(2000, activation='relu',input_dim=x_train.shape[1]))\n",
    "    model.add(Dense(1500, activation='relu'))\n",
    "    model.add(Dropout(0.2))\n",
    "    model.add(Dense(800,activation='relu'))\n",
    "    model.add(Dropout(0.2))\n",
    "    model.add(Dense(400,activation='relu'))\n",
    "    model.add(Dropout(0.2))\n",
    "    model.add(Dense(150,activation='relu'))\n",
    "    model.add(Dropout(0.2))\n",
    "    model.add(Dense(labels.shape[1], activation='softmax'))\n",
    "    return model"
   ]
  },
  {
   "cell_type": "code",
   "execution_count": null,
   "metadata": {},
   "outputs": [
    {
     "name": "stdout",
     "output_type": "stream",
     "text": [
      "Epoch 1/500\n",
      "21800/21800 - 481s - loss: 0.0043 - accuracy: 0.9997 - val_loss: 0.0020 - val_accuracy: 0.9998 - 481s/epoch - 22ms/step\n",
      "Epoch 2/500\n",
      "21800/21800 - 493s - loss: 0.0026 - accuracy: 0.9998 - val_loss: 0.0028 - val_accuracy: 0.9998 - 493s/epoch - 23ms/step\n",
      "Epoch 3/500\n",
      "21800/21800 - 489s - loss: 0.0032 - accuracy: 0.9998 - val_loss: 0.0023 - val_accuracy: 0.9998 - 489s/epoch - 22ms/step\n",
      "Epoch 4/500\n",
      "21800/21800 - 494s - loss: 0.0017 - accuracy: 0.9999 - val_loss: 0.0021 - val_accuracy: 0.9998 - 494s/epoch - 23ms/step\n",
      "Epoch 5/500\n",
      "21800/21800 - 488s - loss: 0.0019 - accuracy: 0.9999 - val_loss: 0.0012 - val_accuracy: 0.9998 - 488s/epoch - 22ms/step\n",
      "Epoch 6/500\n",
      "21800/21800 - 488s - loss: 0.0015 - accuracy: 0.9999 - val_loss: 0.0010 - val_accuracy: 0.9999 - 488s/epoch - 22ms/step\n",
      "Epoch 6: early stopping\n"
     ]
    }
   ],
   "source": [
    "ann_model_2 = create_ann_2_model()\n",
    "ann_model_2.compile(loss='categorical_crossentropy', optimizer='adam', metrics=[\"accuracy\"])\n",
    "plot_model(ann_model_2,to_file=\"ann_model_2.png\", show_shapes=True, show_dtype=True, show_layer_activations=True)\n",
    "start = time.time()\n",
    "ann_model_2.fit(x_train,y_train_dl,validation_data=(x_test,y_test_dl),\n",
    "          callbacks=[monitor],verbose=2,epochs=500)\n",
    "stop = time.time()\n",
    "ann_model_2_training_time = stop - start"
   ]
  },
  {
   "cell_type": "code",
   "execution_count": null,
   "metadata": {},
   "outputs": [
    {
     "name": "stdout",
     "output_type": "stream",
     "text": [
      "9343/9343 [==============================] - 42s 4ms/step\n",
      "accuracy: 99.98829282651307\n"
     ]
    },
    {
     "data": {
      "text/plain": [
       "array([0, 1, 1, ..., 1, 1, 1], dtype=int64)"
      ]
     },
     "execution_count": 170,
     "metadata": {},
     "output_type": "execute_result"
    }
   ],
   "source": [
    "ann_y_pred_2 = ann_model_2.predict(x_test)\n",
    "ann_y_pred_2 = np.argmax(ann_y_pred_2,axis=1)\n",
    "y_eval = np.argmax(y_test_dl,axis=1)\n",
    "ann_model_2_accuracy = metrics.accuracy_score(y_eval, ann_y_pred_2) * 100\n",
    "print(\"accuracy: {}\".format(ann_model_2_accuracy))\n",
    "y_test_dl.argmax(axis=1)"
   ]
  },
  {
   "cell_type": "code",
   "execution_count": null,
   "metadata": {},
   "outputs": [
    {
     "name": "stdout",
     "output_type": "stream",
     "text": [
      "                precision    recall  f1-score   support\n",
      "\n",
      "        Benign       1.00      1.00      1.00     12119\n",
      "IoT-Bot-Attack       1.00      1.00      1.00    286843\n",
      "\n",
      "      accuracy                           1.00    298962\n",
      "     macro avg       1.00      1.00      1.00    298962\n",
      "  weighted avg       1.00      1.00      1.00    298962\n",
      "\n"
     ]
    }
   ],
   "source": [
    "print(classification_report(y_test_dl.argmax(axis=1), ann_y_pred_2, target_names=labelencoder.classes_))"
   ]
  },
  {
   "cell_type": "code",
   "execution_count": null,
   "metadata": {},
   "outputs": [
    {
     "data": {
      "image/png": "[encoded data removed]",
      "text/plain": [
       "<Figure size 504x360 with 2 Axes>"
      ]
     },
     "metadata": {
      "needs_background": "light"
     },
     "output_type": "display_data"
    }
   ],
   "source": [
    "ann_model_2_cm = confusion_matrix(y_test_dl.argmax(axis=1), ann_y_pred_2)\n",
    "plt.figure(figsize=cm_fig_size)\n",
    "ax = plt.subplot()\n",
    "sns.heatmap(ann_model_2_cm, fmt='.0f', annot=True, linewidths=0.2, linecolor='yellow', ax=ax, cmap=\"rainbow\")\n",
    "plt.xlabel('Predicted value')\n",
    "plt.ylabel('Truth value')\n",
    "ax.set_title('ANN Model 2 Confusion Matrix'); \n",
    "ax.xaxis.set_ticklabels(labelencoder.classes_); \n",
    "ax.yaxis.set_ticklabels(labelencoder.classes_);\n",
    "plt.show()"
   ]
  },
  {
   "cell_type": "code",
   "execution_count": null,
   "metadata": {},
   "outputs": [],
   "source": [
    "get_metrics_data(y_test, ann_y_pred_2)"
   ]
  },
  {
   "cell_type": "code",
   "execution_count": null,
   "metadata": {},
   "outputs": [],
   "source": []
  },
  {
   "cell_type": "code",
   "execution_count": null,
   "metadata": {},
   "outputs": [],
   "source": [
    "def create_cnn_lstm_model():\n",
    "    model = Sequential()\n",
    "    model.add(Conv1D(filters=64, kernel_size=5, strides=1, padding='same', input_shape = (x_train.shape[1], 1)))\n",
    "    model.add(Conv1D(filters=32, kernel_size=5, strides=1, padding='same'))\n",
    "    model.add(LSTM(32, activation = 'relu', return_sequences=True))\n",
    "    model.add(LSTM(16, return_sequences=True))  \n",
    "    model.add(LSTM(8, return_sequences=True))\n",
    "    model.add(LSTM(4, return_sequences=True))  \n",
    "    model.add(Flatten())\n",
    "    model.add(Dense(128, activation='relu'))\n",
    "    model.add(Dense(64, activation='relu'))\n",
    "    model.add(Dense(labels.shape[1],activation='softmax'))\n",
    "    return model"
   ]
  },
  {
   "cell_type": "code",
   "execution_count": null,
   "metadata": {},
   "outputs": [],
   "source": [
    "cnn_lstm_model = create_cnn_lstm_model()"
   ]
  },
  {
   "cell_type": "code",
   "execution_count": null,
   "metadata": {},
   "outputs": [],
   "source": [
    "cnn_lstm_model.compile(loss='categorical_crossentropy', optimizer='adam', metrics=[\"accuracy\"])"
   ]
  },
  {
   "cell_type": "code",
   "execution_count": null,
   "metadata": {},
   "outputs": [
    {
     "data": {
      "image/png": "[encoded data removed]",
      "text/plain": [
       "<IPython.core.display.Image object>"
      ]
     },
     "execution_count": 275,
     "metadata": {},
     "output_type": "execute_result"
    }
   ],
   "source": [
    "plot_model(cnn_lstm_model,to_file=\"cnn-lstm.png\", show_shapes=True, show_dtype=True, show_layer_activations=True)"
   ]
  },
  {
   "cell_type": "code",
   "execution_count": null,
   "metadata": {},
   "outputs": [
    {
     "name": "stdout",
     "output_type": "stream",
     "text": [
      "Epoch 1/500\n",
      "21800/21800 - 587s - loss: 0.0026 - accuracy: 0.9995 - val_loss: 9.6440e-04 - val_accuracy: 0.9998 - 587s/epoch - 27ms/step\n",
      "Epoch 2/500\n",
      "21800/21800 - 573s - loss: 0.0013 - accuracy: 0.9998 - val_loss: 0.0010 - val_accuracy: 0.9999 - 573s/epoch - 26ms/step\n",
      "Epoch 3/500\n",
      "21800/21800 - 574s - loss: 0.0025 - accuracy: 0.9994 - val_loss: 9.3376e-04 - val_accuracy: 0.9999 - 574s/epoch - 26ms/step\n",
      "Epoch 4/500\n",
      "21800/21800 - 568s - loss: 0.0016 - accuracy: 0.9996 - val_loss: 8.7274e-04 - val_accuracy: 0.9999 - 568s/epoch - 26ms/step\n",
      "Epoch 5/500\n",
      "21800/21800 - 565s - loss: 0.0011 - accuracy: 0.9998 - val_loss: 0.0011 - val_accuracy: 0.9999 - 565s/epoch - 26ms/step\n",
      "Epoch 6/500\n",
      "21800/21800 - 568s - loss: 0.0019 - accuracy: 0.9996 - val_loss: 8.6137e-04 - val_accuracy: 0.9999 - 568s/epoch - 26ms/step\n",
      "Epoch 6: early stopping\n"
     ]
    }
   ],
   "source": [
    "start = time.time()\n",
    "cnn_lstm_model.fit(x_train,y_train_dl,validation_data=(x_test,y_test_dl),\n",
    "          callbacks=[monitor],verbose=2,epochs=500)\n",
    "stop = time.time()\n",
    "cnn_lstm_model_training_time = stop - start"
   ]
  },
  {
   "cell_type": "code",
   "execution_count": null,
   "metadata": {},
   "outputs": [
    {
     "name": "stdout",
     "output_type": "stream",
     "text": [
      "9343/9343 [==============================] - 60s 6ms/step\n",
      "accuracy: <keras.engine.sequential.Sequential object at 0x0000021C825E99A0>\n"
     ]
    }
   ],
   "source": [
    "cnn_lstm_y_pred = cnn_lstm_model.predict(x_test)\n",
    "cnn_lstm_y_pred = np.argmax(cnn_lstm_y_pred,axis=1)\n",
    "y_eval = np.argmax(y_test_dl,axis=1)\n",
    "cnn_lstm_model_accuracy = metrics.accuracy_score(y_eval, cnn_lstm_y_pred) * 100\n",
    "print(\"accuracy: {}\".format(cnn_lstm_model))"
   ]
  },
  {
   "cell_type": "code",
   "execution_count": null,
   "metadata": {},
   "outputs": [
    {
     "data": {
      "text/plain": [
       "array([0, 1, 1, ..., 1, 1, 1], dtype=int64)"
      ]
     },
     "execution_count": 278,
     "metadata": {},
     "output_type": "execute_result"
    }
   ],
   "source": [
    "y_test_dl.argmax(axis=1)"
   ]
  },
  {
   "cell_type": "code",
   "execution_count": null,
   "metadata": {},
   "outputs": [
    {
     "name": "stdout",
     "output_type": "stream",
     "text": [
      "                precision    recall  f1-score   support\n",
      "\n",
      "        Benign       1.00      1.00      1.00     12119\n",
      "IoT-Bot-Attack       1.00      1.00      1.00    286843\n",
      "\n",
      "      accuracy                           1.00    298962\n",
      "     macro avg       1.00      1.00      1.00    298962\n",
      "  weighted avg       1.00      1.00      1.00    298962\n",
      "\n"
     ]
    }
   ],
   "source": [
    "print(classification_report(y_test_dl.argmax(axis=1), cnn_lstm_y_pred, target_names=labelencoder.classes_))"
   ]
  },
  {
   "cell_type": "code",
   "execution_count": null,
   "metadata": {},
   "outputs": [
    {
     "data": {
      "image/png": "[encoded data removed]",
      "text/plain": [
       "<Figure size 504x360 with 2 Axes>"
      ]
     },
     "metadata": {
      "needs_background": "light"
     },
     "output_type": "display_data"
    }
   ],
   "source": [
    "cnn_lstm_model_cm = confusion_matrix(y_test_dl.argmax(axis=1), cnn_lstm_y_pred)\n",
    "plt.figure(figsize=cm_fig_size)\n",
    "ax = plt.subplot()\n",
    "sns.heatmap(cnn_lstm_model_cm, fmt='.0f', annot=True, linewidths=0.2, linecolor='yellow', ax=ax, cmap=\"bwr\")\n",
    "plt.xlabel('Predicted value')\n",
    "plt.ylabel('Truth value')\n",
    "ax.set_title('CNN-LSTM Confusion Matrix'); \n",
    "ax.xaxis.set_ticklabels(labelencoder.classes_); \n",
    "ax.yaxis.set_ticklabels(labelencoder.classes_);\n",
    "plt.show()"
   ]
  },
  {
   "cell_type": "code",
   "execution_count": null,
   "metadata": {},
   "outputs": [],
   "source": [
    "get_metrics_data(y_test, cnn_lstm_y_pred)"
   ]
  },
  {
   "cell_type": "code",
   "execution_count": null,
   "metadata": {},
   "outputs": [],
   "source": [
    "accuracy_avg = (lr_accuracy + rf_accuracy + svm_accuracy + ann_model_1_accuracy + ann_model_2_accuracy) / 5"
   ]
  },
  {
   "cell_type": "code",
   "execution_count": null,
   "metadata": {},
   "outputs": [
    {
     "data": {
      "text/html": [
       "<h6 class='messagebox messagelightgreen'>All Models Accuracy Average is  <b>99.98742315076831</b></h6>"
      ],
      "text/plain": [
       "<IPython.core.display.HTML object>"
      ]
     },
     "metadata": {},
     "output_type": "display_data"
    }
   ],
   "source": [
    "display(HTML(\"<h6 class='messagebox messagelightgreen'>All Models Accuracy Average is  <b>{0}</b></h6>\".format(accuracy_avg)))"
   ]
  },
  {
   "cell_type": "code",
   "execution_count": null,
   "metadata": {},
   "outputs": [],
   "source": []
  },
  {
   "cell_type": "code",
   "execution_count": null,
   "metadata": {},
   "outputs": [
    {
     "ename": "ValueError",
     "evalue": "y should be a 1d array, got an array of shape (697577, 3) instead.",
     "output_type": "error",
     "traceback": [
      "\u001b[1;31m---------------------------------------------------------------------------\u001b[0m",
      "\u001b[1;31mValueError\u001b[0m                                Traceback (most recent call last)",
      "Input \u001b[1;32mIn [119]\u001b[0m, in \u001b[0;36m<cell line: 3>\u001b[1;34m()\u001b[0m\n\u001b[0;32m      1\u001b[0m lr_cls \u001b[38;5;241m=\u001b[39m LogisticRegression(solver\u001b[38;5;241m=\u001b[39m\u001b[38;5;124m'\u001b[39m\u001b[38;5;124msag\u001b[39m\u001b[38;5;124m'\u001b[39m)\n\u001b[0;32m      2\u001b[0m start \u001b[38;5;241m=\u001b[39m time\u001b[38;5;241m.\u001b[39mtime()\n\u001b[1;32m----> 3\u001b[0m \u001b[43mlr_cls\u001b[49m\u001b[38;5;241;43m.\u001b[39;49m\u001b[43mfit\u001b[49m\u001b[43m(\u001b[49m\u001b[43mx_train\u001b[49m\u001b[43m,\u001b[49m\u001b[43m \u001b[49m\u001b[43my_train\u001b[49m\u001b[43m)\u001b[49m\n\u001b[0;32m      4\u001b[0m stop \u001b[38;5;241m=\u001b[39m time\u001b[38;5;241m.\u001b[39mtime()\n\u001b[0;32m      5\u001b[0m lr_training_time \u001b[38;5;241m=\u001b[39m stop \u001b[38;5;241m-\u001b[39m start\n",
      "File \u001b[1;32mD:\\ProgramData\\anaconda3\\lib\\site-packages\\sklearn\\base.py:1152\u001b[0m, in \u001b[0;36m_fit_context.<locals>.decorator.<locals>.wrapper\u001b[1;34m(estimator, *args, **kwargs)\u001b[0m\n\u001b[0;32m   1145\u001b[0m     estimator\u001b[38;5;241m.\u001b[39m_validate_params()\n\u001b[0;32m   1147\u001b[0m \u001b[38;5;28;01mwith\u001b[39;00m config_context(\n\u001b[0;32m   1148\u001b[0m     skip_parameter_validation\u001b[38;5;241m=\u001b[39m(\n\u001b[0;32m   1149\u001b[0m         prefer_skip_nested_validation \u001b[38;5;129;01mor\u001b[39;00m global_skip_validation\n\u001b[0;32m   1150\u001b[0m     )\n\u001b[0;32m   1151\u001b[0m ):\n\u001b[1;32m-> 1152\u001b[0m     \u001b[38;5;28;01mreturn\u001b[39;00m fit_method(estimator, \u001b[38;5;241m*\u001b[39margs, \u001b[38;5;241m*\u001b[39m\u001b[38;5;241m*\u001b[39mkwargs)\n",
      "File \u001b[1;32mD:\\ProgramData\\anaconda3\\lib\\site-packages\\sklearn\\linear_model\\_logistic.py:1208\u001b[0m, in \u001b[0;36mLogisticRegression.fit\u001b[1;34m(self, X, y, sample_weight)\u001b[0m\n\u001b[0;32m   1205\u001b[0m \u001b[38;5;28;01melse\u001b[39;00m:\n\u001b[0;32m   1206\u001b[0m     _dtype \u001b[38;5;241m=\u001b[39m [np\u001b[38;5;241m.\u001b[39mfloat64, np\u001b[38;5;241m.\u001b[39mfloat32]\n\u001b[1;32m-> 1208\u001b[0m X, y \u001b[38;5;241m=\u001b[39m \u001b[38;5;28;43mself\u001b[39;49m\u001b[38;5;241;43m.\u001b[39;49m\u001b[43m_validate_data\u001b[49m\u001b[43m(\u001b[49m\n\u001b[0;32m   1209\u001b[0m \u001b[43m    \u001b[49m\u001b[43mX\u001b[49m\u001b[43m,\u001b[49m\n\u001b[0;32m   1210\u001b[0m \u001b[43m    \u001b[49m\u001b[43my\u001b[49m\u001b[43m,\u001b[49m\n\u001b[0;32m   1211\u001b[0m \u001b[43m    \u001b[49m\u001b[43maccept_sparse\u001b[49m\u001b[38;5;241;43m=\u001b[39;49m\u001b[38;5;124;43m\"\u001b[39;49m\u001b[38;5;124;43mcsr\u001b[39;49m\u001b[38;5;124;43m\"\u001b[39;49m\u001b[43m,\u001b[49m\n\u001b[0;32m   1212\u001b[0m \u001b[43m    \u001b[49m\u001b[43mdtype\u001b[49m\u001b[38;5;241;43m=\u001b[39;49m\u001b[43m_dtype\u001b[49m\u001b[43m,\u001b[49m\n\u001b[0;32m   1213\u001b[0m \u001b[43m    \u001b[49m\u001b[43morder\u001b[49m\u001b[38;5;241;43m=\u001b[39;49m\u001b[38;5;124;43m\"\u001b[39;49m\u001b[38;5;124;43mC\u001b[39;49m\u001b[38;5;124;43m\"\u001b[39;49m\u001b[43m,\u001b[49m\n\u001b[0;32m   1214\u001b[0m \u001b[43m    \u001b[49m\u001b[43maccept_large_sparse\u001b[49m\u001b[38;5;241;43m=\u001b[39;49m\u001b[43msolver\u001b[49m\u001b[43m \u001b[49m\u001b[38;5;129;43;01mnot\u001b[39;49;00m\u001b[43m \u001b[49m\u001b[38;5;129;43;01min\u001b[39;49;00m\u001b[43m \u001b[49m\u001b[43m[\u001b[49m\u001b[38;5;124;43m\"\u001b[39;49m\u001b[38;5;124;43mliblinear\u001b[39;49m\u001b[38;5;124;43m\"\u001b[39;49m\u001b[43m,\u001b[49m\u001b[43m \u001b[49m\u001b[38;5;124;43m\"\u001b[39;49m\u001b[38;5;124;43msag\u001b[39;49m\u001b[38;5;124;43m\"\u001b[39;49m\u001b[43m,\u001b[49m\u001b[43m \u001b[49m\u001b[38;5;124;43m\"\u001b[39;49m\u001b[38;5;124;43msaga\u001b[39;49m\u001b[38;5;124;43m\"\u001b[39;49m\u001b[43m]\u001b[49m\u001b[43m,\u001b[49m\n\u001b[0;32m   1215\u001b[0m \u001b[43m\u001b[49m\u001b[43m)\u001b[49m\n\u001b[0;32m   1216\u001b[0m check_classification_targets(y)\n\u001b[0;32m   1217\u001b[0m \u001b[38;5;28mself\u001b[39m\u001b[38;5;241m.\u001b[39mclasses_ \u001b[38;5;241m=\u001b[39m np\u001b[38;5;241m.\u001b[39munique(y)\n",
      "File \u001b[1;32mD:\\ProgramData\\anaconda3\\lib\\site-packages\\sklearn\\base.py:622\u001b[0m, in \u001b[0;36mBaseEstimator._validate_data\u001b[1;34m(self, X, y, reset, validate_separately, cast_to_ndarray, **check_params)\u001b[0m\n\u001b[0;32m    620\u001b[0m         y \u001b[38;5;241m=\u001b[39m check_array(y, input_name\u001b[38;5;241m=\u001b[39m\u001b[38;5;124m\"\u001b[39m\u001b[38;5;124my\u001b[39m\u001b[38;5;124m\"\u001b[39m, \u001b[38;5;241m*\u001b[39m\u001b[38;5;241m*\u001b[39mcheck_y_params)\n\u001b[0;32m    621\u001b[0m     \u001b[38;5;28;01melse\u001b[39;00m:\n\u001b[1;32m--> 622\u001b[0m         X, y \u001b[38;5;241m=\u001b[39m check_X_y(X, y, \u001b[38;5;241m*\u001b[39m\u001b[38;5;241m*\u001b[39mcheck_params)\n\u001b[0;32m    623\u001b[0m     out \u001b[38;5;241m=\u001b[39m X, y\n\u001b[0;32m    625\u001b[0m \u001b[38;5;28;01mif\u001b[39;00m \u001b[38;5;129;01mnot\u001b[39;00m no_val_X \u001b[38;5;129;01mand\u001b[39;00m check_params\u001b[38;5;241m.\u001b[39mget(\u001b[38;5;124m\"\u001b[39m\u001b[38;5;124mensure_2d\u001b[39m\u001b[38;5;124m\"\u001b[39m, \u001b[38;5;28;01mTrue\u001b[39;00m):\n",
      "File \u001b[1;32mD:\\ProgramData\\anaconda3\\lib\\site-packages\\sklearn\\utils\\validation.py:1162\u001b[0m, in \u001b[0;36mcheck_X_y\u001b[1;34m(X, y, accept_sparse, accept_large_sparse, dtype, order, copy, force_all_finite, ensure_2d, allow_nd, multi_output, ensure_min_samples, ensure_min_features, y_numeric, estimator)\u001b[0m\n\u001b[0;32m   1142\u001b[0m     \u001b[38;5;28;01mraise\u001b[39;00m \u001b[38;5;167;01mValueError\u001b[39;00m(\n\u001b[0;32m   1143\u001b[0m         \u001b[38;5;124mf\u001b[39m\u001b[38;5;124m\"\u001b[39m\u001b[38;5;132;01m{\u001b[39;00mestimator_name\u001b[38;5;132;01m}\u001b[39;00m\u001b[38;5;124m requires y to be passed, but the target y is None\u001b[39m\u001b[38;5;124m\"\u001b[39m\n\u001b[0;32m   1144\u001b[0m     )\n\u001b[0;32m   1146\u001b[0m X \u001b[38;5;241m=\u001b[39m check_array(\n\u001b[0;32m   1147\u001b[0m     X,\n\u001b[0;32m   1148\u001b[0m     accept_sparse\u001b[38;5;241m=\u001b[39maccept_sparse,\n\u001b[1;32m   (...)\u001b[0m\n\u001b[0;32m   1159\u001b[0m     input_name\u001b[38;5;241m=\u001b[39m\u001b[38;5;124m\"\u001b[39m\u001b[38;5;124mX\u001b[39m\u001b[38;5;124m\"\u001b[39m,\n\u001b[0;32m   1160\u001b[0m )\n\u001b[1;32m-> 1162\u001b[0m y \u001b[38;5;241m=\u001b[39m \u001b[43m_check_y\u001b[49m\u001b[43m(\u001b[49m\u001b[43my\u001b[49m\u001b[43m,\u001b[49m\u001b[43m \u001b[49m\u001b[43mmulti_output\u001b[49m\u001b[38;5;241;43m=\u001b[39;49m\u001b[43mmulti_output\u001b[49m\u001b[43m,\u001b[49m\u001b[43m \u001b[49m\u001b[43my_numeric\u001b[49m\u001b[38;5;241;43m=\u001b[39;49m\u001b[43my_numeric\u001b[49m\u001b[43m,\u001b[49m\u001b[43m \u001b[49m\u001b[43mestimator\u001b[49m\u001b[38;5;241;43m=\u001b[39;49m\u001b[43mestimator\u001b[49m\u001b[43m)\u001b[49m\n\u001b[0;32m   1164\u001b[0m check_consistent_length(X, y)\n\u001b[0;32m   1166\u001b[0m \u001b[38;5;28;01mreturn\u001b[39;00m X, y\n",
      "File \u001b[1;32mD:\\ProgramData\\anaconda3\\lib\\site-packages\\sklearn\\utils\\validation.py:1183\u001b[0m, in \u001b[0;36m_check_y\u001b[1;34m(y, multi_output, y_numeric, estimator)\u001b[0m\n\u001b[0;32m   1181\u001b[0m \u001b[38;5;28;01melse\u001b[39;00m:\n\u001b[0;32m   1182\u001b[0m     estimator_name \u001b[38;5;241m=\u001b[39m _check_estimator_name(estimator)\n\u001b[1;32m-> 1183\u001b[0m     y \u001b[38;5;241m=\u001b[39m \u001b[43mcolumn_or_1d\u001b[49m\u001b[43m(\u001b[49m\u001b[43my\u001b[49m\u001b[43m,\u001b[49m\u001b[43m \u001b[49m\u001b[43mwarn\u001b[49m\u001b[38;5;241;43m=\u001b[39;49m\u001b[38;5;28;43;01mTrue\u001b[39;49;00m\u001b[43m)\u001b[49m\n\u001b[0;32m   1184\u001b[0m     _assert_all_finite(y, input_name\u001b[38;5;241m=\u001b[39m\u001b[38;5;124m\"\u001b[39m\u001b[38;5;124my\u001b[39m\u001b[38;5;124m\"\u001b[39m, estimator_name\u001b[38;5;241m=\u001b[39mestimator_name)\n\u001b[0;32m   1185\u001b[0m     _ensure_no_complex_data(y)\n",
      "File \u001b[1;32mD:\\ProgramData\\anaconda3\\lib\\site-packages\\sklearn\\utils\\validation.py:1244\u001b[0m, in \u001b[0;36mcolumn_or_1d\u001b[1;34m(y, dtype, warn)\u001b[0m\n\u001b[0;32m   1233\u001b[0m         warnings\u001b[38;5;241m.\u001b[39mwarn(\n\u001b[0;32m   1234\u001b[0m             (\n\u001b[0;32m   1235\u001b[0m                 \u001b[38;5;124m\"\u001b[39m\u001b[38;5;124mA column-vector y was passed when a 1d array was\u001b[39m\u001b[38;5;124m\"\u001b[39m\n\u001b[1;32m   (...)\u001b[0m\n\u001b[0;32m   1240\u001b[0m             stacklevel\u001b[38;5;241m=\u001b[39m\u001b[38;5;241m2\u001b[39m,\n\u001b[0;32m   1241\u001b[0m         )\n\u001b[0;32m   1242\u001b[0m     \u001b[38;5;28;01mreturn\u001b[39;00m _asarray_with_order(xp\u001b[38;5;241m.\u001b[39mreshape(y, (\u001b[38;5;241m-\u001b[39m\u001b[38;5;241m1\u001b[39m,)), order\u001b[38;5;241m=\u001b[39m\u001b[38;5;124m\"\u001b[39m\u001b[38;5;124mC\u001b[39m\u001b[38;5;124m\"\u001b[39m, xp\u001b[38;5;241m=\u001b[39mxp)\n\u001b[1;32m-> 1244\u001b[0m \u001b[38;5;28;01mraise\u001b[39;00m \u001b[38;5;167;01mValueError\u001b[39;00m(\n\u001b[0;32m   1245\u001b[0m     \u001b[38;5;124m\"\u001b[39m\u001b[38;5;124my should be a 1d array, got an array of shape \u001b[39m\u001b[38;5;132;01m{}\u001b[39;00m\u001b[38;5;124m instead.\u001b[39m\u001b[38;5;124m\"\u001b[39m\u001b[38;5;241m.\u001b[39mformat(shape)\n\u001b[0;32m   1246\u001b[0m )\n",
      "\u001b[1;31mValueError\u001b[0m: y should be a 1d array, got an array of shape (697577, 3) instead."
     ]
    }
   ],
   "source": [
    "lr_cls = LogisticRegression(solver='sag')\n",
    "start = time.time()\n",
    "lr_cls.fit(x_train, y_train)\n",
    "stop = time.time()\n",
    "lr_training_time = stop - start\n",
    "lr_yhat = lr_cls.predict(x_test)"
   ]
  },
  {
   "cell_type": "code",
   "execution_count": null,
   "metadata": {},
   "outputs": [],
   "source": []
  }
 ],
 "metadata": {
  "kernelspec": {
   "display_name": "Python 3 (ipykernel)",
   "language": "python",
   "name": "python3"
  },
  "language_info": {
   "codemirror_mode": {
    "name": "ipython",
    "version": 3
   },
   "file_extension": ".py",
   "mimetype": "text/x-python",
   "name": "python",
   "nbconvert_exporter": "python",
   "pygments_lexer": "ipython3",
   "version": "3.12.4"
  }
 },
 "nbformat": 4,
 "nbformat_minor": 4
}
